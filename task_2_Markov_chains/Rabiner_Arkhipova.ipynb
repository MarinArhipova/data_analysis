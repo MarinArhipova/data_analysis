{
 "cells": [
  {
   "cell_type": "markdown",
   "metadata": {},
   "source": [
    "# ЦМ Рабинер"
   ]
  },
  {
   "cell_type": "code",
   "execution_count": 3,
   "metadata": {},
   "outputs": [],
   "source": [
    "import numpy as np\n",
    "import random"
   ]
  },
  {
   "cell_type": "code",
   "execution_count": 4,
   "metadata": {},
   "outputs": [],
   "source": [
    "def rabiner(sequence, matrices, pi, states):    \n",
    "    for i in range(len(matrices)):\n",
    "        matrix = matrices[i]\n",
    "        alpha = [pi]\n",
    "        for state in sequence[1:]:\n",
    "            vector = [0] * len(states)\n",
    "            for j in range(len(states)):\n",
    "                if state:\n",
    "                    vector[states.index(state)] += alpha[-1][j] * matrix[j][states.index(state)]\n",
    "                else:\n",
    "                    for s in states:\n",
    "                        vector[states.index(s)] += alpha[-1][j] * matrix[j][states.index(s)]\n",
    "            alpha.append(vector)\n",
    "        print('\\n', 'P[', i+1, ']:')    \n",
    "        print('\\n', np.array(alpha))\n",
    "        result = sum(alpha[-1])  \n",
    "        print('\\nP = ', result, '\\n')\n",
    "        # P - вероятность того, что данная последовательность сгенерирована на основе seq"
   ]
  },
  {
   "attachments": {
    "image.png": {
     "image/png": "[encoded data removed]"
    }
   },
   "cell_type": "markdown",
   "metadata": {},
   "source": [
    "![image.png](attachment:image.png)"
   ]
  },
  {
   "cell_type": "code",
   "execution_count": 5,
   "metadata": {},
   "outputs": [],
   "source": [
    "# инициализация \n",
    "m, n = 4, 4\n",
    "matrix_type = 4"
   ]
  },
  {
   "cell_type": "markdown",
   "metadata": {},
   "source": [
    "Возможные виды матриц:\n",
    "1. Квадратная матрица\n",
    "2. Диагональная матрица – квадратная матрица, все элементы которой равны нулю кроме элементов, стоящих на главной диагонали\n",
    "3. Единичная матрица – диагональная матрица, диагональные элементы которой равны 1.\n",
    "4. где одна единица в строке, остальные - нули\n",
    "5. Квадратная матрица, сумма элементов строки которой равна 1"
   ]
  },
  {
   "cell_type": "code",
   "execution_count": 6,
   "metadata": {},
   "outputs": [
    {
     "name": "stdout",
     "output_type": "stream",
     "text": [
      "[[0. 1. 0. 0.]\n",
      " [0. 0. 1. 0.]\n",
      " [1. 0. 0. 0.]\n",
      " [1. 0. 0. 0.]]\n"
     ]
    }
   ],
   "source": [
    "if (matrix_type == 1):\n",
    "    P1 = np.random.rand(n,n)\n",
    "    print(P1)\n",
    "if (matrix_type == 2):\n",
    "    P2 = np.zeros((n, n))\n",
    "    for i in range(m):\n",
    "        P2[i][i] = random.randint(0, 100)\n",
    "    print(P2)\n",
    "if (matrix_type == 3):\n",
    "    P3 = np.random.choice([1],n)\n",
    "    mat3 = np.diag(P3)\n",
    "    print(mat3)\n",
    "if (matrix_type == 4):\n",
    "    P4 = np.zeros((m, n))\n",
    "    for i in range(m):\n",
    "        x = np.random.randint(0, n-1)\n",
    "        P4[i][x] = 1\n",
    "    print(P4)\n",
    "if (matrix_type == 5):\n",
    "    P5 = np.random.rand(m,n)\n",
    "    P5/P5.sum(axis=1)[:,None]\n",
    "    print(P5)"
   ]
  },
  {
   "cell_type": "code",
   "execution_count": 33,
   "metadata": {},
   "outputs": [],
   "source": [
    "# P11 = [[1/3, 1/3, 1/3], \n",
    "#       [0, 0.5, 0.5], \n",
    "#       [0.5, 0, 0.5]]\n",
    "\n",
    "# P22 = [[0, 1, 0],\n",
    "#      [0, 0, 1],\n",
    "#      [1, 0, 0]]"
   ]
  },
  {
   "cell_type": "code",
   "execution_count": 34,
   "metadata": {},
   "outputs": [],
   "source": [
    "# states - множество состояний ЦМ\n",
    "states = ['s1', 's2', 's3']"
   ]
  },
  {
   "cell_type": "code",
   "execution_count": 35,
   "metadata": {},
   "outputs": [],
   "source": [
    "seq1 = ['s1', 's3', 's2', 's1']\n",
    "seq2 = ['s1', 's2', 's3', 's1']\n",
    "seq3 = ['s1', 's3', 's1', 's3']\n",
    "\n",
    "seq4 = ['s1', 's3', 's3', 's1']\n",
    "seq5 = ['s1', None, 's3', None]\n",
    "seq6 = [None, 's2', 's3', None]\n",
    "\n",
    "seq7 = [None, 's2', 's2', 's1']\n",
    "seq8 = [None, None, 's2', 's1']"
   ]
  },
  {
   "cell_type": "code",
   "execution_count": 36,
   "metadata": {},
   "outputs": [],
   "source": [
    "# seq -  множество допустимых реализаций цепи Маркова (последовательность наблюдений)\n",
    "seq = [seq1, seq2, seq3, seq4, seq5]\n",
    "# pi - начальный вектор, состоит из вероятностей начальных состояний\n",
    "pi = [1/3, 0, 0]"
   ]
  },
  {
   "cell_type": "code",
   "execution_count": 37,
   "metadata": {},
   "outputs": [
    {
     "name": "stdout",
     "output_type": "stream",
     "text": [
      "------------------------------------\n",
      "i = 0\n",
      "\n",
      " P[ 1 ]:\n",
      "\n",
      " [[0.33333333 0.         0.        ]\n",
      " [0.         0.         0.24439566]\n",
      " [0.         0.05864717 0.        ]\n",
      " [0.04592353 0.         0.        ]]\n",
      "\n",
      "P =  0.0459235318337987 \n",
      "\n",
      "\n",
      " P[ 2 ]:\n",
      "\n",
      " [[0.33333333 0.         0.        ]\n",
      " [0.         0.         0.        ]\n",
      " [0.         0.         0.        ]\n",
      " [0.         0.         0.        ]]\n",
      "\n",
      "P =  0.0 \n",
      "\n",
      "------------------------------------\n",
      "i = 1\n",
      "\n",
      " P[ 1 ]:\n",
      "\n",
      " [[0.33333333 0.         0.        ]\n",
      " [0.         0.18789059 0.        ]\n",
      " [0.         0.         0.01205983]\n",
      " [0.00853531 0.         0.        ]]\n",
      "\n",
      "P =  0.008535312929791119 \n",
      "\n",
      "\n",
      " P[ 2 ]:\n",
      "\n",
      " [[0.33333333 0.         0.        ]\n",
      " [0.         0.         0.        ]\n",
      " [0.         0.         0.        ]\n",
      " [0.         0.         0.        ]]\n",
      "\n",
      "P =  0.0 \n",
      "\n",
      "------------------------------------\n",
      "i = 2\n",
      "\n",
      " P[ 1 ]:\n",
      "\n",
      " [[0.33333333 0.         0.        ]\n",
      " [0.         0.         0.24439566]\n",
      " [0.17297036 0.         0.        ]\n",
      " [0.         0.         0.12681962]]\n",
      "\n",
      "P =  0.1268196209323411 \n",
      "\n",
      "\n",
      " P[ 2 ]:\n",
      "\n",
      " [[0.33333333 0.         0.        ]\n",
      " [0.         0.         0.        ]\n",
      " [0.         0.         0.        ]\n",
      " [0.         0.         0.        ]]\n",
      "\n",
      "P =  0.0 \n",
      "\n",
      "------------------------------------\n",
      "i = 3\n",
      "\n",
      " P[ 1 ]:\n",
      "\n",
      " [[0.33333333 0.         0.        ]\n",
      " [0.         0.         0.24439566]\n",
      " [0.         0.         0.19562399]\n",
      " [0.13845234 0.         0.        ]]\n",
      "\n",
      "P =  0.13845234181378832 \n",
      "\n",
      "\n",
      " P[ 2 ]:\n",
      "\n",
      " [[0.33333333 0.         0.        ]\n",
      " [0.         0.         0.        ]\n",
      " [0.         0.         0.        ]\n",
      " [0.         0.         0.        ]]\n",
      "\n",
      "P =  0.0 \n",
      "\n",
      "------------------------------------\n",
      "i = 4\n",
      "\n",
      " P[ 1 ]:\n",
      "\n",
      " [[0.33333333 0.         0.        ]\n",
      " [0.14792736 0.18789059 0.24439566]\n",
      " [0.         0.         0.31614223]\n",
      " [0.2237488  0.07586406 0.25305279]]\n",
      "\n",
      "P =  0.5526656537583832 \n",
      "\n",
      "\n",
      " P[ 2 ]:\n",
      "\n",
      " [[0.33333333 0.         0.        ]\n",
      " [3.         0.         0.        ]\n",
      " [0.         0.         0.        ]\n",
      " [0.         0.         0.        ]]\n",
      "\n",
      "P =  0.0 \n",
      "\n"
     ]
    }
   ],
   "source": [
    "for i in range(len(seq)):\n",
    "    print('------------------------------------')\n",
    "    print('i =', i)\n",
    "    rabiner(seq[i], [P1, P2], pi, states)"
   ]
  },
  {
   "cell_type": "code",
   "execution_count": 38,
   "metadata": {},
   "outputs": [],
   "source": [
    "seq = [seq7, seq8]\n",
    "pi = [1/3, 1/3, 1/3]"
   ]
  },
  {
   "cell_type": "code",
   "execution_count": 39,
   "metadata": {},
   "outputs": [
    {
     "name": "stdout",
     "output_type": "stream",
     "text": [
      "------------------------------------\n",
      "i = 0\n",
      "------------------------------------\n",
      "\n",
      "\n",
      " P[ 1 ]:\n",
      "\n",
      " [[0.33333333 0.33333333 0.33333333]\n",
      " [0.         0.4385019  0.        ]\n",
      " [0.         0.22445412 0.        ]\n",
      " [0.17575827 0.         0.        ]]\n",
      "\n",
      "P =  0.17575827491548954 \n",
      "\n",
      "\n",
      " P[ 2 ]:\n",
      "\n",
      " [[ 0.33333333  0.33333333  0.33333333]\n",
      " [ 0.          5.          0.        ]\n",
      " [ 0.         75.          0.        ]\n",
      " [ 0.          0.          0.        ]]\n",
      "\n",
      "P =  0.0 \n",
      "\n",
      "------------------------------------\n",
      "i = 1\n",
      "------------------------------------\n",
      "\n",
      "\n",
      " P[ 1 ]:\n",
      "\n",
      " [[0.33333333 0.33333333 0.33333333]\n",
      " [0.644859   0.4385019  0.53260402]\n",
      " [0.         0.71575093 0.        ]\n",
      " [0.56046709 0.         0.        ]]\n",
      "\n",
      "P =  0.5604670889790699 \n",
      "\n",
      "\n",
      " P[ 2 ]:\n",
      "\n",
      " [[ 0.33333333  0.33333333  0.33333333]\n",
      " [ 3.          5.          3.        ]\n",
      " [ 0.         75.          0.        ]\n",
      " [ 0.          0.          0.        ]]\n",
      "\n",
      "P =  0.0 \n",
      "\n"
     ]
    }
   ],
   "source": [
    "for i in range(len(seq)):\n",
    "    print('------------------------------------')\n",
    "    print('i =', i)\n",
    "    print('------------------------------------\\n')\n",
    "    rabiner(seq[i], [P1, P2], pi, states)"
   ]
  }
 ],
 "metadata": {
  "kernelspec": {
   "display_name": "Python 3",
   "language": "python",
   "name": "python3"
  },
  "language_info": {
   "codemirror_mode": {
    "name": "ipython",
    "version": 3
   },
   "file_extension": ".py",
   "mimetype": "text/x-python",
   "name": "python",
   "nbconvert_exporter": "python",
   "pygments_lexer": "ipython3",
   "version": "3.8.3"
  }
 },
 "nbformat": 4,
 "nbformat_minor": 4
}
