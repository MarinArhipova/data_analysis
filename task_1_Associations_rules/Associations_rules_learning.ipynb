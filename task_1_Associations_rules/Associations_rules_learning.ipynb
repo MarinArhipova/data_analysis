{
 "cells": [
  {
   "cell_type": "code",
   "execution_count": 1,
   "metadata": {},
   "outputs": [],
   "source": [
    "import pandas as pd\n",
    "import matplotlib.pyplot as plt\n",
    "import pandas as pd"
   ]
  },
  {
   "cell_type": "code",
   "execution_count": 85,
   "metadata": {},
   "outputs": [
    {
     "name": "stderr",
     "output_type": "stream",
     "text": [
      "C:\\Users\\User\\anaconda3\\lib\\site-packages\\IPython\\core\\interactiveshell.py:3071: DtypeWarning: Columns (3,6) have mixed types.Specify dtype option on import or set low_memory=False.\n",
      "  has_raised = await self.run_ast_nodes(code_ast.body, cell_name,\n"
     ]
    }
   ],
   "source": [
    "dataset = pd.read_csv('C:/D/Uni/AD/task_1_ar/dataset/Online Retail.csv', delimiter=';', header=None, names=['InvoiceNo'] + ['StockCode'] + ['Description'] + ['Quantity'] + ['InvoiceDate'] + ['UnitPrice'] + ['CustomerID'] + ['Country'])"
   ]
  },
  {
   "cell_type": "code",
   "execution_count": 86,
   "metadata": {},
   "outputs": [
    {
     "data": {
      "text/html": [
       "<div>\n",
       "<style scoped>\n",
       "    .dataframe tbody tr th:only-of-type {\n",
       "        vertical-align: middle;\n",
       "    }\n",
       "\n",
       "    .dataframe tbody tr th {\n",
       "        vertical-align: top;\n",
       "    }\n",
       "\n",
       "    .dataframe thead th {\n",
       "        text-align: right;\n",
       "    }\n",
       "</style>\n",
       "<table border=\"1\" class=\"dataframe\">\n",
       "  <thead>\n",
       "    <tr style=\"text-align: right;\">\n",
       "      <th></th>\n",
       "      <th>InvoiceNo</th>\n",
       "      <th>StockCode</th>\n",
       "      <th>Description</th>\n",
       "      <th>Quantity</th>\n",
       "      <th>InvoiceDate</th>\n",
       "      <th>UnitPrice</th>\n",
       "      <th>CustomerID</th>\n",
       "      <th>Country</th>\n",
       "    </tr>\n",
       "  </thead>\n",
       "  <tbody>\n",
       "    <tr>\n",
       "      <th>0</th>\n",
       "      <td>InvoiceNo</td>\n",
       "      <td>StockCode</td>\n",
       "      <td>Description</td>\n",
       "      <td>Quantity</td>\n",
       "      <td>InvoiceDate</td>\n",
       "      <td>UnitPrice</td>\n",
       "      <td>CustomerID</td>\n",
       "      <td>Country</td>\n",
       "    </tr>\n",
       "    <tr>\n",
       "      <th>1</th>\n",
       "      <td>536365</td>\n",
       "      <td>85123A</td>\n",
       "      <td>WHITE HANGING HEART T-LIGHT HOLDER</td>\n",
       "      <td>6</td>\n",
       "      <td>01 12 10 8:26</td>\n",
       "      <td>2,55</td>\n",
       "      <td>17850</td>\n",
       "      <td>United Kingdom</td>\n",
       "    </tr>\n",
       "    <tr>\n",
       "      <th>2</th>\n",
       "      <td>536365</td>\n",
       "      <td>71053</td>\n",
       "      <td>WHITE METAL LANTERN</td>\n",
       "      <td>6</td>\n",
       "      <td>01 12 10 8:26</td>\n",
       "      <td>3,39</td>\n",
       "      <td>17850</td>\n",
       "      <td>United Kingdom</td>\n",
       "    </tr>\n",
       "    <tr>\n",
       "      <th>3</th>\n",
       "      <td>536365</td>\n",
       "      <td>84406B</td>\n",
       "      <td>CREAM CUPID HEARTS COAT HANGER</td>\n",
       "      <td>8</td>\n",
       "      <td>01 12 10 8:26</td>\n",
       "      <td>2,75</td>\n",
       "      <td>17850</td>\n",
       "      <td>United Kingdom</td>\n",
       "    </tr>\n",
       "    <tr>\n",
       "      <th>4</th>\n",
       "      <td>536365</td>\n",
       "      <td>84029G</td>\n",
       "      <td>KNITTED UNION FLAG HOT WATER BOTTLE</td>\n",
       "      <td>6</td>\n",
       "      <td>01 12 10 8:26</td>\n",
       "      <td>3,39</td>\n",
       "      <td>17850</td>\n",
       "      <td>United Kingdom</td>\n",
       "    </tr>\n",
       "  </tbody>\n",
       "</table>\n",
       "</div>"
      ],
      "text/plain": [
       "   InvoiceNo  StockCode                          Description  Quantity  \\\n",
       "0  InvoiceNo  StockCode                          Description  Quantity   \n",
       "1     536365     85123A   WHITE HANGING HEART T-LIGHT HOLDER         6   \n",
       "2     536365      71053                  WHITE METAL LANTERN         6   \n",
       "3     536365     84406B       CREAM CUPID HEARTS COAT HANGER         8   \n",
       "4     536365     84029G  KNITTED UNION FLAG HOT WATER BOTTLE         6   \n",
       "\n",
       "     InvoiceDate  UnitPrice  CustomerID         Country  \n",
       "0    InvoiceDate  UnitPrice  CustomerID         Country  \n",
       "1  01 12 10 8:26       2,55       17850  United Kingdom  \n",
       "2  01 12 10 8:26       3,39       17850  United Kingdom  \n",
       "3  01 12 10 8:26       2,75       17850  United Kingdom  \n",
       "4  01 12 10 8:26       3,39       17850  United Kingdom  "
      ]
     },
     "execution_count": 86,
     "metadata": {},
     "output_type": "execute_result"
    }
   ],
   "source": [
    "dataset.head()"
   ]
  },
  {
   "cell_type": "code",
   "execution_count": 87,
   "metadata": {},
   "outputs": [],
   "source": [
    "dataset.fillna(method='ffill', axis=1, inplace=True)"
   ]
  },
  {
   "cell_type": "code",
   "execution_count": 88,
   "metadata": {},
   "outputs": [
    {
     "data": {
      "text/html": [
       "<div>\n",
       "<style scoped>\n",
       "    .dataframe tbody tr th:only-of-type {\n",
       "        vertical-align: middle;\n",
       "    }\n",
       "\n",
       "    .dataframe tbody tr th {\n",
       "        vertical-align: top;\n",
       "    }\n",
       "\n",
       "    .dataframe thead th {\n",
       "        text-align: right;\n",
       "    }\n",
       "</style>\n",
       "<table border=\"1\" class=\"dataframe\">\n",
       "  <thead>\n",
       "    <tr style=\"text-align: right;\">\n",
       "      <th></th>\n",
       "      <th>InvoiceNo</th>\n",
       "      <th>StockCode</th>\n",
       "      <th>Description</th>\n",
       "      <th>Quantity</th>\n",
       "      <th>InvoiceDate</th>\n",
       "      <th>UnitPrice</th>\n",
       "      <th>CustomerID</th>\n",
       "      <th>Country</th>\n",
       "    </tr>\n",
       "  </thead>\n",
       "  <tbody>\n",
       "    <tr>\n",
       "      <th>0</th>\n",
       "      <td>InvoiceNo</td>\n",
       "      <td>StockCode</td>\n",
       "      <td>Description</td>\n",
       "      <td>Quantity</td>\n",
       "      <td>InvoiceDate</td>\n",
       "      <td>UnitPrice</td>\n",
       "      <td>CustomerID</td>\n",
       "      <td>Country</td>\n",
       "    </tr>\n",
       "    <tr>\n",
       "      <th>1</th>\n",
       "      <td>536365</td>\n",
       "      <td>85123A</td>\n",
       "      <td>WHITE HANGING HEART T-LIGHT HOLDER</td>\n",
       "      <td>6</td>\n",
       "      <td>01 12 10 8:26</td>\n",
       "      <td>2,55</td>\n",
       "      <td>17850</td>\n",
       "      <td>United Kingdom</td>\n",
       "    </tr>\n",
       "    <tr>\n",
       "      <th>2</th>\n",
       "      <td>536365</td>\n",
       "      <td>71053</td>\n",
       "      <td>WHITE METAL LANTERN</td>\n",
       "      <td>6</td>\n",
       "      <td>01 12 10 8:26</td>\n",
       "      <td>3,39</td>\n",
       "      <td>17850</td>\n",
       "      <td>United Kingdom</td>\n",
       "    </tr>\n",
       "    <tr>\n",
       "      <th>3</th>\n",
       "      <td>536365</td>\n",
       "      <td>84406B</td>\n",
       "      <td>CREAM CUPID HEARTS COAT HANGER</td>\n",
       "      <td>8</td>\n",
       "      <td>01 12 10 8:26</td>\n",
       "      <td>2,75</td>\n",
       "      <td>17850</td>\n",
       "      <td>United Kingdom</td>\n",
       "    </tr>\n",
       "    <tr>\n",
       "      <th>4</th>\n",
       "      <td>536365</td>\n",
       "      <td>84029G</td>\n",
       "      <td>KNITTED UNION FLAG HOT WATER BOTTLE</td>\n",
       "      <td>6</td>\n",
       "      <td>01 12 10 8:26</td>\n",
       "      <td>3,39</td>\n",
       "      <td>17850</td>\n",
       "      <td>United Kingdom</td>\n",
       "    </tr>\n",
       "  </tbody>\n",
       "</table>\n",
       "</div>"
      ],
      "text/plain": [
       "   InvoiceNo  StockCode                          Description  Quantity  \\\n",
       "0  InvoiceNo  StockCode                          Description  Quantity   \n",
       "1     536365     85123A   WHITE HANGING HEART T-LIGHT HOLDER         6   \n",
       "2     536365      71053                  WHITE METAL LANTERN         6   \n",
       "3     536365     84406B       CREAM CUPID HEARTS COAT HANGER         8   \n",
       "4     536365     84029G  KNITTED UNION FLAG HOT WATER BOTTLE         6   \n",
       "\n",
       "     InvoiceDate  UnitPrice  CustomerID         Country  \n",
       "0    InvoiceDate  UnitPrice  CustomerID         Country  \n",
       "1  01 12 10 8:26       2,55       17850  United Kingdom  \n",
       "2  01 12 10 8:26       3,39       17850  United Kingdom  \n",
       "3  01 12 10 8:26       2,75       17850  United Kingdom  \n",
       "4  01 12 10 8:26       3,39       17850  United Kingdom  "
      ]
     },
     "execution_count": 88,
     "metadata": {},
     "output_type": "execute_result"
    }
   ],
   "source": [
    "dataset.head()"
   ]
  },
  {
   "cell_type": "code",
   "execution_count": 101,
   "metadata": {},
   "outputs": [],
   "source": [
    "# создаим из них матрицу\n",
    "transactions = []\n",
    "# чтобы перебрать все транзакции и перебрать все продукты в каждой транзакции"
   ]
  },
  {
   "cell_type": "code",
   "execution_count": 102,
   "metadata": {},
   "outputs": [
    {
     "name": "stdout",
     "output_type": "stream",
     "text": [
      "(541910, 8)\n"
     ]
    }
   ],
   "source": [
    "print(dataset.shape)"
   ]
  },
  {
   "cell_type": "code",
   "execution_count": 103,
   "metadata": {},
   "outputs": [],
   "source": [
    "#apriori ожидает, что товары будут в строках (они будут в кавычках)\n",
    "for i in range(0, 75):\n",
    "    transactions.append([str(dataset.values[i, j]) for j in range(0, 8)])"
   ]
  },
  {
   "cell_type": "code",
   "execution_count": 104,
   "metadata": {},
   "outputs": [
    {
     "name": "stdout",
     "output_type": "stream",
     "text": [
      "[['InvoiceNo', 'StockCode', 'Description', 'Quantity', 'InvoiceDate', 'UnitPrice', 'CustomerID', 'Country'], ['536365', '85123A', 'WHITE HANGING HEART T-LIGHT HOLDER', '6', '01 12 10 8:26', '2,55', '17850', 'United Kingdom'], ['536365', '71053', 'WHITE METAL LANTERN', '6', '01 12 10 8:26', '3,39', '17850', 'United Kingdom'], ['536365', '84406B', 'CREAM CUPID HEARTS COAT HANGER', '8', '01 12 10 8:26', '2,75', '17850', 'United Kingdom'], ['536365', '84029G', 'KNITTED UNION FLAG HOT WATER BOTTLE', '6', '01 12 10 8:26', '3,39', '17850', 'United Kingdom'], ['536365', '84029E', 'RED WOOLLY HOTTIE WHITE HEART.', '6', '01 12 10 8:26', '3,39', '17850', 'United Kingdom'], ['536365', '22752', 'SET 7 BABUSHKA NESTING BOXES', '2', '01 12 10 8:26', '7,65', '17850', 'United Kingdom'], ['536365', '21730', 'GLASS STAR FROSTED T-LIGHT HOLDER', '6', '01 12 10 8:26', '4,25', '17850', 'United Kingdom'], ['536366', '22633', 'HAND WARMER UNION JACK', '6', '01 12 10 8:28', '1,85', '17850', 'United Kingdom'], ['536366', '22632', 'HAND WARMER RED POLKA DOT', '6', '01 12 10 8:28', '1,85', '17850', 'United Kingdom'], ['536367', '84879', 'ASSORTED COLOUR BIRD ORNAMENT', '32', '01 12 10 8:34', '1,69', '13047', 'United Kingdom'], ['536367', '22745', \"POPPY'S PLAYHOUSE BEDROOM \", '6', '01 12 10 8:34', '2,1', '13047', 'United Kingdom'], ['536367', '22748', \"POPPY'S PLAYHOUSE KITCHEN\", '6', '01 12 10 8:34', '2,1', '13047', 'United Kingdom'], ['536367', '22749', 'FELTCRAFT PRINCESS CHARLOTTE DOLL', '8', '01 12 10 8:34', '3,75', '13047', 'United Kingdom'], ['536367', '22310', 'IVORY KNITTED MUG COSY ', '6', '01 12 10 8:34', '1,65', '13047', 'United Kingdom'], ['536367', '84969', 'BOX OF 6 ASSORTED COLOUR TEASPOONS', '6', '01 12 10 8:34', '4,25', '13047', 'United Kingdom'], ['536367', '22623', 'BOX OF VINTAGE JIGSAW BLOCKS ', '3', '01 12 10 8:34', '4,95', '13047', 'United Kingdom'], ['536367', '22622', 'BOX OF VINTAGE ALPHABET BLOCKS', '2', '01 12 10 8:34', '9,95', '13047', 'United Kingdom'], ['536367', '21754', 'HOME BUILDING BLOCK WORD', '3', '01 12 10 8:34', '5,95', '13047', 'United Kingdom'], ['536367', '21755', 'LOVE BUILDING BLOCK WORD', '3', '01 12 10 8:34', '5,95', '13047', 'United Kingdom'], ['536367', '21777', 'RECIPE BOX WITH METAL HEART', '4', '01 12 10 8:34', '7,95', '13047', 'United Kingdom'], ['536367', '48187', 'DOORMAT NEW ENGLAND', '4', '01 12 10 8:34', '7,95', '13047', 'United Kingdom'], ['536368', '22960', 'JAM MAKING SET WITH JARS', '6', '01 12 10 8:34', '4,25', '13047', 'United Kingdom'], ['536368', '22913', 'RED COAT RACK PARIS FASHION', '3', '01 12 10 8:34', '4,95', '13047', 'United Kingdom'], ['536368', '22912', 'YELLOW COAT RACK PARIS FASHION', '3', '01 12 10 8:34', '4,95', '13047', 'United Kingdom'], ['536368', '22914', 'BLUE COAT RACK PARIS FASHION', '3', '01 12 10 8:34', '4,95', '13047', 'United Kingdom'], ['536369', '21756', 'BATH BUILDING BLOCK WORD', '3', '01 12 10 8:35', '5,95', '13047', 'United Kingdom'], ['536370', '22728', 'ALARM CLOCK BAKELIKE PINK', '24', '01 12 10 8:45', '3,75', '12583', 'France'], ['536370', '22727', 'ALARM CLOCK BAKELIKE RED ', '24', '01 12 10 8:45', '3,75', '12583', 'France'], ['536370', '22726', 'ALARM CLOCK BAKELIKE GREEN', '12', '01 12 10 8:45', '3,75', '12583', 'France'], ['536370', '21724', 'PANDA AND BUNNIES STICKER SHEET', '12', '01 12 10 8:45', '0,85', '12583', 'France'], ['536370', '21883', 'STARS GIFT TAPE ', '24', '01 12 10 8:45', '0,65', '12583', 'France'], ['536370', '10002', 'INFLATABLE POLITICAL GLOBE ', '48', '01 12 10 8:45', '0,85', '12583', 'France'], ['536370', '21791', 'VINTAGE HEADS AND TAILS CARD GAME ', '24', '01 12 10 8:45', '1,25', '12583', 'France'], ['536370', '21035', 'SET/2 RED RETROSPOT TEA TOWELS ', '18', '01 12 10 8:45', '2,95', '12583', 'France'], ['536370', '22326', 'ROUND SNACK BOXES SET OF4 WOODLAND ', '24', '01 12 10 8:45', '2,95', '12583', 'France'], ['536370', '22629', 'SPACEBOY LUNCH BOX ', '24', '01 12 10 8:45', '1,95', '12583', 'France'], ['536370', '22659', 'LUNCH BOX I LOVE LONDON', '24', '01 12 10 8:45', '1,95', '12583', 'France'], ['536370', '22631', 'CIRCUS PARADE LUNCH BOX ', '24', '01 12 10 8:45', '1,95', '12583', 'France'], ['536370', '22661', 'CHARLOTTE BAG DOLLY GIRL DESIGN', '20', '01 12 10 8:45', '0,85', '12583', 'France'], ['536370', '21731', 'RED TOADSTOOL LED NIGHT LIGHT', '24', '01 12 10 8:45', '1,65', '12583', 'France'], ['536370', '22900', ' SET 2 TEA TOWELS I LOVE LONDON ', '24', '01 12 10 8:45', '2,95', '12583', 'France'], ['536370', '21913', 'VINTAGE SEASIDE JIGSAW PUZZLES', '12', '01 12 10 8:45', '3,75', '12583', 'France'], ['536370', '22540', 'MINI JIGSAW CIRCUS PARADE ', '24', '01 12 10 8:45', '0,42', '12583', 'France'], ['536370', '22544', 'MINI JIGSAW SPACEBOY', '24', '01 12 10 8:45', '0,42', '12583', 'France'], ['536370', '22492', 'MINI PAINT SET VINTAGE ', '36', '01 12 10 8:45', '0,65', '12583', 'France'], ['536370', 'POST', 'POSTAGE', '3', '01 12 10 8:45', '18', '12583', 'France'], ['536371', '22086', \"PAPER CHAIN KIT 50'S CHRISTMAS \", '80', '01 12 10 9:00', '2,55', '13748', 'United Kingdom'], ['536372', '22632', 'HAND WARMER RED POLKA DOT', '6', '01 12 10 9:01', '1,85', '17850', 'United Kingdom'], ['536372', '22633', 'HAND WARMER UNION JACK', '6', '01 12 10 9:01', '1,85', '17850', 'United Kingdom'], ['536373', '85123A', 'WHITE HANGING HEART T-LIGHT HOLDER', '6', '01 12 10 9:02', '2,55', '17850', 'United Kingdom'], ['536373', '71053', 'WHITE METAL LANTERN', '6', '01 12 10 9:02', '3,39', '17850', 'United Kingdom'], ['536373', '84406B', 'CREAM CUPID HEARTS COAT HANGER', '8', '01 12 10 9:02', '2,75', '17850', 'United Kingdom'], ['536373', '20679', 'EDWARDIAN PARASOL RED', '6', '01 12 10 9:02', '4,95', '17850', 'United Kingdom'], ['536373', '37370', 'RETRO COFFEE MUGS ASSORTED', '6', '01 12 10 9:02', '1,06', '17850', 'United Kingdom'], ['536373', '21871', 'SAVE THE PLANET MUG', '6', '01 12 10 9:02', '1,06', '17850', 'United Kingdom'], ['536373', '21071', 'VINTAGE BILLBOARD DRINK ME MUG', '6', '01 12 10 9:02', '1,06', '17850', 'United Kingdom'], ['536373', '21068', 'VINTAGE BILLBOARD LOVE/HATE MUG', '6', '01 12 10 9:02', '1,06', '17850', 'United Kingdom'], ['536373', '82483', 'WOOD 2 DRAWER CABINET WHITE FINISH', '2', '01 12 10 9:02', '4,95', '17850', 'United Kingdom'], ['536373', '82486', 'WOOD S/3 CABINET ANT WHITE FINISH', '4', '01 12 10 9:02', '6,95', '17850', 'United Kingdom'], ['536373', '82482', 'WOODEN PICTURE FRAME WHITE FINISH', '6', '01 12 10 9:02', '2,1', '17850', 'United Kingdom'], ['536373', '82494L', 'WOODEN FRAME ANTIQUE WHITE ', '6', '01 12 10 9:02', '2,55', '17850', 'United Kingdom'], ['536373', '84029G', 'KNITTED UNION FLAG HOT WATER BOTTLE', '6', '01 12 10 9:02', '3,39', '17850', 'United Kingdom'], ['536373', '84029E', 'RED WOOLLY HOTTIE WHITE HEART.', '6', '01 12 10 9:02', '3,39', '17850', 'United Kingdom'], ['536373', '22752', 'SET 7 BABUSHKA NESTING BOXES', '2', '01 12 10 9:02', '7,65', '17850', 'United Kingdom'], ['536373', '21730', 'GLASS STAR FROSTED T-LIGHT HOLDER', '6', '01 12 10 9:02', '4,25', '17850', 'United Kingdom'], ['536374', '21258', 'VICTORIAN SEWING BOX LARGE', '32', '01 12 10 9:09', '10,95', '15100', 'United Kingdom'], ['536375', '85123A', 'WHITE HANGING HEART T-LIGHT HOLDER', '6', '01 12 10 9:32', '2,55', '17850', 'United Kingdom'], ['536375', '71053', 'WHITE METAL LANTERN', '6', '01 12 10 9:32', '3,39', '17850', 'United Kingdom'], ['536375', '84406B', 'CREAM CUPID HEARTS COAT HANGER', '8', '01 12 10 9:32', '2,75', '17850', 'United Kingdom'], ['536375', '20679', 'EDWARDIAN PARASOL RED', '6', '01 12 10 9:32', '4,95', '17850', 'United Kingdom'], ['536375', '37370', 'RETRO COFFEE MUGS ASSORTED', '6', '01 12 10 9:32', '1,06', '17850', 'United Kingdom'], ['536375', '21871', 'SAVE THE PLANET MUG', '6', '01 12 10 9:32', '1,06', '17850', 'United Kingdom'], ['536375', '21071', 'VINTAGE BILLBOARD DRINK ME MUG', '6', '01 12 10 9:32', '1,06', '17850', 'United Kingdom'], ['536375', '21068', 'VINTAGE BILLBOARD LOVE/HATE MUG', '6', '01 12 10 9:32', '1,06', '17850', 'United Kingdom']]\n"
     ]
    }
   ],
   "source": [
    "print(transactions)"
   ]
  },
  {
   "cell_type": "code",
   "execution_count": 105,
   "metadata": {},
   "outputs": [
    {
     "data": {
      "text/plain": [
       "['InvoiceNo',\n",
       " 'StockCode',\n",
       " 'Description',\n",
       " 'Quantity',\n",
       " 'InvoiceDate',\n",
       " 'UnitPrice',\n",
       " 'CustomerID',\n",
       " 'Country']"
      ]
     },
     "execution_count": 105,
     "metadata": {},
     "output_type": "execute_result"
    }
   ],
   "source": [
    "transactions.pop(0)"
   ]
  },
  {
   "cell_type": "code",
   "execution_count": 106,
   "metadata": {},
   "outputs": [
    {
     "name": "stdout",
     "output_type": "stream",
     "text": [
      "[['536365', '85123A', 'WHITE HANGING HEART T-LIGHT HOLDER', '6', '01 12 10 8:26', '2,55', '17850', 'United Kingdom'], ['536365', '71053', 'WHITE METAL LANTERN', '6', '01 12 10 8:26', '3,39', '17850', 'United Kingdom'], ['536365', '84406B', 'CREAM CUPID HEARTS COAT HANGER', '8', '01 12 10 8:26', '2,75', '17850', 'United Kingdom'], ['536365', '84029G', 'KNITTED UNION FLAG HOT WATER BOTTLE', '6', '01 12 10 8:26', '3,39', '17850', 'United Kingdom'], ['536365', '84029E', 'RED WOOLLY HOTTIE WHITE HEART.', '6', '01 12 10 8:26', '3,39', '17850', 'United Kingdom'], ['536365', '22752', 'SET 7 BABUSHKA NESTING BOXES', '2', '01 12 10 8:26', '7,65', '17850', 'United Kingdom'], ['536365', '21730', 'GLASS STAR FROSTED T-LIGHT HOLDER', '6', '01 12 10 8:26', '4,25', '17850', 'United Kingdom'], ['536366', '22633', 'HAND WARMER UNION JACK', '6', '01 12 10 8:28', '1,85', '17850', 'United Kingdom'], ['536366', '22632', 'HAND WARMER RED POLKA DOT', '6', '01 12 10 8:28', '1,85', '17850', 'United Kingdom'], ['536367', '84879', 'ASSORTED COLOUR BIRD ORNAMENT', '32', '01 12 10 8:34', '1,69', '13047', 'United Kingdom'], ['536367', '22745', \"POPPY'S PLAYHOUSE BEDROOM \", '6', '01 12 10 8:34', '2,1', '13047', 'United Kingdom'], ['536367', '22748', \"POPPY'S PLAYHOUSE KITCHEN\", '6', '01 12 10 8:34', '2,1', '13047', 'United Kingdom'], ['536367', '22749', 'FELTCRAFT PRINCESS CHARLOTTE DOLL', '8', '01 12 10 8:34', '3,75', '13047', 'United Kingdom'], ['536367', '22310', 'IVORY KNITTED MUG COSY ', '6', '01 12 10 8:34', '1,65', '13047', 'United Kingdom'], ['536367', '84969', 'BOX OF 6 ASSORTED COLOUR TEASPOONS', '6', '01 12 10 8:34', '4,25', '13047', 'United Kingdom'], ['536367', '22623', 'BOX OF VINTAGE JIGSAW BLOCKS ', '3', '01 12 10 8:34', '4,95', '13047', 'United Kingdom'], ['536367', '22622', 'BOX OF VINTAGE ALPHABET BLOCKS', '2', '01 12 10 8:34', '9,95', '13047', 'United Kingdom'], ['536367', '21754', 'HOME BUILDING BLOCK WORD', '3', '01 12 10 8:34', '5,95', '13047', 'United Kingdom'], ['536367', '21755', 'LOVE BUILDING BLOCK WORD', '3', '01 12 10 8:34', '5,95', '13047', 'United Kingdom'], ['536367', '21777', 'RECIPE BOX WITH METAL HEART', '4', '01 12 10 8:34', '7,95', '13047', 'United Kingdom'], ['536367', '48187', 'DOORMAT NEW ENGLAND', '4', '01 12 10 8:34', '7,95', '13047', 'United Kingdom'], ['536368', '22960', 'JAM MAKING SET WITH JARS', '6', '01 12 10 8:34', '4,25', '13047', 'United Kingdom'], ['536368', '22913', 'RED COAT RACK PARIS FASHION', '3', '01 12 10 8:34', '4,95', '13047', 'United Kingdom'], ['536368', '22912', 'YELLOW COAT RACK PARIS FASHION', '3', '01 12 10 8:34', '4,95', '13047', 'United Kingdom'], ['536368', '22914', 'BLUE COAT RACK PARIS FASHION', '3', '01 12 10 8:34', '4,95', '13047', 'United Kingdom'], ['536369', '21756', 'BATH BUILDING BLOCK WORD', '3', '01 12 10 8:35', '5,95', '13047', 'United Kingdom'], ['536370', '22728', 'ALARM CLOCK BAKELIKE PINK', '24', '01 12 10 8:45', '3,75', '12583', 'France'], ['536370', '22727', 'ALARM CLOCK BAKELIKE RED ', '24', '01 12 10 8:45', '3,75', '12583', 'France'], ['536370', '22726', 'ALARM CLOCK BAKELIKE GREEN', '12', '01 12 10 8:45', '3,75', '12583', 'France'], ['536370', '21724', 'PANDA AND BUNNIES STICKER SHEET', '12', '01 12 10 8:45', '0,85', '12583', 'France'], ['536370', '21883', 'STARS GIFT TAPE ', '24', '01 12 10 8:45', '0,65', '12583', 'France'], ['536370', '10002', 'INFLATABLE POLITICAL GLOBE ', '48', '01 12 10 8:45', '0,85', '12583', 'France'], ['536370', '21791', 'VINTAGE HEADS AND TAILS CARD GAME ', '24', '01 12 10 8:45', '1,25', '12583', 'France'], ['536370', '21035', 'SET/2 RED RETROSPOT TEA TOWELS ', '18', '01 12 10 8:45', '2,95', '12583', 'France'], ['536370', '22326', 'ROUND SNACK BOXES SET OF4 WOODLAND ', '24', '01 12 10 8:45', '2,95', '12583', 'France'], ['536370', '22629', 'SPACEBOY LUNCH BOX ', '24', '01 12 10 8:45', '1,95', '12583', 'France'], ['536370', '22659', 'LUNCH BOX I LOVE LONDON', '24', '01 12 10 8:45', '1,95', '12583', 'France'], ['536370', '22631', 'CIRCUS PARADE LUNCH BOX ', '24', '01 12 10 8:45', '1,95', '12583', 'France'], ['536370', '22661', 'CHARLOTTE BAG DOLLY GIRL DESIGN', '20', '01 12 10 8:45', '0,85', '12583', 'France'], ['536370', '21731', 'RED TOADSTOOL LED NIGHT LIGHT', '24', '01 12 10 8:45', '1,65', '12583', 'France'], ['536370', '22900', ' SET 2 TEA TOWELS I LOVE LONDON ', '24', '01 12 10 8:45', '2,95', '12583', 'France'], ['536370', '21913', 'VINTAGE SEASIDE JIGSAW PUZZLES', '12', '01 12 10 8:45', '3,75', '12583', 'France'], ['536370', '22540', 'MINI JIGSAW CIRCUS PARADE ', '24', '01 12 10 8:45', '0,42', '12583', 'France'], ['536370', '22544', 'MINI JIGSAW SPACEBOY', '24', '01 12 10 8:45', '0,42', '12583', 'France'], ['536370', '22492', 'MINI PAINT SET VINTAGE ', '36', '01 12 10 8:45', '0,65', '12583', 'France'], ['536370', 'POST', 'POSTAGE', '3', '01 12 10 8:45', '18', '12583', 'France'], ['536371', '22086', \"PAPER CHAIN KIT 50'S CHRISTMAS \", '80', '01 12 10 9:00', '2,55', '13748', 'United Kingdom'], ['536372', '22632', 'HAND WARMER RED POLKA DOT', '6', '01 12 10 9:01', '1,85', '17850', 'United Kingdom'], ['536372', '22633', 'HAND WARMER UNION JACK', '6', '01 12 10 9:01', '1,85', '17850', 'United Kingdom'], ['536373', '85123A', 'WHITE HANGING HEART T-LIGHT HOLDER', '6', '01 12 10 9:02', '2,55', '17850', 'United Kingdom'], ['536373', '71053', 'WHITE METAL LANTERN', '6', '01 12 10 9:02', '3,39', '17850', 'United Kingdom'], ['536373', '84406B', 'CREAM CUPID HEARTS COAT HANGER', '8', '01 12 10 9:02', '2,75', '17850', 'United Kingdom'], ['536373', '20679', 'EDWARDIAN PARASOL RED', '6', '01 12 10 9:02', '4,95', '17850', 'United Kingdom'], ['536373', '37370', 'RETRO COFFEE MUGS ASSORTED', '6', '01 12 10 9:02', '1,06', '17850', 'United Kingdom'], ['536373', '21871', 'SAVE THE PLANET MUG', '6', '01 12 10 9:02', '1,06', '17850', 'United Kingdom'], ['536373', '21071', 'VINTAGE BILLBOARD DRINK ME MUG', '6', '01 12 10 9:02', '1,06', '17850', 'United Kingdom'], ['536373', '21068', 'VINTAGE BILLBOARD LOVE/HATE MUG', '6', '01 12 10 9:02', '1,06', '17850', 'United Kingdom'], ['536373', '82483', 'WOOD 2 DRAWER CABINET WHITE FINISH', '2', '01 12 10 9:02', '4,95', '17850', 'United Kingdom'], ['536373', '82486', 'WOOD S/3 CABINET ANT WHITE FINISH', '4', '01 12 10 9:02', '6,95', '17850', 'United Kingdom'], ['536373', '82482', 'WOODEN PICTURE FRAME WHITE FINISH', '6', '01 12 10 9:02', '2,1', '17850', 'United Kingdom'], ['536373', '82494L', 'WOODEN FRAME ANTIQUE WHITE ', '6', '01 12 10 9:02', '2,55', '17850', 'United Kingdom'], ['536373', '84029G', 'KNITTED UNION FLAG HOT WATER BOTTLE', '6', '01 12 10 9:02', '3,39', '17850', 'United Kingdom'], ['536373', '84029E', 'RED WOOLLY HOTTIE WHITE HEART.', '6', '01 12 10 9:02', '3,39', '17850', 'United Kingdom'], ['536373', '22752', 'SET 7 BABUSHKA NESTING BOXES', '2', '01 12 10 9:02', '7,65', '17850', 'United Kingdom'], ['536373', '21730', 'GLASS STAR FROSTED T-LIGHT HOLDER', '6', '01 12 10 9:02', '4,25', '17850', 'United Kingdom'], ['536374', '21258', 'VICTORIAN SEWING BOX LARGE', '32', '01 12 10 9:09', '10,95', '15100', 'United Kingdom'], ['536375', '85123A', 'WHITE HANGING HEART T-LIGHT HOLDER', '6', '01 12 10 9:32', '2,55', '17850', 'United Kingdom'], ['536375', '71053', 'WHITE METAL LANTERN', '6', '01 12 10 9:32', '3,39', '17850', 'United Kingdom'], ['536375', '84406B', 'CREAM CUPID HEARTS COAT HANGER', '8', '01 12 10 9:32', '2,75', '17850', 'United Kingdom'], ['536375', '20679', 'EDWARDIAN PARASOL RED', '6', '01 12 10 9:32', '4,95', '17850', 'United Kingdom'], ['536375', '37370', 'RETRO COFFEE MUGS ASSORTED', '6', '01 12 10 9:32', '1,06', '17850', 'United Kingdom'], ['536375', '21871', 'SAVE THE PLANET MUG', '6', '01 12 10 9:32', '1,06', '17850', 'United Kingdom'], ['536375', '21071', 'VINTAGE BILLBOARD DRINK ME MUG', '6', '01 12 10 9:32', '1,06', '17850', 'United Kingdom'], ['536375', '21068', 'VINTAGE BILLBOARD LOVE/HATE MUG', '6', '01 12 10 9:32', '1,06', '17850', 'United Kingdom']]\n"
     ]
    }
   ],
   "source": [
    "print(transactions)"
   ]
  },
  {
   "cell_type": "code",
   "execution_count": null,
   "metadata": {},
   "outputs": [],
   "source": []
  },
  {
   "cell_type": "code",
   "execution_count": null,
   "metadata": {},
   "outputs": [],
   "source": []
  },
  {
   "cell_type": "markdown",
   "metadata": {},
   "source": [
    "## Apriori"
   ]
  },
  {
   "cell_type": "code",
   "execution_count": 95,
   "metadata": {},
   "outputs": [],
   "source": [
    "# Training Apriori on the dataset"
   ]
  },
  {
   "cell_type": "code",
   "execution_count": 107,
   "metadata": {},
   "outputs": [],
   "source": [
    "#загружаем apriori\n",
    "from apyori import apriori"
   ]
  },
  {
   "cell_type": "code",
   "execution_count": 111,
   "metadata": {},
   "outputs": [],
   "source": [
    "# и обучимся правилам. Обратите внимание, что пороговые значения мы вибираем сами в зависимости от того, /\n",
    "# насколкьо \"сильные\" правила мы хотим получить\n",
    "# min_support -- минимальный support для правил (dtype = float).\n",
    "# min_confidence -- минимальное значение confidence для правил (dtype = float)\n",
    "# min_lift -- минимальный lift (dtype = float)\n",
    "# max_length -- максимальная длина itemset (вспоминаем про k-itemset)  (dtype = integer)\n",
    "\n",
    "rules = apriori(transactions, min_support = 0.003, min_confidence = 0.2, min_lift = 4, min_length = 2)\n",
    "#(3*7/7500)"
   ]
  },
  {
   "cell_type": "code",
   "execution_count": null,
   "metadata": {},
   "outputs": [],
   "source": [
    "%%time\n",
    "results = list(rules)\n",
    "#we dont sort here-as its already sorted by their relevance- its relevant criterion-combination of support,confidence and lift"
   ]
  },
  {
   "cell_type": "code",
   "execution_count": null,
   "metadata": {},
   "outputs": [],
   "source": [
    "results"
   ]
  },
  {
   "cell_type": "markdown",
   "metadata": {},
   "source": [
    "## Visualization of Results"
   ]
  },
  {
   "cell_type": "code",
   "execution_count": null,
   "metadata": {},
   "outputs": [],
   "source": [
    "myResults = [list(x) for x in results]  \n",
    "myRes = []             \n",
    "for j in range(0, 153):\n",
    "    myRes.append([list(x) for x in myResults[j][2]])"
   ]
  },
  {
   "cell_type": "code",
   "execution_count": 80,
   "metadata": {},
   "outputs": [],
   "source": [
    "#Визуализируем выход"
   ]
  },
  {
   "cell_type": "code",
   "execution_count": 81,
   "metadata": {},
   "outputs": [],
   "source": [
    "import shutil, os "
   ]
  },
  {
   "cell_type": "code",
   "execution_count": 82,
   "metadata": {},
   "outputs": [],
   "source": [
    "try:\n",
    "    from StringIO import StringIO\n",
    "except ImportError:\n",
    "    from io import StringIO"
   ]
  },
  {
   "cell_type": "code",
   "execution_count": 83,
   "metadata": {},
   "outputs": [],
   "source": [
    "import json #преобразовывать будем в json, используя встроенные в модуль методы"
   ]
  },
  {
   "cell_type": "code",
   "execution_count": 75,
   "metadata": {},
   "outputs": [
    {
     "ename": "NameError",
     "evalue": "name 'result' is not defined",
     "output_type": "error",
     "traceback": [
      "\u001b[1;31m---------------------------------------------------------------------------\u001b[0m",
      "\u001b[1;31mNameError\u001b[0m                                 Traceback (most recent call last)",
      "\u001b[1;32m<ipython-input-75-9bcc956eca32>\u001b[0m in \u001b[0;36m<module>\u001b[1;34m\u001b[0m\n\u001b[0;32m      1\u001b[0m \u001b[0moutput\u001b[0m \u001b[1;33m=\u001b[0m \u001b[1;33m[\u001b[0m\u001b[1;33m]\u001b[0m\u001b[1;33m\u001b[0m\u001b[1;33m\u001b[0m\u001b[0m\n\u001b[1;32m----> 2\u001b[1;33m \u001b[1;32mfor\u001b[0m \u001b[0mRelationRecord\u001b[0m \u001b[1;32min\u001b[0m \u001b[0mresult\u001b[0m\u001b[1;33m:\u001b[0m\u001b[1;33m\u001b[0m\u001b[1;33m\u001b[0m\u001b[0m\n\u001b[0m\u001b[0;32m      3\u001b[0m     \u001b[0mo\u001b[0m \u001b[1;33m=\u001b[0m \u001b[0mStringIO\u001b[0m\u001b[1;33m(\u001b[0m\u001b[1;33m)\u001b[0m\u001b[1;33m\u001b[0m\u001b[1;33m\u001b[0m\u001b[0m\n\u001b[0;32m      4\u001b[0m     \u001b[0mapyori\u001b[0m\u001b[1;33m.\u001b[0m\u001b[0mdump_as_json\u001b[0m\u001b[1;33m(\u001b[0m\u001b[0mRelationRecord\u001b[0m\u001b[1;33m,\u001b[0m \u001b[0mo\u001b[0m\u001b[1;33m)\u001b[0m\u001b[1;33m\u001b[0m\u001b[1;33m\u001b[0m\u001b[0m\n\u001b[0;32m      5\u001b[0m     \u001b[0moutput\u001b[0m\u001b[1;33m.\u001b[0m\u001b[0mappend\u001b[0m\u001b[1;33m(\u001b[0m\u001b[0mjson\u001b[0m\u001b[1;33m.\u001b[0m\u001b[0mloads\u001b[0m\u001b[1;33m(\u001b[0m\u001b[0mo\u001b[0m\u001b[1;33m.\u001b[0m\u001b[0mgetvalue\u001b[0m\u001b[1;33m(\u001b[0m\u001b[1;33m)\u001b[0m\u001b[1;33m)\u001b[0m\u001b[1;33m)\u001b[0m\u001b[1;33m\u001b[0m\u001b[1;33m\u001b[0m\u001b[0m\n",
      "\u001b[1;31mNameError\u001b[0m: name 'result' is not defined"
     ]
    }
   ],
   "source": [
    "output = []\n",
    "for RelationRecord in result:\n",
    "    o = StringIO()\n",
    "    apyori.dump_as_json(RelationRecord, o)\n",
    "    output.append(json.loads(o.getvalue()))\n",
    "data_df = pd.DataFrame(output)"
   ]
  },
  {
   "cell_type": "code",
   "execution_count": null,
   "metadata": {},
   "outputs": [],
   "source": [
    "# и взгялнем на итоги\n",
    "pd.set_option('display.max_colwidth', -1)\n",
    "\n",
    "from IPython.display import display, HTML\n",
    "\n",
    "display(HTML(data_df.to_html()))"
   ]
  },
  {
   "cell_type": "markdown",
   "metadata": {},
   "source": [
    "## FP Growth"
   ]
  },
  {
   "cell_type": "code",
   "execution_count": 14,
   "metadata": {},
   "outputs": [],
   "source": [
    "# FP-Growth предлагает радикальную вещь — отказаться от генерации кандидатов (это лежит в основе Apriori и ECLAT). \n",
    "# Теоретически, такой подход позволит еще больше увеличить скорость алгоритма и использовать еще меньше памяти.\n",
    "\n",
    "# Это достигается за счет хранения в памяти префиксного дерева (trie) не из комбинаций кандидатов, а из самих транзакций.\n",
    "# При этом FP-Growth генерирует таблицу заголовков для каждого item, чей supp выше заданного пользователем. \n",
    "# Эта таблица заголовков хранит связанный список всех однотипных узлов префиксного дерева. \n",
    "# Таким образом, алгоритм сочетает в себе плюсы BFS за счет таблицы заголовков и DFS за счет построения trie. "
   ]
  },
  {
   "cell_type": "code",
   "execution_count": 15,
   "metadata": {},
   "outputs": [],
   "source": [
    "import pyfpgrowth"
   ]
  },
  {
   "cell_type": "code",
   "execution_count": 16,
   "metadata": {},
   "outputs": [],
   "source": [
    "#Сгенериуем паттерны\n",
    "patterns = pyfpgrowth.find_frequent_patterns(transactions, 2)"
   ]
  },
  {
   "cell_type": "code",
   "execution_count": 17,
   "metadata": {},
   "outputs": [],
   "source": [
    "#Выучим правила\n",
    "rules = pyfpgrowth.generate_association_rules(patterns, 30);"
   ]
  },
  {
   "cell_type": "code",
   "execution_count": 18,
   "metadata": {},
   "outputs": [],
   "source": [
    "#Покажем\n",
    "rules;"
   ]
  },
  {
   "cell_type": "markdown",
   "metadata": {},
   "source": [
    "## ECLAT Algorithm"
   ]
  },
  {
   "cell_type": "code",
   "execution_count": 23,
   "metadata": {},
   "outputs": [],
   "source": [
    "import numpy as np"
   ]
  },
  {
   "cell_type": "code",
   "execution_count": 24,
   "metadata": {},
   "outputs": [],
   "source": [
    "# class Eclat:\n",
    "#     #инициализация объекта класса\n",
    "#     def __init__(self, min_support = 0.01, max_items = 5, min_items = 2):\n",
    "#         self.min_support = min_support\n",
    "#         self.max_items = max_items\n",
    "#         self.min_items = min_items\n",
    "#         self.item_lst = list()\n",
    "#         self.item_len = 0\n",
    "#         self.item_dict = dict()\n",
    "#         self.final_dict = dict()\n",
    "#         self.data_size = 0\n",
    "    \n",
    "#     #создание словаря из ненулевых объектов из всех транзакций (вертикальный датасет)\n",
    "#     def read_data(self, dataset):\n",
    "#         for index, row in dataset.iterrows():\n",
    "#             row_wo_na = set(row[0])\n",
    "#             for item in row_wo_na:\n",
    "#                 item = item.strip()\n",
    "#                 if item in self.item_dict:\n",
    "#                     self.item_dict[item][0] += 1\n",
    "#                 else:\n",
    "#                     self.item_dict.setdefault(item, []).append(1)\n",
    "#                 self.item_dict[item].append(index)\n",
    "#         #задаем переменные экземпляра (instance variables)\n",
    "#         self.data_size = dataset.shape[0]\n",
    "#         self.item_lst = list(self.item_dict.keys())\n",
    "#         self.item_len = len(self.item_lst)\n",
    "#         self.min_support = self.min_support * self.data_size\n",
    "#         #print (\"min_supp\", self.min_support)\n",
    "        \n",
    "#     #рекурсивный метод для поиска всех ItemSet по алгоритму Eclat\n",
    "#     #структура данных: {Item: [Supp number, tid1, tid2, tid3, ...]}\n",
    "#     def recur_eclat(self, item_name, tids_array, minsupp, num_items, k_start):\n",
    "#         if tids_array[0] >= minsupp and num_items <= self.max_items:\n",
    "#             for k in range(k_start+1, self.item_len):\n",
    "#                 if self.item_dict[self.item_lst[k]][0] >= minsupp:\n",
    "#                     new_item = item_name + \" | \" + self.item_lst[k]\n",
    "#                     new_tids = np.intersect1d(tids_array[1:], self.item_dict[self.item_lst[k]][1:])\n",
    "#                     new_tids_size = new_tids.size\n",
    "#                     new_tids = np.insert(new_tids, 0, new_tids_size)\n",
    "#                     if new_tids_size >= minsupp:\n",
    "#                         if num_items >= self.min_items: self.final_dict.update({new_item: new_tids})\n",
    "#                         self.recur_eclat(new_item, new_tids, minsupp, num_items+1, k)\n",
    "    \n",
    "#     #последовательный вызов функций определенных выше\n",
    "#     def fit(self, dataset):\n",
    "#         i = 0\n",
    "#         self.read_data(dataset)\n",
    "#         for w in self.item_lst:\n",
    "#             self.recur_eclat(w, self.item_dict[w], self.min_support, 2, i)\n",
    "#             i+=1\n",
    "#         return self\n",
    "        \n",
    "#     #вывод в форме словаря {ItemSet: support(ItemSet)}\n",
    "#     def transform(self):\n",
    "#         return {k: \"{0:.4f}%\".format((v[0]+0.0)/self.data_size*100) for k, v in self.final_dict.items()}"
   ]
  },
  {
   "cell_type": "code",
   "execution_count": 25,
   "metadata": {},
   "outputs": [],
   "source": [
    "# model = Eclat(min_support = 0.01, max_items = 4, min_items = 3)"
   ]
  },
  {
   "cell_type": "code",
   "execution_count": 26,
   "metadata": {},
   "outputs": [
    {
     "data": {
      "text/plain": [
       "<__main__.Eclat at 0x25749a37b80>"
      ]
     },
     "execution_count": 26,
     "metadata": {},
     "output_type": "execute_result"
    }
   ],
   "source": [
    "# model.fit(dataset)"
   ]
  },
  {
   "cell_type": "code",
   "execution_count": 27,
   "metadata": {},
   "outputs": [
    {
     "data": {
      "text/plain": [
       "{'5 | 3 | 6': '16.3636%',\n",
       " '5 | 3 | 6 | 7': '6.2669%',\n",
       " '5 | 3 | 6 | 8': '4.7488%',\n",
       " '5 | 3 | 6 | 9': '4.5103%',\n",
       " '5 | 3 | 6 | 0': '3.8436%',\n",
       " '5 | 3 | 6 | 1': '3.5192%',\n",
       " '5 | 3 | 6 | 2': '4.0883%',\n",
       " '5 | 3 | 6 | 4': '5.5478%',\n",
       " '5 | 3 | 7': '17.8808%',\n",
       " '5 | 3 | 7 | 8': '5.7556%',\n",
       " '5 | 3 | 7 | 9': '4.3671%',\n",
       " '5 | 3 | 7 | 0': '4.7013%',\n",
       " '5 | 3 | 7 | 1': '4.2097%',\n",
       " '5 | 3 | 7 | 2': '4.2743%',\n",
       " '5 | 3 | 7 | 4': '5.8757%',\n",
       " '5 | 3 | 8': '13.3751%',\n",
       " '5 | 3 | 8 | 9': '2.9605%',\n",
       " '5 | 3 | 8 | 0': '3.4000%',\n",
       " '5 | 3 | 8 | 1': '3.3749%',\n",
       " '5 | 3 | 8 | 2': '2.5331%',\n",
       " '5 | 3 | 8 | 4': '4.4094%',\n",
       " '5 | 3 | 9': '11.7566%',\n",
       " '5 | 3 | 9 | 0': '2.5816%',\n",
       " '5 | 3 | 9 | 1': '2.5427%',\n",
       " '5 | 3 | 9 | 2': '2.5525%',\n",
       " '5 | 3 | 9 | 4': '4.1357%',\n",
       " '5 | 3 | 0': '11.0529%',\n",
       " '5 | 3 | 0 | 1': '2.2424%',\n",
       " '5 | 3 | 0 | 2': '2.4395%',\n",
       " '5 | 3 | 0 | 4': '3.9774%',\n",
       " '5 | 3 | 1': '10.2168%',\n",
       " '5 | 3 | 1 | 2': '2.2114%',\n",
       " '5 | 3 | 1 | 4': '3.4196%',\n",
       " '5 | 3 | 2': '10.3423%',\n",
       " '5 | 3 | 2 | 4': '3.7067%',\n",
       " '5 | 3 | 4': '15.4526%',\n",
       " '5 | 6 | 7': '21.0823%',\n",
       " '5 | 6 | 7 | 8': '6.3952%',\n",
       " '5 | 6 | 7 | 9': '5.1178%',\n",
       " '5 | 6 | 7 | 0': '5.8964%',\n",
       " '5 | 6 | 7 | 1': '5.3690%',\n",
       " '5 | 6 | 7 | 2': '5.1138%',\n",
       " '5 | 6 | 7 | 4': '6.7351%',\n",
       " '5 | 6 | 8': '16.9181%',\n",
       " '5 | 6 | 8 | 9': '3.7117%',\n",
       " '5 | 6 | 8 | 0': '4.8794%',\n",
       " '5 | 6 | 8 | 1': '4.7054%',\n",
       " '5 | 6 | 8 | 2': '3.5882%',\n",
       " '5 | 6 | 8 | 4': '5.9776%',\n",
       " '5 | 6 | 9': '15.2236%',\n",
       " '5 | 6 | 9 | 0': '3.9058%',\n",
       " '5 | 6 | 9 | 1': '4.0758%',\n",
       " '5 | 6 | 9 | 2': '4.1354%',\n",
       " '5 | 6 | 9 | 4': '5.1450%',\n",
       " '5 | 6 | 0': '15.6677%',\n",
       " '5 | 6 | 0 | 1': '3.5641%',\n",
       " '5 | 6 | 0 | 2': '4.0512%',\n",
       " '5 | 6 | 0 | 4': '5.4256%',\n",
       " '5 | 6 | 1': '14.8971%',\n",
       " '5 | 6 | 1 | 2': '3.7541%',\n",
       " '5 | 6 | 1 | 4': '5.0853%',\n",
       " '5 | 6 | 2': '14.6862%',\n",
       " '5 | 6 | 2 | 4': '4.8809%',\n",
       " '5 | 6 | 4': '20.0030%',\n",
       " '5 | 7 | 8': '18.6588%',\n",
       " '5 | 7 | 8 | 9': '3.8213%',\n",
       " '5 | 7 | 8 | 0': '5.6744%',\n",
       " '5 | 7 | 8 | 1': '4.8054%',\n",
       " '5 | 7 | 8 | 2': '4.6965%',\n",
       " '5 | 7 | 8 | 4': '5.9813%',\n",
       " '5 | 7 | 9': '14.8442%',\n",
       " '5 | 7 | 9 | 0': '3.9211%',\n",
       " '5 | 7 | 9 | 1': '3.9846%',\n",
       " '5 | 7 | 9 | 2': '3.5652%',\n",
       " '5 | 7 | 9 | 4': '5.4101%',\n",
       " '5 | 7 | 0': '16.8000%',\n",
       " '5 | 7 | 0 | 1': '3.6988%',\n",
       " '5 | 7 | 0 | 2': '4.3618%',\n",
       " '5 | 7 | 0 | 4': '5.8740%',\n",
       " '5 | 7 | 1': '15.4559%',\n",
       " '5 | 7 | 1 | 2': '3.8606%',\n",
       " '5 | 7 | 1 | 4': '4.9608%',\n",
       " '5 | 7 | 2': '15.1999%',\n",
       " '5 | 7 | 2 | 4': '4.7713%',\n",
       " '5 | 7 | 4': '20.2478%',\n",
       " '5 | 8 | 9': '10.5724%',\n",
       " '5 | 8 | 9 | 0': '2.7440%',\n",
       " '5 | 8 | 9 | 1': '2.7935%',\n",
       " '5 | 8 | 9 | 2': '2.2092%',\n",
       " '5 | 8 | 9 | 4': '4.1472%',\n",
       " '5 | 8 | 0': '13.1585%',\n",
       " '5 | 8 | 0 | 1': '3.3275%',\n",
       " '5 | 8 | 0 | 2': '2.9405%',\n",
       " '5 | 8 | 0 | 4': '4.2609%',\n",
       " '5 | 8 | 1': '12.6713%',\n",
       " '5 | 8 | 1 | 2': '2.8968%',\n",
       " '5 | 8 | 1 | 4': '4.9556%',\n",
       " '5 | 8 | 2': '10.4811%',\n",
       " '5 | 8 | 2 | 4': '3.5668%',\n",
       " '5 | 8 | 4': '16.3114%',\n",
       " '5 | 9 | 0': '9.9793%',\n",
       " '5 | 9 | 0 | 1': '1.8931%',\n",
       " '5 | 9 | 0 | 2': '2.1319%',\n",
       " '5 | 9 | 0 | 4': '3.4722%',\n",
       " '5 | 9 | 1': '10.2803%',\n",
       " '5 | 9 | 1 | 2': '2.3336%',\n",
       " '5 | 9 | 1 | 4': '4.0643%',\n",
       " '5 | 9 | 2': '9.7038%',\n",
       " '5 | 9 | 2 | 4': '3.4762%',\n",
       " '5 | 9 | 4': '14.9962%',\n",
       " '5 | 0 | 1': '9.8535%',\n",
       " '5 | 0 | 1 | 2': '2.0812%',\n",
       " '5 | 0 | 1 | 4': '3.5980%',\n",
       " '5 | 0 | 2': '10.2131%',\n",
       " '5 | 0 | 2 | 4': '3.4902%',\n",
       " '5 | 0 | 4': '15.2400%',\n",
       " '5 | 1 | 2': '9.9605%',\n",
       " '5 | 1 | 2 | 4': '3.8185%',\n",
       " '5 | 1 | 4': '14.9386%',\n",
       " '5 | 2 | 4': '13.6237%',\n",
       " '3 | 6 | 7': '6.2669%',\n",
       " '3 | 6 | 7 | 8': '1.5512%',\n",
       " '3 | 6 | 7 | 9': '1.2613%',\n",
       " '3 | 6 | 7 | 0': '1.1871%',\n",
       " '3 | 6 | 7 | 2': '1.1426%',\n",
       " '3 | 6 | 7 | 4': '1.5997%',\n",
       " '3 | 6 | 8': '4.7488%',\n",
       " '3 | 6 | 8 | 4': '1.1578%',\n",
       " '3 | 6 | 9': '4.5103%',\n",
       " '3 | 6 | 9 | 2': '1.1537%',\n",
       " '3 | 6 | 9 | 4': '1.0332%',\n",
       " '3 | 6 | 0': '3.8436%',\n",
       " '3 | 6 | 0 | 4': '1.0352%',\n",
       " '3 | 6 | 1': '3.5192%',\n",
       " '3 | 6 | 2': '4.0883%',\n",
       " '3 | 6 | 2 | 4': '1.0282%',\n",
       " '3 | 6 | 4': '5.5478%',\n",
       " '3 | 7 | 8': '5.7556%',\n",
       " '3 | 7 | 8 | 0': '1.2795%',\n",
       " '3 | 7 | 8 | 1': '1.1775%',\n",
       " '3 | 7 | 8 | 4': '1.3685%',\n",
       " '3 | 7 | 9': '4.3671%',\n",
       " '3 | 7 | 9 | 4': '1.1101%',\n",
       " '3 | 7 | 0': '4.7013%',\n",
       " '3 | 7 | 0 | 4': '1.2768%',\n",
       " '3 | 7 | 1': '4.2097%',\n",
       " '3 | 7 | 2': '4.2743%',\n",
       " '3 | 7 | 2 | 4': '1.1151%',\n",
       " '3 | 7 | 4': '5.8757%',\n",
       " '3 | 8 | 9': '2.9605%',\n",
       " '3 | 8 | 0': '3.4000%',\n",
       " '3 | 8 | 1': '3.3749%',\n",
       " '3 | 8 | 2': '2.5331%',\n",
       " '3 | 8 | 4': '4.4094%',\n",
       " '3 | 9 | 0': '2.5816%',\n",
       " '3 | 9 | 1': '2.5427%',\n",
       " '3 | 9 | 2': '2.5525%',\n",
       " '3 | 9 | 4': '4.1357%',\n",
       " '3 | 0 | 1': '2.2424%',\n",
       " '3 | 0 | 2': '2.4395%',\n",
       " '3 | 0 | 4': '3.9774%',\n",
       " '3 | 1 | 2': '2.2114%',\n",
       " '3 | 1 | 4': '3.4196%',\n",
       " '3 | 2 | 4': '3.7067%',\n",
       " '6 | 7 | 8': '6.3952%',\n",
       " '6 | 7 | 8 | 0': '1.6136%',\n",
       " '6 | 7 | 8 | 1': '1.3109%',\n",
       " '6 | 7 | 8 | 2': '1.0120%',\n",
       " '6 | 7 | 8 | 4': '1.5241%',\n",
       " '6 | 7 | 9': '5.1178%',\n",
       " '6 | 7 | 9 | 0': '1.0411%',\n",
       " '6 | 7 | 9 | 1': '1.0897%',\n",
       " '6 | 7 | 9 | 2': '1.0120%',\n",
       " '6 | 7 | 9 | 4': '1.2561%',\n",
       " '6 | 7 | 0': '5.8964%',\n",
       " '6 | 7 | 0 | 2': '1.0587%',\n",
       " '6 | 7 | 0 | 4': '1.4512%',\n",
       " '6 | 7 | 1': '5.3690%',\n",
       " '6 | 7 | 1 | 2': '1.0548%',\n",
       " '6 | 7 | 1 | 4': '1.1181%',\n",
       " '6 | 7 | 2': '5.1138%',\n",
       " '6 | 7 | 2 | 4': '1.1212%',\n",
       " '6 | 7 | 4': '6.7351%',\n",
       " '6 | 8 | 9': '3.7117%',\n",
       " '6 | 8 | 9 | 4': '1.0162%',\n",
       " '6 | 8 | 0': '4.8794%',\n",
       " '6 | 8 | 0 | 4': '1.2030%',\n",
       " '6 | 8 | 1': '4.7054%',\n",
       " '6 | 8 | 1 | 4': '1.5379%',\n",
       " '6 | 8 | 2': '3.5882%',\n",
       " '6 | 8 | 4': '5.9776%',\n",
       " '6 | 9 | 0': '3.9058%',\n",
       " '6 | 9 | 1': '4.0758%',\n",
       " '6 | 9 | 1 | 4': '1.0836%',\n",
       " '6 | 9 | 2': '4.1354%',\n",
       " '6 | 9 | 4': '5.1450%',\n",
       " '6 | 0 | 1': '3.5641%',\n",
       " '6 | 0 | 2': '4.0512%',\n",
       " '6 | 0 | 2 | 4': '1.0784%',\n",
       " '6 | 0 | 4': '5.4256%',\n",
       " '6 | 1 | 2': '3.7541%',\n",
       " '6 | 1 | 4': '5.0853%',\n",
       " '6 | 2 | 4': '4.8809%',\n",
       " '7 | 8 | 9': '3.8213%',\n",
       " '7 | 8 | 9 | 4': '1.0758%',\n",
       " '7 | 8 | 0': '5.6744%',\n",
       " '7 | 8 | 0 | 1': '1.0288%',\n",
       " '7 | 8 | 0 | 2': '1.2524%',\n",
       " '7 | 8 | 0 | 4': '1.1614%',\n",
       " '7 | 8 | 1': '4.8054%',\n",
       " '7 | 8 | 1 | 4': '1.2478%',\n",
       " '7 | 8 | 2': '4.6965%',\n",
       " '7 | 8 | 2 | 4': '1.0649%',\n",
       " '7 | 8 | 4': '5.9813%',\n",
       " '7 | 9 | 0': '3.9211%',\n",
       " '7 | 9 | 0 | 4': '1.2057%',\n",
       " '7 | 9 | 1': '3.9846%',\n",
       " '7 | 9 | 1 | 4': '1.1288%',\n",
       " '7 | 9 | 2': '3.5652%',\n",
       " '7 | 9 | 4': '5.4101%',\n",
       " '7 | 0 | 1': '3.6988%',\n",
       " '7 | 0 | 2': '4.3618%',\n",
       " '7 | 0 | 2 | 4': '1.1231%',\n",
       " '7 | 0 | 4': '5.8740%',\n",
       " '7 | 1 | 2': '3.8606%',\n",
       " '7 | 1 | 4': '4.9608%',\n",
       " '7 | 2 | 4': '4.7713%',\n",
       " '8 | 9 | 0': '2.7440%',\n",
       " '8 | 9 | 1': '2.7935%',\n",
       " '8 | 9 | 1 | 4': '1.0790%',\n",
       " '8 | 9 | 2': '2.2092%',\n",
       " '8 | 9 | 4': '4.1472%',\n",
       " '8 | 0 | 1': '3.3275%',\n",
       " '8 | 0 | 2': '2.9405%',\n",
       " '8 | 0 | 4': '4.2609%',\n",
       " '8 | 1 | 2': '2.8968%',\n",
       " '8 | 1 | 4': '4.9556%',\n",
       " '8 | 2 | 4': '3.5668%',\n",
       " '9 | 0 | 1': '1.8931%',\n",
       " '9 | 0 | 2': '2.1319%',\n",
       " '9 | 0 | 4': '3.4722%',\n",
       " '9 | 1 | 2': '2.3336%',\n",
       " '9 | 1 | 4': '4.0643%',\n",
       " '9 | 2 | 4': '3.4762%',\n",
       " '0 | 1 | 2': '2.0812%',\n",
       " '0 | 1 | 4': '3.5980%',\n",
       " '0 | 2 | 4': '3.4902%',\n",
       " '1 | 2 | 4': '3.8185%'}"
      ]
     },
     "execution_count": 27,
     "metadata": {},
     "output_type": "execute_result"
    }
   ],
   "source": [
    "model.transform()"
   ]
  },
  {
   "cell_type": "code",
   "execution_count": null,
   "metadata": {},
   "outputs": [],
   "source": [
    "# Since Apriori considers support, confidence and lift, unlike eclat which considers only support, it is a better method for Association Learning"
   ]
  }
 ],
 "metadata": {
  "kernelspec": {
   "display_name": "Python 3",
   "language": "python",
   "name": "python3"
  },
  "language_info": {
   "codemirror_mode": {
    "name": "ipython",
    "version": 3
   },
   "file_extension": ".py",
   "mimetype": "text/x-python",
   "name": "python",
   "nbconvert_exporter": "python",
   "pygments_lexer": "ipython3",
   "version": "3.8.3"
  }
 },
 "nbformat": 4,
 "nbformat_minor": 4
}
