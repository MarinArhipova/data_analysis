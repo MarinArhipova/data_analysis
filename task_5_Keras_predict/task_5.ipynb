{
 "cells": [
  {
   "cell_type": "markdown",
   "metadata": {},
   "source": [
    "Основная цель этого исследования - проанализировать и спрогнозировать курс акций компании Amazon. \n",
    "\n",
    "Для нашего исследования мы выбрали 3 разных подхода: статистические методы, прогнозирование временных рядов и нейронные сети. \n",
    "\n",
    "Используются алгоритмы машинного обучения:\n",
    "* Linear Regression\n",
    "* ARIMA\n",
    "* LSTM\n",
    "* Decision Tree Classifier\n",
    "* KNN"
   ]
  },
  {
   "cell_type": "code",
   "execution_count": 1,
   "metadata": {},
   "outputs": [
    {
     "name": "stdout",
     "output_type": "stream",
     "text": [
      "Requirement already satisfied: pandas-datareader in c:\\users\\user\\anaconda3\\lib\\site-packages (0.9.0)\n",
      "Requirement already satisfied: pandas>=0.23 in c:\\users\\user\\anaconda3\\lib\\site-packages (from pandas-datareader) (1.0.5)\n",
      "Requirement already satisfied: requests>=2.19.0 in c:\\users\\user\\anaconda3\\lib\\site-packages (from pandas-datareader) (2.24.0)\n",
      "Requirement already satisfied: lxml in c:\\users\\user\\anaconda3\\lib\\site-packages (from pandas-datareader) (4.5.2)\n",
      "Requirement already satisfied: pytz>=2017.2 in c:\\users\\user\\anaconda3\\lib\\site-packages (from pandas>=0.23->pandas-datareader) (2020.1)\n",
      "Requirement already satisfied: numpy>=1.13.3 in c:\\users\\user\\anaconda3\\lib\\site-packages (from pandas>=0.23->pandas-datareader) (1.18.5)\n",
      "Requirement already satisfied: python-dateutil>=2.6.1 in c:\\users\\user\\anaconda3\\lib\\site-packages (from pandas>=0.23->pandas-datareader) (2.8.1)\n",
      "Requirement already satisfied: idna<3,>=2.5 in c:\\users\\user\\anaconda3\\lib\\site-packages (from requests>=2.19.0->pandas-datareader) (2.10)\n",
      "Requirement already satisfied: urllib3!=1.25.0,!=1.25.1,<1.26,>=1.21.1 in c:\\users\\user\\anaconda3\\lib\\site-packages (from requests>=2.19.0->pandas-datareader) (1.25.9)\n",
      "Requirement already satisfied: certifi>=2017.4.17 in c:\\users\\user\\anaconda3\\lib\\site-packages (from requests>=2.19.0->pandas-datareader) (2020.6.20)\n",
      "Requirement already satisfied: chardet<4,>=3.0.2 in c:\\users\\user\\anaconda3\\lib\\site-packages (from requests>=2.19.0->pandas-datareader) (3.0.4)\n",
      "Requirement already satisfied: six>=1.5 in c:\\users\\user\\anaconda3\\lib\\site-packages (from python-dateutil>=2.6.1->pandas>=0.23->pandas-datareader) (1.15.0)\n",
      "Note: you may need to restart the kernel to use updated packages.\n"
     ]
    }
   ],
   "source": [
    "pip install pandas-datareader"
   ]
  },
  {
   "cell_type": "code",
   "execution_count": 2,
   "metadata": {},
   "outputs": [],
   "source": [
    "import math\n",
    "import pandas_datareader as web\n",
    "import numpy as np\n",
    "import pandas as pd\n",
    "import datetime\n",
    "\n",
    "%matplotlib inline\n",
    "import matplotlib.pyplot as plt\n",
    "import seaborn as sns\n",
    "plt.style.use('seaborn-darkgrid')\n",
    "plt.rc('figure', figsize=(16,10))\n",
    "plt.rc('lines', markersize=4)"
   ]
  },
  {
   "cell_type": "code",
   "execution_count": 3,
   "metadata": {},
   "outputs": [],
   "source": [
    "# https://finance.yahoo.com/quote/AMZN/history/ - скачать можно тут (период: декабрь 2019 - декабрь 2020)"
   ]
  },
  {
   "cell_type": "code",
   "execution_count": 4,
   "metadata": {},
   "outputs": [
    {
     "data": {
      "text/html": [
       "<div>\n",
       "<style scoped>\n",
       "    .dataframe tbody tr th:only-of-type {\n",
       "        vertical-align: middle;\n",
       "    }\n",
       "\n",
       "    .dataframe tbody tr th {\n",
       "        vertical-align: top;\n",
       "    }\n",
       "\n",
       "    .dataframe thead th {\n",
       "        text-align: right;\n",
       "    }\n",
       "</style>\n",
       "<table border=\"1\" class=\"dataframe\">\n",
       "  <thead>\n",
       "    <tr style=\"text-align: right;\">\n",
       "      <th></th>\n",
       "      <th>Date</th>\n",
       "      <th>Open</th>\n",
       "      <th>High</th>\n",
       "      <th>Low</th>\n",
       "      <th>Close</th>\n",
       "      <th>Adj Close</th>\n",
       "      <th>Volume</th>\n",
       "    </tr>\n",
       "  </thead>\n",
       "  <tbody>\n",
       "    <tr>\n",
       "      <th>0</th>\n",
       "      <td>2019-12-13</td>\n",
       "      <td>67.864998</td>\n",
       "      <td>68.824997</td>\n",
       "      <td>67.732498</td>\n",
       "      <td>68.787498</td>\n",
       "      <td>67.644707</td>\n",
       "      <td>133587600</td>\n",
       "    </tr>\n",
       "    <tr>\n",
       "      <th>1</th>\n",
       "      <td>2019-12-16</td>\n",
       "      <td>69.250000</td>\n",
       "      <td>70.197502</td>\n",
       "      <td>69.245003</td>\n",
       "      <td>69.964996</td>\n",
       "      <td>68.802635</td>\n",
       "      <td>128186000</td>\n",
       "    </tr>\n",
       "    <tr>\n",
       "      <th>2</th>\n",
       "      <td>2019-12-17</td>\n",
       "      <td>69.892502</td>\n",
       "      <td>70.442497</td>\n",
       "      <td>69.699997</td>\n",
       "      <td>70.102501</td>\n",
       "      <td>68.937851</td>\n",
       "      <td>114158400</td>\n",
       "    </tr>\n",
       "    <tr>\n",
       "      <th>3</th>\n",
       "      <td>2019-12-18</td>\n",
       "      <td>69.949997</td>\n",
       "      <td>70.474998</td>\n",
       "      <td>69.779999</td>\n",
       "      <td>69.934998</td>\n",
       "      <td>68.773132</td>\n",
       "      <td>116028400</td>\n",
       "    </tr>\n",
       "    <tr>\n",
       "      <th>4</th>\n",
       "      <td>2019-12-19</td>\n",
       "      <td>69.875000</td>\n",
       "      <td>70.294998</td>\n",
       "      <td>69.737503</td>\n",
       "      <td>70.004997</td>\n",
       "      <td>68.841965</td>\n",
       "      <td>98369200</td>\n",
       "    </tr>\n",
       "    <tr>\n",
       "      <th>...</th>\n",
       "      <td>...</td>\n",
       "      <td>...</td>\n",
       "      <td>...</td>\n",
       "      <td>...</td>\n",
       "      <td>...</td>\n",
       "      <td>...</td>\n",
       "      <td>...</td>\n",
       "    </tr>\n",
       "    <tr>\n",
       "      <th>247</th>\n",
       "      <td>2020-12-07</td>\n",
       "      <td>122.309998</td>\n",
       "      <td>124.570000</td>\n",
       "      <td>122.250000</td>\n",
       "      <td>123.750000</td>\n",
       "      <td>123.750000</td>\n",
       "      <td>86712000</td>\n",
       "    </tr>\n",
       "    <tr>\n",
       "      <th>248</th>\n",
       "      <td>2020-12-08</td>\n",
       "      <td>124.370003</td>\n",
       "      <td>124.980003</td>\n",
       "      <td>123.089996</td>\n",
       "      <td>124.379997</td>\n",
       "      <td>124.379997</td>\n",
       "      <td>82225500</td>\n",
       "    </tr>\n",
       "    <tr>\n",
       "      <th>249</th>\n",
       "      <td>2020-12-09</td>\n",
       "      <td>124.529999</td>\n",
       "      <td>125.949997</td>\n",
       "      <td>121.000000</td>\n",
       "      <td>121.779999</td>\n",
       "      <td>121.779999</td>\n",
       "      <td>115089200</td>\n",
       "    </tr>\n",
       "    <tr>\n",
       "      <th>250</th>\n",
       "      <td>2020-12-10</td>\n",
       "      <td>120.500000</td>\n",
       "      <td>123.870003</td>\n",
       "      <td>120.150002</td>\n",
       "      <td>123.239998</td>\n",
       "      <td>123.239998</td>\n",
       "      <td>81312200</td>\n",
       "    </tr>\n",
       "    <tr>\n",
       "      <th>251</th>\n",
       "      <td>2020-12-11</td>\n",
       "      <td>122.430000</td>\n",
       "      <td>122.760002</td>\n",
       "      <td>120.550003</td>\n",
       "      <td>122.410004</td>\n",
       "      <td>122.410004</td>\n",
       "      <td>86860000</td>\n",
       "    </tr>\n",
       "  </tbody>\n",
       "</table>\n",
       "<p>252 rows × 7 columns</p>\n",
       "</div>"
      ],
      "text/plain": [
       "           Date        Open        High         Low       Close   Adj Close  \\\n",
       "0    2019-12-13   67.864998   68.824997   67.732498   68.787498   67.644707   \n",
       "1    2019-12-16   69.250000   70.197502   69.245003   69.964996   68.802635   \n",
       "2    2019-12-17   69.892502   70.442497   69.699997   70.102501   68.937851   \n",
       "3    2019-12-18   69.949997   70.474998   69.779999   69.934998   68.773132   \n",
       "4    2019-12-19   69.875000   70.294998   69.737503   70.004997   68.841965   \n",
       "..          ...         ...         ...         ...         ...         ...   \n",
       "247  2020-12-07  122.309998  124.570000  122.250000  123.750000  123.750000   \n",
       "248  2020-12-08  124.370003  124.980003  123.089996  124.379997  124.379997   \n",
       "249  2020-12-09  124.529999  125.949997  121.000000  121.779999  121.779999   \n",
       "250  2020-12-10  120.500000  123.870003  120.150002  123.239998  123.239998   \n",
       "251  2020-12-11  122.430000  122.760002  120.550003  122.410004  122.410004   \n",
       "\n",
       "        Volume  \n",
       "0    133587600  \n",
       "1    128186000  \n",
       "2    114158400  \n",
       "3    116028400  \n",
       "4     98369200  \n",
       "..         ...  \n",
       "247   86712000  \n",
       "248   82225500  \n",
       "249  115089200  \n",
       "250   81312200  \n",
       "251   86860000  \n",
       "\n",
       "[252 rows x 7 columns]"
      ]
     },
     "execution_count": 4,
     "metadata": {},
     "output_type": "execute_result"
    }
   ],
   "source": [
    "#Get the stock quote\n",
    "data = pd.read_csv('AMZN.csv')\n",
    "#Show teh data\n",
    "data"
   ]
  },
  {
   "cell_type": "code",
   "execution_count": 5,
   "metadata": {},
   "outputs": [],
   "source": [
    "# Create a new DataFrame with only closing price and date\n",
    "df = pd.DataFrame(data, columns=['Adj Close'])\n",
    "\n",
    "# Reset index column so that we have integers to represent time for later analysis\n",
    "df = df.reset_index()"
   ]
  },
  {
   "cell_type": "code",
   "execution_count": 6,
   "metadata": {},
   "outputs": [
    {
     "data": {
      "text/html": [
       "<div>\n",
       "<style scoped>\n",
       "    .dataframe tbody tr th:only-of-type {\n",
       "        vertical-align: middle;\n",
       "    }\n",
       "\n",
       "    .dataframe tbody tr th {\n",
       "        vertical-align: top;\n",
       "    }\n",
       "\n",
       "    .dataframe thead th {\n",
       "        text-align: right;\n",
       "    }\n",
       "</style>\n",
       "<table border=\"1\" class=\"dataframe\">\n",
       "  <thead>\n",
       "    <tr style=\"text-align: right;\">\n",
       "      <th></th>\n",
       "      <th>index</th>\n",
       "      <th>Adj Close</th>\n",
       "    </tr>\n",
       "  </thead>\n",
       "  <tbody>\n",
       "    <tr>\n",
       "      <th>0</th>\n",
       "      <td>0</td>\n",
       "      <td>67.644707</td>\n",
       "    </tr>\n",
       "    <tr>\n",
       "      <th>1</th>\n",
       "      <td>1</td>\n",
       "      <td>68.802635</td>\n",
       "    </tr>\n",
       "    <tr>\n",
       "      <th>2</th>\n",
       "      <td>2</td>\n",
       "      <td>68.937851</td>\n",
       "    </tr>\n",
       "    <tr>\n",
       "      <th>3</th>\n",
       "      <td>3</td>\n",
       "      <td>68.773132</td>\n",
       "    </tr>\n",
       "    <tr>\n",
       "      <th>4</th>\n",
       "      <td>4</td>\n",
       "      <td>68.841965</td>\n",
       "    </tr>\n",
       "  </tbody>\n",
       "</table>\n",
       "</div>"
      ],
      "text/plain": [
       "   index  Adj Close\n",
       "0      0  67.644707\n",
       "1      1  68.802635\n",
       "2      2  68.937851\n",
       "3      3  68.773132\n",
       "4      4  68.841965"
      ]
     },
     "execution_count": 6,
     "metadata": {},
     "output_type": "execute_result"
    }
   ],
   "source": [
    "df.head()"
   ]
  },
  {
   "cell_type": "code",
   "execution_count": 7,
   "metadata": {},
   "outputs": [
    {
     "data": {
      "text/plain": [
       "False"
      ]
     },
     "execution_count": 7,
     "metadata": {},
     "output_type": "execute_result"
    }
   ],
   "source": [
    "# Check for missing values in the columns\n",
    "df.isna().values.any()"
   ]
  },
  {
   "cell_type": "code",
   "execution_count": 8,
   "metadata": {},
   "outputs": [],
   "source": [
    "# Import package for splitting data set\n",
    "from sklearn.model_selection import train_test_split\n",
    "# Split data into train and test set: 80% / 20%\n",
    "train, test = train_test_split(df, test_size=0.20)"
   ]
  },
  {
   "cell_type": "markdown",
   "metadata": {},
   "source": [
    "# LinearRegression"
   ]
  },
  {
   "cell_type": "code",
   "execution_count": 9,
   "metadata": {},
   "outputs": [],
   "source": [
    "# Регрессия ищет отношения между переменными, то есть вам нужно найти функцию, \n",
    "# которая отображает зависимость одних переменных или данных от других.\n",
    "\n",
    "# В данном случае рассматривается зависимость price от time"
   ]
  },
  {
   "cell_type": "code",
   "execution_count": 10,
   "metadata": {},
   "outputs": [],
   "source": [
    "# Import package for linear model\n",
    "from sklearn.linear_model import LinearRegression"
   ]
  },
  {
   "cell_type": "code",
   "execution_count": 11,
   "metadata": {},
   "outputs": [],
   "source": [
    "# Reshape index column to 2D array for .fit() method\n",
    "X_train = np.array(train.index).reshape(-1, 1)\n",
    "y_train = train['Adj Close']"
   ]
  },
  {
   "cell_type": "code",
   "execution_count": 12,
   "metadata": {},
   "outputs": [
    {
     "data": {
      "text/plain": [
       "LinearRegression()"
      ]
     },
     "execution_count": 12,
     "metadata": {},
     "output_type": "execute_result"
    }
   ],
   "source": [
    "# Create LinearRegression Object\n",
    "model = LinearRegression()\n",
    "# Fit linear model using the train data set\n",
    "model.fit(X_train, y_train)"
   ]
  },
  {
   "cell_type": "code",
   "execution_count": 13,
   "metadata": {},
   "outputs": [
    {
     "data": {
      "text/plain": [
       "LinearRegression()"
      ]
     },
     "execution_count": 13,
     "metadata": {},
     "output_type": "execute_result"
    }
   ],
   "source": [
    "model = LinearRegression()\n",
    "# Fit linear model using the train data set\n",
    "model.fit(X_train, y_train)"
   ]
  },
  {
   "cell_type": "code",
   "execution_count": 14,
   "metadata": {},
   "outputs": [
    {
     "data": {
      "image/png": "[encoded data removed]",
      "text/plain": [
       "<Figure size 1152x720 with 1 Axes>"
      ]
     },
     "metadata": {},
     "output_type": "display_data"
    }
   ],
   "source": [
    "# Train set graph\n",
    "plt.figure(1, figsize=(16,10))\n",
    "plt.title('Linear Regression | Price vs Time')\n",
    "plt.scatter(X_train, y_train, edgecolor='w', label='Actual Price')\n",
    "plt.plot(X_train, model.predict(X_train), color='r', label='Predicted Price')\n",
    "plt.xlabel('Integer Date')\n",
    "plt.ylabel('Stock Price')\n",
    "plt.legend()\n",
    "plt.show()"
   ]
  },
  {
   "cell_type": "code",
   "execution_count": 15,
   "metadata": {},
   "outputs": [],
   "source": [
    "X_test = np.array(test.index).reshape(-1, 1)\n",
    "y_test = test['Adj Close']"
   ]
  },
  {
   "cell_type": "code",
   "execution_count": 16,
   "metadata": {},
   "outputs": [],
   "source": [
    "# Generate array with predicted values\n",
    "y_pred = model.predict(X_test)\n",
    "df['Prediction'] = model.predict(np.array(df.index).reshape(-1, 1))"
   ]
  },
  {
   "cell_type": "code",
   "execution_count": 17,
   "metadata": {},
   "outputs": [
    {
     "data": {
      "text/html": [
       "<div>\n",
       "<style scoped>\n",
       "    .dataframe tbody tr th:only-of-type {\n",
       "        vertical-align: middle;\n",
       "    }\n",
       "\n",
       "    .dataframe tbody tr th {\n",
       "        vertical-align: top;\n",
       "    }\n",
       "\n",
       "    .dataframe thead th {\n",
       "        text-align: right;\n",
       "    }\n",
       "</style>\n",
       "<table border=\"1\" class=\"dataframe\">\n",
       "  <thead>\n",
       "    <tr style=\"text-align: right;\">\n",
       "      <th></th>\n",
       "      <th>index</th>\n",
       "      <th>Adj Close</th>\n",
       "      <th>Prediction</th>\n",
       "    </tr>\n",
       "  </thead>\n",
       "  <tbody>\n",
       "    <tr>\n",
       "      <th>0</th>\n",
       "      <td>0</td>\n",
       "      <td>67.644707</td>\n",
       "      <td>59.407554</td>\n",
       "    </tr>\n",
       "    <tr>\n",
       "      <th>1</th>\n",
       "      <td>1</td>\n",
       "      <td>68.802635</td>\n",
       "      <td>59.667324</td>\n",
       "    </tr>\n",
       "    <tr>\n",
       "      <th>2</th>\n",
       "      <td>2</td>\n",
       "      <td>68.937851</td>\n",
       "      <td>59.927095</td>\n",
       "    </tr>\n",
       "    <tr>\n",
       "      <th>3</th>\n",
       "      <td>3</td>\n",
       "      <td>68.773132</td>\n",
       "      <td>60.186866</td>\n",
       "    </tr>\n",
       "    <tr>\n",
       "      <th>4</th>\n",
       "      <td>4</td>\n",
       "      <td>68.841965</td>\n",
       "      <td>60.446637</td>\n",
       "    </tr>\n",
       "  </tbody>\n",
       "</table>\n",
       "</div>"
      ],
      "text/plain": [
       "   index  Adj Close  Prediction\n",
       "0      0  67.644707   59.407554\n",
       "1      1  68.802635   59.667324\n",
       "2      2  68.937851   59.927095\n",
       "3      3  68.773132   60.186866\n",
       "4      4  68.841965   60.446637"
      ]
     },
     "execution_count": 17,
     "metadata": {},
     "output_type": "execute_result"
    }
   ],
   "source": [
    "df.head()"
   ]
  },
  {
   "cell_type": "code",
   "execution_count": 18,
   "metadata": {},
   "outputs": [],
   "source": [
    "# Generate 25 random numbers\n",
    "randints = np.random.randint(252, size=25)\n",
    "\n",
    "# Select row numbers == random numbers\n",
    "df_sample = df[df.index.isin(randints)]"
   ]
  },
  {
   "cell_type": "code",
   "execution_count": 19,
   "metadata": {},
   "outputs": [
    {
     "data": {
      "text/html": [
       "<div>\n",
       "<style scoped>\n",
       "    .dataframe tbody tr th:only-of-type {\n",
       "        vertical-align: middle;\n",
       "    }\n",
       "\n",
       "    .dataframe tbody tr th {\n",
       "        vertical-align: top;\n",
       "    }\n",
       "\n",
       "    .dataframe thead th {\n",
       "        text-align: right;\n",
       "    }\n",
       "</style>\n",
       "<table border=\"1\" class=\"dataframe\">\n",
       "  <thead>\n",
       "    <tr style=\"text-align: right;\">\n",
       "      <th></th>\n",
       "      <th>index</th>\n",
       "      <th>Adj Close</th>\n",
       "      <th>Prediction</th>\n",
       "    </tr>\n",
       "  </thead>\n",
       "  <tbody>\n",
       "    <tr>\n",
       "      <th>9</th>\n",
       "      <td>9</td>\n",
       "      <td>71.246353</td>\n",
       "      <td>61.745491</td>\n",
       "    </tr>\n",
       "    <tr>\n",
       "      <th>13</th>\n",
       "      <td>13</td>\n",
       "      <td>73.122154</td>\n",
       "      <td>62.784575</td>\n",
       "    </tr>\n",
       "    <tr>\n",
       "      <th>31</th>\n",
       "      <td>31</td>\n",
       "      <td>79.622337</td>\n",
       "      <td>67.460451</td>\n",
       "    </tr>\n",
       "    <tr>\n",
       "      <th>44</th>\n",
       "      <td>44</td>\n",
       "      <td>79.749702</td>\n",
       "      <td>70.837472</td>\n",
       "    </tr>\n",
       "    <tr>\n",
       "      <th>53</th>\n",
       "      <td>53</td>\n",
       "      <td>71.297157</td>\n",
       "      <td>73.175410</td>\n",
       "    </tr>\n",
       "  </tbody>\n",
       "</table>\n",
       "</div>"
      ],
      "text/plain": [
       "    index  Adj Close  Prediction\n",
       "9       9  71.246353   61.745491\n",
       "13     13  73.122154   62.784575\n",
       "31     31  79.622337   67.460451\n",
       "44     44  79.749702   70.837472\n",
       "53     53  71.297157   73.175410"
      ]
     },
     "execution_count": 19,
     "metadata": {},
     "output_type": "execute_result"
    }
   ],
   "source": [
    "df_sample.head()"
   ]
  },
  {
   "cell_type": "code",
   "execution_count": 20,
   "metadata": {},
   "outputs": [
    {
     "data": {
      "image/png": "[encoded data removed]",
      "text/plain": [
       "<Figure size 1152x720 with 1 Axes>"
      ]
     },
     "metadata": {},
     "output_type": "display_data"
    }
   ],
   "source": [
    "# Plot fitted line, y test\n",
    "plt.figure(1, figsize=(16,10))\n",
    "plt.title('Linear Regression | Price vs Time')\n",
    "plt.plot(X_test, model.predict(X_test), color='r', label='Predicted Price')\n",
    "plt.scatter(X_test, y_test, edgecolor='w', label='Actual Price')\n",
    "\n",
    "plt.xlabel('Integer Date')\n",
    "plt.ylabel('Stock Price in $')\n",
    "\n",
    "plt.show()"
   ]
  },
  {
   "cell_type": "code",
   "execution_count": 21,
   "metadata": {},
   "outputs": [],
   "source": [
    "# Import metrics package from sklearn for statistical analysis\n",
    "from sklearn import metrics"
   ]
  },
  {
   "cell_type": "code",
   "execution_count": 22,
   "metadata": {},
   "outputs": [
    {
     "name": "stdout",
     "output_type": "stream",
     "text": [
      "Mean Absolute Error: 6.60909168419968\n",
      "Mean Squared Error: 72.99662826751029\n",
      "Mean Absolute Percentage Error: 8.37745119985399\n",
      "Root Mean Squared Error: 8.543806427319751\n"
     ]
    }
   ],
   "source": [
    "# Calculate and print values of MAE, MSE, RMSE\n",
    "print('Mean Absolute Error:', metrics.mean_absolute_error(y_test, y_pred))  \n",
    "print('Mean Squared Error:', metrics.mean_squared_error(y_test, y_pred)) \n",
    "print('Mean Absolute Percentage Error:', np.mean(np.abs((y_test - y_pred) / y_test)*100)) \n",
    "print('Root Mean Squared Error:', np.sqrt(metrics.mean_squared_error(y_test, y_pred)))"
   ]
  },
  {
   "cell_type": "code",
   "execution_count": 23,
   "metadata": {},
   "outputs": [
    {
     "name": "stdout",
     "output_type": "stream",
     "text": [
      "R2:  0.7853595033369435\n"
     ]
    }
   ],
   "source": [
    "print('R2: ', metrics.r2_score(y_test, y_pred))"
   ]
  },
  {
   "cell_type": "markdown",
   "metadata": {},
   "source": [
    "# ARIMA"
   ]
  },
  {
   "cell_type": "markdown",
   "metadata": {},
   "source": [
    "Временные ряды позволяют прогнозировать значения. На основании предыдущих значений временных рядов можно спрогнозировать тенденции в экономике и погоде или спланировать пропускную способность. Ввиду особенных свойств данных временных рядов для работы с ними применяются специализированные статистические методы и подходы.\n",
    "\n",
    "\n",
    "ARIMA - очень популярный статистический метод для прогнозирования временных рядов. ARIMA - это сокращение \"Auto-Regressive Integrated Moving Averages\". Модели ARIMA работают на следующих предположениях:\n",
    "\n",
    "1. Ряд данных является стационарным, что означает, что среднее значение и дисперсия не должны изменяться со временем. Ряд может быть сделан стационарным взятием разностей некоторого порядка от исходного временного ряда.\n",
    "2. Данные, предоставляемые в качестве входных данных, должны быть одномерной последовательностью, поскольку arima использует прошлые значения для прогнозирования будущих значений.\n",
    "\n",
    "ARIMA состоит из трех компонентов - AR (авторегрессия), I (разность) и MA (скользящая средняя). Давайте разберемся с каждым из этих компонентов:\n",
    "\n",
    "1. Термин AR относится к прошлым значениям, используемым для прогнозирования следующего значения. Термин AR определяется параметром «p» в arima. Значение «p» определяется с использованием графика ACF.\n",
    "2. Термин MA используется для определения количества прошлых ошибок прогноза, используемых для прогнозирования будущих значений. Параметр «q» в ариме представляет собой МА. График PACF используется для определения правильного значения q.\n",
    "3. Порядок взятия разностей определяет, сколько раз операция взятия разностей выполняется на ряде, чтобы сделать его стационарным. Такие тесты, как ADF и KPSS, могут использоваться для определения того, является ли ряд стационарным, и помогают определить значение d.\n",
    "\n",
    "\n",
    "#### Пошаговая реализация ARIMA \n",
    "1. Загрузка данных: первый шаг для построения модели - это, конечно, загрузка набора данных\n",
    "2. Предварительная обработка: в зависимости от набора данных будут определены этапы предварительной обработки. Они могут включать создание временных отметок, преобразование dtype столбца даты/времени, превращение ряда в одномерный и т. д.\n",
    "3. Преобразование ряда в стационарный. Чтобы удовлетворить требованиям алгоритма, необходимо сделать ряд стационарным. Этот этап будет включать проверку стационарности ряда и выполнение необходимых преобразований.\n",
    "4. Определение значения d: для того, чтобы сделать ряд стационарным, количество выполнений операций взятия разности будет приниматься как значение d.\n",
    "5. Создание графиков ACF и PACF: это самый важный шаг в реализации ARIMA. Графики ACF и PACF используются для определения входных параметров для нашей модели ARIMA.\n",
    "6. Определение значений p и q: считайте значения p и q с графиков из предыдущего шага.\n",
    "7. Подгонка модели ARIMA: используя обработанные данные и значения параметров, которые мы рассчитали из предыдущих шагов, подгоняем модель ARIMA.\n",
    "8. Прогнозирование значений на проверочном наборе данных: прогнозируем будущие значения.\n",
    "9. Расчет среднеквадратичной ошибки: для проверки эффективности модели проверьте значение среднеквадратичной ошибки модели, используя прогнозные и фактические значения в проверочном наборе данных."
   ]
  },
  {
   "cell_type": "code",
   "execution_count": 24,
   "metadata": {},
   "outputs": [],
   "source": [
    "#Import the libraries\n",
    "from sklearn.preprocessing import MinMaxScaler\n",
    "from keras.models import Sequential\n",
    "from keras.layers import Dense, LSTM\n",
    "import matplotlib.pyplot as plt\n",
    "plt.style.use('fivethirtyeight')\n",
    "from matplotlib.pylab import rcParams\n",
    "rcParams['figure.figsize'] = 10,6"
   ]
  },
  {
   "cell_type": "code",
   "execution_count": 25,
   "metadata": {},
   "outputs": [
    {
     "data": {
      "text/html": [
       "<div>\n",
       "<style scoped>\n",
       "    .dataframe tbody tr th:only-of-type {\n",
       "        vertical-align: middle;\n",
       "    }\n",
       "\n",
       "    .dataframe tbody tr th {\n",
       "        vertical-align: top;\n",
       "    }\n",
       "\n",
       "    .dataframe thead th {\n",
       "        text-align: right;\n",
       "    }\n",
       "</style>\n",
       "<table border=\"1\" class=\"dataframe\">\n",
       "  <thead>\n",
       "    <tr style=\"text-align: right;\">\n",
       "      <th></th>\n",
       "      <th>Date</th>\n",
       "      <th>Open</th>\n",
       "      <th>High</th>\n",
       "      <th>Low</th>\n",
       "      <th>Close</th>\n",
       "      <th>Adj Close</th>\n",
       "      <th>Volume</th>\n",
       "    </tr>\n",
       "  </thead>\n",
       "  <tbody>\n",
       "    <tr>\n",
       "      <th>0</th>\n",
       "      <td>2019-12-13</td>\n",
       "      <td>67.864998</td>\n",
       "      <td>68.824997</td>\n",
       "      <td>67.732498</td>\n",
       "      <td>68.787498</td>\n",
       "      <td>67.644707</td>\n",
       "      <td>133587600</td>\n",
       "    </tr>\n",
       "    <tr>\n",
       "      <th>1</th>\n",
       "      <td>2019-12-16</td>\n",
       "      <td>69.250000</td>\n",
       "      <td>70.197502</td>\n",
       "      <td>69.245003</td>\n",
       "      <td>69.964996</td>\n",
       "      <td>68.802635</td>\n",
       "      <td>128186000</td>\n",
       "    </tr>\n",
       "    <tr>\n",
       "      <th>2</th>\n",
       "      <td>2019-12-17</td>\n",
       "      <td>69.892502</td>\n",
       "      <td>70.442497</td>\n",
       "      <td>69.699997</td>\n",
       "      <td>70.102501</td>\n",
       "      <td>68.937851</td>\n",
       "      <td>114158400</td>\n",
       "    </tr>\n",
       "    <tr>\n",
       "      <th>3</th>\n",
       "      <td>2019-12-18</td>\n",
       "      <td>69.949997</td>\n",
       "      <td>70.474998</td>\n",
       "      <td>69.779999</td>\n",
       "      <td>69.934998</td>\n",
       "      <td>68.773132</td>\n",
       "      <td>116028400</td>\n",
       "    </tr>\n",
       "    <tr>\n",
       "      <th>4</th>\n",
       "      <td>2019-12-19</td>\n",
       "      <td>69.875000</td>\n",
       "      <td>70.294998</td>\n",
       "      <td>69.737503</td>\n",
       "      <td>70.004997</td>\n",
       "      <td>68.841965</td>\n",
       "      <td>98369200</td>\n",
       "    </tr>\n",
       "    <tr>\n",
       "      <th>...</th>\n",
       "      <td>...</td>\n",
       "      <td>...</td>\n",
       "      <td>...</td>\n",
       "      <td>...</td>\n",
       "      <td>...</td>\n",
       "      <td>...</td>\n",
       "      <td>...</td>\n",
       "    </tr>\n",
       "    <tr>\n",
       "      <th>247</th>\n",
       "      <td>2020-12-07</td>\n",
       "      <td>122.309998</td>\n",
       "      <td>124.570000</td>\n",
       "      <td>122.250000</td>\n",
       "      <td>123.750000</td>\n",
       "      <td>123.750000</td>\n",
       "      <td>86712000</td>\n",
       "    </tr>\n",
       "    <tr>\n",
       "      <th>248</th>\n",
       "      <td>2020-12-08</td>\n",
       "      <td>124.370003</td>\n",
       "      <td>124.980003</td>\n",
       "      <td>123.089996</td>\n",
       "      <td>124.379997</td>\n",
       "      <td>124.379997</td>\n",
       "      <td>82225500</td>\n",
       "    </tr>\n",
       "    <tr>\n",
       "      <th>249</th>\n",
       "      <td>2020-12-09</td>\n",
       "      <td>124.529999</td>\n",
       "      <td>125.949997</td>\n",
       "      <td>121.000000</td>\n",
       "      <td>121.779999</td>\n",
       "      <td>121.779999</td>\n",
       "      <td>115089200</td>\n",
       "    </tr>\n",
       "    <tr>\n",
       "      <th>250</th>\n",
       "      <td>2020-12-10</td>\n",
       "      <td>120.500000</td>\n",
       "      <td>123.870003</td>\n",
       "      <td>120.150002</td>\n",
       "      <td>123.239998</td>\n",
       "      <td>123.239998</td>\n",
       "      <td>81312200</td>\n",
       "    </tr>\n",
       "    <tr>\n",
       "      <th>251</th>\n",
       "      <td>2020-12-11</td>\n",
       "      <td>122.430000</td>\n",
       "      <td>122.760002</td>\n",
       "      <td>120.550003</td>\n",
       "      <td>122.410004</td>\n",
       "      <td>122.410004</td>\n",
       "      <td>86860000</td>\n",
       "    </tr>\n",
       "  </tbody>\n",
       "</table>\n",
       "<p>252 rows × 7 columns</p>\n",
       "</div>"
      ],
      "text/plain": [
       "           Date        Open        High         Low       Close   Adj Close  \\\n",
       "0    2019-12-13   67.864998   68.824997   67.732498   68.787498   67.644707   \n",
       "1    2019-12-16   69.250000   70.197502   69.245003   69.964996   68.802635   \n",
       "2    2019-12-17   69.892502   70.442497   69.699997   70.102501   68.937851   \n",
       "3    2019-12-18   69.949997   70.474998   69.779999   69.934998   68.773132   \n",
       "4    2019-12-19   69.875000   70.294998   69.737503   70.004997   68.841965   \n",
       "..          ...         ...         ...         ...         ...         ...   \n",
       "247  2020-12-07  122.309998  124.570000  122.250000  123.750000  123.750000   \n",
       "248  2020-12-08  124.370003  124.980003  123.089996  124.379997  124.379997   \n",
       "249  2020-12-09  124.529999  125.949997  121.000000  121.779999  121.779999   \n",
       "250  2020-12-10  120.500000  123.870003  120.150002  123.239998  123.239998   \n",
       "251  2020-12-11  122.430000  122.760002  120.550003  122.410004  122.410004   \n",
       "\n",
       "        Volume  \n",
       "0    133587600  \n",
       "1    128186000  \n",
       "2    114158400  \n",
       "3    116028400  \n",
       "4     98369200  \n",
       "..         ...  \n",
       "247   86712000  \n",
       "248   82225500  \n",
       "249  115089200  \n",
       "250   81312200  \n",
       "251   86860000  \n",
       "\n",
       "[252 rows x 7 columns]"
      ]
     },
     "execution_count": 25,
     "metadata": {},
     "output_type": "execute_result"
    }
   ],
   "source": [
    "#Get the stock quote\n",
    "df = pd.read_csv('AMZN.csv')\n",
    "#Show teh data\n",
    "df"
   ]
  },
  {
   "cell_type": "code",
   "execution_count": 26,
   "metadata": {},
   "outputs": [
    {
     "data": {
      "text/plain": [
       "0       67.644707\n",
       "1       68.802635\n",
       "2       68.937851\n",
       "3       68.773132\n",
       "4       68.841965\n",
       "          ...    \n",
       "247    123.750000\n",
       "248    124.379997\n",
       "249    121.779999\n",
       "250    123.239998\n",
       "251    122.410004\n",
       "Name: Adj Close, Length: 252, dtype: float64"
      ]
     },
     "execution_count": 26,
     "metadata": {},
     "output_type": "execute_result"
    }
   ],
   "source": [
    "df1 = df['Adj Close']\n",
    "df1"
   ]
  },
  {
   "cell_type": "code",
   "execution_count": 27,
   "metadata": {},
   "outputs": [
    {
     "name": "stdout",
     "output_type": "stream",
     "text": [
      "Results of Dickey-Fuller Test:\n",
      "Test Statistic                  -0.507947\n",
      "p-value                          0.890456\n",
      "#Lags Used                       1.000000\n",
      "Number of Observations Used    250.000000\n",
      "Critical Value (1%)             -3.456781\n",
      "Critical Value (5%)             -2.873172\n",
      "Critical Value (10%)            -2.572969\n",
      "dtype: float64\n"
     ]
    }
   ],
   "source": [
    "from statsmodels.tsa.stattools import adfuller\n",
    "#Perform Dickey-Fuller test:\n",
    "print('Results of Dickey-Fuller Test:')\n",
    "dftest = adfuller(df1, autolag='AIC')\n",
    "dfoutput = pd.Series(dftest[0:4], index=['Test Statistic','p-value','#Lags Used','Number of Observations Used'])\n",
    "for key,value in dftest[4].items():\n",
    "  dfoutput['Critical Value (%s)'%key] = value\n",
    "print(dfoutput)"
   ]
  },
  {
   "cell_type": "code",
   "execution_count": 28,
   "metadata": {},
   "outputs": [
    {
     "name": "stderr",
     "output_type": "stream",
     "text": [
      "No handles with labels found to put in legend.\n"
     ]
    },
    {
     "data": {
      "text/plain": [
       "<function matplotlib.pyplot.show(*args, **kw)>"
      ]
     },
     "execution_count": 28,
     "metadata": {},
     "output_type": "execute_result"
    },
    {
     "data": {
      "image/png": "[encoded data removed]",
      "text/plain": [
       "<Figure size 864x504 with 1 Axes>"
      ]
     },
     "metadata": {},
     "output_type": "display_data"
    }
   ],
   "source": [
    "plt.figure(figsize=(12,7))\n",
    "plt.title('Amazon Stock Prices')\n",
    "plt.xlabel('Dates')\n",
    "plt.ylabel('Adjusted Close Prices')\n",
    "plt.legend()\n",
    "plt.plot(df1)\n",
    "plt.show"
   ]
  },
  {
   "cell_type": "code",
   "execution_count": 29,
   "metadata": {},
   "outputs": [
    {
     "name": "stderr",
     "output_type": "stream",
     "text": [
      "<ipython-input-29-22948f1abcf5>:4: FutureWarning: the 'freq'' keyword is deprecated, use 'period' instead\n",
      "  decomposition = seasonal_decompose(df1, freq=100)\n"
     ]
    },
    {
     "data": {
      "image/png": "[encoded data removed]",
      "text/plain": [
       "<Figure size 720x432 with 4 Axes>"
      ]
     },
     "metadata": {},
     "output_type": "display_data"
    }
   ],
   "source": [
    "from statsmodels.tsa.seasonal import seasonal_decompose\n",
    "# Сезонная декомпозиция с использованием скользящих средних.\n",
    "# Чтобы разложить временной ряд таким образом, чтобы отделить его тренд от его сезонных и остаточных компонентов.\n",
    "decomposition = seasonal_decompose(df1, freq=100)\n",
    "\n",
    "trend = decomposition.trend\n",
    "seasonal = decomposition.seasonal\n",
    "residual = decomposition.resid\n",
    "\n",
    "plt.subplot(411)\n",
    "plt.plot(df1, label='Original')\n",
    "plt.legend(loc='best')\n",
    "plt.subplot(412)\n",
    "plt.plot(trend, label='Trend')\n",
    "plt.legend(loc='best')\n",
    "plt.subplot(413)\n",
    "plt.plot(seasonal,label='Seasonality') # Сезонные компоненты\n",
    "plt.legend(loc='best')\n",
    "plt.subplot(414)\n",
    "plt.plot(residual, label='Residuals') # Остаточные компоненты\n",
    "plt.legend(loc='best')\n",
    "plt.tight_layout()"
   ]
  },
  {
   "cell_type": "code",
   "execution_count": 30,
   "metadata": {},
   "outputs": [
    {
     "name": "stderr",
     "output_type": "stream",
     "text": [
      "<ipython-input-30-b36c36968482>:3: FutureWarning: the 'freq'' keyword is deprecated, use 'period' instead\n",
      "  decomposition = seasonal_decompose(df1,model='additive',freq=100)\n"
     ]
    },
    {
     "data": {
      "text/plain": [
       "<matplotlib.legend.Legend at 0x1eca5f03340>"
      ]
     },
     "execution_count": 30,
     "metadata": {},
     "output_type": "execute_result"
    },
    {
     "data": {
      "image/png": "[encoded data removed]",
      "text/plain": [
       "<Figure size 720x432 with 1 Axes>"
      ]
     },
     "metadata": {},
     "output_type": "display_data"
    }
   ],
   "source": [
    "from statsmodels.tsa.seasonal import seasonal_decompose\n",
    "\n",
    "decomposition = seasonal_decompose(df1,model='additive',freq=100)\n",
    "seasonal = decomposition.seasonal\n",
    "#plt.subplot(413)\n",
    "plt.plot(seasonal,label='Seasonality')\n",
    "plt.legend(loc='best')"
   ]
  },
  {
   "cell_type": "code",
   "execution_count": 31,
   "metadata": {},
   "outputs": [
    {
     "name": "stdout",
     "output_type": "stream",
     "text": [
      "Requirement already satisfied: pmdarima in c:\\users\\user\\anaconda3\\lib\\site-packages (1.8.0)\n",
      "Requirement already satisfied: urllib3 in c:\\users\\user\\anaconda3\\lib\\site-packages (from pmdarima) (1.25.9)\n",
      "Requirement already satisfied: Cython<0.29.18,>=0.29 in c:\\users\\user\\anaconda3\\lib\\site-packages (from pmdarima) (0.29.17)\n",
      "Requirement already satisfied: scipy>=1.3.2 in c:\\users\\user\\anaconda3\\lib\\site-packages (from pmdarima) (1.5.0)\n",
      "Requirement already satisfied: numpy>=1.17.3 in c:\\users\\user\\anaconda3\\lib\\site-packages (from pmdarima) (1.18.5)\n",
      "Requirement already satisfied: joblib>=0.11 in c:\\users\\user\\anaconda3\\lib\\site-packages (from pmdarima) (0.16.0)\n",
      "Requirement already satisfied: pandas>=0.19 in c:\\users\\user\\anaconda3\\lib\\site-packages (from pmdarima) (1.0.5)\n",
      "Requirement already satisfied: scikit-learn>=0.22 in c:\\users\\user\\anaconda3\\lib\\site-packages (from pmdarima) (0.23.1)\n",
      "Requirement already satisfied: setuptools!=50.0.0,>=38.6.0 in c:\\users\\user\\anaconda3\\lib\\site-packages (from pmdarima) (49.2.0.post20200714)\n",
      "Requirement already satisfied: statsmodels!=0.12.0,>=0.11 in c:\\users\\user\\anaconda3\\lib\\site-packages (from pmdarima) (0.11.1)\n",
      "Requirement already satisfied: pytz>=2017.2 in c:\\users\\user\\anaconda3\\lib\\site-packages (from pandas>=0.19->pmdarima) (2020.1)\n",
      "Requirement already satisfied: python-dateutil>=2.6.1 in c:\\users\\user\\anaconda3\\lib\\site-packages (from pandas>=0.19->pmdarima) (2.8.1)\n",
      "Requirement already satisfied: threadpoolctl>=2.0.0 in c:\\users\\user\\anaconda3\\lib\\site-packages (from scikit-learn>=0.22->pmdarima) (2.1.0)\n",
      "Requirement already satisfied: patsy>=0.5 in c:\\users\\user\\anaconda3\\lib\\site-packages (from statsmodels!=0.12.0,>=0.11->pmdarima) (0.5.1)\n",
      "Requirement already satisfied: six>=1.5 in c:\\users\\user\\anaconda3\\lib\\site-packages (from python-dateutil>=2.6.1->pandas>=0.19->pmdarima) (1.15.0)\n",
      "Note: you may need to restart the kernel to use updated packages.\n"
     ]
    }
   ],
   "source": [
    "pip install pmdarima"
   ]
  },
  {
   "cell_type": "code",
   "execution_count": 32,
   "metadata": {},
   "outputs": [
    {
     "name": "stdout",
     "output_type": "stream",
     "text": [
      "Performing stepwise search to minimize aic\n",
      " ARIMA(2,1,1)(0,0,1)[12] intercept   : AIC=1181.133, Time=0.30 sec\n",
      " ARIMA(0,1,0)(0,0,0)[12] intercept   : AIC=1181.972, Time=0.01 sec\n",
      " ARIMA(1,1,0)(1,0,0)[12] intercept   : AIC=1177.872, Time=0.12 sec\n",
      " ARIMA(0,1,1)(0,0,1)[12] intercept   : AIC=1178.800, Time=0.10 sec\n",
      " ARIMA(0,1,0)(0,0,0)[12]             : AIC=1181.835, Time=0.01 sec\n",
      " ARIMA(1,1,0)(0,0,0)[12] intercept   : AIC=1175.873, Time=0.04 sec\n",
      " ARIMA(1,1,0)(0,0,1)[12] intercept   : AIC=1177.871, Time=0.11 sec\n",
      " ARIMA(1,1,0)(1,0,1)[12] intercept   : AIC=1177.171, Time=0.33 sec\n",
      " ARIMA(2,1,0)(0,0,0)[12] intercept   : AIC=1177.147, Time=0.08 sec\n",
      " ARIMA(1,1,1)(0,0,0)[12] intercept   : AIC=1177.211, Time=0.07 sec\n",
      " ARIMA(0,1,1)(0,0,0)[12] intercept   : AIC=1176.801, Time=0.04 sec\n",
      " ARIMA(2,1,1)(0,0,0)[12] intercept   : AIC=1179.133, Time=0.16 sec\n",
      " ARIMA(1,1,0)(0,0,0)[12]             : AIC=1176.516, Time=0.02 sec\n",
      "\n",
      "Best model:  ARIMA(1,1,0)(0,0,0)[12] intercept\n",
      "Total fit time: 1.393 seconds\n",
      "1175.8726336417108\n"
     ]
    }
   ],
   "source": [
    "from pmdarima.arima import auto_arima\n",
    "stepwise_model = auto_arima(df1, star1t_p=1, start_q=1,\n",
    "                           max_p=3, max_q=3, m=12,\n",
    "                           start_P=0, seasonal=True,\n",
    "                           trace=True,\n",
    "                           error_action='ignore',  \n",
    "                           suppress_warnings=True, \n",
    "                           stepwise=True)\n",
    "print(stepwise_model.aic())"
   ]
  },
  {
   "cell_type": "code",
   "execution_count": 33,
   "metadata": {},
   "outputs": [
    {
     "data": {
      "text/plain": [
       "ARIMA(order=(1, 1, 0), scoring_args={}, seasonal_order=(0, 0, 0, 12),\n",
       "      suppress_warnings=True)"
      ]
     },
     "execution_count": 33,
     "metadata": {},
     "output_type": "execute_result"
    }
   ],
   "source": [
    "stepwise_model"
   ]
  },
  {
   "cell_type": "code",
   "execution_count": 34,
   "metadata": {},
   "outputs": [
    {
     "data": {
      "text/plain": [
       "<matplotlib.legend.Legend at 0x1eca6a3d280>"
      ]
     },
     "execution_count": 34,
     "metadata": {},
     "output_type": "execute_result"
    },
    {
     "data": {
      "image/png": "[encoded data removed]",
      "text/plain": [
       "<Figure size 864x504 with 1 Axes>"
      ]
     },
     "metadata": {},
     "output_type": "display_data"
    }
   ],
   "source": [
    "train_data= df1[0:int(len(df1)*0.8)]\n",
    "test_data = df1[int(len(df1)*0.8):]\n",
    "\n",
    "plt.figure(figsize=(12,7))\n",
    "plt.title('Amazon Prices')\n",
    "plt.xlabel('Dates')\n",
    "plt.ylabel('Prices')\n",
    "plt.plot(train_data, 'blue', label='Training Data')\n",
    "plt.plot(test_data, 'green', label='Testing Data')\n",
    "plt.legend()"
   ]
  },
  {
   "cell_type": "code",
   "execution_count": 35,
   "metadata": {},
   "outputs": [
    {
     "data": {
      "text/plain": [
       "0       67.644707\n",
       "1       68.802635\n",
       "2       68.937851\n",
       "3       68.773132\n",
       "4       68.841965\n",
       "          ...    \n",
       "196    108.033615\n",
       "197    112.086624\n",
       "198    114.762009\n",
       "199    113.893501\n",
       "200    115.610542\n",
       "Name: Adj Close, Length: 201, dtype: float64"
      ]
     },
     "execution_count": 35,
     "metadata": {},
     "output_type": "execute_result"
    }
   ],
   "source": [
    "train_data"
   ]
  },
  {
   "cell_type": "code",
   "execution_count": 36,
   "metadata": {},
   "outputs": [
    {
     "data": {
      "text/plain": [
       "201    116.588860\n",
       "202    112.825348\n",
       "203    116.299355\n",
       "204    112.965111\n",
       "205    114.881805\n",
       "206    114.771988\n",
       "207    116.768547\n",
       "208    124.185753\n",
       "209    120.891434\n",
       "210    120.981277\n",
       "211    120.502106\n",
       "212    118.815010\n",
       "213    115.780251\n",
       "214    117.307617\n",
       "215    116.668724\n",
       "216    115.550644\n",
       "217    114.841873\n",
       "218    114.851852\n",
       "219    116.399178\n",
       "220    111.008476\n",
       "221    115.121384\n",
       "222    108.672516\n",
       "223    108.582664\n",
       "224    110.249794\n",
       "225    114.752022\n",
       "226    118.824997\n",
       "227    118.690002\n",
       "228    116.320000\n",
       "229    115.970001\n",
       "230    119.489998\n",
       "231    119.209999\n",
       "232    119.260002\n",
       "233    120.300003\n",
       "234    119.389999\n",
       "235    118.029999\n",
       "236    118.639999\n",
       "237    117.339996\n",
       "238    113.849998\n",
       "239    115.169998\n",
       "240    116.029999\n",
       "241    116.589996\n",
       "242    119.050003\n",
       "243    122.720001\n",
       "244    123.080002\n",
       "245    122.940002\n",
       "246    122.250000\n",
       "247    123.750000\n",
       "248    124.379997\n",
       "249    121.779999\n",
       "250    123.239998\n",
       "251    122.410004\n",
       "Name: Adj Close, dtype: float64"
      ]
     },
     "execution_count": 36,
     "metadata": {},
     "output_type": "execute_result"
    }
   ],
   "source": [
    "test_data"
   ]
  },
  {
   "cell_type": "code",
   "execution_count": 37,
   "metadata": {},
   "outputs": [
    {
     "data": {
      "text/plain": [
       "ARIMA(order=(1, 1, 0), scoring_args={}, seasonal_order=(0, 0, 0, 12),\n",
       "      suppress_warnings=True)"
      ]
     },
     "execution_count": 37,
     "metadata": {},
     "output_type": "execute_result"
    }
   ],
   "source": [
    "stepwise_model.fit(train_data)"
   ]
  },
  {
   "cell_type": "code",
   "execution_count": 38,
   "metadata": {},
   "outputs": [],
   "source": [
    "future_forecast = stepwise_model.predict(n_periods=len(test_data))"
   ]
  },
  {
   "cell_type": "code",
   "execution_count": 39,
   "metadata": {},
   "outputs": [
    {
     "data": {
      "text/plain": [
       "array([115.59816347, 115.87866399, 116.10956513, 116.34886598,\n",
       "       116.58674433, 116.82486359, 117.06294204, 117.30102741,\n",
       "       117.5391116 , 117.77719599, 118.01528035, 118.25336472,\n",
       "       118.49144908, 118.72953344, 118.96761781, 119.20570217,\n",
       "       119.44378653, 119.6818709 , 119.91995526, 120.15803963,\n",
       "       120.39612399, 120.63420835, 120.87229272, 121.11037708,\n",
       "       121.34846144, 121.58654581, 121.82463017, 122.06271454,\n",
       "       122.3007989 , 122.53888326, 122.77696763, 123.01505199,\n",
       "       123.25313635, 123.49122072, 123.72930508, 123.96738944,\n",
       "       124.20547381, 124.44355817, 124.68164254, 124.9197269 ,\n",
       "       125.15781126, 125.39589563, 125.63397999, 125.87206435,\n",
       "       126.11014872, 126.34823308, 126.58631745, 126.82440181,\n",
       "       127.06248617, 127.30057054, 127.5386549 ])"
      ]
     },
     "execution_count": 39,
     "metadata": {},
     "output_type": "execute_result"
    }
   ],
   "source": [
    "future_forecast"
   ]
  },
  {
   "cell_type": "code",
   "execution_count": 40,
   "metadata": {},
   "outputs": [
    {
     "data": {
      "image/png": "[encoded data removed]",
      "text/plain": [
       "<Figure size 1200x500 with 1 Axes>"
      ]
     },
     "metadata": {},
     "output_type": "display_data"
    }
   ],
   "source": [
    "# Plot\n",
    "plt.figure(figsize=(12,5), dpi=100)\n",
    "#plt.plot(train_data, label='training')\n",
    "plt.plot(test_data.values, label='actual')\n",
    "plt.plot(future_forecast, label='forecast')\n",
    "plt.title('Forecast vs Actuals')\n",
    "plt.legend(loc='upper left', fontsize=10)\n",
    "plt.show()"
   ]
  },
  {
   "cell_type": "code",
   "execution_count": 41,
   "metadata": {},
   "outputs": [],
   "source": [
    "result = pd.DataFrame(columns=['test', 'predicted'])\n",
    "\n",
    "result['test'] = test_data\n",
    "result['predicted'] = future_forecast"
   ]
  },
  {
   "cell_type": "code",
   "execution_count": 42,
   "metadata": {},
   "outputs": [
    {
     "data": {
      "text/html": [
       "<div>\n",
       "<style scoped>\n",
       "    .dataframe tbody tr th:only-of-type {\n",
       "        vertical-align: middle;\n",
       "    }\n",
       "\n",
       "    .dataframe tbody tr th {\n",
       "        vertical-align: top;\n",
       "    }\n",
       "\n",
       "    .dataframe thead th {\n",
       "        text-align: right;\n",
       "    }\n",
       "</style>\n",
       "<table border=\"1\" class=\"dataframe\">\n",
       "  <thead>\n",
       "    <tr style=\"text-align: right;\">\n",
       "      <th></th>\n",
       "      <th>test</th>\n",
       "      <th>predicted</th>\n",
       "    </tr>\n",
       "  </thead>\n",
       "  <tbody>\n",
       "    <tr>\n",
       "      <th>201</th>\n",
       "      <td>116.588860</td>\n",
       "      <td>115.598163</td>\n",
       "    </tr>\n",
       "    <tr>\n",
       "      <th>202</th>\n",
       "      <td>112.825348</td>\n",
       "      <td>115.878664</td>\n",
       "    </tr>\n",
       "    <tr>\n",
       "      <th>203</th>\n",
       "      <td>116.299355</td>\n",
       "      <td>116.109565</td>\n",
       "    </tr>\n",
       "    <tr>\n",
       "      <th>204</th>\n",
       "      <td>112.965111</td>\n",
       "      <td>116.348866</td>\n",
       "    </tr>\n",
       "    <tr>\n",
       "      <th>205</th>\n",
       "      <td>114.881805</td>\n",
       "      <td>116.586744</td>\n",
       "    </tr>\n",
       "    <tr>\n",
       "      <th>206</th>\n",
       "      <td>114.771988</td>\n",
       "      <td>116.824864</td>\n",
       "    </tr>\n",
       "    <tr>\n",
       "      <th>207</th>\n",
       "      <td>116.768547</td>\n",
       "      <td>117.062942</td>\n",
       "    </tr>\n",
       "    <tr>\n",
       "      <th>208</th>\n",
       "      <td>124.185753</td>\n",
       "      <td>117.301027</td>\n",
       "    </tr>\n",
       "    <tr>\n",
       "      <th>209</th>\n",
       "      <td>120.891434</td>\n",
       "      <td>117.539112</td>\n",
       "    </tr>\n",
       "    <tr>\n",
       "      <th>210</th>\n",
       "      <td>120.981277</td>\n",
       "      <td>117.777196</td>\n",
       "    </tr>\n",
       "    <tr>\n",
       "      <th>211</th>\n",
       "      <td>120.502106</td>\n",
       "      <td>118.015280</td>\n",
       "    </tr>\n",
       "    <tr>\n",
       "      <th>212</th>\n",
       "      <td>118.815010</td>\n",
       "      <td>118.253365</td>\n",
       "    </tr>\n",
       "    <tr>\n",
       "      <th>213</th>\n",
       "      <td>115.780251</td>\n",
       "      <td>118.491449</td>\n",
       "    </tr>\n",
       "    <tr>\n",
       "      <th>214</th>\n",
       "      <td>117.307617</td>\n",
       "      <td>118.729533</td>\n",
       "    </tr>\n",
       "    <tr>\n",
       "      <th>215</th>\n",
       "      <td>116.668724</td>\n",
       "      <td>118.967618</td>\n",
       "    </tr>\n",
       "    <tr>\n",
       "      <th>216</th>\n",
       "      <td>115.550644</td>\n",
       "      <td>119.205702</td>\n",
       "    </tr>\n",
       "    <tr>\n",
       "      <th>217</th>\n",
       "      <td>114.841873</td>\n",
       "      <td>119.443787</td>\n",
       "    </tr>\n",
       "    <tr>\n",
       "      <th>218</th>\n",
       "      <td>114.851852</td>\n",
       "      <td>119.681871</td>\n",
       "    </tr>\n",
       "    <tr>\n",
       "      <th>219</th>\n",
       "      <td>116.399178</td>\n",
       "      <td>119.919955</td>\n",
       "    </tr>\n",
       "    <tr>\n",
       "      <th>220</th>\n",
       "      <td>111.008476</td>\n",
       "      <td>120.158040</td>\n",
       "    </tr>\n",
       "    <tr>\n",
       "      <th>221</th>\n",
       "      <td>115.121384</td>\n",
       "      <td>120.396124</td>\n",
       "    </tr>\n",
       "    <tr>\n",
       "      <th>222</th>\n",
       "      <td>108.672516</td>\n",
       "      <td>120.634208</td>\n",
       "    </tr>\n",
       "    <tr>\n",
       "      <th>223</th>\n",
       "      <td>108.582664</td>\n",
       "      <td>120.872293</td>\n",
       "    </tr>\n",
       "    <tr>\n",
       "      <th>224</th>\n",
       "      <td>110.249794</td>\n",
       "      <td>121.110377</td>\n",
       "    </tr>\n",
       "    <tr>\n",
       "      <th>225</th>\n",
       "      <td>114.752022</td>\n",
       "      <td>121.348461</td>\n",
       "    </tr>\n",
       "    <tr>\n",
       "      <th>226</th>\n",
       "      <td>118.824997</td>\n",
       "      <td>121.586546</td>\n",
       "    </tr>\n",
       "    <tr>\n",
       "      <th>227</th>\n",
       "      <td>118.690002</td>\n",
       "      <td>121.824630</td>\n",
       "    </tr>\n",
       "    <tr>\n",
       "      <th>228</th>\n",
       "      <td>116.320000</td>\n",
       "      <td>122.062715</td>\n",
       "    </tr>\n",
       "    <tr>\n",
       "      <th>229</th>\n",
       "      <td>115.970001</td>\n",
       "      <td>122.300799</td>\n",
       "    </tr>\n",
       "    <tr>\n",
       "      <th>230</th>\n",
       "      <td>119.489998</td>\n",
       "      <td>122.538883</td>\n",
       "    </tr>\n",
       "    <tr>\n",
       "      <th>231</th>\n",
       "      <td>119.209999</td>\n",
       "      <td>122.776968</td>\n",
       "    </tr>\n",
       "    <tr>\n",
       "      <th>232</th>\n",
       "      <td>119.260002</td>\n",
       "      <td>123.015052</td>\n",
       "    </tr>\n",
       "    <tr>\n",
       "      <th>233</th>\n",
       "      <td>120.300003</td>\n",
       "      <td>123.253136</td>\n",
       "    </tr>\n",
       "    <tr>\n",
       "      <th>234</th>\n",
       "      <td>119.389999</td>\n",
       "      <td>123.491221</td>\n",
       "    </tr>\n",
       "    <tr>\n",
       "      <th>235</th>\n",
       "      <td>118.029999</td>\n",
       "      <td>123.729305</td>\n",
       "    </tr>\n",
       "    <tr>\n",
       "      <th>236</th>\n",
       "      <td>118.639999</td>\n",
       "      <td>123.967389</td>\n",
       "    </tr>\n",
       "    <tr>\n",
       "      <th>237</th>\n",
       "      <td>117.339996</td>\n",
       "      <td>124.205474</td>\n",
       "    </tr>\n",
       "    <tr>\n",
       "      <th>238</th>\n",
       "      <td>113.849998</td>\n",
       "      <td>124.443558</td>\n",
       "    </tr>\n",
       "    <tr>\n",
       "      <th>239</th>\n",
       "      <td>115.169998</td>\n",
       "      <td>124.681643</td>\n",
       "    </tr>\n",
       "    <tr>\n",
       "      <th>240</th>\n",
       "      <td>116.029999</td>\n",
       "      <td>124.919727</td>\n",
       "    </tr>\n",
       "    <tr>\n",
       "      <th>241</th>\n",
       "      <td>116.589996</td>\n",
       "      <td>125.157811</td>\n",
       "    </tr>\n",
       "    <tr>\n",
       "      <th>242</th>\n",
       "      <td>119.050003</td>\n",
       "      <td>125.395896</td>\n",
       "    </tr>\n",
       "    <tr>\n",
       "      <th>243</th>\n",
       "      <td>122.720001</td>\n",
       "      <td>125.633980</td>\n",
       "    </tr>\n",
       "    <tr>\n",
       "      <th>244</th>\n",
       "      <td>123.080002</td>\n",
       "      <td>125.872064</td>\n",
       "    </tr>\n",
       "    <tr>\n",
       "      <th>245</th>\n",
       "      <td>122.940002</td>\n",
       "      <td>126.110149</td>\n",
       "    </tr>\n",
       "    <tr>\n",
       "      <th>246</th>\n",
       "      <td>122.250000</td>\n",
       "      <td>126.348233</td>\n",
       "    </tr>\n",
       "    <tr>\n",
       "      <th>247</th>\n",
       "      <td>123.750000</td>\n",
       "      <td>126.586317</td>\n",
       "    </tr>\n",
       "    <tr>\n",
       "      <th>248</th>\n",
       "      <td>124.379997</td>\n",
       "      <td>126.824402</td>\n",
       "    </tr>\n",
       "    <tr>\n",
       "      <th>249</th>\n",
       "      <td>121.779999</td>\n",
       "      <td>127.062486</td>\n",
       "    </tr>\n",
       "    <tr>\n",
       "      <th>250</th>\n",
       "      <td>123.239998</td>\n",
       "      <td>127.300571</td>\n",
       "    </tr>\n",
       "    <tr>\n",
       "      <th>251</th>\n",
       "      <td>122.410004</td>\n",
       "      <td>127.538655</td>\n",
       "    </tr>\n",
       "  </tbody>\n",
       "</table>\n",
       "</div>"
      ],
      "text/plain": [
       "           test   predicted\n",
       "201  116.588860  115.598163\n",
       "202  112.825348  115.878664\n",
       "203  116.299355  116.109565\n",
       "204  112.965111  116.348866\n",
       "205  114.881805  116.586744\n",
       "206  114.771988  116.824864\n",
       "207  116.768547  117.062942\n",
       "208  124.185753  117.301027\n",
       "209  120.891434  117.539112\n",
       "210  120.981277  117.777196\n",
       "211  120.502106  118.015280\n",
       "212  118.815010  118.253365\n",
       "213  115.780251  118.491449\n",
       "214  117.307617  118.729533\n",
       "215  116.668724  118.967618\n",
       "216  115.550644  119.205702\n",
       "217  114.841873  119.443787\n",
       "218  114.851852  119.681871\n",
       "219  116.399178  119.919955\n",
       "220  111.008476  120.158040\n",
       "221  115.121384  120.396124\n",
       "222  108.672516  120.634208\n",
       "223  108.582664  120.872293\n",
       "224  110.249794  121.110377\n",
       "225  114.752022  121.348461\n",
       "226  118.824997  121.586546\n",
       "227  118.690002  121.824630\n",
       "228  116.320000  122.062715\n",
       "229  115.970001  122.300799\n",
       "230  119.489998  122.538883\n",
       "231  119.209999  122.776968\n",
       "232  119.260002  123.015052\n",
       "233  120.300003  123.253136\n",
       "234  119.389999  123.491221\n",
       "235  118.029999  123.729305\n",
       "236  118.639999  123.967389\n",
       "237  117.339996  124.205474\n",
       "238  113.849998  124.443558\n",
       "239  115.169998  124.681643\n",
       "240  116.029999  124.919727\n",
       "241  116.589996  125.157811\n",
       "242  119.050003  125.395896\n",
       "243  122.720001  125.633980\n",
       "244  123.080002  125.872064\n",
       "245  122.940002  126.110149\n",
       "246  122.250000  126.348233\n",
       "247  123.750000  126.586317\n",
       "248  124.379997  126.824402\n",
       "249  121.779999  127.062486\n",
       "250  123.239998  127.300571\n",
       "251  122.410004  127.538655"
      ]
     },
     "execution_count": 42,
     "metadata": {},
     "output_type": "execute_result"
    }
   ],
   "source": [
    "result"
   ]
  },
  {
   "cell_type": "code",
   "execution_count": 43,
   "metadata": {},
   "outputs": [
    {
     "data": {
      "text/plain": [
       "{'MAPE': 0.04001683823148461,\n",
       " 'RMSE': 5.494839781292171,\n",
       " 'Correlation': 0.46497387544279317}"
      ]
     },
     "execution_count": 43,
     "metadata": {},
     "output_type": "execute_result"
    }
   ],
   "source": [
    "from sklearn.metrics import mean_squared_error\n",
    "from sklearn.metrics import mean_absolute_error\n",
    "from math import sqrt\n",
    "\n",
    "# Accuracy metrics\n",
    "def forecast_accuracy(forecast, actual):\n",
    "    mape = np.mean(np.abs(forecast - actual)/np.abs(actual))  # MAPE\n",
    "    \n",
    "    rmse = math.sqrt(mean_squared_error(test_data, future_forecast))  # RMSE\n",
    "    corr = np.corrcoef(forecast, actual)[0,1]   # corr\n",
    "    return({'MAPE':mape, 'RMSE':rmse,'Correlation':corr})\n",
    "forecast_accuracy(future_forecast, test_data)"
   ]
  },
  {
   "cell_type": "code",
   "execution_count": 44,
   "metadata": {},
   "outputs": [
    {
     "name": "stdout",
     "output_type": "stream",
     "text": [
      "Mean Absolute Error: 4.6520472132114286\n",
      "Mean Squared Error: 30.193264222070994\n"
     ]
    }
   ],
   "source": [
    "print('Mean Absolute Error:', metrics.mean_absolute_error(test_data, future_forecast))  \n",
    "print('Mean Squared Error:', metrics.mean_squared_error(test_data, future_forecast)) "
   ]
  },
  {
   "cell_type": "code",
   "execution_count": 45,
   "metadata": {},
   "outputs": [
    {
     "data": {
      "text/plain": [
       "<matplotlib.axes._subplots.AxesSubplot at 0x1eca254a670>"
      ]
     },
     "execution_count": 45,
     "metadata": {},
     "output_type": "execute_result"
    },
    {
     "data": {
      "image/png": "[encoded data removed]",
      "text/plain": [
       "<Figure size 720x432 with 1 Axes>"
      ]
     },
     "metadata": {},
     "output_type": "display_data"
    }
   ],
   "source": [
    "pd.concat([test_data,result['predicted']], axis=1).plot()"
   ]
  },
  {
   "cell_type": "code",
   "execution_count": 46,
   "metadata": {},
   "outputs": [],
   "source": [
    "future_forecast2 = future_forecast"
   ]
  },
  {
   "cell_type": "code",
   "execution_count": 47,
   "metadata": {},
   "outputs": [
    {
     "data": {
      "text/plain": [
       "<matplotlib.axes._subplots.AxesSubplot at 0x1eca283a040>"
      ]
     },
     "execution_count": 47,
     "metadata": {},
     "output_type": "execute_result"
    },
    {
     "data": {
      "image/png": "[encoded data removed]",
      "text/plain": [
       "<Figure size 720x432 with 1 Axes>"
      ]
     },
     "metadata": {},
     "output_type": "display_data"
    }
   ],
   "source": [
    "pd.concat([df1,result['predicted']], axis=1).plot()"
   ]
  },
  {
   "cell_type": "markdown",
   "metadata": {},
   "source": [
    "# Lstm"
   ]
  },
  {
   "cell_type": "code",
   "execution_count": 48,
   "metadata": {},
   "outputs": [],
   "source": [
    "from sklearn.preprocessing import MinMaxScaler\n",
    "from keras.models import Sequential\n",
    "from keras.layers import Dense, LSTM\n",
    "from tensorflow.python.keras.layers import Dense,LSTM\n",
    "from tensorflow.python.keras import Sequential\n",
    "from keras import metrics\n",
    "import matplotlib.pyplot as plt\n",
    "plt.style.use('fivethirtyeight')"
   ]
  },
  {
   "cell_type": "code",
   "execution_count": 49,
   "metadata": {},
   "outputs": [
    {
     "data": {
      "text/html": [
       "<div>\n",
       "<style scoped>\n",
       "    .dataframe tbody tr th:only-of-type {\n",
       "        vertical-align: middle;\n",
       "    }\n",
       "\n",
       "    .dataframe tbody tr th {\n",
       "        vertical-align: top;\n",
       "    }\n",
       "\n",
       "    .dataframe thead th {\n",
       "        text-align: right;\n",
       "    }\n",
       "</style>\n",
       "<table border=\"1\" class=\"dataframe\">\n",
       "  <thead>\n",
       "    <tr style=\"text-align: right;\">\n",
       "      <th></th>\n",
       "      <th>Date</th>\n",
       "      <th>Open</th>\n",
       "      <th>High</th>\n",
       "      <th>Low</th>\n",
       "      <th>Close</th>\n",
       "      <th>Adj Close</th>\n",
       "      <th>Volume</th>\n",
       "    </tr>\n",
       "  </thead>\n",
       "  <tbody>\n",
       "    <tr>\n",
       "      <th>0</th>\n",
       "      <td>2019-12-13</td>\n",
       "      <td>67.864998</td>\n",
       "      <td>68.824997</td>\n",
       "      <td>67.732498</td>\n",
       "      <td>68.787498</td>\n",
       "      <td>67.644707</td>\n",
       "      <td>133587600</td>\n",
       "    </tr>\n",
       "    <tr>\n",
       "      <th>1</th>\n",
       "      <td>2019-12-16</td>\n",
       "      <td>69.250000</td>\n",
       "      <td>70.197502</td>\n",
       "      <td>69.245003</td>\n",
       "      <td>69.964996</td>\n",
       "      <td>68.802635</td>\n",
       "      <td>128186000</td>\n",
       "    </tr>\n",
       "    <tr>\n",
       "      <th>2</th>\n",
       "      <td>2019-12-17</td>\n",
       "      <td>69.892502</td>\n",
       "      <td>70.442497</td>\n",
       "      <td>69.699997</td>\n",
       "      <td>70.102501</td>\n",
       "      <td>68.937851</td>\n",
       "      <td>114158400</td>\n",
       "    </tr>\n",
       "    <tr>\n",
       "      <th>3</th>\n",
       "      <td>2019-12-18</td>\n",
       "      <td>69.949997</td>\n",
       "      <td>70.474998</td>\n",
       "      <td>69.779999</td>\n",
       "      <td>69.934998</td>\n",
       "      <td>68.773132</td>\n",
       "      <td>116028400</td>\n",
       "    </tr>\n",
       "    <tr>\n",
       "      <th>4</th>\n",
       "      <td>2019-12-19</td>\n",
       "      <td>69.875000</td>\n",
       "      <td>70.294998</td>\n",
       "      <td>69.737503</td>\n",
       "      <td>70.004997</td>\n",
       "      <td>68.841965</td>\n",
       "      <td>98369200</td>\n",
       "    </tr>\n",
       "    <tr>\n",
       "      <th>...</th>\n",
       "      <td>...</td>\n",
       "      <td>...</td>\n",
       "      <td>...</td>\n",
       "      <td>...</td>\n",
       "      <td>...</td>\n",
       "      <td>...</td>\n",
       "      <td>...</td>\n",
       "    </tr>\n",
       "    <tr>\n",
       "      <th>247</th>\n",
       "      <td>2020-12-07</td>\n",
       "      <td>122.309998</td>\n",
       "      <td>124.570000</td>\n",
       "      <td>122.250000</td>\n",
       "      <td>123.750000</td>\n",
       "      <td>123.750000</td>\n",
       "      <td>86712000</td>\n",
       "    </tr>\n",
       "    <tr>\n",
       "      <th>248</th>\n",
       "      <td>2020-12-08</td>\n",
       "      <td>124.370003</td>\n",
       "      <td>124.980003</td>\n",
       "      <td>123.089996</td>\n",
       "      <td>124.379997</td>\n",
       "      <td>124.379997</td>\n",
       "      <td>82225500</td>\n",
       "    </tr>\n",
       "    <tr>\n",
       "      <th>249</th>\n",
       "      <td>2020-12-09</td>\n",
       "      <td>124.529999</td>\n",
       "      <td>125.949997</td>\n",
       "      <td>121.000000</td>\n",
       "      <td>121.779999</td>\n",
       "      <td>121.779999</td>\n",
       "      <td>115089200</td>\n",
       "    </tr>\n",
       "    <tr>\n",
       "      <th>250</th>\n",
       "      <td>2020-12-10</td>\n",
       "      <td>120.500000</td>\n",
       "      <td>123.870003</td>\n",
       "      <td>120.150002</td>\n",
       "      <td>123.239998</td>\n",
       "      <td>123.239998</td>\n",
       "      <td>81312200</td>\n",
       "    </tr>\n",
       "    <tr>\n",
       "      <th>251</th>\n",
       "      <td>2020-12-11</td>\n",
       "      <td>122.430000</td>\n",
       "      <td>122.760002</td>\n",
       "      <td>120.550003</td>\n",
       "      <td>122.410004</td>\n",
       "      <td>122.410004</td>\n",
       "      <td>86860000</td>\n",
       "    </tr>\n",
       "  </tbody>\n",
       "</table>\n",
       "<p>252 rows × 7 columns</p>\n",
       "</div>"
      ],
      "text/plain": [
       "           Date        Open        High         Low       Close   Adj Close  \\\n",
       "0    2019-12-13   67.864998   68.824997   67.732498   68.787498   67.644707   \n",
       "1    2019-12-16   69.250000   70.197502   69.245003   69.964996   68.802635   \n",
       "2    2019-12-17   69.892502   70.442497   69.699997   70.102501   68.937851   \n",
       "3    2019-12-18   69.949997   70.474998   69.779999   69.934998   68.773132   \n",
       "4    2019-12-19   69.875000   70.294998   69.737503   70.004997   68.841965   \n",
       "..          ...         ...         ...         ...         ...         ...   \n",
       "247  2020-12-07  122.309998  124.570000  122.250000  123.750000  123.750000   \n",
       "248  2020-12-08  124.370003  124.980003  123.089996  124.379997  124.379997   \n",
       "249  2020-12-09  124.529999  125.949997  121.000000  121.779999  121.779999   \n",
       "250  2020-12-10  120.500000  123.870003  120.150002  123.239998  123.239998   \n",
       "251  2020-12-11  122.430000  122.760002  120.550003  122.410004  122.410004   \n",
       "\n",
       "        Volume  \n",
       "0    133587600  \n",
       "1    128186000  \n",
       "2    114158400  \n",
       "3    116028400  \n",
       "4     98369200  \n",
       "..         ...  \n",
       "247   86712000  \n",
       "248   82225500  \n",
       "249  115089200  \n",
       "250   81312200  \n",
       "251   86860000  \n",
       "\n",
       "[252 rows x 7 columns]"
      ]
     },
     "execution_count": 49,
     "metadata": {},
     "output_type": "execute_result"
    }
   ],
   "source": [
    "#Get the stock quote\n",
    "df = pd.read_csv('AMZN.csv')\n",
    "#Show teh data\n",
    "df"
   ]
  },
  {
   "cell_type": "code",
   "execution_count": 50,
   "metadata": {},
   "outputs": [
    {
     "data": {
      "text/plain": [
       "(252, 7)"
      ]
     },
     "execution_count": 50,
     "metadata": {},
     "output_type": "execute_result"
    }
   ],
   "source": [
    "#Get the number of rows and columns in the data set\n",
    "df.shape"
   ]
  },
  {
   "cell_type": "code",
   "execution_count": 51,
   "metadata": {},
   "outputs": [
    {
     "data": {
      "image/png": "[encoded data removed]",
      "text/plain": [
       "<Figure size 1152x576 with 1 Axes>"
      ]
     },
     "metadata": {},
     "output_type": "display_data"
    }
   ],
   "source": [
    "#Visualize the closing price history\n",
    "plt.figure(figsize=(16,8))\n",
    "plt.title('Adj Close Price History')\n",
    "plt.plot(df['Adj Close'])\n",
    "plt.xlabel('Date', fontsize=18)\n",
    "plt.ylabel('Adj Close Price USD ($)', fontsize=18)\n",
    "plt.show()"
   ]
  },
  {
   "cell_type": "code",
   "execution_count": 52,
   "metadata": {},
   "outputs": [
    {
     "data": {
      "text/plain": [
       "202"
      ]
     },
     "execution_count": 52,
     "metadata": {},
     "output_type": "execute_result"
    }
   ],
   "source": [
    "#Create a new dataframe with only the 'Close column\n",
    "data = df.filter(['Adj Close'])\n",
    "#Convert the dataframe to a numpy array\n",
    "dataset = data.values\n",
    "#Get the number of rows to train the model on\n",
    "training_data_len = math.ceil( len(dataset) * .8 )\n",
    "\n",
    "training_data_len"
   ]
  },
  {
   "cell_type": "code",
   "execution_count": 53,
   "metadata": {},
   "outputs": [
    {
     "data": {
      "text/plain": [
       "array([[0.15705059],\n",
       "       [0.17177175],\n",
       "       [0.1734908 ],\n",
       "       [0.17139667],\n",
       "       [0.17227177],\n",
       "       [0.17045913],\n",
       "       [0.18471151],\n",
       "       [0.18555537],\n",
       "       [0.20318339],\n",
       "       [0.20283963],\n",
       "       [0.2082156 ],\n",
       "       [0.21487296],\n",
       "       [0.23581415],\n",
       "       [0.22668738],\n",
       "       [0.23409501],\n",
       "       [0.22968813],\n",
       "       [0.24469058],\n",
       "       [0.26481913],\n",
       "       [0.26700686],\n",
       "       [0.28772913],\n",
       "       [0.27435193],\n",
       "       [0.27016367],\n",
       "       [0.28235336],\n",
       "       [0.29326145],\n",
       "       [0.28651028],\n",
       "       [0.29004217],\n",
       "       [0.29482424],\n",
       "       [0.29194872],\n",
       "       [0.26269368],\n",
       "       [0.29001085],\n",
       "       [0.31079577],\n",
       "       [0.30932658],\n",
       "       [0.26444405],\n",
       "       [0.26178725],\n",
       "       [0.29363653],\n",
       "       [0.30176299],\n",
       "       [0.31351485],\n",
       "       [0.29969854],\n",
       "       [0.30446063],\n",
       "       [0.2983827 ],\n",
       "       [0.32216187],\n",
       "       [0.314862  ],\n",
       "       [0.31511274],\n",
       "       [0.2964716 ],\n",
       "       [0.31094582],\n",
       "       [0.30054453],\n",
       "       [0.27783056],\n",
       "       [0.23124344],\n",
       "       [0.19960057],\n",
       "       [0.21391824],\n",
       "       [0.15398476],\n",
       "       [0.15348349],\n",
       "       [0.2332172 ],\n",
       "       [0.20348552],\n",
       "       [0.24552968],\n",
       "       [0.21476414],\n",
       "       [0.20257687],\n",
       "       [0.13095769],\n",
       "       [0.1910164 ],\n",
       "       [0.15996879],\n",
       "       [0.07475233],\n",
       "       [0.16792647],\n",
       "       [0.05589193],\n",
       "       [0.08925787],\n",
       "       [0.06986493],\n",
       "       [0.06394361],\n",
       "       [0.0152575 ],\n",
       "       [0.        ],\n",
       "       [0.07052284],\n",
       "       [0.06626203],\n",
       "       [0.10673981],\n",
       "       [0.07321722],\n",
       "       [0.09536716],\n",
       "       [0.09373803],\n",
       "       [0.05181911],\n",
       "       [0.06441355],\n",
       "       [0.05338562],\n",
       "       [0.1193656 ],\n",
       "       [0.10984139],\n",
       "       [0.1306443 ],\n",
       "       [0.13665956],\n",
       "       [0.15313897],\n",
       "       [0.19637364],\n",
       "       [0.18816532],\n",
       "       [0.19524578],\n",
       "       [0.18305852],\n",
       "       [0.16466811],\n",
       "       [0.13784999],\n",
       "       [0.16206786],\n",
       "       [0.15871561],\n",
       "       [0.18359122],\n",
       "       [0.18421781],\n",
       "       [0.16983748],\n",
       "       [0.19850414],\n",
       "       [0.21752104],\n",
       "       [0.20270219],\n",
       "       [0.21551604],\n",
       "       [0.22930102],\n",
       "       [0.23891926],\n",
       "       [0.24866263],\n",
       "       [0.27928918],\n",
       "       [0.29474479],\n",
       "       [0.283343  ],\n",
       "       [0.2714346 ],\n",
       "       [0.27742047],\n",
       "       [0.27162452],\n",
       "       [0.29458641],\n",
       "       [0.28882226],\n",
       "       [0.30811027],\n",
       "       [0.30057237],\n",
       "       [0.30703342],\n",
       "       [0.30019234],\n",
       "       [0.30456296],\n",
       "       [0.30500641],\n",
       "       [0.30402462],\n",
       "       [0.3164082 ],\n",
       "       [0.32112723],\n",
       "       [0.32676478],\n",
       "       [0.3178968 ],\n",
       "       [0.34697132],\n",
       "       [0.35317883],\n",
       "       [0.38652901],\n",
       "       [0.41455832],\n",
       "       [0.36090674],\n",
       "       [0.37009151],\n",
       "       [0.38336182],\n",
       "       [0.41215127],\n",
       "       [0.41059946],\n",
       "       [0.41104291],\n",
       "       [0.40467682],\n",
       "       [0.4336563 ],\n",
       "       [0.45791676],\n",
       "       [0.43742524],\n",
       "       [0.45256427],\n",
       "       [0.4170605 ],\n",
       "       [0.44287279],\n",
       "       [0.45243749],\n",
       "       [0.45025219],\n",
       "       [0.45025219],\n",
       "       [0.48110038],\n",
       "       [0.47742649],\n",
       "       [0.50491737],\n",
       "       [0.51011157],\n",
       "       [0.51223353],\n",
       "       [0.50662769],\n",
       "       [0.52664412],\n",
       "       [0.53510036],\n",
       "       [0.51986638],\n",
       "       [0.51739601],\n",
       "       [0.54311334],\n",
       "       [0.52591559],\n",
       "       [0.52936775],\n",
       "       [0.47327752],\n",
       "       [0.47036368],\n",
       "       [0.49817125],\n",
       "       [0.47843999],\n",
       "       [0.50108509],\n",
       "       [0.51565407],\n",
       "       [0.64322722],\n",
       "       [0.67714733],\n",
       "       [0.68636383],\n",
       "       [0.69139953],\n",
       "       [0.74004702],\n",
       "       [0.70723963],\n",
       "       [0.72773639],\n",
       "       [0.68518815],\n",
       "       [0.73132172],\n",
       "       [0.75670461],\n",
       "       [0.7554038 ],\n",
       "       [0.75159625],\n",
       "       [0.76371669],\n",
       "       [0.76555688],\n",
       "       [0.79814226],\n",
       "       [0.87549677],\n",
       "       [0.89437534],\n",
       "       [0.88127138],\n",
       "       [0.9028152 ],\n",
       "       [0.88361935],\n",
       "       [0.88104935],\n",
       "       [0.93476583],\n",
       "       [1.        ],\n",
       "       [0.96471778],\n",
       "       [0.83120348],\n",
       "       [0.83221883],\n",
       "       [0.72891032],\n",
       "       [0.78602192],\n",
       "       [0.7374136 ],\n",
       "       [0.71850331],\n",
       "       [0.76114661],\n",
       "       [0.76343113],\n",
       "       [0.7201532 ],\n",
       "       [0.69743544],\n",
       "       [0.6530153 ],\n",
       "       [0.69413566],\n",
       "       [0.71609191],\n",
       "       [0.65656892],\n",
       "       [0.67052954],\n",
       "       [0.72205692],\n",
       "       [0.75607007],\n",
       "       [0.74502841],\n",
       "       [0.76685778],\n",
       "       [0.77929549],\n",
       "       [0.73144859],\n",
       "       [0.77561491],\n",
       "       [0.73322545],\n",
       "       [0.75759308],\n",
       "       [0.75619694],\n",
       "       [0.78157992],\n",
       "       [0.87587757],\n",
       "       [0.83399569],\n",
       "       [0.8351379 ],\n",
       "       [0.82904602],\n",
       "       [0.80759735],\n",
       "       [0.76901535],\n",
       "       [0.78843331],\n",
       "       [0.78031083],\n",
       "       [0.76609627],\n",
       "       [0.75708541],\n",
       "       [0.75721228],\n",
       "       [0.776884  ],\n",
       "       [0.70835003],\n",
       "       [0.76063894],\n",
       "       [0.67865212],\n",
       "       [0.6775098 ],\n",
       "       [0.69870463],\n",
       "       [0.7559431 ],\n",
       "       [0.80772432],\n",
       "       [0.80600808],\n",
       "       [0.77587738],\n",
       "       [0.77142771],\n",
       "       [0.81617872],\n",
       "       [0.81261899],\n",
       "       [0.8132547 ],\n",
       "       [0.82647661],\n",
       "       [0.8149074 ],\n",
       "       [0.79761722],\n",
       "       [0.80537237],\n",
       "       [0.78884496],\n",
       "       [0.74447534],\n",
       "       [0.76125698],\n",
       "       [0.77219049],\n",
       "       [0.77930994],\n",
       "       [0.8105849 ],\n",
       "       [0.85724293],\n",
       "       [0.86181975],\n",
       "       [0.86003988],\n",
       "       [0.85126764],\n",
       "       [0.87033768],\n",
       "       [0.87834707],\n",
       "       [0.84529234],\n",
       "       [0.86385384],\n",
       "       [0.85330182]])"
      ]
     },
     "execution_count": 53,
     "metadata": {},
     "output_type": "execute_result"
    }
   ],
   "source": [
    "#Scale the data\n",
    "scaler = MinMaxScaler(feature_range=(0,1))\n",
    "scaled_data = scaler.fit_transform(dataset)\n",
    "\n",
    "scaled_data"
   ]
  },
  {
   "cell_type": "code",
   "execution_count": 54,
   "metadata": {},
   "outputs": [
    {
     "name": "stdout",
     "output_type": "stream",
     "text": [
      "[array([0.15705059, 0.17177175, 0.1734908 , 0.17139667, 0.17227177,\n",
      "       0.17045913, 0.18471151, 0.18555537, 0.20318339, 0.20283963,\n",
      "       0.2082156 , 0.21487296, 0.23581415, 0.22668738, 0.23409501,\n",
      "       0.22968813, 0.24469058, 0.26481913, 0.26700686, 0.28772913,\n",
      "       0.27435193, 0.27016367, 0.28235336, 0.29326145, 0.28651028,\n",
      "       0.29004217, 0.29482424, 0.29194872, 0.26269368, 0.29001085,\n",
      "       0.31079577, 0.30932658, 0.26444405, 0.26178725, 0.29363653,\n",
      "       0.30176299, 0.31351485, 0.29969854, 0.30446063, 0.2983827 ,\n",
      "       0.32216187, 0.314862  , 0.31511274, 0.2964716 , 0.31094582,\n",
      "       0.30054453, 0.27783056, 0.23124344, 0.19960057, 0.21391824,\n",
      "       0.15398476, 0.15348349, 0.2332172 , 0.20348552, 0.24552968,\n",
      "       0.21476414, 0.20257687, 0.13095769, 0.1910164 , 0.15996879])]\n",
      "[0.07475232552561928]\n",
      "\n"
     ]
    }
   ],
   "source": [
    "#Create the training data set\n",
    "#Create the scaled training data set\n",
    "train_data = scaled_data[0:training_data_len , :]\n",
    "#Split the data into x_train and y_train data sets\n",
    "x_train = []\n",
    "y_train = []\n",
    "\n",
    "for i in range(60, len(train_data)):\n",
    "  x_train.append(train_data[i-60:i, 0])\n",
    "  y_train.append(train_data[i, 0])\n",
    "  if i<= 60:\n",
    "    print(x_train)\n",
    "    print(y_train)\n",
    "    print()"
   ]
  },
  {
   "cell_type": "code",
   "execution_count": 55,
   "metadata": {},
   "outputs": [],
   "source": [
    "#Convert the x_train and y_train to numpy arrays \n",
    "x_train, y_train = np.array(x_train), np.array(y_train)"
   ]
  },
  {
   "cell_type": "code",
   "execution_count": 56,
   "metadata": {},
   "outputs": [
    {
     "data": {
      "text/plain": [
       "(142, 60, 1)"
      ]
     },
     "execution_count": 56,
     "metadata": {},
     "output_type": "execute_result"
    }
   ],
   "source": [
    "#Reshape the data\n",
    "x_train = np.reshape(x_train, (x_train.shape[0], x_train.shape[1], 1))\n",
    "x_train.shape"
   ]
  },
  {
   "cell_type": "code",
   "execution_count": 57,
   "metadata": {},
   "outputs": [],
   "source": [
    "#Build the LSTM model\n",
    "model = Sequential()\n",
    "model.add(LSTM(50, return_sequences=True, input_shape= (x_train.shape[1], 1)))\n",
    "model.add(LSTM(50, return_sequences= False))\n",
    "model.add(Dense(25))\n",
    "model.add(Dense(1))"
   ]
  },
  {
   "cell_type": "code",
   "execution_count": 58,
   "metadata": {},
   "outputs": [],
   "source": [
    "#Compile the model\n",
    "model.compile(optimizer='adam', loss='mean_squared_error')"
   ]
  },
  {
   "cell_type": "code",
   "execution_count": 59,
   "metadata": {},
   "outputs": [
    {
     "name": "stdout",
     "output_type": "stream",
     "text": [
      "142/142 [==============================] - 5s 34ms/step - loss: 0.0205\n"
     ]
    },
    {
     "data": {
      "text/plain": [
       "<tensorflow.python.keras.callbacks.History at 0x1ecaa4f3280>"
      ]
     },
     "execution_count": 59,
     "metadata": {},
     "output_type": "execute_result"
    }
   ],
   "source": [
    "#Train the model\n",
    "model.fit(x_train, y_train, epochs=1, batch_size=1)"
   ]
  },
  {
   "cell_type": "code",
   "execution_count": 60,
   "metadata": {},
   "outputs": [],
   "source": [
    "#Create the testing data set\n",
    "#Create a new array containing scaled values from index 1543 to 2002 \n",
    "test_data = scaled_data[training_data_len - 60: , :]\n",
    "#Create the data sets x_test and y_test\n",
    "x_test = []\n",
    "y_test = dataset[training_data_len:, :]\n",
    "for i in range(60, len(test_data)):\n",
    "  x_test.append(test_data[i-60:i, 0])"
   ]
  },
  {
   "cell_type": "code",
   "execution_count": 61,
   "metadata": {},
   "outputs": [],
   "source": [
    "#Convert the data to a numpy array\n",
    "x_test = np.array(x_test)\n",
    "#Reshape the data\n",
    "x_test = np.reshape(x_test, (x_test.shape[0], x_test.shape[1], 1 ))\n",
    "#Get the models predicted price values \n",
    "predictions = model.predict(x_test)\n",
    "predictions = scaler.inverse_transform(predictions)"
   ]
  },
  {
   "cell_type": "code",
   "execution_count": 63,
   "metadata": {},
   "outputs": [
    {
     "name": "stderr",
     "output_type": "stream",
     "text": [
      "<ipython-input-63-8bfb0dd0ce16>:4: SettingWithCopyWarning: \n",
      "A value is trying to be set on a copy of a slice from a DataFrame.\n",
      "Try using .loc[row_indexer,col_indexer] = value instead\n",
      "\n",
      "See the caveats in the documentation: https://pandas.pydata.org/pandas-docs/stable/user_guide/indexing.html#returning-a-view-versus-a-copy\n",
      "  valid['Predictions'] = predictions\n"
     ]
    },
    {
     "data": {
      "image/png": "[encoded data removed]",
      "text/plain": [
       "<Figure size 1152x576 with 1 Axes>"
      ]
     },
     "metadata": {},
     "output_type": "display_data"
    }
   ],
   "source": [
    "#Plot the data\n",
    "train = data[:training_data_len]\n",
    "valid = data[training_data_len:]\n",
    "valid['Predictions'] = predictions\n",
    "#Visualize the data\n",
    "plt.figure(figsize=(16,8))\n",
    "plt.title('Model')\n",
    "plt.xlabel('Date', fontsize=18)\n",
    "plt.ylabel('Adj Close Price USD ($)', fontsize=18)\n",
    "plt.plot(train['Adj Close'])\n",
    "plt.plot(valid[['Adj Close', 'Predictions']])\n",
    "plt.legend(['Train', 'Test', 'Predictions'], loc='lower right')\n",
    "plt.show()"
   ]
  },
  {
   "cell_type": "code",
   "execution_count": 64,
   "metadata": {},
   "outputs": [
    {
     "data": {
      "text/html": [
       "<div>\n",
       "<style scoped>\n",
       "    .dataframe tbody tr th:only-of-type {\n",
       "        vertical-align: middle;\n",
       "    }\n",
       "\n",
       "    .dataframe tbody tr th {\n",
       "        vertical-align: top;\n",
       "    }\n",
       "\n",
       "    .dataframe thead th {\n",
       "        text-align: right;\n",
       "    }\n",
       "</style>\n",
       "<table border=\"1\" class=\"dataframe\">\n",
       "  <thead>\n",
       "    <tr style=\"text-align: right;\">\n",
       "      <th></th>\n",
       "      <th>Adj Close</th>\n",
       "      <th>Predictions</th>\n",
       "    </tr>\n",
       "  </thead>\n",
       "  <tbody>\n",
       "    <tr>\n",
       "      <th>202</th>\n",
       "      <td>112.825348</td>\n",
       "      <td>121.396439</td>\n",
       "    </tr>\n",
       "    <tr>\n",
       "      <th>203</th>\n",
       "      <td>116.299355</td>\n",
       "      <td>121.676979</td>\n",
       "    </tr>\n",
       "    <tr>\n",
       "      <th>204</th>\n",
       "      <td>112.965111</td>\n",
       "      <td>122.079575</td>\n",
       "    </tr>\n",
       "    <tr>\n",
       "      <th>205</th>\n",
       "      <td>114.881805</td>\n",
       "      <td>122.351997</td>\n",
       "    </tr>\n",
       "    <tr>\n",
       "      <th>206</th>\n",
       "      <td>114.771988</td>\n",
       "      <td>122.635841</td>\n",
       "    </tr>\n",
       "    <tr>\n",
       "      <th>207</th>\n",
       "      <td>116.768547</td>\n",
       "      <td>122.898140</td>\n",
       "    </tr>\n",
       "    <tr>\n",
       "      <th>208</th>\n",
       "      <td>124.185753</td>\n",
       "      <td>123.239136</td>\n",
       "    </tr>\n",
       "    <tr>\n",
       "      <th>209</th>\n",
       "      <td>120.891434</td>\n",
       "      <td>124.001915</td>\n",
       "    </tr>\n",
       "    <tr>\n",
       "      <th>210</th>\n",
       "      <td>120.981277</td>\n",
       "      <td>124.813690</td>\n",
       "    </tr>\n",
       "    <tr>\n",
       "      <th>211</th>\n",
       "      <td>120.502106</td>\n",
       "      <td>125.642128</td>\n",
       "    </tr>\n",
       "    <tr>\n",
       "      <th>212</th>\n",
       "      <td>118.815010</td>\n",
       "      <td>126.416763</td>\n",
       "    </tr>\n",
       "    <tr>\n",
       "      <th>213</th>\n",
       "      <td>115.780251</td>\n",
       "      <td>127.029869</td>\n",
       "    </tr>\n",
       "    <tr>\n",
       "      <th>214</th>\n",
       "      <td>117.307617</td>\n",
       "      <td>127.349159</td>\n",
       "    </tr>\n",
       "    <tr>\n",
       "      <th>215</th>\n",
       "      <td>116.668724</td>\n",
       "      <td>127.546600</td>\n",
       "    </tr>\n",
       "    <tr>\n",
       "      <th>216</th>\n",
       "      <td>115.550644</td>\n",
       "      <td>127.610184</td>\n",
       "    </tr>\n",
       "    <tr>\n",
       "      <th>217</th>\n",
       "      <td>114.841873</td>\n",
       "      <td>127.524231</td>\n",
       "    </tr>\n",
       "    <tr>\n",
       "      <th>218</th>\n",
       "      <td>114.851852</td>\n",
       "      <td>127.309349</td>\n",
       "    </tr>\n",
       "    <tr>\n",
       "      <th>219</th>\n",
       "      <td>116.399178</td>\n",
       "      <td>127.021866</td>\n",
       "    </tr>\n",
       "    <tr>\n",
       "      <th>220</th>\n",
       "      <td>111.008476</td>\n",
       "      <td>126.782188</td>\n",
       "    </tr>\n",
       "    <tr>\n",
       "      <th>221</th>\n",
       "      <td>115.121384</td>\n",
       "      <td>126.294495</td>\n",
       "    </tr>\n",
       "    <tr>\n",
       "      <th>222</th>\n",
       "      <td>108.672516</td>\n",
       "      <td>125.904793</td>\n",
       "    </tr>\n",
       "    <tr>\n",
       "      <th>223</th>\n",
       "      <td>108.582664</td>\n",
       "      <td>125.238441</td>\n",
       "    </tr>\n",
       "    <tr>\n",
       "      <th>224</th>\n",
       "      <td>110.249794</td>\n",
       "      <td>124.438660</td>\n",
       "    </tr>\n",
       "    <tr>\n",
       "      <th>225</th>\n",
       "      <td>114.752022</td>\n",
       "      <td>123.672493</td>\n",
       "    </tr>\n",
       "    <tr>\n",
       "      <th>226</th>\n",
       "      <td>118.824997</td>\n",
       "      <td>123.196724</td>\n",
       "    </tr>\n",
       "    <tr>\n",
       "      <th>227</th>\n",
       "      <td>118.690002</td>\n",
       "      <td>123.139854</td>\n",
       "    </tr>\n",
       "    <tr>\n",
       "      <th>228</th>\n",
       "      <td>116.320000</td>\n",
       "      <td>123.350883</td>\n",
       "    </tr>\n",
       "    <tr>\n",
       "      <th>229</th>\n",
       "      <td>115.970001</td>\n",
       "      <td>123.612411</td>\n",
       "    </tr>\n",
       "    <tr>\n",
       "      <th>230</th>\n",
       "      <td>119.489998</td>\n",
       "      <td>123.886597</td>\n",
       "    </tr>\n",
       "    <tr>\n",
       "      <th>231</th>\n",
       "      <td>119.209999</td>\n",
       "      <td>124.341301</td>\n",
       "    </tr>\n",
       "    <tr>\n",
       "      <th>232</th>\n",
       "      <td>119.260002</td>\n",
       "      <td>124.865532</td>\n",
       "    </tr>\n",
       "    <tr>\n",
       "      <th>233</th>\n",
       "      <td>120.300003</td>\n",
       "      <td>125.415298</td>\n",
       "    </tr>\n",
       "    <tr>\n",
       "      <th>234</th>\n",
       "      <td>119.389999</td>\n",
       "      <td>126.010132</td>\n",
       "    </tr>\n",
       "    <tr>\n",
       "      <th>235</th>\n",
       "      <td>118.029999</td>\n",
       "      <td>126.553848</td>\n",
       "    </tr>\n",
       "    <tr>\n",
       "      <th>236</th>\n",
       "      <td>118.639999</td>\n",
       "      <td>126.968330</td>\n",
       "    </tr>\n",
       "    <tr>\n",
       "      <th>237</th>\n",
       "      <td>117.339996</td>\n",
       "      <td>127.312714</td>\n",
       "    </tr>\n",
       "    <tr>\n",
       "      <th>238</th>\n",
       "      <td>113.849998</td>\n",
       "      <td>127.520782</td>\n",
       "    </tr>\n",
       "    <tr>\n",
       "      <th>239</th>\n",
       "      <td>115.169998</td>\n",
       "      <td>127.446686</td>\n",
       "    </tr>\n",
       "    <tr>\n",
       "      <th>240</th>\n",
       "      <td>116.029999</td>\n",
       "      <td>127.269669</td>\n",
       "    </tr>\n",
       "    <tr>\n",
       "      <th>241</th>\n",
       "      <td>116.589996</td>\n",
       "      <td>127.070396</td>\n",
       "    </tr>\n",
       "    <tr>\n",
       "      <th>242</th>\n",
       "      <td>119.050003</td>\n",
       "      <td>126.892769</td>\n",
       "    </tr>\n",
       "    <tr>\n",
       "      <th>243</th>\n",
       "      <td>122.720001</td>\n",
       "      <td>126.868614</td>\n",
       "    </tr>\n",
       "    <tr>\n",
       "      <th>244</th>\n",
       "      <td>123.080002</td>\n",
       "      <td>127.136124</td>\n",
       "    </tr>\n",
       "    <tr>\n",
       "      <th>245</th>\n",
       "      <td>122.940002</td>\n",
       "      <td>127.595360</td>\n",
       "    </tr>\n",
       "    <tr>\n",
       "      <th>246</th>\n",
       "      <td>122.250000</td>\n",
       "      <td>128.157013</td>\n",
       "    </tr>\n",
       "    <tr>\n",
       "      <th>247</th>\n",
       "      <td>123.750000</td>\n",
       "      <td>128.726410</td>\n",
       "    </tr>\n",
       "    <tr>\n",
       "      <th>248</th>\n",
       "      <td>124.379997</td>\n",
       "      <td>129.355759</td>\n",
       "    </tr>\n",
       "    <tr>\n",
       "      <th>249</th>\n",
       "      <td>121.779999</td>\n",
       "      <td>130.021118</td>\n",
       "    </tr>\n",
       "    <tr>\n",
       "      <th>250</th>\n",
       "      <td>123.239998</td>\n",
       "      <td>130.538223</td>\n",
       "    </tr>\n",
       "    <tr>\n",
       "      <th>251</th>\n",
       "      <td>122.410004</td>\n",
       "      <td>131.018784</td>\n",
       "    </tr>\n",
       "  </tbody>\n",
       "</table>\n",
       "</div>"
      ],
      "text/plain": [
       "      Adj Close  Predictions\n",
       "202  112.825348   121.396439\n",
       "203  116.299355   121.676979\n",
       "204  112.965111   122.079575\n",
       "205  114.881805   122.351997\n",
       "206  114.771988   122.635841\n",
       "207  116.768547   122.898140\n",
       "208  124.185753   123.239136\n",
       "209  120.891434   124.001915\n",
       "210  120.981277   124.813690\n",
       "211  120.502106   125.642128\n",
       "212  118.815010   126.416763\n",
       "213  115.780251   127.029869\n",
       "214  117.307617   127.349159\n",
       "215  116.668724   127.546600\n",
       "216  115.550644   127.610184\n",
       "217  114.841873   127.524231\n",
       "218  114.851852   127.309349\n",
       "219  116.399178   127.021866\n",
       "220  111.008476   126.782188\n",
       "221  115.121384   126.294495\n",
       "222  108.672516   125.904793\n",
       "223  108.582664   125.238441\n",
       "224  110.249794   124.438660\n",
       "225  114.752022   123.672493\n",
       "226  118.824997   123.196724\n",
       "227  118.690002   123.139854\n",
       "228  116.320000   123.350883\n",
       "229  115.970001   123.612411\n",
       "230  119.489998   123.886597\n",
       "231  119.209999   124.341301\n",
       "232  119.260002   124.865532\n",
       "233  120.300003   125.415298\n",
       "234  119.389999   126.010132\n",
       "235  118.029999   126.553848\n",
       "236  118.639999   126.968330\n",
       "237  117.339996   127.312714\n",
       "238  113.849998   127.520782\n",
       "239  115.169998   127.446686\n",
       "240  116.029999   127.269669\n",
       "241  116.589996   127.070396\n",
       "242  119.050003   126.892769\n",
       "243  122.720001   126.868614\n",
       "244  123.080002   127.136124\n",
       "245  122.940002   127.595360\n",
       "246  122.250000   128.157013\n",
       "247  123.750000   128.726410\n",
       "248  124.379997   129.355759\n",
       "249  121.779999   130.021118\n",
       "250  123.239998   130.538223\n",
       "251  122.410004   131.018784"
      ]
     },
     "execution_count": 64,
     "metadata": {},
     "output_type": "execute_result"
    }
   ],
   "source": [
    "#Show the valid and predicted prices\n",
    "valid"
   ]
  },
  {
   "cell_type": "code",
   "execution_count": 65,
   "metadata": {},
   "outputs": [
    {
     "name": "stdout",
     "output_type": "stream",
     "text": [
      "[[65.42702]]\n"
     ]
    }
   ],
   "source": [
    "#Get the quote\n",
    "quote_quote = pd.read_csv('AMZN.csv')\n",
    "#Create a new dataframe\n",
    "new_df = quote_quote.filter(['Adj Close'])\n",
    "#Get teh last 60 day closing price values and convert the dataframe to an array\n",
    "last_60_days = new_df[-60:].values\n",
    "#Scale the data to be values between 0 and 1\n",
    "last_60_days_scaled = scaler.transform(last_60_days)\n",
    "#Create an empty list\n",
    "X_test = []\n",
    "#Append teh past 60 days\n",
    "X_test.append(last_60_days_scaled)\n",
    "#Convert the X_test data set to a numpy array\n",
    "X_test = np.array(X_test)\n",
    "#Reshape the data\n",
    "X_test = np.reshape(X_test, (X_test.shape[0], X_test.shape[1], 1))\n",
    "#Get the predicted scaled price\n",
    "pred_price = model.predict(X_test)\n",
    "#undo the scaling \n",
    "pred_price = scaler.inverse_transform(pred_price)\n",
    "print(pred_price)"
   ]
  },
  {
   "cell_type": "code",
   "execution_count": 67,
   "metadata": {},
   "outputs": [],
   "source": [
    "# Import metrics package from sklearn for statistical analysis\n",
    "from sklearn import metrics"
   ]
  },
  {
   "cell_type": "code",
   "execution_count": 68,
   "metadata": {},
   "outputs": [
    {
     "name": "stdout",
     "output_type": "stream",
     "text": [
      "Mean Absolute Error: 8.293195532763672\n",
      "Mean Squared Error: 82.09395753050235\n",
      "Mean Absolute Percentage Error: 7.1424111813699245\n",
      "Root Mean Squared Error: 9.060571589613005\n"
     ]
    }
   ],
   "source": [
    "# Calculate and print values of MAE, MSE, RMSE\n",
    "print('Mean Absolute Error:', metrics.mean_absolute_error(y_test, predictions))  \n",
    "print('Mean Squared Error:', metrics.mean_squared_error(y_test,predictions ))  \n",
    "print('Mean Absolute Percentage Error:', np.mean(np.abs((predictions - y_test ) / y_test)*100)) \n",
    "print('Root Mean Squared Error:', np.sqrt(np.mean(((predictions- y_test)**2))))"
   ]
  },
  {
   "cell_type": "markdown",
   "metadata": {},
   "source": [
    "# Decision Tree Classifier"
   ]
  },
  {
   "cell_type": "markdown",
   "metadata": {},
   "source": [
    "Дерево решений — это метод представления решающих правил в иерархической структуре, состоящей из элементов двух типов — узлов (node) и листьев (leaf). В узлах находятся решающие правила и производится проверка соответствия примеров этому правилу по какому-либо атрибуту обучающего множества.\n",
    "\n",
    "\n",
    "Затем к каждому подмножеству вновь применяется правило и процедура рекурсивно повторяется пока не будет достигнуто некоторое условие остановки алгоритма. В результате в последнем узле проверка и разбиение не производится и он объявляется листом. Лист определяет решение для каждого попавшего в него примера. Для дерева классификации — это класс, ассоциируемый с узлом, а для дерева регрессии — соответствующий листу модальный интервал целевой переменной.\n",
    "\n",
    "\n",
    "Таким образом, в отличие от узла, в листе содержится не правило, а подмножество объектов, удовлетворяющих всем правилам ветви, которая заканчивается данным листом.\n",
    "\n",
    "\n",
    "Очевидно, чтобы попасть в лист, пример должен удовлетворять всем правилам, лежащим на пути к этому листу. Поскольку путь в дереве к каждому листу единственный, то и каждый пример может попасть только в один лист, что обеспечивает единственность решения."
   ]
  },
  {
   "cell_type": "code",
   "execution_count": 115,
   "metadata": {},
   "outputs": [],
   "source": [
    "from sklearn.metrics import accuracy_score"
   ]
  },
  {
   "cell_type": "code",
   "execution_count": 116,
   "metadata": {},
   "outputs": [
    {
     "data": {
      "text/html": [
       "<div>\n",
       "<style scoped>\n",
       "    .dataframe tbody tr th:only-of-type {\n",
       "        vertical-align: middle;\n",
       "    }\n",
       "\n",
       "    .dataframe tbody tr th {\n",
       "        vertical-align: top;\n",
       "    }\n",
       "\n",
       "    .dataframe thead th {\n",
       "        text-align: right;\n",
       "    }\n",
       "</style>\n",
       "<table border=\"1\" class=\"dataframe\">\n",
       "  <thead>\n",
       "    <tr style=\"text-align: right;\">\n",
       "      <th></th>\n",
       "      <th>Date</th>\n",
       "      <th>Open</th>\n",
       "      <th>High</th>\n",
       "      <th>Low</th>\n",
       "      <th>Close</th>\n",
       "      <th>Adj Close</th>\n",
       "      <th>Volume</th>\n",
       "    </tr>\n",
       "  </thead>\n",
       "  <tbody>\n",
       "    <tr>\n",
       "      <th>0</th>\n",
       "      <td>2019-12-13</td>\n",
       "      <td>67.864998</td>\n",
       "      <td>68.824997</td>\n",
       "      <td>67.732498</td>\n",
       "      <td>68.787498</td>\n",
       "      <td>67.644707</td>\n",
       "      <td>133587600</td>\n",
       "    </tr>\n",
       "    <tr>\n",
       "      <th>1</th>\n",
       "      <td>2019-12-16</td>\n",
       "      <td>69.250000</td>\n",
       "      <td>70.197502</td>\n",
       "      <td>69.245003</td>\n",
       "      <td>69.964996</td>\n",
       "      <td>68.802635</td>\n",
       "      <td>128186000</td>\n",
       "    </tr>\n",
       "    <tr>\n",
       "      <th>2</th>\n",
       "      <td>2019-12-17</td>\n",
       "      <td>69.892502</td>\n",
       "      <td>70.442497</td>\n",
       "      <td>69.699997</td>\n",
       "      <td>70.102501</td>\n",
       "      <td>68.937851</td>\n",
       "      <td>114158400</td>\n",
       "    </tr>\n",
       "    <tr>\n",
       "      <th>3</th>\n",
       "      <td>2019-12-18</td>\n",
       "      <td>69.949997</td>\n",
       "      <td>70.474998</td>\n",
       "      <td>69.779999</td>\n",
       "      <td>69.934998</td>\n",
       "      <td>68.773132</td>\n",
       "      <td>116028400</td>\n",
       "    </tr>\n",
       "    <tr>\n",
       "      <th>4</th>\n",
       "      <td>2019-12-19</td>\n",
       "      <td>69.875000</td>\n",
       "      <td>70.294998</td>\n",
       "      <td>69.737503</td>\n",
       "      <td>70.004997</td>\n",
       "      <td>68.841965</td>\n",
       "      <td>98369200</td>\n",
       "    </tr>\n",
       "    <tr>\n",
       "      <th>...</th>\n",
       "      <td>...</td>\n",
       "      <td>...</td>\n",
       "      <td>...</td>\n",
       "      <td>...</td>\n",
       "      <td>...</td>\n",
       "      <td>...</td>\n",
       "      <td>...</td>\n",
       "    </tr>\n",
       "    <tr>\n",
       "      <th>247</th>\n",
       "      <td>2020-12-07</td>\n",
       "      <td>122.309998</td>\n",
       "      <td>124.570000</td>\n",
       "      <td>122.250000</td>\n",
       "      <td>123.750000</td>\n",
       "      <td>123.750000</td>\n",
       "      <td>86712000</td>\n",
       "    </tr>\n",
       "    <tr>\n",
       "      <th>248</th>\n",
       "      <td>2020-12-08</td>\n",
       "      <td>124.370003</td>\n",
       "      <td>124.980003</td>\n",
       "      <td>123.089996</td>\n",
       "      <td>124.379997</td>\n",
       "      <td>124.379997</td>\n",
       "      <td>82225500</td>\n",
       "    </tr>\n",
       "    <tr>\n",
       "      <th>249</th>\n",
       "      <td>2020-12-09</td>\n",
       "      <td>124.529999</td>\n",
       "      <td>125.949997</td>\n",
       "      <td>121.000000</td>\n",
       "      <td>121.779999</td>\n",
       "      <td>121.779999</td>\n",
       "      <td>115089200</td>\n",
       "    </tr>\n",
       "    <tr>\n",
       "      <th>250</th>\n",
       "      <td>2020-12-10</td>\n",
       "      <td>120.500000</td>\n",
       "      <td>123.870003</td>\n",
       "      <td>120.150002</td>\n",
       "      <td>123.239998</td>\n",
       "      <td>123.239998</td>\n",
       "      <td>81312200</td>\n",
       "    </tr>\n",
       "    <tr>\n",
       "      <th>251</th>\n",
       "      <td>2020-12-11</td>\n",
       "      <td>122.430000</td>\n",
       "      <td>122.760002</td>\n",
       "      <td>120.550003</td>\n",
       "      <td>122.410004</td>\n",
       "      <td>122.410004</td>\n",
       "      <td>86860000</td>\n",
       "    </tr>\n",
       "  </tbody>\n",
       "</table>\n",
       "<p>252 rows × 7 columns</p>\n",
       "</div>"
      ],
      "text/plain": [
       "           Date        Open        High         Low       Close   Adj Close  \\\n",
       "0    2019-12-13   67.864998   68.824997   67.732498   68.787498   67.644707   \n",
       "1    2019-12-16   69.250000   70.197502   69.245003   69.964996   68.802635   \n",
       "2    2019-12-17   69.892502   70.442497   69.699997   70.102501   68.937851   \n",
       "3    2019-12-18   69.949997   70.474998   69.779999   69.934998   68.773132   \n",
       "4    2019-12-19   69.875000   70.294998   69.737503   70.004997   68.841965   \n",
       "..          ...         ...         ...         ...         ...         ...   \n",
       "247  2020-12-07  122.309998  124.570000  122.250000  123.750000  123.750000   \n",
       "248  2020-12-08  124.370003  124.980003  123.089996  124.379997  124.379997   \n",
       "249  2020-12-09  124.529999  125.949997  121.000000  121.779999  121.779999   \n",
       "250  2020-12-10  120.500000  123.870003  120.150002  123.239998  123.239998   \n",
       "251  2020-12-11  122.430000  122.760002  120.550003  122.410004  122.410004   \n",
       "\n",
       "        Volume  \n",
       "0    133587600  \n",
       "1    128186000  \n",
       "2    114158400  \n",
       "3    116028400  \n",
       "4     98369200  \n",
       "..         ...  \n",
       "247   86712000  \n",
       "248   82225500  \n",
       "249  115089200  \n",
       "250   81312200  \n",
       "251   86860000  \n",
       "\n",
       "[252 rows x 7 columns]"
      ]
     },
     "execution_count": 116,
     "metadata": {},
     "output_type": "execute_result"
    }
   ],
   "source": [
    "#Get the stock quote\n",
    "df = pd.read_csv('AMZN.csv')\n",
    "#Show teh data\n",
    "df"
   ]
  },
  {
   "cell_type": "code",
   "execution_count": 117,
   "metadata": {},
   "outputs": [
    {
     "data": {
      "text/html": [
       "        <script type=\"text/javascript\">\n",
       "        window.PlotlyConfig = {MathJaxConfig: 'local'};\n",
       "        if (window.MathJax) {MathJax.Hub.Config({SVG: {font: \"STIX-Web\"}});}\n",
       "        if (typeof require !== 'undefined') {\n",
       "        require.undef(\"plotly\");\n",
       "        requirejs.config({\n",
       "            paths: {\n",
       "                'plotly': ['https://cdn.plot.ly/plotly-latest.min']\n",
       "            }\n",
       "        });\n",
       "        require(['plotly'], function(Plotly) {\n",
       "            window._Plotly = Plotly;\n",
       "        });\n",
       "        }\n",
       "        </script>\n",
       "        "
      ]
     },
     "metadata": {},
     "output_type": "display_data"
    }
   ],
   "source": [
    "import chart_studio.plotly as py\n",
    "import plotly.graph_objs as go\n",
    "from plotly.offline import plot\n",
    "\n",
    "from plotly.offline import download_plotlyjs, init_notebook_mode, plot, iplot\n",
    "init_notebook_mode(connected=True)"
   ]
  },
  {
   "cell_type": "code",
   "execution_count": 118,
   "metadata": {},
   "outputs": [],
   "source": [
    "layout = go.Layout(\n",
    "    title='Amazon Stock Prices',\n",
    "        xaxis=dict(\n",
    "            title='date',\n",
    "            titlefont=dict(\n",
    "                family='Courier New, monospace',\n",
    "                size=18,\n",
    "                color='blue'\n",
    "            )\n",
    "        ),\n",
    "        yaxis=dict(\n",
    "            title='Price',\n",
    "            titlefont=dict(\n",
    "                family='Courier New, monospace',\n",
    "                size=18,\n",
    "                color='red'\n",
    "        )\n",
    "    )\n",
    ")\n",
    "df_data = [{'x':df['Date'], 'y':df['Close']}]\n",
    "plot = go.Figure(data=df_data, layout=layout)"
   ]
  },
  {
   "cell_type": "code",
   "execution_count": 119,
   "metadata": {},
   "outputs": [
    {
     "data": {
      "application/vnd.plotly.v1+json": {
       "config": {
        "linkText": "Export to plot.ly",
        "plotlyServerURL": "https://plot.ly",
        "showLink": false
       },
       "data": [
        {
         "type": "scatter",
         "x": [
          "2019-12-13",
          "2019-12-16",
          "2019-12-17",
          "2019-12-18",
          "2019-12-19",
          "2019-12-20",
          "2019-12-23",
          "2019-12-24",
          "2019-12-26",
          "2019-12-27",
          "2019-12-30",
          "2019-12-31",
          "2020-01-02",
          "2020-01-03",
          "2020-01-06",
          "2020-01-07",
          "2020-01-08",
          "2020-01-09",
          "2020-01-10",
          "2020-01-13",
          "2020-01-14",
          "2020-01-15",
          "2020-01-16",
          "2020-01-17",
          "2020-01-21",
          "2020-01-22",
          "2020-01-23",
          "2020-01-24",
          "2020-01-27",
          "2020-01-28",
          "2020-01-29",
          "2020-01-30",
          "2020-01-31",
          "2020-02-03",
          "2020-02-04",
          "2020-02-05",
          "2020-02-06",
          "2020-02-07",
          "2020-02-10",
          "2020-02-11",
          "2020-02-12",
          "2020-02-13",
          "2020-02-14",
          "2020-02-18",
          "2020-02-19",
          "2020-02-20",
          "2020-02-21",
          "2020-02-24",
          "2020-02-25",
          "2020-02-26",
          "2020-02-27",
          "2020-02-28",
          "2020-03-02",
          "2020-03-03",
          "2020-03-04",
          "2020-03-05",
          "2020-03-06",
          "2020-03-09",
          "2020-03-10",
          "2020-03-11",
          "2020-03-12",
          "2020-03-13",
          "2020-03-16",
          "2020-03-17",
          "2020-03-18",
          "2020-03-19",
          "2020-03-20",
          "2020-03-23",
          "2020-03-24",
          "2020-03-25",
          "2020-03-26",
          "2020-03-27",
          "2020-03-30",
          "2020-03-31",
          "2020-04-01",
          "2020-04-02",
          "2020-04-03",
          "2020-04-06",
          "2020-04-07",
          "2020-04-08",
          "2020-04-09",
          "2020-04-13",
          "2020-04-14",
          "2020-04-15",
          "2020-04-16",
          "2020-04-17",
          "2020-04-20",
          "2020-04-21",
          "2020-04-22",
          "2020-04-23",
          "2020-04-24",
          "2020-04-27",
          "2020-04-28",
          "2020-04-29",
          "2020-04-30",
          "2020-05-01",
          "2020-05-04",
          "2020-05-05",
          "2020-05-06",
          "2020-05-07",
          "2020-05-08",
          "2020-05-11",
          "2020-05-12",
          "2020-05-13",
          "2020-05-14",
          "2020-05-15",
          "2020-05-18",
          "2020-05-19",
          "2020-05-20",
          "2020-05-21",
          "2020-05-22",
          "2020-05-26",
          "2020-05-27",
          "2020-05-28",
          "2020-05-29",
          "2020-06-01",
          "2020-06-02",
          "2020-06-03",
          "2020-06-04",
          "2020-06-05",
          "2020-06-08",
          "2020-06-09",
          "2020-06-10",
          "2020-06-11",
          "2020-06-12",
          "2020-06-15",
          "2020-06-16",
          "2020-06-17",
          "2020-06-18",
          "2020-06-19",
          "2020-06-22",
          "2020-06-23",
          "2020-06-24",
          "2020-06-25",
          "2020-06-26",
          "2020-06-29",
          "2020-06-30",
          "2020-07-01",
          "2020-07-02",
          "2020-07-06",
          "2020-07-07",
          "2020-07-08",
          "2020-07-09",
          "2020-07-10",
          "2020-07-13",
          "2020-07-14",
          "2020-07-15",
          "2020-07-16",
          "2020-07-17",
          "2020-07-20",
          "2020-07-21",
          "2020-07-22",
          "2020-07-23",
          "2020-07-24",
          "2020-07-27",
          "2020-07-28",
          "2020-07-29",
          "2020-07-30",
          "2020-07-31",
          "2020-08-03",
          "2020-08-04",
          "2020-08-05",
          "2020-08-06",
          "2020-08-07",
          "2020-08-10",
          "2020-08-11",
          "2020-08-12",
          "2020-08-13",
          "2020-08-14",
          "2020-08-17",
          "2020-08-18",
          "2020-08-19",
          "2020-08-20",
          "2020-08-21",
          "2020-08-24",
          "2020-08-25",
          "2020-08-26",
          "2020-08-27",
          "2020-08-28",
          "2020-08-31",
          "2020-09-01",
          "2020-09-02",
          "2020-09-03",
          "2020-09-04",
          "2020-09-08",
          "2020-09-09",
          "2020-09-10",
          "2020-09-11",
          "2020-09-14",
          "2020-09-15",
          "2020-09-16",
          "2020-09-17",
          "2020-09-18",
          "2020-09-21",
          "2020-09-22",
          "2020-09-23",
          "2020-09-24",
          "2020-09-25",
          "2020-09-28",
          "2020-09-29",
          "2020-09-30",
          "2020-10-01",
          "2020-10-02",
          "2020-10-05",
          "2020-10-06",
          "2020-10-07",
          "2020-10-08",
          "2020-10-09",
          "2020-10-12",
          "2020-10-13",
          "2020-10-14",
          "2020-10-15",
          "2020-10-16",
          "2020-10-19",
          "2020-10-20",
          "2020-10-21",
          "2020-10-22",
          "2020-10-23",
          "2020-10-26",
          "2020-10-27",
          "2020-10-28",
          "2020-10-29",
          "2020-10-30",
          "2020-11-02",
          "2020-11-03",
          "2020-11-04",
          "2020-11-05",
          "2020-11-06",
          "2020-11-09",
          "2020-11-10",
          "2020-11-11",
          "2020-11-12",
          "2020-11-13",
          "2020-11-16",
          "2020-11-17",
          "2020-11-18",
          "2020-11-19",
          "2020-11-20",
          "2020-11-23",
          "2020-11-24",
          "2020-11-25",
          "2020-11-27",
          "2020-11-30",
          "2020-12-01",
          "2020-12-02",
          "2020-12-03",
          "2020-12-04",
          "2020-12-07",
          "2020-12-08",
          "2020-12-09",
          "2020-12-10",
          "2020-12-11"
         ],
         "y": [
          68.787498,
          69.964996,
          70.102501,
          69.934998,
          70.004997,
          69.860001,
          71,
          71.067497,
          72.477501,
          72.449997,
          72.879997,
          73.412498,
          75.087502,
          74.35749799999999,
          74.949997,
          74.597504,
          75.797501,
          77.407501,
          77.582497,
          79.239998,
          78.16999799999999,
          77.834999,
          78.809998,
          79.682503,
          79.14250200000001,
          79.425003,
          79.807503,
          79.577499,
          77.237503,
          79.422501,
          81.084999,
          80.967499,
          77.377502,
          77.165001,
          79.712502,
          80.362503,
          81.302498,
          80.0075,
          80.387497,
          79.902496,
          81.800003,
          81.217499,
          81.237503,
          79.75,
          80.904999,
          80.074997,
          78.262497,
          74.54499799999999,
          72.019997,
          73.162498,
          68.379997,
          68.339996,
          74.702499,
          72.33000200000001,
          75.684998,
          73.230003,
          72.2575,
          66.542503,
          71.334999,
          68.85749799999999,
          62.057499,
          69.4925,
          60.552502000000004,
          63.215,
          61.6675,
          61.195,
          57.310001,
          56.092499,
          61.720001,
          61.380001,
          64.610001,
          61.935001,
          63.702498999999996,
          63.572497999999996,
          60.227501000000004,
          61.232498,
          60.352501000000004,
          65.6175,
          64.85749799999999,
          66.51750200000001,
          66.997498,
          68.3125,
          71.762497,
          71.10749799999999,
          71.672501,
          70.699997,
          69.23249799999999,
          67.092499,
          69.025002,
          68.7575,
          70.7425,
          70.792503,
          69.644997,
          71.932503,
          73.449997,
          72.26750200000001,
          73.290001,
          74.389999,
          75.157501,
          75.934998,
          77.532501,
          78.752502,
          77.852501,
          76.912498,
          77.385002,
          76.927498,
          78.739998,
          78.285004,
          79.807503,
          79.212502,
          79.722504,
          79.182503,
          79.527496,
          79.5625,
          79.485001,
          80.462502,
          80.834999,
          81.279999,
          80.58000200000001,
          82.875,
          83.364998,
          85.997498,
          88.209999,
          83.974998,
          84.699997,
          85.747498,
          88.019997,
          87.897499,
          87.932503,
          87.43,
          89.717499,
          91.6325,
          90.014999,
          91.209999,
          88.407501,
          90.445,
          91.199997,
          91.027496,
          91.027496,
          93.462502,
          93.172501,
          95.342499,
          95.752502,
          95.91999799999999,
          95.477501,
          97.057503,
          97.724998,
          96.522499,
          96.327499,
          98.35749799999999,
          97,
          97.272499,
          92.845001,
          92.614998,
          94.809998,
          93.252502,
          95.040001,
          96.190002,
          106.260002,
          108.9375,
          109.665001,
          110.0625,
          113.902496,
          111.112503,
          112.727501,
          109.375,
          113.010002,
          115.010002,
          114.907501,
          114.60749799999999,
          115.5625,
          115.707497,
          118.275002,
          124.370003,
          125.85749799999999,
          124.824997,
          126.522499,
          125.010002,
          124.807503,
          129.03999299999998,
          134.179993,
          131.399994,
          120.879997,
          120.959999,
          112.82,
          117.32,
          113.489998,
          112,
          115.360001,
          115.540001,
          112.129997,
          110.339996,
          106.839996,
          110.08000200000001,
          111.809998,
          107.120003,
          108.220001,
          112.279999,
          114.959999,
          114.089996,
          115.809998,
          116.790001,
          113.019997,
          116.5,
          113.160004,
          115.08000200000001,
          114.970001,
          116.970001,
          124.400002,
          121.099998,
          121.190002,
          120.709999,
          119.019997,
          115.980003,
          117.510002,
          116.870003,
          115.75,
          115.040001,
          115.050003,
          116.599998,
          111.199997,
          115.32,
          108.860001,
          108.769997,
          110.440002,
          114.949997,
          119.029999,
          118.690002,
          116.32,
          115.970001,
          119.489998,
          119.209999,
          119.260002,
          120.300003,
          119.389999,
          118.029999,
          118.639999,
          117.339996,
          113.849998,
          115.16999799999999,
          116.029999,
          116.589996,
          119.050003,
          122.720001,
          123.08000200000001,
          122.940002,
          122.25,
          123.75,
          124.379997,
          121.779999,
          123.239998,
          122.410004
         ]
        }
       ],
       "layout": {
        "template": {
         "data": {
          "bar": [
           {
            "error_x": {
             "color": "#2a3f5f"
            },
            "error_y": {
             "color": "#2a3f5f"
            },
            "marker": {
             "line": {
              "color": "#E5ECF6",
              "width": 0.5
             }
            },
            "type": "bar"
           }
          ],
          "barpolar": [
           {
            "marker": {
             "line": {
              "color": "#E5ECF6",
              "width": 0.5
             }
            },
            "type": "barpolar"
           }
          ],
          "carpet": [
           {
            "aaxis": {
             "endlinecolor": "#2a3f5f",
             "gridcolor": "white",
             "linecolor": "white",
             "minorgridcolor": "white",
             "startlinecolor": "#2a3f5f"
            },
            "baxis": {
             "endlinecolor": "#2a3f5f",
             "gridcolor": "white",
             "linecolor": "white",
             "minorgridcolor": "white",
             "startlinecolor": "#2a3f5f"
            },
            "type": "carpet"
           }
          ],
          "choropleth": [
           {
            "colorbar": {
             "outlinewidth": 0,
             "ticks": ""
            },
            "type": "choropleth"
           }
          ],
          "contour": [
           {
            "colorbar": {
             "outlinewidth": 0,
             "ticks": ""
            },
            "colorscale": [
             [
              0,
              "#0d0887"
             ],
             [
              0.1111111111111111,
              "#46039f"
             ],
             [
              0.2222222222222222,
              "#7201a8"
             ],
             [
              0.3333333333333333,
              "#9c179e"
             ],
             [
              0.4444444444444444,
              "#bd3786"
             ],
             [
              0.5555555555555556,
              "#d8576b"
             ],
             [
              0.6666666666666666,
              "#ed7953"
             ],
             [
              0.7777777777777778,
              "#fb9f3a"
             ],
             [
              0.8888888888888888,
              "#fdca26"
             ],
             [
              1,
              "#f0f921"
             ]
            ],
            "type": "contour"
           }
          ],
          "contourcarpet": [
           {
            "colorbar": {
             "outlinewidth": 0,
             "ticks": ""
            },
            "type": "contourcarpet"
           }
          ],
          "heatmap": [
           {
            "colorbar": {
             "outlinewidth": 0,
             "ticks": ""
            },
            "colorscale": [
             [
              0,
              "#0d0887"
             ],
             [
              0.1111111111111111,
              "#46039f"
             ],
             [
              0.2222222222222222,
              "#7201a8"
             ],
             [
              0.3333333333333333,
              "#9c179e"
             ],
             [
              0.4444444444444444,
              "#bd3786"
             ],
             [
              0.5555555555555556,
              "#d8576b"
             ],
             [
              0.6666666666666666,
              "#ed7953"
             ],
             [
              0.7777777777777778,
              "#fb9f3a"
             ],
             [
              0.8888888888888888,
              "#fdca26"
             ],
             [
              1,
              "#f0f921"
             ]
            ],
            "type": "heatmap"
           }
          ],
          "heatmapgl": [
           {
            "colorbar": {
             "outlinewidth": 0,
             "ticks": ""
            },
            "colorscale": [
             [
              0,
              "#0d0887"
             ],
             [
              0.1111111111111111,
              "#46039f"
             ],
             [
              0.2222222222222222,
              "#7201a8"
             ],
             [
              0.3333333333333333,
              "#9c179e"
             ],
             [
              0.4444444444444444,
              "#bd3786"
             ],
             [
              0.5555555555555556,
              "#d8576b"
             ],
             [
              0.6666666666666666,
              "#ed7953"
             ],
             [
              0.7777777777777778,
              "#fb9f3a"
             ],
             [
              0.8888888888888888,
              "#fdca26"
             ],
             [
              1,
              "#f0f921"
             ]
            ],
            "type": "heatmapgl"
           }
          ],
          "histogram": [
           {
            "marker": {
             "colorbar": {
              "outlinewidth": 0,
              "ticks": ""
             }
            },
            "type": "histogram"
           }
          ],
          "histogram2d": [
           {
            "colorbar": {
             "outlinewidth": 0,
             "ticks": ""
            },
            "colorscale": [
             [
              0,
              "#0d0887"
             ],
             [
              0.1111111111111111,
              "#46039f"
             ],
             [
              0.2222222222222222,
              "#7201a8"
             ],
             [
              0.3333333333333333,
              "#9c179e"
             ],
             [
              0.4444444444444444,
              "#bd3786"
             ],
             [
              0.5555555555555556,
              "#d8576b"
             ],
             [
              0.6666666666666666,
              "#ed7953"
             ],
             [
              0.7777777777777778,
              "#fb9f3a"
             ],
             [
              0.8888888888888888,
              "#fdca26"
             ],
             [
              1,
              "#f0f921"
             ]
            ],
            "type": "histogram2d"
           }
          ],
          "histogram2dcontour": [
           {
            "colorbar": {
             "outlinewidth": 0,
             "ticks": ""
            },
            "colorscale": [
             [
              0,
              "#0d0887"
             ],
             [
              0.1111111111111111,
              "#46039f"
             ],
             [
              0.2222222222222222,
              "#7201a8"
             ],
             [
              0.3333333333333333,
              "#9c179e"
             ],
             [
              0.4444444444444444,
              "#bd3786"
             ],
             [
              0.5555555555555556,
              "#d8576b"
             ],
             [
              0.6666666666666666,
              "#ed7953"
             ],
             [
              0.7777777777777778,
              "#fb9f3a"
             ],
             [
              0.8888888888888888,
              "#fdca26"
             ],
             [
              1,
              "#f0f921"
             ]
            ],
            "type": "histogram2dcontour"
           }
          ],
          "mesh3d": [
           {
            "colorbar": {
             "outlinewidth": 0,
             "ticks": ""
            },
            "type": "mesh3d"
           }
          ],
          "parcoords": [
           {
            "line": {
             "colorbar": {
              "outlinewidth": 0,
              "ticks": ""
             }
            },
            "type": "parcoords"
           }
          ],
          "pie": [
           {
            "automargin": true,
            "type": "pie"
           }
          ],
          "scatter": [
           {
            "marker": {
             "colorbar": {
              "outlinewidth": 0,
              "ticks": ""
             }
            },
            "type": "scatter"
           }
          ],
          "scatter3d": [
           {
            "line": {
             "colorbar": {
              "outlinewidth": 0,
              "ticks": ""
             }
            },
            "marker": {
             "colorbar": {
              "outlinewidth": 0,
              "ticks": ""
             }
            },
            "type": "scatter3d"
           }
          ],
          "scattercarpet": [
           {
            "marker": {
             "colorbar": {
              "outlinewidth": 0,
              "ticks": ""
             }
            },
            "type": "scattercarpet"
           }
          ],
          "scattergeo": [
           {
            "marker": {
             "colorbar": {
              "outlinewidth": 0,
              "ticks": ""
             }
            },
            "type": "scattergeo"
           }
          ],
          "scattergl": [
           {
            "marker": {
             "colorbar": {
              "outlinewidth": 0,
              "ticks": ""
             }
            },
            "type": "scattergl"
           }
          ],
          "scattermapbox": [
           {
            "marker": {
             "colorbar": {
              "outlinewidth": 0,
              "ticks": ""
             }
            },
            "type": "scattermapbox"
           }
          ],
          "scatterpolar": [
           {
            "marker": {
             "colorbar": {
              "outlinewidth": 0,
              "ticks": ""
             }
            },
            "type": "scatterpolar"
           }
          ],
          "scatterpolargl": [
           {
            "marker": {
             "colorbar": {
              "outlinewidth": 0,
              "ticks": ""
             }
            },
            "type": "scatterpolargl"
           }
          ],
          "scatterternary": [
           {
            "marker": {
             "colorbar": {
              "outlinewidth": 0,
              "ticks": ""
             }
            },
            "type": "scatterternary"
           }
          ],
          "surface": [
           {
            "colorbar": {
             "outlinewidth": 0,
             "ticks": ""
            },
            "colorscale": [
             [
              0,
              "#0d0887"
             ],
             [
              0.1111111111111111,
              "#46039f"
             ],
             [
              0.2222222222222222,
              "#7201a8"
             ],
             [
              0.3333333333333333,
              "#9c179e"
             ],
             [
              0.4444444444444444,
              "#bd3786"
             ],
             [
              0.5555555555555556,
              "#d8576b"
             ],
             [
              0.6666666666666666,
              "#ed7953"
             ],
             [
              0.7777777777777778,
              "#fb9f3a"
             ],
             [
              0.8888888888888888,
              "#fdca26"
             ],
             [
              1,
              "#f0f921"
             ]
            ],
            "type": "surface"
           }
          ],
          "table": [
           {
            "cells": {
             "fill": {
              "color": "#EBF0F8"
             },
             "line": {
              "color": "white"
             }
            },
            "header": {
             "fill": {
              "color": "#C8D4E3"
             },
             "line": {
              "color": "white"
             }
            },
            "type": "table"
           }
          ]
         },
         "layout": {
          "annotationdefaults": {
           "arrowcolor": "#2a3f5f",
           "arrowhead": 0,
           "arrowwidth": 1
          },
          "coloraxis": {
           "colorbar": {
            "outlinewidth": 0,
            "ticks": ""
           }
          },
          "colorscale": {
           "diverging": [
            [
             0,
             "#8e0152"
            ],
            [
             0.1,
             "#c51b7d"
            ],
            [
             0.2,
             "#de77ae"
            ],
            [
             0.3,
             "#f1b6da"
            ],
            [
             0.4,
             "#fde0ef"
            ],
            [
             0.5,
             "#f7f7f7"
            ],
            [
             0.6,
             "#e6f5d0"
            ],
            [
             0.7,
             "#b8e186"
            ],
            [
             0.8,
             "#7fbc41"
            ],
            [
             0.9,
             "#4d9221"
            ],
            [
             1,
             "#276419"
            ]
           ],
           "sequential": [
            [
             0,
             "#0d0887"
            ],
            [
             0.1111111111111111,
             "#46039f"
            ],
            [
             0.2222222222222222,
             "#7201a8"
            ],
            [
             0.3333333333333333,
             "#9c179e"
            ],
            [
             0.4444444444444444,
             "#bd3786"
            ],
            [
             0.5555555555555556,
             "#d8576b"
            ],
            [
             0.6666666666666666,
             "#ed7953"
            ],
            [
             0.7777777777777778,
             "#fb9f3a"
            ],
            [
             0.8888888888888888,
             "#fdca26"
            ],
            [
             1,
             "#f0f921"
            ]
           ],
           "sequentialminus": [
            [
             0,
             "#0d0887"
            ],
            [
             0.1111111111111111,
             "#46039f"
            ],
            [
             0.2222222222222222,
             "#7201a8"
            ],
            [
             0.3333333333333333,
             "#9c179e"
            ],
            [
             0.4444444444444444,
             "#bd3786"
            ],
            [
             0.5555555555555556,
             "#d8576b"
            ],
            [
             0.6666666666666666,
             "#ed7953"
            ],
            [
             0.7777777777777778,
             "#fb9f3a"
            ],
            [
             0.8888888888888888,
             "#fdca26"
            ],
            [
             1,
             "#f0f921"
            ]
           ]
          },
          "colorway": [
           "#636efa",
           "#EF553B",
           "#00cc96",
           "#ab63fa",
           "#FFA15A",
           "#19d3f3",
           "#FF6692",
           "#B6E880",
           "#FF97FF",
           "#FECB52"
          ],
          "font": {
           "color": "#2a3f5f"
          },
          "geo": {
           "bgcolor": "white",
           "lakecolor": "white",
           "landcolor": "#E5ECF6",
           "showlakes": true,
           "showland": true,
           "subunitcolor": "white"
          },
          "hoverlabel": {
           "align": "left"
          },
          "hovermode": "closest",
          "mapbox": {
           "style": "light"
          },
          "paper_bgcolor": "white",
          "plot_bgcolor": "#E5ECF6",
          "polar": {
           "angularaxis": {
            "gridcolor": "white",
            "linecolor": "white",
            "ticks": ""
           },
           "bgcolor": "#E5ECF6",
           "radialaxis": {
            "gridcolor": "white",
            "linecolor": "white",
            "ticks": ""
           }
          },
          "scene": {
           "xaxis": {
            "backgroundcolor": "#E5ECF6",
            "gridcolor": "white",
            "gridwidth": 2,
            "linecolor": "white",
            "showbackground": true,
            "ticks": "",
            "zerolinecolor": "white"
           },
           "yaxis": {
            "backgroundcolor": "#E5ECF6",
            "gridcolor": "white",
            "gridwidth": 2,
            "linecolor": "white",
            "showbackground": true,
            "ticks": "",
            "zerolinecolor": "white"
           },
           "zaxis": {
            "backgroundcolor": "#E5ECF6",
            "gridcolor": "white",
            "gridwidth": 2,
            "linecolor": "white",
            "showbackground": true,
            "ticks": "",
            "zerolinecolor": "white"
           }
          },
          "shapedefaults": {
           "line": {
            "color": "#2a3f5f"
           }
          },
          "ternary": {
           "aaxis": {
            "gridcolor": "white",
            "linecolor": "white",
            "ticks": ""
           },
           "baxis": {
            "gridcolor": "white",
            "linecolor": "white",
            "ticks": ""
           },
           "bgcolor": "#E5ECF6",
           "caxis": {
            "gridcolor": "white",
            "linecolor": "white",
            "ticks": ""
           }
          },
          "title": {
           "x": 0.05
          },
          "xaxis": {
           "automargin": true,
           "gridcolor": "white",
           "linecolor": "white",
           "ticks": "",
           "title": {
            "standoff": 15
           },
           "zerolinecolor": "white",
           "zerolinewidth": 2
          },
          "yaxis": {
           "automargin": true,
           "gridcolor": "white",
           "linecolor": "white",
           "ticks": "",
           "title": {
            "standoff": 15
           },
           "zerolinecolor": "white",
           "zerolinewidth": 2
          }
         }
        },
        "title": {
         "text": "Amazon Stock Prices"
        },
        "xaxis": {
         "title": {
          "font": {
           "color": "blue",
           "family": "Courier New, monospace",
           "size": 18
          },
          "text": "date"
         }
        },
        "yaxis": {
         "title": {
          "font": {
           "color": "red",
           "family": "Courier New, monospace",
           "size": 18
          },
          "text": "Price"
         }
        }
       }
      },
      "text/html": [
       "<div>                            <div id=\"9179adbb-a131-4ae0-86fb-1e6a2aa2dd81\" class=\"plotly-graph-div\" style=\"height:525px; width:100%;\"></div>            <script type=\"text/javascript\">                require([\"plotly\"], function(Plotly) {                    window.PLOTLYENV=window.PLOTLYENV || {};                                    if (document.getElementById(\"9179adbb-a131-4ae0-86fb-1e6a2aa2dd81\")) {                    Plotly.newPlot(                        \"9179adbb-a131-4ae0-86fb-1e6a2aa2dd81\",                        [{\"type\": \"scatter\", \"x\": [\"2019-12-13\", \"2019-12-16\", \"2019-12-17\", \"2019-12-18\", \"2019-12-19\", \"2019-12-20\", \"2019-12-23\", \"2019-12-24\", \"2019-12-26\", \"2019-12-27\", \"2019-12-30\", \"2019-12-31\", \"2020-01-02\", \"2020-01-03\", \"2020-01-06\", \"2020-01-07\", \"2020-01-08\", \"2020-01-09\", \"2020-01-10\", \"2020-01-13\", \"2020-01-14\", \"2020-01-15\", \"2020-01-16\", \"2020-01-17\", \"2020-01-21\", \"2020-01-22\", \"2020-01-23\", \"2020-01-24\", \"2020-01-27\", \"2020-01-28\", \"2020-01-29\", \"2020-01-30\", \"2020-01-31\", \"2020-02-03\", \"2020-02-04\", \"2020-02-05\", \"2020-02-06\", \"2020-02-07\", \"2020-02-10\", \"2020-02-11\", \"2020-02-12\", \"2020-02-13\", \"2020-02-14\", \"2020-02-18\", \"2020-02-19\", \"2020-02-20\", \"2020-02-21\", \"2020-02-24\", \"2020-02-25\", \"2020-02-26\", \"2020-02-27\", \"2020-02-28\", \"2020-03-02\", \"2020-03-03\", \"2020-03-04\", \"2020-03-05\", \"2020-03-06\", \"2020-03-09\", \"2020-03-10\", \"2020-03-11\", \"2020-03-12\", \"2020-03-13\", \"2020-03-16\", \"2020-03-17\", \"2020-03-18\", \"2020-03-19\", \"2020-03-20\", \"2020-03-23\", \"2020-03-24\", \"2020-03-25\", \"2020-03-26\", \"2020-03-27\", \"2020-03-30\", \"2020-03-31\", \"2020-04-01\", \"2020-04-02\", \"2020-04-03\", \"2020-04-06\", \"2020-04-07\", \"2020-04-08\", \"2020-04-09\", \"2020-04-13\", \"2020-04-14\", \"2020-04-15\", \"2020-04-16\", \"2020-04-17\", \"2020-04-20\", \"2020-04-21\", \"2020-04-22\", \"2020-04-23\", \"2020-04-24\", \"2020-04-27\", \"2020-04-28\", \"2020-04-29\", \"2020-04-30\", \"2020-05-01\", \"2020-05-04\", \"2020-05-05\", \"2020-05-06\", \"2020-05-07\", \"2020-05-08\", \"2020-05-11\", \"2020-05-12\", \"2020-05-13\", \"2020-05-14\", \"2020-05-15\", \"2020-05-18\", \"2020-05-19\", \"2020-05-20\", \"2020-05-21\", \"2020-05-22\", \"2020-05-26\", \"2020-05-27\", \"2020-05-28\", \"2020-05-29\", \"2020-06-01\", \"2020-06-02\", \"2020-06-03\", \"2020-06-04\", \"2020-06-05\", \"2020-06-08\", \"2020-06-09\", \"2020-06-10\", \"2020-06-11\", \"2020-06-12\", \"2020-06-15\", \"2020-06-16\", \"2020-06-17\", \"2020-06-18\", \"2020-06-19\", \"2020-06-22\", \"2020-06-23\", \"2020-06-24\", \"2020-06-25\", \"2020-06-26\", \"2020-06-29\", \"2020-06-30\", \"2020-07-01\", \"2020-07-02\", \"2020-07-06\", \"2020-07-07\", \"2020-07-08\", \"2020-07-09\", \"2020-07-10\", \"2020-07-13\", \"2020-07-14\", \"2020-07-15\", \"2020-07-16\", \"2020-07-17\", \"2020-07-20\", \"2020-07-21\", \"2020-07-22\", \"2020-07-23\", \"2020-07-24\", \"2020-07-27\", \"2020-07-28\", \"2020-07-29\", \"2020-07-30\", \"2020-07-31\", \"2020-08-03\", \"2020-08-04\", \"2020-08-05\", \"2020-08-06\", \"2020-08-07\", \"2020-08-10\", \"2020-08-11\", \"2020-08-12\", \"2020-08-13\", \"2020-08-14\", \"2020-08-17\", \"2020-08-18\", \"2020-08-19\", \"2020-08-20\", \"2020-08-21\", \"2020-08-24\", \"2020-08-25\", \"2020-08-26\", \"2020-08-27\", \"2020-08-28\", \"2020-08-31\", \"2020-09-01\", \"2020-09-02\", \"2020-09-03\", \"2020-09-04\", \"2020-09-08\", \"2020-09-09\", \"2020-09-10\", \"2020-09-11\", \"2020-09-14\", \"2020-09-15\", \"2020-09-16\", \"2020-09-17\", \"2020-09-18\", \"2020-09-21\", \"2020-09-22\", \"2020-09-23\", \"2020-09-24\", \"2020-09-25\", \"2020-09-28\", \"2020-09-29\", \"2020-09-30\", \"2020-10-01\", \"2020-10-02\", \"2020-10-05\", \"2020-10-06\", \"2020-10-07\", \"2020-10-08\", \"2020-10-09\", \"2020-10-12\", \"2020-10-13\", \"2020-10-14\", \"2020-10-15\", \"2020-10-16\", \"2020-10-19\", \"2020-10-20\", \"2020-10-21\", \"2020-10-22\", \"2020-10-23\", \"2020-10-26\", \"2020-10-27\", \"2020-10-28\", \"2020-10-29\", \"2020-10-30\", \"2020-11-02\", \"2020-11-03\", \"2020-11-04\", \"2020-11-05\", \"2020-11-06\", \"2020-11-09\", \"2020-11-10\", \"2020-11-11\", \"2020-11-12\", \"2020-11-13\", \"2020-11-16\", \"2020-11-17\", \"2020-11-18\", \"2020-11-19\", \"2020-11-20\", \"2020-11-23\", \"2020-11-24\", \"2020-11-25\", \"2020-11-27\", \"2020-11-30\", \"2020-12-01\", \"2020-12-02\", \"2020-12-03\", \"2020-12-04\", \"2020-12-07\", \"2020-12-08\", \"2020-12-09\", \"2020-12-10\", \"2020-12-11\"], \"y\": [68.787498, 69.964996, 70.102501, 69.934998, 70.004997, 69.860001, 71.0, 71.067497, 72.477501, 72.449997, 72.879997, 73.412498, 75.087502, 74.35749799999999, 74.949997, 74.597504, 75.797501, 77.407501, 77.582497, 79.239998, 78.16999799999999, 77.834999, 78.809998, 79.682503, 79.14250200000001, 79.425003, 79.807503, 79.577499, 77.237503, 79.422501, 81.084999, 80.967499, 77.377502, 77.165001, 79.712502, 80.362503, 81.302498, 80.0075, 80.387497, 79.902496, 81.800003, 81.217499, 81.237503, 79.75, 80.904999, 80.074997, 78.262497, 74.54499799999999, 72.019997, 73.162498, 68.379997, 68.339996, 74.702499, 72.33000200000001, 75.684998, 73.230003, 72.2575, 66.542503, 71.334999, 68.85749799999999, 62.057499, 69.4925, 60.552502000000004, 63.215, 61.6675, 61.195, 57.310001, 56.092499, 61.720001, 61.380001, 64.610001, 61.935001, 63.702498999999996, 63.572497999999996, 60.227501000000004, 61.232498, 60.352501000000004, 65.6175, 64.85749799999999, 66.51750200000001, 66.997498, 68.3125, 71.762497, 71.10749799999999, 71.672501, 70.699997, 69.23249799999999, 67.092499, 69.025002, 68.7575, 70.7425, 70.792503, 69.644997, 71.932503, 73.449997, 72.26750200000001, 73.290001, 74.389999, 75.157501, 75.934998, 77.532501, 78.752502, 77.852501, 76.912498, 77.385002, 76.927498, 78.739998, 78.285004, 79.807503, 79.212502, 79.722504, 79.182503, 79.527496, 79.5625, 79.485001, 80.462502, 80.834999, 81.279999, 80.58000200000001, 82.875, 83.364998, 85.997498, 88.209999, 83.974998, 84.699997, 85.747498, 88.019997, 87.897499, 87.932503, 87.43, 89.717499, 91.6325, 90.014999, 91.209999, 88.407501, 90.445, 91.199997, 91.027496, 91.027496, 93.462502, 93.172501, 95.342499, 95.752502, 95.91999799999999, 95.477501, 97.057503, 97.724998, 96.522499, 96.327499, 98.35749799999999, 97.0, 97.272499, 92.845001, 92.614998, 94.809998, 93.252502, 95.040001, 96.190002, 106.260002, 108.9375, 109.665001, 110.0625, 113.902496, 111.112503, 112.727501, 109.375, 113.010002, 115.010002, 114.907501, 114.60749799999999, 115.5625, 115.707497, 118.275002, 124.370003, 125.85749799999999, 124.824997, 126.522499, 125.010002, 124.807503, 129.03999299999998, 134.179993, 131.399994, 120.879997, 120.959999, 112.82, 117.32, 113.489998, 112.0, 115.360001, 115.540001, 112.129997, 110.339996, 106.839996, 110.08000200000001, 111.809998, 107.120003, 108.220001, 112.279999, 114.959999, 114.089996, 115.809998, 116.790001, 113.019997, 116.5, 113.160004, 115.08000200000001, 114.970001, 116.970001, 124.400002, 121.099998, 121.190002, 120.709999, 119.019997, 115.980003, 117.510002, 116.870003, 115.75, 115.040001, 115.050003, 116.599998, 111.199997, 115.32, 108.860001, 108.769997, 110.440002, 114.949997, 119.029999, 118.690002, 116.32, 115.970001, 119.489998, 119.209999, 119.260002, 120.300003, 119.389999, 118.029999, 118.639999, 117.339996, 113.849998, 115.16999799999999, 116.029999, 116.589996, 119.050003, 122.720001, 123.08000200000001, 122.940002, 122.25, 123.75, 124.379997, 121.779999, 123.239998, 122.410004]}],                        {\"template\": {\"data\": {\"bar\": [{\"error_x\": {\"color\": \"#2a3f5f\"}, \"error_y\": {\"color\": \"#2a3f5f\"}, \"marker\": {\"line\": {\"color\": \"#E5ECF6\", \"width\": 0.5}}, \"type\": \"bar\"}], \"barpolar\": [{\"marker\": {\"line\": {\"color\": \"#E5ECF6\", \"width\": 0.5}}, \"type\": \"barpolar\"}], \"carpet\": [{\"aaxis\": {\"endlinecolor\": \"#2a3f5f\", \"gridcolor\": \"white\", \"linecolor\": \"white\", \"minorgridcolor\": \"white\", \"startlinecolor\": \"#2a3f5f\"}, \"baxis\": {\"endlinecolor\": \"#2a3f5f\", \"gridcolor\": \"white\", \"linecolor\": \"white\", \"minorgridcolor\": \"white\", \"startlinecolor\": \"#2a3f5f\"}, \"type\": \"carpet\"}], \"choropleth\": [{\"colorbar\": {\"outlinewidth\": 0, \"ticks\": \"\"}, \"type\": \"choropleth\"}], \"contour\": [{\"colorbar\": {\"outlinewidth\": 0, \"ticks\": \"\"}, \"colorscale\": [[0.0, \"#0d0887\"], [0.1111111111111111, \"#46039f\"], [0.2222222222222222, \"#7201a8\"], [0.3333333333333333, \"#9c179e\"], [0.4444444444444444, \"#bd3786\"], [0.5555555555555556, \"#d8576b\"], [0.6666666666666666, \"#ed7953\"], [0.7777777777777778, \"#fb9f3a\"], [0.8888888888888888, \"#fdca26\"], [1.0, \"#f0f921\"]], \"type\": \"contour\"}], \"contourcarpet\": [{\"colorbar\": {\"outlinewidth\": 0, \"ticks\": \"\"}, \"type\": \"contourcarpet\"}], \"heatmap\": [{\"colorbar\": {\"outlinewidth\": 0, \"ticks\": \"\"}, \"colorscale\": [[0.0, \"#0d0887\"], [0.1111111111111111, \"#46039f\"], [0.2222222222222222, \"#7201a8\"], [0.3333333333333333, \"#9c179e\"], [0.4444444444444444, \"#bd3786\"], [0.5555555555555556, \"#d8576b\"], [0.6666666666666666, \"#ed7953\"], [0.7777777777777778, \"#fb9f3a\"], [0.8888888888888888, \"#fdca26\"], [1.0, \"#f0f921\"]], \"type\": \"heatmap\"}], \"heatmapgl\": [{\"colorbar\": {\"outlinewidth\": 0, \"ticks\": \"\"}, \"colorscale\": [[0.0, \"#0d0887\"], [0.1111111111111111, \"#46039f\"], [0.2222222222222222, \"#7201a8\"], [0.3333333333333333, \"#9c179e\"], [0.4444444444444444, \"#bd3786\"], [0.5555555555555556, \"#d8576b\"], [0.6666666666666666, \"#ed7953\"], [0.7777777777777778, \"#fb9f3a\"], [0.8888888888888888, \"#fdca26\"], [1.0, \"#f0f921\"]], \"type\": \"heatmapgl\"}], \"histogram\": [{\"marker\": {\"colorbar\": {\"outlinewidth\": 0, \"ticks\": \"\"}}, \"type\": \"histogram\"}], \"histogram2d\": [{\"colorbar\": {\"outlinewidth\": 0, \"ticks\": \"\"}, \"colorscale\": [[0.0, \"#0d0887\"], [0.1111111111111111, \"#46039f\"], [0.2222222222222222, \"#7201a8\"], [0.3333333333333333, \"#9c179e\"], [0.4444444444444444, \"#bd3786\"], [0.5555555555555556, \"#d8576b\"], [0.6666666666666666, \"#ed7953\"], [0.7777777777777778, \"#fb9f3a\"], [0.8888888888888888, \"#fdca26\"], [1.0, \"#f0f921\"]], \"type\": \"histogram2d\"}], \"histogram2dcontour\": [{\"colorbar\": {\"outlinewidth\": 0, \"ticks\": \"\"}, \"colorscale\": [[0.0, \"#0d0887\"], [0.1111111111111111, \"#46039f\"], [0.2222222222222222, \"#7201a8\"], [0.3333333333333333, \"#9c179e\"], [0.4444444444444444, \"#bd3786\"], [0.5555555555555556, \"#d8576b\"], [0.6666666666666666, \"#ed7953\"], [0.7777777777777778, \"#fb9f3a\"], [0.8888888888888888, \"#fdca26\"], [1.0, \"#f0f921\"]], \"type\": \"histogram2dcontour\"}], \"mesh3d\": [{\"colorbar\": {\"outlinewidth\": 0, \"ticks\": \"\"}, \"type\": \"mesh3d\"}], \"parcoords\": [{\"line\": {\"colorbar\": {\"outlinewidth\": 0, \"ticks\": \"\"}}, \"type\": \"parcoords\"}], \"pie\": [{\"automargin\": true, \"type\": \"pie\"}], \"scatter\": [{\"marker\": {\"colorbar\": {\"outlinewidth\": 0, \"ticks\": \"\"}}, \"type\": \"scatter\"}], \"scatter3d\": [{\"line\": {\"colorbar\": {\"outlinewidth\": 0, \"ticks\": \"\"}}, \"marker\": {\"colorbar\": {\"outlinewidth\": 0, \"ticks\": \"\"}}, \"type\": \"scatter3d\"}], \"scattercarpet\": [{\"marker\": {\"colorbar\": {\"outlinewidth\": 0, \"ticks\": \"\"}}, \"type\": \"scattercarpet\"}], \"scattergeo\": [{\"marker\": {\"colorbar\": {\"outlinewidth\": 0, \"ticks\": \"\"}}, \"type\": \"scattergeo\"}], \"scattergl\": [{\"marker\": {\"colorbar\": {\"outlinewidth\": 0, \"ticks\": \"\"}}, \"type\": \"scattergl\"}], \"scattermapbox\": [{\"marker\": {\"colorbar\": {\"outlinewidth\": 0, \"ticks\": \"\"}}, \"type\": \"scattermapbox\"}], \"scatterpolar\": [{\"marker\": {\"colorbar\": {\"outlinewidth\": 0, \"ticks\": \"\"}}, \"type\": \"scatterpolar\"}], \"scatterpolargl\": [{\"marker\": {\"colorbar\": {\"outlinewidth\": 0, \"ticks\": \"\"}}, \"type\": \"scatterpolargl\"}], \"scatterternary\": [{\"marker\": {\"colorbar\": {\"outlinewidth\": 0, \"ticks\": \"\"}}, \"type\": \"scatterternary\"}], \"surface\": [{\"colorbar\": {\"outlinewidth\": 0, \"ticks\": \"\"}, \"colorscale\": [[0.0, \"#0d0887\"], [0.1111111111111111, \"#46039f\"], [0.2222222222222222, \"#7201a8\"], [0.3333333333333333, \"#9c179e\"], [0.4444444444444444, \"#bd3786\"], [0.5555555555555556, \"#d8576b\"], [0.6666666666666666, \"#ed7953\"], [0.7777777777777778, \"#fb9f3a\"], [0.8888888888888888, \"#fdca26\"], [1.0, \"#f0f921\"]], \"type\": \"surface\"}], \"table\": [{\"cells\": {\"fill\": {\"color\": \"#EBF0F8\"}, \"line\": {\"color\": \"white\"}}, \"header\": {\"fill\": {\"color\": \"#C8D4E3\"}, \"line\": {\"color\": \"white\"}}, \"type\": \"table\"}]}, \"layout\": {\"annotationdefaults\": {\"arrowcolor\": \"#2a3f5f\", \"arrowhead\": 0, \"arrowwidth\": 1}, \"coloraxis\": {\"colorbar\": {\"outlinewidth\": 0, \"ticks\": \"\"}}, \"colorscale\": {\"diverging\": [[0, \"#8e0152\"], [0.1, \"#c51b7d\"], [0.2, \"#de77ae\"], [0.3, \"#f1b6da\"], [0.4, \"#fde0ef\"], [0.5, \"#f7f7f7\"], [0.6, \"#e6f5d0\"], [0.7, \"#b8e186\"], [0.8, \"#7fbc41\"], [0.9, \"#4d9221\"], [1, \"#276419\"]], \"sequential\": [[0.0, \"#0d0887\"], [0.1111111111111111, \"#46039f\"], [0.2222222222222222, \"#7201a8\"], [0.3333333333333333, \"#9c179e\"], [0.4444444444444444, \"#bd3786\"], [0.5555555555555556, \"#d8576b\"], [0.6666666666666666, \"#ed7953\"], [0.7777777777777778, \"#fb9f3a\"], [0.8888888888888888, \"#fdca26\"], [1.0, \"#f0f921\"]], \"sequentialminus\": [[0.0, \"#0d0887\"], [0.1111111111111111, \"#46039f\"], [0.2222222222222222, \"#7201a8\"], [0.3333333333333333, \"#9c179e\"], [0.4444444444444444, \"#bd3786\"], [0.5555555555555556, \"#d8576b\"], [0.6666666666666666, \"#ed7953\"], [0.7777777777777778, \"#fb9f3a\"], [0.8888888888888888, \"#fdca26\"], [1.0, \"#f0f921\"]]}, \"colorway\": [\"#636efa\", \"#EF553B\", \"#00cc96\", \"#ab63fa\", \"#FFA15A\", \"#19d3f3\", \"#FF6692\", \"#B6E880\", \"#FF97FF\", \"#FECB52\"], \"font\": {\"color\": \"#2a3f5f\"}, \"geo\": {\"bgcolor\": \"white\", \"lakecolor\": \"white\", \"landcolor\": \"#E5ECF6\", \"showlakes\": true, \"showland\": true, \"subunitcolor\": \"white\"}, \"hoverlabel\": {\"align\": \"left\"}, \"hovermode\": \"closest\", \"mapbox\": {\"style\": \"light\"}, \"paper_bgcolor\": \"white\", \"plot_bgcolor\": \"#E5ECF6\", \"polar\": {\"angularaxis\": {\"gridcolor\": \"white\", \"linecolor\": \"white\", \"ticks\": \"\"}, \"bgcolor\": \"#E5ECF6\", \"radialaxis\": {\"gridcolor\": \"white\", \"linecolor\": \"white\", \"ticks\": \"\"}}, \"scene\": {\"xaxis\": {\"backgroundcolor\": \"#E5ECF6\", \"gridcolor\": \"white\", \"gridwidth\": 2, \"linecolor\": \"white\", \"showbackground\": true, \"ticks\": \"\", \"zerolinecolor\": \"white\"}, \"yaxis\": {\"backgroundcolor\": \"#E5ECF6\", \"gridcolor\": \"white\", \"gridwidth\": 2, \"linecolor\": \"white\", \"showbackground\": true, \"ticks\": \"\", \"zerolinecolor\": \"white\"}, \"zaxis\": {\"backgroundcolor\": \"#E5ECF6\", \"gridcolor\": \"white\", \"gridwidth\": 2, \"linecolor\": \"white\", \"showbackground\": true, \"ticks\": \"\", \"zerolinecolor\": \"white\"}}, \"shapedefaults\": {\"line\": {\"color\": \"#2a3f5f\"}}, \"ternary\": {\"aaxis\": {\"gridcolor\": \"white\", \"linecolor\": \"white\", \"ticks\": \"\"}, \"baxis\": {\"gridcolor\": \"white\", \"linecolor\": \"white\", \"ticks\": \"\"}, \"bgcolor\": \"#E5ECF6\", \"caxis\": {\"gridcolor\": \"white\", \"linecolor\": \"white\", \"ticks\": \"\"}}, \"title\": {\"x\": 0.05}, \"xaxis\": {\"automargin\": true, \"gridcolor\": \"white\", \"linecolor\": \"white\", \"ticks\": \"\", \"title\": {\"standoff\": 15}, \"zerolinecolor\": \"white\", \"zerolinewidth\": 2}, \"yaxis\": {\"automargin\": true, \"gridcolor\": \"white\", \"linecolor\": \"white\", \"ticks\": \"\", \"title\": {\"standoff\": 15}, \"zerolinecolor\": \"white\", \"zerolinewidth\": 2}}}, \"title\": {\"text\": \"Amazon Stock Prices\"}, \"xaxis\": {\"title\": {\"font\": {\"color\": \"blue\", \"family\": \"Courier New, monospace\", \"size\": 18}, \"text\": \"date\"}}, \"yaxis\": {\"title\": {\"font\": {\"color\": \"red\", \"family\": \"Courier New, monospace\", \"size\": 18}, \"text\": \"Price\"}}},                        {\"responsive\": true}                    ).then(function(){\n",
       "                            \n",
       "var gd = document.getElementById('9179adbb-a131-4ae0-86fb-1e6a2aa2dd81');\n",
       "var x = new MutationObserver(function (mutations, observer) {{\n",
       "        var display = window.getComputedStyle(gd).display;\n",
       "        if (!display || display === 'none') {{\n",
       "            console.log([gd, 'removed!']);\n",
       "            Plotly.purge(gd);\n",
       "            observer.disconnect();\n",
       "        }}\n",
       "}});\n",
       "\n",
       "// Listen for the removal of the full notebook cells\n",
       "var notebookContainer = gd.closest('#notebook-container');\n",
       "if (notebookContainer) {{\n",
       "    x.observe(notebookContainer, {childList: true});\n",
       "}}\n",
       "\n",
       "// Listen for the clearing of the current output cell\n",
       "var outputEl = gd.closest('.output');\n",
       "if (outputEl) {{\n",
       "    x.observe(outputEl, {childList: true});\n",
       "}}\n",
       "\n",
       "                        })                };                });            </script>        </div>"
      ]
     },
     "metadata": {},
     "output_type": "display_data"
    }
   ],
   "source": [
    "iplot(plot)"
   ]
  },
  {
   "cell_type": "code",
   "execution_count": 120,
   "metadata": {},
   "outputs": [
    {
     "data": {
      "text/html": [
       "<div>\n",
       "<style scoped>\n",
       "    .dataframe tbody tr th:only-of-type {\n",
       "        vertical-align: middle;\n",
       "    }\n",
       "\n",
       "    .dataframe tbody tr th {\n",
       "        vertical-align: top;\n",
       "    }\n",
       "\n",
       "    .dataframe thead th {\n",
       "        text-align: right;\n",
       "    }\n",
       "</style>\n",
       "<table border=\"1\" class=\"dataframe\">\n",
       "  <thead>\n",
       "    <tr style=\"text-align: right;\">\n",
       "      <th></th>\n",
       "      <th>Open-Close</th>\n",
       "      <th>High-Low</th>\n",
       "    </tr>\n",
       "  </thead>\n",
       "  <tbody>\n",
       "    <tr>\n",
       "      <th>0</th>\n",
       "      <td>0.922500</td>\n",
       "      <td>1.092499</td>\n",
       "    </tr>\n",
       "    <tr>\n",
       "      <th>1</th>\n",
       "      <td>0.714996</td>\n",
       "      <td>0.952499</td>\n",
       "    </tr>\n",
       "    <tr>\n",
       "      <th>2</th>\n",
       "      <td>0.209999</td>\n",
       "      <td>0.742500</td>\n",
       "    </tr>\n",
       "    <tr>\n",
       "      <th>3</th>\n",
       "      <td>-0.014999</td>\n",
       "      <td>0.694999</td>\n",
       "    </tr>\n",
       "    <tr>\n",
       "      <th>4</th>\n",
       "      <td>0.129997</td>\n",
       "      <td>0.557495</td>\n",
       "    </tr>\n",
       "  </tbody>\n",
       "</table>\n",
       "</div>"
      ],
      "text/plain": [
       "   Open-Close  High-Low\n",
       "0    0.922500  1.092499\n",
       "1    0.714996  0.952499\n",
       "2    0.209999  0.742500\n",
       "3   -0.014999  0.694999\n",
       "4    0.129997  0.557495"
      ]
     },
     "execution_count": 120,
     "metadata": {},
     "output_type": "execute_result"
    }
   ],
   "source": [
    "df['Open-Close']= df.Close - df.Open\n",
    "df['High-Low']  = df.High - df.Low\n",
    "df = df.dropna()\n",
    "X= df[['Open-Close', 'High-Low']]\n",
    "X.head()"
   ]
  },
  {
   "cell_type": "code",
   "execution_count": 121,
   "metadata": {},
   "outputs": [],
   "source": [
    "Y= np.where(df['Adj Close'].shift(-1)>df['Adj Close'],1,-1)"
   ]
  },
  {
   "cell_type": "code",
   "execution_count": 122,
   "metadata": {},
   "outputs": [],
   "source": [
    "split_percentage = 0.8\n",
    "split = int(split_percentage*len(df))\n",
    "\n",
    "X_train = X[:split]\n",
    "Y_train = Y[:split]\n",
    "\n",
    "X_test = X[split:]\n",
    "Y_test = Y[split:]"
   ]
  },
  {
   "cell_type": "code",
   "execution_count": 123,
   "metadata": {},
   "outputs": [
    {
     "name": "stdout",
     "output_type": "stream",
     "text": [
      "Populating the interactive namespace from numpy and matplotlib\n",
      "DecisionTreeClassifier()\n",
      "Train_data Accuracy: 1.00\n",
      "Test_data Accuracy: 0.47\n"
     ]
    }
   ],
   "source": [
    "from sklearn.tree import DecisionTreeClassifier\n",
    "from sklearn import metrics\n",
    "\n",
    "%pylab inline\n",
    "%matplotlib inline\n",
    "\n",
    "model = DecisionTreeClassifier()\n",
    "model.fit(X_train, Y_train)\n",
    "print(model)\n",
    "\n",
    "accuracy_train = accuracy_score(Y_train, model.predict(X_train))\n",
    "accuracy_test = accuracy_score(Y_test, model.predict(X_test))\n",
    "\n",
    "print ('Train_data Accuracy: %.2f' %accuracy_train)\n",
    "print ('Test_data Accuracy: %.2f' %accuracy_test)"
   ]
  },
  {
   "cell_type": "code",
   "execution_count": 124,
   "metadata": {},
   "outputs": [
    {
     "data": {
      "text/plain": [
       "1.0"
      ]
     },
     "execution_count": 124,
     "metadata": {},
     "output_type": "execute_result"
    }
   ],
   "source": [
    "model.score(X_train, Y_train)"
   ]
  },
  {
   "cell_type": "code",
   "execution_count": 125,
   "metadata": {},
   "outputs": [
    {
     "name": "stdout",
     "output_type": "stream",
     "text": [
      "[[0. 1.]\n",
      " [1. 0.]\n",
      " [1. 0.]\n",
      " [0. 1.]\n",
      " [1. 0.]\n",
      " [0. 1.]\n",
      " [1. 0.]\n",
      " [1. 0.]\n",
      " [1. 0.]\n",
      " [1. 0.]\n",
      " [0. 1.]\n",
      " [0. 1.]\n",
      " [1. 0.]\n",
      " [1. 0.]\n",
      " [1. 0.]\n",
      " [0. 1.]\n",
      " [1. 0.]\n",
      " [0. 1.]\n",
      " [0. 1.]\n",
      " [0. 1.]\n",
      " [0. 1.]\n",
      " [0. 1.]\n",
      " [1. 0.]\n",
      " [0. 1.]\n",
      " [0. 1.]\n",
      " [0. 1.]\n",
      " [1. 0.]\n",
      " [1. 0.]\n",
      " [1. 0.]\n",
      " [0. 1.]\n",
      " [0. 1.]\n",
      " [0. 1.]\n",
      " [1. 0.]\n",
      " [0. 1.]\n",
      " [0. 1.]\n",
      " [0. 1.]\n",
      " [1. 0.]\n",
      " [0. 1.]\n",
      " [1. 0.]\n",
      " [0. 1.]\n",
      " [0. 1.]\n",
      " [1. 0.]\n",
      " [1. 0.]\n",
      " [0. 1.]\n",
      " [0. 1.]\n",
      " [0. 1.]\n",
      " [1. 0.]\n",
      " [0. 1.]\n",
      " [1. 0.]\n",
      " [1. 0.]\n",
      " [0. 1.]]\n"
     ]
    }
   ],
   "source": [
    "probability = model.predict_proba(X_test)\n",
    "print(probability)"
   ]
  },
  {
   "cell_type": "code",
   "execution_count": 126,
   "metadata": {},
   "outputs": [],
   "source": [
    "predicted = model.predict(X_test)"
   ]
  },
  {
   "cell_type": "code",
   "execution_count": 127,
   "metadata": {},
   "outputs": [],
   "source": [
    "from sklearn import metrics"
   ]
  },
  {
   "cell_type": "code",
   "execution_count": 128,
   "metadata": {},
   "outputs": [
    {
     "name": "stdout",
     "output_type": "stream",
     "text": [
      "[[11 15]\n",
      " [12 13]]\n"
     ]
    }
   ],
   "source": [
    "print(metrics.confusion_matrix(Y_test, predicted))"
   ]
  },
  {
   "cell_type": "code",
   "execution_count": 129,
   "metadata": {},
   "outputs": [
    {
     "name": "stdout",
     "output_type": "stream",
     "text": [
      "              precision    recall  f1-score   support\n",
      "\n",
      "          -1       0.48      0.42      0.45        26\n",
      "           1       0.46      0.52      0.49        25\n",
      "\n",
      "    accuracy                           0.47        51\n",
      "   macro avg       0.47      0.47      0.47        51\n",
      "weighted avg       0.47      0.47      0.47        51\n",
      "\n"
     ]
    }
   ],
   "source": [
    "print(metrics.classification_report(Y_test, predicted))"
   ]
  },
  {
   "cell_type": "code",
   "execution_count": 130,
   "metadata": {},
   "outputs": [
    {
     "name": "stdout",
     "output_type": "stream",
     "text": [
      "1.0\n"
     ]
    }
   ],
   "source": [
    "print(model.score(X_train,Y_train))"
   ]
  },
  {
   "cell_type": "markdown",
   "metadata": {},
   "source": [
    "ACCURACY OF TRAINING MODEL FOR AMAZON STOCK MARKET PRICE PREDICTION IS ABOUT 100%"
   ]
  },
  {
   "cell_type": "code",
   "execution_count": 131,
   "metadata": {},
   "outputs": [],
   "source": [
    "from sklearn.preprocessing import StandardScaler\n",
    "from sklearn.decomposition import PCA\n",
    "from sklearn.pipeline import Pipeline"
   ]
  },
  {
   "cell_type": "code",
   "execution_count": 132,
   "metadata": {},
   "outputs": [],
   "source": [
    "pipe_line = Pipeline([('clf', DecisionTreeClassifier())])"
   ]
  },
  {
   "cell_type": "code",
   "execution_count": 133,
   "metadata": {},
   "outputs": [
    {
     "data": {
      "text/plain": [
       "Pipeline(steps=[('clf', DecisionTreeClassifier())])"
      ]
     },
     "execution_count": 133,
     "metadata": {},
     "output_type": "execute_result"
    }
   ],
   "source": [
    "pipe_line.fit(X_train, Y_train)"
   ]
  },
  {
   "cell_type": "code",
   "execution_count": 134,
   "metadata": {},
   "outputs": [
    {
     "data": {
      "text/plain": [
       "1.0"
      ]
     },
     "execution_count": 134,
     "metadata": {},
     "output_type": "execute_result"
    }
   ],
   "source": [
    "pipe_line.score(X_train, Y_train)"
   ]
  },
  {
   "cell_type": "code",
   "execution_count": 135,
   "metadata": {},
   "outputs": [],
   "source": [
    "from sklearn.model_selection import cross_val_score"
   ]
  },
  {
   "cell_type": "code",
   "execution_count": 136,
   "metadata": {},
   "outputs": [
    {
     "name": "stdout",
     "output_type": "stream",
     "text": [
      "cv accuracy score : [0.53846154 0.34615385 0.6        0.44       0.48       0.56\n",
      " 0.64       0.44       0.4        0.52      ]\n",
      "cv accuracy : 0.496 +/- 0.087\n"
     ]
    }
   ],
   "source": [
    "score = cross_val_score(estimator=pipe_line, X=X, y=Y, cv=10)\n",
    "\n",
    "print('cv accuracy score : %s' % score)\n",
    "print('cv accuracy : %.3f +/- %.3f' % (np.mean(score), np.std(score)))"
   ]
  },
  {
   "cell_type": "code",
   "execution_count": 137,
   "metadata": {},
   "outputs": [
    {
     "name": "stdout",
     "output_type": "stream",
     "text": [
      "Mean Absolute Error: 1.0588235294117647\n",
      "Mean Squared Error: 2.1176470588235294\n",
      "Mean Absolute Percentage Error: 5.882352941176464\n",
      "Root Mean Squared Error: 1.4552137502179978\n"
     ]
    }
   ],
   "source": [
    "print('Mean Absolute Error:', metrics.mean_absolute_error(Y_test, predicted))  \n",
    "print('Mean Squared Error:', metrics.mean_squared_error(Y_test,predicted ))  \n",
    "print('Mean Absolute Percentage Error:', np.mean(np.abs((predicted - Y_test ) / Y_test)*100) - 100) \n",
    "print('Root Mean Squared Error:', np.sqrt(np.mean(((predicted- Y_test)**2))))"
   ]
  },
  {
   "cell_type": "markdown",
   "metadata": {},
   "source": [
    "# K-NEAREST-NEIGHBORS"
   ]
  },
  {
   "cell_type": "markdown",
   "metadata": {},
   "source": [
    "Алгоритм K-ближайших соседей (KNN) использует «сходство признаков» для прогнозирования значений новых точек данных, что также означает, что новой точке данных будет присвоено значение на основе того, насколько близко он соответствует точкам в обучающем наборе."
   ]
  },
  {
   "cell_type": "code",
   "execution_count": 92,
   "metadata": {},
   "outputs": [],
   "source": [
    "import warnings \n",
    "warnings.filterwarnings('ignore')\n",
    "\n",
    "import numpy as np\n",
    "import pandas as pd\n",
    "\n",
    "import matplotlib.pyplot as plt\n",
    "\n",
    "from sklearn.neighbors import KNeighborsClassifier\n",
    "from sklearn.metrics import accuracy_score"
   ]
  },
  {
   "cell_type": "code",
   "execution_count": 93,
   "metadata": {},
   "outputs": [
    {
     "data": {
      "text/html": [
       "<div>\n",
       "<style scoped>\n",
       "    .dataframe tbody tr th:only-of-type {\n",
       "        vertical-align: middle;\n",
       "    }\n",
       "\n",
       "    .dataframe tbody tr th {\n",
       "        vertical-align: top;\n",
       "    }\n",
       "\n",
       "    .dataframe thead th {\n",
       "        text-align: right;\n",
       "    }\n",
       "</style>\n",
       "<table border=\"1\" class=\"dataframe\">\n",
       "  <thead>\n",
       "    <tr style=\"text-align: right;\">\n",
       "      <th></th>\n",
       "      <th>Date</th>\n",
       "      <th>Open</th>\n",
       "      <th>High</th>\n",
       "      <th>Low</th>\n",
       "      <th>Close</th>\n",
       "      <th>Adj Close</th>\n",
       "      <th>Volume</th>\n",
       "    </tr>\n",
       "  </thead>\n",
       "  <tbody>\n",
       "    <tr>\n",
       "      <th>0</th>\n",
       "      <td>2019-12-13</td>\n",
       "      <td>67.864998</td>\n",
       "      <td>68.824997</td>\n",
       "      <td>67.732498</td>\n",
       "      <td>68.787498</td>\n",
       "      <td>67.644707</td>\n",
       "      <td>133587600</td>\n",
       "    </tr>\n",
       "    <tr>\n",
       "      <th>1</th>\n",
       "      <td>2019-12-16</td>\n",
       "      <td>69.250000</td>\n",
       "      <td>70.197502</td>\n",
       "      <td>69.245003</td>\n",
       "      <td>69.964996</td>\n",
       "      <td>68.802635</td>\n",
       "      <td>128186000</td>\n",
       "    </tr>\n",
       "    <tr>\n",
       "      <th>2</th>\n",
       "      <td>2019-12-17</td>\n",
       "      <td>69.892502</td>\n",
       "      <td>70.442497</td>\n",
       "      <td>69.699997</td>\n",
       "      <td>70.102501</td>\n",
       "      <td>68.937851</td>\n",
       "      <td>114158400</td>\n",
       "    </tr>\n",
       "    <tr>\n",
       "      <th>3</th>\n",
       "      <td>2019-12-18</td>\n",
       "      <td>69.949997</td>\n",
       "      <td>70.474998</td>\n",
       "      <td>69.779999</td>\n",
       "      <td>69.934998</td>\n",
       "      <td>68.773132</td>\n",
       "      <td>116028400</td>\n",
       "    </tr>\n",
       "    <tr>\n",
       "      <th>4</th>\n",
       "      <td>2019-12-19</td>\n",
       "      <td>69.875000</td>\n",
       "      <td>70.294998</td>\n",
       "      <td>69.737503</td>\n",
       "      <td>70.004997</td>\n",
       "      <td>68.841965</td>\n",
       "      <td>98369200</td>\n",
       "    </tr>\n",
       "    <tr>\n",
       "      <th>...</th>\n",
       "      <td>...</td>\n",
       "      <td>...</td>\n",
       "      <td>...</td>\n",
       "      <td>...</td>\n",
       "      <td>...</td>\n",
       "      <td>...</td>\n",
       "      <td>...</td>\n",
       "    </tr>\n",
       "    <tr>\n",
       "      <th>247</th>\n",
       "      <td>2020-12-07</td>\n",
       "      <td>122.309998</td>\n",
       "      <td>124.570000</td>\n",
       "      <td>122.250000</td>\n",
       "      <td>123.750000</td>\n",
       "      <td>123.750000</td>\n",
       "      <td>86712000</td>\n",
       "    </tr>\n",
       "    <tr>\n",
       "      <th>248</th>\n",
       "      <td>2020-12-08</td>\n",
       "      <td>124.370003</td>\n",
       "      <td>124.980003</td>\n",
       "      <td>123.089996</td>\n",
       "      <td>124.379997</td>\n",
       "      <td>124.379997</td>\n",
       "      <td>82225500</td>\n",
       "    </tr>\n",
       "    <tr>\n",
       "      <th>249</th>\n",
       "      <td>2020-12-09</td>\n",
       "      <td>124.529999</td>\n",
       "      <td>125.949997</td>\n",
       "      <td>121.000000</td>\n",
       "      <td>121.779999</td>\n",
       "      <td>121.779999</td>\n",
       "      <td>115089200</td>\n",
       "    </tr>\n",
       "    <tr>\n",
       "      <th>250</th>\n",
       "      <td>2020-12-10</td>\n",
       "      <td>120.500000</td>\n",
       "      <td>123.870003</td>\n",
       "      <td>120.150002</td>\n",
       "      <td>123.239998</td>\n",
       "      <td>123.239998</td>\n",
       "      <td>81312200</td>\n",
       "    </tr>\n",
       "    <tr>\n",
       "      <th>251</th>\n",
       "      <td>2020-12-11</td>\n",
       "      <td>122.430000</td>\n",
       "      <td>122.760002</td>\n",
       "      <td>120.550003</td>\n",
       "      <td>122.410004</td>\n",
       "      <td>122.410004</td>\n",
       "      <td>86860000</td>\n",
       "    </tr>\n",
       "  </tbody>\n",
       "</table>\n",
       "<p>252 rows × 7 columns</p>\n",
       "</div>"
      ],
      "text/plain": [
       "           Date        Open        High         Low       Close   Adj Close  \\\n",
       "0    2019-12-13   67.864998   68.824997   67.732498   68.787498   67.644707   \n",
       "1    2019-12-16   69.250000   70.197502   69.245003   69.964996   68.802635   \n",
       "2    2019-12-17   69.892502   70.442497   69.699997   70.102501   68.937851   \n",
       "3    2019-12-18   69.949997   70.474998   69.779999   69.934998   68.773132   \n",
       "4    2019-12-19   69.875000   70.294998   69.737503   70.004997   68.841965   \n",
       "..          ...         ...         ...         ...         ...         ...   \n",
       "247  2020-12-07  122.309998  124.570000  122.250000  123.750000  123.750000   \n",
       "248  2020-12-08  124.370003  124.980003  123.089996  124.379997  124.379997   \n",
       "249  2020-12-09  124.529999  125.949997  121.000000  121.779999  121.779999   \n",
       "250  2020-12-10  120.500000  123.870003  120.150002  123.239998  123.239998   \n",
       "251  2020-12-11  122.430000  122.760002  120.550003  122.410004  122.410004   \n",
       "\n",
       "        Volume  \n",
       "0    133587600  \n",
       "1    128186000  \n",
       "2    114158400  \n",
       "3    116028400  \n",
       "4     98369200  \n",
       "..         ...  \n",
       "247   86712000  \n",
       "248   82225500  \n",
       "249  115089200  \n",
       "250   81312200  \n",
       "251   86860000  \n",
       "\n",
       "[252 rows x 7 columns]"
      ]
     },
     "execution_count": 93,
     "metadata": {},
     "output_type": "execute_result"
    }
   ],
   "source": [
    "#Get the stock quote\n",
    "df = pd.read_csv('AMZN.csv')\n",
    "#Show teh data\n",
    "df"
   ]
  },
  {
   "cell_type": "code",
   "execution_count": 94,
   "metadata": {},
   "outputs": [
    {
     "data": {
      "text/html": [
       "        <script type=\"text/javascript\">\n",
       "        window.PlotlyConfig = {MathJaxConfig: 'local'};\n",
       "        if (window.MathJax) {MathJax.Hub.Config({SVG: {font: \"STIX-Web\"}});}\n",
       "        if (typeof require !== 'undefined') {\n",
       "        require.undef(\"plotly\");\n",
       "        requirejs.config({\n",
       "            paths: {\n",
       "                'plotly': ['https://cdn.plot.ly/plotly-latest.min']\n",
       "            }\n",
       "        });\n",
       "        require(['plotly'], function(Plotly) {\n",
       "            window._Plotly = Plotly;\n",
       "        });\n",
       "        }\n",
       "        </script>\n",
       "        "
      ]
     },
     "metadata": {},
     "output_type": "display_data"
    }
   ],
   "source": [
    "import chart_studio.plotly as py\n",
    "import plotly.graph_objs as go\n",
    "from plotly.offline import plot\n",
    "\n",
    "from plotly.offline import download_plotlyjs, init_notebook_mode, plot, iplot\n",
    "init_notebook_mode(connected=True)"
   ]
  },
  {
   "cell_type": "code",
   "execution_count": 95,
   "metadata": {},
   "outputs": [],
   "source": [
    "layout = go.Layout(\n",
    "    title='Amazon Stock Prices',\n",
    "        xaxis=dict(\n",
    "            title='date',\n",
    "            titlefont=dict(\n",
    "                family='Courier New, monospace',\n",
    "                size=18,\n",
    "                color='blue'\n",
    "            )\n",
    "        ),\n",
    "        yaxis=dict(\n",
    "            title='Price',\n",
    "            titlefont=dict(\n",
    "                family='Courier New, monospace',\n",
    "                size=18,\n",
    "                color='red'\n",
    "        )\n",
    "    )\n",
    ")\n",
    "df_data = [{'x':df['Date'], 'y':df['Close']}]\n",
    "plot = go.Figure(data=df_data, layout=layout)"
   ]
  },
  {
   "cell_type": "code",
   "execution_count": 96,
   "metadata": {},
   "outputs": [
    {
     "data": {
      "application/vnd.plotly.v1+json": {
       "config": {
        "linkText": "Export to plot.ly",
        "plotlyServerURL": "https://plot.ly",
        "showLink": false
       },
       "data": [
        {
         "type": "scatter",
         "x": [
          "2019-12-13",
          "2019-12-16",
          "2019-12-17",
          "2019-12-18",
          "2019-12-19",
          "2019-12-20",
          "2019-12-23",
          "2019-12-24",
          "2019-12-26",
          "2019-12-27",
          "2019-12-30",
          "2019-12-31",
          "2020-01-02",
          "2020-01-03",
          "2020-01-06",
          "2020-01-07",
          "2020-01-08",
          "2020-01-09",
          "2020-01-10",
          "2020-01-13",
          "2020-01-14",
          "2020-01-15",
          "2020-01-16",
          "2020-01-17",
          "2020-01-21",
          "2020-01-22",
          "2020-01-23",
          "2020-01-24",
          "2020-01-27",
          "2020-01-28",
          "2020-01-29",
          "2020-01-30",
          "2020-01-31",
          "2020-02-03",
          "2020-02-04",
          "2020-02-05",
          "2020-02-06",
          "2020-02-07",
          "2020-02-10",
          "2020-02-11",
          "2020-02-12",
          "2020-02-13",
          "2020-02-14",
          "2020-02-18",
          "2020-02-19",
          "2020-02-20",
          "2020-02-21",
          "2020-02-24",
          "2020-02-25",
          "2020-02-26",
          "2020-02-27",
          "2020-02-28",
          "2020-03-02",
          "2020-03-03",
          "2020-03-04",
          "2020-03-05",
          "2020-03-06",
          "2020-03-09",
          "2020-03-10",
          "2020-03-11",
          "2020-03-12",
          "2020-03-13",
          "2020-03-16",
          "2020-03-17",
          "2020-03-18",
          "2020-03-19",
          "2020-03-20",
          "2020-03-23",
          "2020-03-24",
          "2020-03-25",
          "2020-03-26",
          "2020-03-27",
          "2020-03-30",
          "2020-03-31",
          "2020-04-01",
          "2020-04-02",
          "2020-04-03",
          "2020-04-06",
          "2020-04-07",
          "2020-04-08",
          "2020-04-09",
          "2020-04-13",
          "2020-04-14",
          "2020-04-15",
          "2020-04-16",
          "2020-04-17",
          "2020-04-20",
          "2020-04-21",
          "2020-04-22",
          "2020-04-23",
          "2020-04-24",
          "2020-04-27",
          "2020-04-28",
          "2020-04-29",
          "2020-04-30",
          "2020-05-01",
          "2020-05-04",
          "2020-05-05",
          "2020-05-06",
          "2020-05-07",
          "2020-05-08",
          "2020-05-11",
          "2020-05-12",
          "2020-05-13",
          "2020-05-14",
          "2020-05-15",
          "2020-05-18",
          "2020-05-19",
          "2020-05-20",
          "2020-05-21",
          "2020-05-22",
          "2020-05-26",
          "2020-05-27",
          "2020-05-28",
          "2020-05-29",
          "2020-06-01",
          "2020-06-02",
          "2020-06-03",
          "2020-06-04",
          "2020-06-05",
          "2020-06-08",
          "2020-06-09",
          "2020-06-10",
          "2020-06-11",
          "2020-06-12",
          "2020-06-15",
          "2020-06-16",
          "2020-06-17",
          "2020-06-18",
          "2020-06-19",
          "2020-06-22",
          "2020-06-23",
          "2020-06-24",
          "2020-06-25",
          "2020-06-26",
          "2020-06-29",
          "2020-06-30",
          "2020-07-01",
          "2020-07-02",
          "2020-07-06",
          "2020-07-07",
          "2020-07-08",
          "2020-07-09",
          "2020-07-10",
          "2020-07-13",
          "2020-07-14",
          "2020-07-15",
          "2020-07-16",
          "2020-07-17",
          "2020-07-20",
          "2020-07-21",
          "2020-07-22",
          "2020-07-23",
          "2020-07-24",
          "2020-07-27",
          "2020-07-28",
          "2020-07-29",
          "2020-07-30",
          "2020-07-31",
          "2020-08-03",
          "2020-08-04",
          "2020-08-05",
          "2020-08-06",
          "2020-08-07",
          "2020-08-10",
          "2020-08-11",
          "2020-08-12",
          "2020-08-13",
          "2020-08-14",
          "2020-08-17",
          "2020-08-18",
          "2020-08-19",
          "2020-08-20",
          "2020-08-21",
          "2020-08-24",
          "2020-08-25",
          "2020-08-26",
          "2020-08-27",
          "2020-08-28",
          "2020-08-31",
          "2020-09-01",
          "2020-09-02",
          "2020-09-03",
          "2020-09-04",
          "2020-09-08",
          "2020-09-09",
          "2020-09-10",
          "2020-09-11",
          "2020-09-14",
          "2020-09-15",
          "2020-09-16",
          "2020-09-17",
          "2020-09-18",
          "2020-09-21",
          "2020-09-22",
          "2020-09-23",
          "2020-09-24",
          "2020-09-25",
          "2020-09-28",
          "2020-09-29",
          "2020-09-30",
          "2020-10-01",
          "2020-10-02",
          "2020-10-05",
          "2020-10-06",
          "2020-10-07",
          "2020-10-08",
          "2020-10-09",
          "2020-10-12",
          "2020-10-13",
          "2020-10-14",
          "2020-10-15",
          "2020-10-16",
          "2020-10-19",
          "2020-10-20",
          "2020-10-21",
          "2020-10-22",
          "2020-10-23",
          "2020-10-26",
          "2020-10-27",
          "2020-10-28",
          "2020-10-29",
          "2020-10-30",
          "2020-11-02",
          "2020-11-03",
          "2020-11-04",
          "2020-11-05",
          "2020-11-06",
          "2020-11-09",
          "2020-11-10",
          "2020-11-11",
          "2020-11-12",
          "2020-11-13",
          "2020-11-16",
          "2020-11-17",
          "2020-11-18",
          "2020-11-19",
          "2020-11-20",
          "2020-11-23",
          "2020-11-24",
          "2020-11-25",
          "2020-11-27",
          "2020-11-30",
          "2020-12-01",
          "2020-12-02",
          "2020-12-03",
          "2020-12-04",
          "2020-12-07",
          "2020-12-08",
          "2020-12-09",
          "2020-12-10",
          "2020-12-11"
         ],
         "y": [
          68.787498,
          69.964996,
          70.102501,
          69.934998,
          70.004997,
          69.860001,
          71,
          71.067497,
          72.477501,
          72.449997,
          72.879997,
          73.412498,
          75.087502,
          74.35749799999999,
          74.949997,
          74.597504,
          75.797501,
          77.407501,
          77.582497,
          79.239998,
          78.16999799999999,
          77.834999,
          78.809998,
          79.682503,
          79.14250200000001,
          79.425003,
          79.807503,
          79.577499,
          77.237503,
          79.422501,
          81.084999,
          80.967499,
          77.377502,
          77.165001,
          79.712502,
          80.362503,
          81.302498,
          80.0075,
          80.387497,
          79.902496,
          81.800003,
          81.217499,
          81.237503,
          79.75,
          80.904999,
          80.074997,
          78.262497,
          74.54499799999999,
          72.019997,
          73.162498,
          68.379997,
          68.339996,
          74.702499,
          72.33000200000001,
          75.684998,
          73.230003,
          72.2575,
          66.542503,
          71.334999,
          68.85749799999999,
          62.057499,
          69.4925,
          60.552502000000004,
          63.215,
          61.6675,
          61.195,
          57.310001,
          56.092499,
          61.720001,
          61.380001,
          64.610001,
          61.935001,
          63.702498999999996,
          63.572497999999996,
          60.227501000000004,
          61.232498,
          60.352501000000004,
          65.6175,
          64.85749799999999,
          66.51750200000001,
          66.997498,
          68.3125,
          71.762497,
          71.10749799999999,
          71.672501,
          70.699997,
          69.23249799999999,
          67.092499,
          69.025002,
          68.7575,
          70.7425,
          70.792503,
          69.644997,
          71.932503,
          73.449997,
          72.26750200000001,
          73.290001,
          74.389999,
          75.157501,
          75.934998,
          77.532501,
          78.752502,
          77.852501,
          76.912498,
          77.385002,
          76.927498,
          78.739998,
          78.285004,
          79.807503,
          79.212502,
          79.722504,
          79.182503,
          79.527496,
          79.5625,
          79.485001,
          80.462502,
          80.834999,
          81.279999,
          80.58000200000001,
          82.875,
          83.364998,
          85.997498,
          88.209999,
          83.974998,
          84.699997,
          85.747498,
          88.019997,
          87.897499,
          87.932503,
          87.43,
          89.717499,
          91.6325,
          90.014999,
          91.209999,
          88.407501,
          90.445,
          91.199997,
          91.027496,
          91.027496,
          93.462502,
          93.172501,
          95.342499,
          95.752502,
          95.91999799999999,
          95.477501,
          97.057503,
          97.724998,
          96.522499,
          96.327499,
          98.35749799999999,
          97,
          97.272499,
          92.845001,
          92.614998,
          94.809998,
          93.252502,
          95.040001,
          96.190002,
          106.260002,
          108.9375,
          109.665001,
          110.0625,
          113.902496,
          111.112503,
          112.727501,
          109.375,
          113.010002,
          115.010002,
          114.907501,
          114.60749799999999,
          115.5625,
          115.707497,
          118.275002,
          124.370003,
          125.85749799999999,
          124.824997,
          126.522499,
          125.010002,
          124.807503,
          129.03999299999998,
          134.179993,
          131.399994,
          120.879997,
          120.959999,
          112.82,
          117.32,
          113.489998,
          112,
          115.360001,
          115.540001,
          112.129997,
          110.339996,
          106.839996,
          110.08000200000001,
          111.809998,
          107.120003,
          108.220001,
          112.279999,
          114.959999,
          114.089996,
          115.809998,
          116.790001,
          113.019997,
          116.5,
          113.160004,
          115.08000200000001,
          114.970001,
          116.970001,
          124.400002,
          121.099998,
          121.190002,
          120.709999,
          119.019997,
          115.980003,
          117.510002,
          116.870003,
          115.75,
          115.040001,
          115.050003,
          116.599998,
          111.199997,
          115.32,
          108.860001,
          108.769997,
          110.440002,
          114.949997,
          119.029999,
          118.690002,
          116.32,
          115.970001,
          119.489998,
          119.209999,
          119.260002,
          120.300003,
          119.389999,
          118.029999,
          118.639999,
          117.339996,
          113.849998,
          115.16999799999999,
          116.029999,
          116.589996,
          119.050003,
          122.720001,
          123.08000200000001,
          122.940002,
          122.25,
          123.75,
          124.379997,
          121.779999,
          123.239998,
          122.410004
         ]
        }
       ],
       "layout": {
        "template": {
         "data": {
          "bar": [
           {
            "error_x": {
             "color": "#2a3f5f"
            },
            "error_y": {
             "color": "#2a3f5f"
            },
            "marker": {
             "line": {
              "color": "#E5ECF6",
              "width": 0.5
             }
            },
            "type": "bar"
           }
          ],
          "barpolar": [
           {
            "marker": {
             "line": {
              "color": "#E5ECF6",
              "width": 0.5
             }
            },
            "type": "barpolar"
           }
          ],
          "carpet": [
           {
            "aaxis": {
             "endlinecolor": "#2a3f5f",
             "gridcolor": "white",
             "linecolor": "white",
             "minorgridcolor": "white",
             "startlinecolor": "#2a3f5f"
            },
            "baxis": {
             "endlinecolor": "#2a3f5f",
             "gridcolor": "white",
             "linecolor": "white",
             "minorgridcolor": "white",
             "startlinecolor": "#2a3f5f"
            },
            "type": "carpet"
           }
          ],
          "choropleth": [
           {
            "colorbar": {
             "outlinewidth": 0,
             "ticks": ""
            },
            "type": "choropleth"
           }
          ],
          "contour": [
           {
            "colorbar": {
             "outlinewidth": 0,
             "ticks": ""
            },
            "colorscale": [
             [
              0,
              "#0d0887"
             ],
             [
              0.1111111111111111,
              "#46039f"
             ],
             [
              0.2222222222222222,
              "#7201a8"
             ],
             [
              0.3333333333333333,
              "#9c179e"
             ],
             [
              0.4444444444444444,
              "#bd3786"
             ],
             [
              0.5555555555555556,
              "#d8576b"
             ],
             [
              0.6666666666666666,
              "#ed7953"
             ],
             [
              0.7777777777777778,
              "#fb9f3a"
             ],
             [
              0.8888888888888888,
              "#fdca26"
             ],
             [
              1,
              "#f0f921"
             ]
            ],
            "type": "contour"
           }
          ],
          "contourcarpet": [
           {
            "colorbar": {
             "outlinewidth": 0,
             "ticks": ""
            },
            "type": "contourcarpet"
           }
          ],
          "heatmap": [
           {
            "colorbar": {
             "outlinewidth": 0,
             "ticks": ""
            },
            "colorscale": [
             [
              0,
              "#0d0887"
             ],
             [
              0.1111111111111111,
              "#46039f"
             ],
             [
              0.2222222222222222,
              "#7201a8"
             ],
             [
              0.3333333333333333,
              "#9c179e"
             ],
             [
              0.4444444444444444,
              "#bd3786"
             ],
             [
              0.5555555555555556,
              "#d8576b"
             ],
             [
              0.6666666666666666,
              "#ed7953"
             ],
             [
              0.7777777777777778,
              "#fb9f3a"
             ],
             [
              0.8888888888888888,
              "#fdca26"
             ],
             [
              1,
              "#f0f921"
             ]
            ],
            "type": "heatmap"
           }
          ],
          "heatmapgl": [
           {
            "colorbar": {
             "outlinewidth": 0,
             "ticks": ""
            },
            "colorscale": [
             [
              0,
              "#0d0887"
             ],
             [
              0.1111111111111111,
              "#46039f"
             ],
             [
              0.2222222222222222,
              "#7201a8"
             ],
             [
              0.3333333333333333,
              "#9c179e"
             ],
             [
              0.4444444444444444,
              "#bd3786"
             ],
             [
              0.5555555555555556,
              "#d8576b"
             ],
             [
              0.6666666666666666,
              "#ed7953"
             ],
             [
              0.7777777777777778,
              "#fb9f3a"
             ],
             [
              0.8888888888888888,
              "#fdca26"
             ],
             [
              1,
              "#f0f921"
             ]
            ],
            "type": "heatmapgl"
           }
          ],
          "histogram": [
           {
            "marker": {
             "colorbar": {
              "outlinewidth": 0,
              "ticks": ""
             }
            },
            "type": "histogram"
           }
          ],
          "histogram2d": [
           {
            "colorbar": {
             "outlinewidth": 0,
             "ticks": ""
            },
            "colorscale": [
             [
              0,
              "#0d0887"
             ],
             [
              0.1111111111111111,
              "#46039f"
             ],
             [
              0.2222222222222222,
              "#7201a8"
             ],
             [
              0.3333333333333333,
              "#9c179e"
             ],
             [
              0.4444444444444444,
              "#bd3786"
             ],
             [
              0.5555555555555556,
              "#d8576b"
             ],
             [
              0.6666666666666666,
              "#ed7953"
             ],
             [
              0.7777777777777778,
              "#fb9f3a"
             ],
             [
              0.8888888888888888,
              "#fdca26"
             ],
             [
              1,
              "#f0f921"
             ]
            ],
            "type": "histogram2d"
           }
          ],
          "histogram2dcontour": [
           {
            "colorbar": {
             "outlinewidth": 0,
             "ticks": ""
            },
            "colorscale": [
             [
              0,
              "#0d0887"
             ],
             [
              0.1111111111111111,
              "#46039f"
             ],
             [
              0.2222222222222222,
              "#7201a8"
             ],
             [
              0.3333333333333333,
              "#9c179e"
             ],
             [
              0.4444444444444444,
              "#bd3786"
             ],
             [
              0.5555555555555556,
              "#d8576b"
             ],
             [
              0.6666666666666666,
              "#ed7953"
             ],
             [
              0.7777777777777778,
              "#fb9f3a"
             ],
             [
              0.8888888888888888,
              "#fdca26"
             ],
             [
              1,
              "#f0f921"
             ]
            ],
            "type": "histogram2dcontour"
           }
          ],
          "mesh3d": [
           {
            "colorbar": {
             "outlinewidth": 0,
             "ticks": ""
            },
            "type": "mesh3d"
           }
          ],
          "parcoords": [
           {
            "line": {
             "colorbar": {
              "outlinewidth": 0,
              "ticks": ""
             }
            },
            "type": "parcoords"
           }
          ],
          "pie": [
           {
            "automargin": true,
            "type": "pie"
           }
          ],
          "scatter": [
           {
            "marker": {
             "colorbar": {
              "outlinewidth": 0,
              "ticks": ""
             }
            },
            "type": "scatter"
           }
          ],
          "scatter3d": [
           {
            "line": {
             "colorbar": {
              "outlinewidth": 0,
              "ticks": ""
             }
            },
            "marker": {
             "colorbar": {
              "outlinewidth": 0,
              "ticks": ""
             }
            },
            "type": "scatter3d"
           }
          ],
          "scattercarpet": [
           {
            "marker": {
             "colorbar": {
              "outlinewidth": 0,
              "ticks": ""
             }
            },
            "type": "scattercarpet"
           }
          ],
          "scattergeo": [
           {
            "marker": {
             "colorbar": {
              "outlinewidth": 0,
              "ticks": ""
             }
            },
            "type": "scattergeo"
           }
          ],
          "scattergl": [
           {
            "marker": {
             "colorbar": {
              "outlinewidth": 0,
              "ticks": ""
             }
            },
            "type": "scattergl"
           }
          ],
          "scattermapbox": [
           {
            "marker": {
             "colorbar": {
              "outlinewidth": 0,
              "ticks": ""
             }
            },
            "type": "scattermapbox"
           }
          ],
          "scatterpolar": [
           {
            "marker": {
             "colorbar": {
              "outlinewidth": 0,
              "ticks": ""
             }
            },
            "type": "scatterpolar"
           }
          ],
          "scatterpolargl": [
           {
            "marker": {
             "colorbar": {
              "outlinewidth": 0,
              "ticks": ""
             }
            },
            "type": "scatterpolargl"
           }
          ],
          "scatterternary": [
           {
            "marker": {
             "colorbar": {
              "outlinewidth": 0,
              "ticks": ""
             }
            },
            "type": "scatterternary"
           }
          ],
          "surface": [
           {
            "colorbar": {
             "outlinewidth": 0,
             "ticks": ""
            },
            "colorscale": [
             [
              0,
              "#0d0887"
             ],
             [
              0.1111111111111111,
              "#46039f"
             ],
             [
              0.2222222222222222,
              "#7201a8"
             ],
             [
              0.3333333333333333,
              "#9c179e"
             ],
             [
              0.4444444444444444,
              "#bd3786"
             ],
             [
              0.5555555555555556,
              "#d8576b"
             ],
             [
              0.6666666666666666,
              "#ed7953"
             ],
             [
              0.7777777777777778,
              "#fb9f3a"
             ],
             [
              0.8888888888888888,
              "#fdca26"
             ],
             [
              1,
              "#f0f921"
             ]
            ],
            "type": "surface"
           }
          ],
          "table": [
           {
            "cells": {
             "fill": {
              "color": "#EBF0F8"
             },
             "line": {
              "color": "white"
             }
            },
            "header": {
             "fill": {
              "color": "#C8D4E3"
             },
             "line": {
              "color": "white"
             }
            },
            "type": "table"
           }
          ]
         },
         "layout": {
          "annotationdefaults": {
           "arrowcolor": "#2a3f5f",
           "arrowhead": 0,
           "arrowwidth": 1
          },
          "coloraxis": {
           "colorbar": {
            "outlinewidth": 0,
            "ticks": ""
           }
          },
          "colorscale": {
           "diverging": [
            [
             0,
             "#8e0152"
            ],
            [
             0.1,
             "#c51b7d"
            ],
            [
             0.2,
             "#de77ae"
            ],
            [
             0.3,
             "#f1b6da"
            ],
            [
             0.4,
             "#fde0ef"
            ],
            [
             0.5,
             "#f7f7f7"
            ],
            [
             0.6,
             "#e6f5d0"
            ],
            [
             0.7,
             "#b8e186"
            ],
            [
             0.8,
             "#7fbc41"
            ],
            [
             0.9,
             "#4d9221"
            ],
            [
             1,
             "#276419"
            ]
           ],
           "sequential": [
            [
             0,
             "#0d0887"
            ],
            [
             0.1111111111111111,
             "#46039f"
            ],
            [
             0.2222222222222222,
             "#7201a8"
            ],
            [
             0.3333333333333333,
             "#9c179e"
            ],
            [
             0.4444444444444444,
             "#bd3786"
            ],
            [
             0.5555555555555556,
             "#d8576b"
            ],
            [
             0.6666666666666666,
             "#ed7953"
            ],
            [
             0.7777777777777778,
             "#fb9f3a"
            ],
            [
             0.8888888888888888,
             "#fdca26"
            ],
            [
             1,
             "#f0f921"
            ]
           ],
           "sequentialminus": [
            [
             0,
             "#0d0887"
            ],
            [
             0.1111111111111111,
             "#46039f"
            ],
            [
             0.2222222222222222,
             "#7201a8"
            ],
            [
             0.3333333333333333,
             "#9c179e"
            ],
            [
             0.4444444444444444,
             "#bd3786"
            ],
            [
             0.5555555555555556,
             "#d8576b"
            ],
            [
             0.6666666666666666,
             "#ed7953"
            ],
            [
             0.7777777777777778,
             "#fb9f3a"
            ],
            [
             0.8888888888888888,
             "#fdca26"
            ],
            [
             1,
             "#f0f921"
            ]
           ]
          },
          "colorway": [
           "#636efa",
           "#EF553B",
           "#00cc96",
           "#ab63fa",
           "#FFA15A",
           "#19d3f3",
           "#FF6692",
           "#B6E880",
           "#FF97FF",
           "#FECB52"
          ],
          "font": {
           "color": "#2a3f5f"
          },
          "geo": {
           "bgcolor": "white",
           "lakecolor": "white",
           "landcolor": "#E5ECF6",
           "showlakes": true,
           "showland": true,
           "subunitcolor": "white"
          },
          "hoverlabel": {
           "align": "left"
          },
          "hovermode": "closest",
          "mapbox": {
           "style": "light"
          },
          "paper_bgcolor": "white",
          "plot_bgcolor": "#E5ECF6",
          "polar": {
           "angularaxis": {
            "gridcolor": "white",
            "linecolor": "white",
            "ticks": ""
           },
           "bgcolor": "#E5ECF6",
           "radialaxis": {
            "gridcolor": "white",
            "linecolor": "white",
            "ticks": ""
           }
          },
          "scene": {
           "xaxis": {
            "backgroundcolor": "#E5ECF6",
            "gridcolor": "white",
            "gridwidth": 2,
            "linecolor": "white",
            "showbackground": true,
            "ticks": "",
            "zerolinecolor": "white"
           },
           "yaxis": {
            "backgroundcolor": "#E5ECF6",
            "gridcolor": "white",
            "gridwidth": 2,
            "linecolor": "white",
            "showbackground": true,
            "ticks": "",
            "zerolinecolor": "white"
           },
           "zaxis": {
            "backgroundcolor": "#E5ECF6",
            "gridcolor": "white",
            "gridwidth": 2,
            "linecolor": "white",
            "showbackground": true,
            "ticks": "",
            "zerolinecolor": "white"
           }
          },
          "shapedefaults": {
           "line": {
            "color": "#2a3f5f"
           }
          },
          "ternary": {
           "aaxis": {
            "gridcolor": "white",
            "linecolor": "white",
            "ticks": ""
           },
           "baxis": {
            "gridcolor": "white",
            "linecolor": "white",
            "ticks": ""
           },
           "bgcolor": "#E5ECF6",
           "caxis": {
            "gridcolor": "white",
            "linecolor": "white",
            "ticks": ""
           }
          },
          "title": {
           "x": 0.05
          },
          "xaxis": {
           "automargin": true,
           "gridcolor": "white",
           "linecolor": "white",
           "ticks": "",
           "title": {
            "standoff": 15
           },
           "zerolinecolor": "white",
           "zerolinewidth": 2
          },
          "yaxis": {
           "automargin": true,
           "gridcolor": "white",
           "linecolor": "white",
           "ticks": "",
           "title": {
            "standoff": 15
           },
           "zerolinecolor": "white",
           "zerolinewidth": 2
          }
         }
        },
        "title": {
         "text": "Amazon Stock Prices"
        },
        "xaxis": {
         "title": {
          "font": {
           "color": "blue",
           "family": "Courier New, monospace",
           "size": 18
          },
          "text": "date"
         }
        },
        "yaxis": {
         "title": {
          "font": {
           "color": "red",
           "family": "Courier New, monospace",
           "size": 18
          },
          "text": "Price"
         }
        }
       }
      },
      "text/html": [
       "<div>                            <div id=\"4f2cdf58-5b15-4cca-9eb1-06230043bd4e\" class=\"plotly-graph-div\" style=\"height:525px; width:100%;\"></div>            <script type=\"text/javascript\">                require([\"plotly\"], function(Plotly) {                    window.PLOTLYENV=window.PLOTLYENV || {};                                    if (document.getElementById(\"4f2cdf58-5b15-4cca-9eb1-06230043bd4e\")) {                    Plotly.newPlot(                        \"4f2cdf58-5b15-4cca-9eb1-06230043bd4e\",                        [{\"type\": \"scatter\", \"x\": [\"2019-12-13\", \"2019-12-16\", \"2019-12-17\", \"2019-12-18\", \"2019-12-19\", \"2019-12-20\", \"2019-12-23\", \"2019-12-24\", \"2019-12-26\", \"2019-12-27\", \"2019-12-30\", \"2019-12-31\", \"2020-01-02\", \"2020-01-03\", \"2020-01-06\", \"2020-01-07\", \"2020-01-08\", \"2020-01-09\", \"2020-01-10\", \"2020-01-13\", \"2020-01-14\", \"2020-01-15\", \"2020-01-16\", \"2020-01-17\", \"2020-01-21\", \"2020-01-22\", \"2020-01-23\", \"2020-01-24\", \"2020-01-27\", \"2020-01-28\", \"2020-01-29\", \"2020-01-30\", \"2020-01-31\", \"2020-02-03\", \"2020-02-04\", \"2020-02-05\", \"2020-02-06\", \"2020-02-07\", \"2020-02-10\", \"2020-02-11\", \"2020-02-12\", \"2020-02-13\", \"2020-02-14\", \"2020-02-18\", \"2020-02-19\", \"2020-02-20\", \"2020-02-21\", \"2020-02-24\", \"2020-02-25\", \"2020-02-26\", \"2020-02-27\", \"2020-02-28\", \"2020-03-02\", \"2020-03-03\", \"2020-03-04\", \"2020-03-05\", \"2020-03-06\", \"2020-03-09\", \"2020-03-10\", \"2020-03-11\", \"2020-03-12\", \"2020-03-13\", \"2020-03-16\", \"2020-03-17\", \"2020-03-18\", \"2020-03-19\", \"2020-03-20\", \"2020-03-23\", \"2020-03-24\", \"2020-03-25\", \"2020-03-26\", \"2020-03-27\", \"2020-03-30\", \"2020-03-31\", \"2020-04-01\", \"2020-04-02\", \"2020-04-03\", \"2020-04-06\", \"2020-04-07\", \"2020-04-08\", \"2020-04-09\", \"2020-04-13\", \"2020-04-14\", \"2020-04-15\", \"2020-04-16\", \"2020-04-17\", \"2020-04-20\", \"2020-04-21\", \"2020-04-22\", \"2020-04-23\", \"2020-04-24\", \"2020-04-27\", \"2020-04-28\", \"2020-04-29\", \"2020-04-30\", \"2020-05-01\", \"2020-05-04\", \"2020-05-05\", \"2020-05-06\", \"2020-05-07\", \"2020-05-08\", \"2020-05-11\", \"2020-05-12\", \"2020-05-13\", \"2020-05-14\", \"2020-05-15\", \"2020-05-18\", \"2020-05-19\", \"2020-05-20\", \"2020-05-21\", \"2020-05-22\", \"2020-05-26\", \"2020-05-27\", \"2020-05-28\", \"2020-05-29\", \"2020-06-01\", \"2020-06-02\", \"2020-06-03\", \"2020-06-04\", \"2020-06-05\", \"2020-06-08\", \"2020-06-09\", \"2020-06-10\", \"2020-06-11\", \"2020-06-12\", \"2020-06-15\", \"2020-06-16\", \"2020-06-17\", \"2020-06-18\", \"2020-06-19\", \"2020-06-22\", \"2020-06-23\", \"2020-06-24\", \"2020-06-25\", \"2020-06-26\", \"2020-06-29\", \"2020-06-30\", \"2020-07-01\", \"2020-07-02\", \"2020-07-06\", \"2020-07-07\", \"2020-07-08\", \"2020-07-09\", \"2020-07-10\", \"2020-07-13\", \"2020-07-14\", \"2020-07-15\", \"2020-07-16\", \"2020-07-17\", \"2020-07-20\", \"2020-07-21\", \"2020-07-22\", \"2020-07-23\", \"2020-07-24\", \"2020-07-27\", \"2020-07-28\", \"2020-07-29\", \"2020-07-30\", \"2020-07-31\", \"2020-08-03\", \"2020-08-04\", \"2020-08-05\", \"2020-08-06\", \"2020-08-07\", \"2020-08-10\", \"2020-08-11\", \"2020-08-12\", \"2020-08-13\", \"2020-08-14\", \"2020-08-17\", \"2020-08-18\", \"2020-08-19\", \"2020-08-20\", \"2020-08-21\", \"2020-08-24\", \"2020-08-25\", \"2020-08-26\", \"2020-08-27\", \"2020-08-28\", \"2020-08-31\", \"2020-09-01\", \"2020-09-02\", \"2020-09-03\", \"2020-09-04\", \"2020-09-08\", \"2020-09-09\", \"2020-09-10\", \"2020-09-11\", \"2020-09-14\", \"2020-09-15\", \"2020-09-16\", \"2020-09-17\", \"2020-09-18\", \"2020-09-21\", \"2020-09-22\", \"2020-09-23\", \"2020-09-24\", \"2020-09-25\", \"2020-09-28\", \"2020-09-29\", \"2020-09-30\", \"2020-10-01\", \"2020-10-02\", \"2020-10-05\", \"2020-10-06\", \"2020-10-07\", \"2020-10-08\", \"2020-10-09\", \"2020-10-12\", \"2020-10-13\", \"2020-10-14\", \"2020-10-15\", \"2020-10-16\", \"2020-10-19\", \"2020-10-20\", \"2020-10-21\", \"2020-10-22\", \"2020-10-23\", \"2020-10-26\", \"2020-10-27\", \"2020-10-28\", \"2020-10-29\", \"2020-10-30\", \"2020-11-02\", \"2020-11-03\", \"2020-11-04\", \"2020-11-05\", \"2020-11-06\", \"2020-11-09\", \"2020-11-10\", \"2020-11-11\", \"2020-11-12\", \"2020-11-13\", \"2020-11-16\", \"2020-11-17\", \"2020-11-18\", \"2020-11-19\", \"2020-11-20\", \"2020-11-23\", \"2020-11-24\", \"2020-11-25\", \"2020-11-27\", \"2020-11-30\", \"2020-12-01\", \"2020-12-02\", \"2020-12-03\", \"2020-12-04\", \"2020-12-07\", \"2020-12-08\", \"2020-12-09\", \"2020-12-10\", \"2020-12-11\"], \"y\": [68.787498, 69.964996, 70.102501, 69.934998, 70.004997, 69.860001, 71.0, 71.067497, 72.477501, 72.449997, 72.879997, 73.412498, 75.087502, 74.35749799999999, 74.949997, 74.597504, 75.797501, 77.407501, 77.582497, 79.239998, 78.16999799999999, 77.834999, 78.809998, 79.682503, 79.14250200000001, 79.425003, 79.807503, 79.577499, 77.237503, 79.422501, 81.084999, 80.967499, 77.377502, 77.165001, 79.712502, 80.362503, 81.302498, 80.0075, 80.387497, 79.902496, 81.800003, 81.217499, 81.237503, 79.75, 80.904999, 80.074997, 78.262497, 74.54499799999999, 72.019997, 73.162498, 68.379997, 68.339996, 74.702499, 72.33000200000001, 75.684998, 73.230003, 72.2575, 66.542503, 71.334999, 68.85749799999999, 62.057499, 69.4925, 60.552502000000004, 63.215, 61.6675, 61.195, 57.310001, 56.092499, 61.720001, 61.380001, 64.610001, 61.935001, 63.702498999999996, 63.572497999999996, 60.227501000000004, 61.232498, 60.352501000000004, 65.6175, 64.85749799999999, 66.51750200000001, 66.997498, 68.3125, 71.762497, 71.10749799999999, 71.672501, 70.699997, 69.23249799999999, 67.092499, 69.025002, 68.7575, 70.7425, 70.792503, 69.644997, 71.932503, 73.449997, 72.26750200000001, 73.290001, 74.389999, 75.157501, 75.934998, 77.532501, 78.752502, 77.852501, 76.912498, 77.385002, 76.927498, 78.739998, 78.285004, 79.807503, 79.212502, 79.722504, 79.182503, 79.527496, 79.5625, 79.485001, 80.462502, 80.834999, 81.279999, 80.58000200000001, 82.875, 83.364998, 85.997498, 88.209999, 83.974998, 84.699997, 85.747498, 88.019997, 87.897499, 87.932503, 87.43, 89.717499, 91.6325, 90.014999, 91.209999, 88.407501, 90.445, 91.199997, 91.027496, 91.027496, 93.462502, 93.172501, 95.342499, 95.752502, 95.91999799999999, 95.477501, 97.057503, 97.724998, 96.522499, 96.327499, 98.35749799999999, 97.0, 97.272499, 92.845001, 92.614998, 94.809998, 93.252502, 95.040001, 96.190002, 106.260002, 108.9375, 109.665001, 110.0625, 113.902496, 111.112503, 112.727501, 109.375, 113.010002, 115.010002, 114.907501, 114.60749799999999, 115.5625, 115.707497, 118.275002, 124.370003, 125.85749799999999, 124.824997, 126.522499, 125.010002, 124.807503, 129.03999299999998, 134.179993, 131.399994, 120.879997, 120.959999, 112.82, 117.32, 113.489998, 112.0, 115.360001, 115.540001, 112.129997, 110.339996, 106.839996, 110.08000200000001, 111.809998, 107.120003, 108.220001, 112.279999, 114.959999, 114.089996, 115.809998, 116.790001, 113.019997, 116.5, 113.160004, 115.08000200000001, 114.970001, 116.970001, 124.400002, 121.099998, 121.190002, 120.709999, 119.019997, 115.980003, 117.510002, 116.870003, 115.75, 115.040001, 115.050003, 116.599998, 111.199997, 115.32, 108.860001, 108.769997, 110.440002, 114.949997, 119.029999, 118.690002, 116.32, 115.970001, 119.489998, 119.209999, 119.260002, 120.300003, 119.389999, 118.029999, 118.639999, 117.339996, 113.849998, 115.16999799999999, 116.029999, 116.589996, 119.050003, 122.720001, 123.08000200000001, 122.940002, 122.25, 123.75, 124.379997, 121.779999, 123.239998, 122.410004]}],                        {\"template\": {\"data\": {\"bar\": [{\"error_x\": {\"color\": \"#2a3f5f\"}, \"error_y\": {\"color\": \"#2a3f5f\"}, \"marker\": {\"line\": {\"color\": \"#E5ECF6\", \"width\": 0.5}}, \"type\": \"bar\"}], \"barpolar\": [{\"marker\": {\"line\": {\"color\": \"#E5ECF6\", \"width\": 0.5}}, \"type\": \"barpolar\"}], \"carpet\": [{\"aaxis\": {\"endlinecolor\": \"#2a3f5f\", \"gridcolor\": \"white\", \"linecolor\": \"white\", \"minorgridcolor\": \"white\", \"startlinecolor\": \"#2a3f5f\"}, \"baxis\": {\"endlinecolor\": \"#2a3f5f\", \"gridcolor\": \"white\", \"linecolor\": \"white\", \"minorgridcolor\": \"white\", \"startlinecolor\": \"#2a3f5f\"}, \"type\": \"carpet\"}], \"choropleth\": [{\"colorbar\": {\"outlinewidth\": 0, \"ticks\": \"\"}, \"type\": \"choropleth\"}], \"contour\": [{\"colorbar\": {\"outlinewidth\": 0, \"ticks\": \"\"}, \"colorscale\": [[0.0, \"#0d0887\"], [0.1111111111111111, \"#46039f\"], [0.2222222222222222, \"#7201a8\"], [0.3333333333333333, \"#9c179e\"], [0.4444444444444444, \"#bd3786\"], [0.5555555555555556, \"#d8576b\"], [0.6666666666666666, \"#ed7953\"], [0.7777777777777778, \"#fb9f3a\"], [0.8888888888888888, \"#fdca26\"], [1.0, \"#f0f921\"]], \"type\": \"contour\"}], \"contourcarpet\": [{\"colorbar\": {\"outlinewidth\": 0, \"ticks\": \"\"}, \"type\": \"contourcarpet\"}], \"heatmap\": [{\"colorbar\": {\"outlinewidth\": 0, \"ticks\": \"\"}, \"colorscale\": [[0.0, \"#0d0887\"], [0.1111111111111111, \"#46039f\"], [0.2222222222222222, \"#7201a8\"], [0.3333333333333333, \"#9c179e\"], [0.4444444444444444, \"#bd3786\"], [0.5555555555555556, \"#d8576b\"], [0.6666666666666666, \"#ed7953\"], [0.7777777777777778, \"#fb9f3a\"], [0.8888888888888888, \"#fdca26\"], [1.0, \"#f0f921\"]], \"type\": \"heatmap\"}], \"heatmapgl\": [{\"colorbar\": {\"outlinewidth\": 0, \"ticks\": \"\"}, \"colorscale\": [[0.0, \"#0d0887\"], [0.1111111111111111, \"#46039f\"], [0.2222222222222222, \"#7201a8\"], [0.3333333333333333, \"#9c179e\"], [0.4444444444444444, \"#bd3786\"], [0.5555555555555556, \"#d8576b\"], [0.6666666666666666, \"#ed7953\"], [0.7777777777777778, \"#fb9f3a\"], [0.8888888888888888, \"#fdca26\"], [1.0, \"#f0f921\"]], \"type\": \"heatmapgl\"}], \"histogram\": [{\"marker\": {\"colorbar\": {\"outlinewidth\": 0, \"ticks\": \"\"}}, \"type\": \"histogram\"}], \"histogram2d\": [{\"colorbar\": {\"outlinewidth\": 0, \"ticks\": \"\"}, \"colorscale\": [[0.0, \"#0d0887\"], [0.1111111111111111, \"#46039f\"], [0.2222222222222222, \"#7201a8\"], [0.3333333333333333, \"#9c179e\"], [0.4444444444444444, \"#bd3786\"], [0.5555555555555556, \"#d8576b\"], [0.6666666666666666, \"#ed7953\"], [0.7777777777777778, \"#fb9f3a\"], [0.8888888888888888, \"#fdca26\"], [1.0, \"#f0f921\"]], \"type\": \"histogram2d\"}], \"histogram2dcontour\": [{\"colorbar\": {\"outlinewidth\": 0, \"ticks\": \"\"}, \"colorscale\": [[0.0, \"#0d0887\"], [0.1111111111111111, \"#46039f\"], [0.2222222222222222, \"#7201a8\"], [0.3333333333333333, \"#9c179e\"], [0.4444444444444444, \"#bd3786\"], [0.5555555555555556, \"#d8576b\"], [0.6666666666666666, \"#ed7953\"], [0.7777777777777778, \"#fb9f3a\"], [0.8888888888888888, \"#fdca26\"], [1.0, \"#f0f921\"]], \"type\": \"histogram2dcontour\"}], \"mesh3d\": [{\"colorbar\": {\"outlinewidth\": 0, \"ticks\": \"\"}, \"type\": \"mesh3d\"}], \"parcoords\": [{\"line\": {\"colorbar\": {\"outlinewidth\": 0, \"ticks\": \"\"}}, \"type\": \"parcoords\"}], \"pie\": [{\"automargin\": true, \"type\": \"pie\"}], \"scatter\": [{\"marker\": {\"colorbar\": {\"outlinewidth\": 0, \"ticks\": \"\"}}, \"type\": \"scatter\"}], \"scatter3d\": [{\"line\": {\"colorbar\": {\"outlinewidth\": 0, \"ticks\": \"\"}}, \"marker\": {\"colorbar\": {\"outlinewidth\": 0, \"ticks\": \"\"}}, \"type\": \"scatter3d\"}], \"scattercarpet\": [{\"marker\": {\"colorbar\": {\"outlinewidth\": 0, \"ticks\": \"\"}}, \"type\": \"scattercarpet\"}], \"scattergeo\": [{\"marker\": {\"colorbar\": {\"outlinewidth\": 0, \"ticks\": \"\"}}, \"type\": \"scattergeo\"}], \"scattergl\": [{\"marker\": {\"colorbar\": {\"outlinewidth\": 0, \"ticks\": \"\"}}, \"type\": \"scattergl\"}], \"scattermapbox\": [{\"marker\": {\"colorbar\": {\"outlinewidth\": 0, \"ticks\": \"\"}}, \"type\": \"scattermapbox\"}], \"scatterpolar\": [{\"marker\": {\"colorbar\": {\"outlinewidth\": 0, \"ticks\": \"\"}}, \"type\": \"scatterpolar\"}], \"scatterpolargl\": [{\"marker\": {\"colorbar\": {\"outlinewidth\": 0, \"ticks\": \"\"}}, \"type\": \"scatterpolargl\"}], \"scatterternary\": [{\"marker\": {\"colorbar\": {\"outlinewidth\": 0, \"ticks\": \"\"}}, \"type\": \"scatterternary\"}], \"surface\": [{\"colorbar\": {\"outlinewidth\": 0, \"ticks\": \"\"}, \"colorscale\": [[0.0, \"#0d0887\"], [0.1111111111111111, \"#46039f\"], [0.2222222222222222, \"#7201a8\"], [0.3333333333333333, \"#9c179e\"], [0.4444444444444444, \"#bd3786\"], [0.5555555555555556, \"#d8576b\"], [0.6666666666666666, \"#ed7953\"], [0.7777777777777778, \"#fb9f3a\"], [0.8888888888888888, \"#fdca26\"], [1.0, \"#f0f921\"]], \"type\": \"surface\"}], \"table\": [{\"cells\": {\"fill\": {\"color\": \"#EBF0F8\"}, \"line\": {\"color\": \"white\"}}, \"header\": {\"fill\": {\"color\": \"#C8D4E3\"}, \"line\": {\"color\": \"white\"}}, \"type\": \"table\"}]}, \"layout\": {\"annotationdefaults\": {\"arrowcolor\": \"#2a3f5f\", \"arrowhead\": 0, \"arrowwidth\": 1}, \"coloraxis\": {\"colorbar\": {\"outlinewidth\": 0, \"ticks\": \"\"}}, \"colorscale\": {\"diverging\": [[0, \"#8e0152\"], [0.1, \"#c51b7d\"], [0.2, \"#de77ae\"], [0.3, \"#f1b6da\"], [0.4, \"#fde0ef\"], [0.5, \"#f7f7f7\"], [0.6, \"#e6f5d0\"], [0.7, \"#b8e186\"], [0.8, \"#7fbc41\"], [0.9, \"#4d9221\"], [1, \"#276419\"]], \"sequential\": [[0.0, \"#0d0887\"], [0.1111111111111111, \"#46039f\"], [0.2222222222222222, \"#7201a8\"], [0.3333333333333333, \"#9c179e\"], [0.4444444444444444, \"#bd3786\"], [0.5555555555555556, \"#d8576b\"], [0.6666666666666666, \"#ed7953\"], [0.7777777777777778, \"#fb9f3a\"], [0.8888888888888888, \"#fdca26\"], [1.0, \"#f0f921\"]], \"sequentialminus\": [[0.0, \"#0d0887\"], [0.1111111111111111, \"#46039f\"], [0.2222222222222222, \"#7201a8\"], [0.3333333333333333, \"#9c179e\"], [0.4444444444444444, \"#bd3786\"], [0.5555555555555556, \"#d8576b\"], [0.6666666666666666, \"#ed7953\"], [0.7777777777777778, \"#fb9f3a\"], [0.8888888888888888, \"#fdca26\"], [1.0, \"#f0f921\"]]}, \"colorway\": [\"#636efa\", \"#EF553B\", \"#00cc96\", \"#ab63fa\", \"#FFA15A\", \"#19d3f3\", \"#FF6692\", \"#B6E880\", \"#FF97FF\", \"#FECB52\"], \"font\": {\"color\": \"#2a3f5f\"}, \"geo\": {\"bgcolor\": \"white\", \"lakecolor\": \"white\", \"landcolor\": \"#E5ECF6\", \"showlakes\": true, \"showland\": true, \"subunitcolor\": \"white\"}, \"hoverlabel\": {\"align\": \"left\"}, \"hovermode\": \"closest\", \"mapbox\": {\"style\": \"light\"}, \"paper_bgcolor\": \"white\", \"plot_bgcolor\": \"#E5ECF6\", \"polar\": {\"angularaxis\": {\"gridcolor\": \"white\", \"linecolor\": \"white\", \"ticks\": \"\"}, \"bgcolor\": \"#E5ECF6\", \"radialaxis\": {\"gridcolor\": \"white\", \"linecolor\": \"white\", \"ticks\": \"\"}}, \"scene\": {\"xaxis\": {\"backgroundcolor\": \"#E5ECF6\", \"gridcolor\": \"white\", \"gridwidth\": 2, \"linecolor\": \"white\", \"showbackground\": true, \"ticks\": \"\", \"zerolinecolor\": \"white\"}, \"yaxis\": {\"backgroundcolor\": \"#E5ECF6\", \"gridcolor\": \"white\", \"gridwidth\": 2, \"linecolor\": \"white\", \"showbackground\": true, \"ticks\": \"\", \"zerolinecolor\": \"white\"}, \"zaxis\": {\"backgroundcolor\": \"#E5ECF6\", \"gridcolor\": \"white\", \"gridwidth\": 2, \"linecolor\": \"white\", \"showbackground\": true, \"ticks\": \"\", \"zerolinecolor\": \"white\"}}, \"shapedefaults\": {\"line\": {\"color\": \"#2a3f5f\"}}, \"ternary\": {\"aaxis\": {\"gridcolor\": \"white\", \"linecolor\": \"white\", \"ticks\": \"\"}, \"baxis\": {\"gridcolor\": \"white\", \"linecolor\": \"white\", \"ticks\": \"\"}, \"bgcolor\": \"#E5ECF6\", \"caxis\": {\"gridcolor\": \"white\", \"linecolor\": \"white\", \"ticks\": \"\"}}, \"title\": {\"x\": 0.05}, \"xaxis\": {\"automargin\": true, \"gridcolor\": \"white\", \"linecolor\": \"white\", \"ticks\": \"\", \"title\": {\"standoff\": 15}, \"zerolinecolor\": \"white\", \"zerolinewidth\": 2}, \"yaxis\": {\"automargin\": true, \"gridcolor\": \"white\", \"linecolor\": \"white\", \"ticks\": \"\", \"title\": {\"standoff\": 15}, \"zerolinecolor\": \"white\", \"zerolinewidth\": 2}}}, \"title\": {\"text\": \"Amazon Stock Prices\"}, \"xaxis\": {\"title\": {\"font\": {\"color\": \"blue\", \"family\": \"Courier New, monospace\", \"size\": 18}, \"text\": \"date\"}}, \"yaxis\": {\"title\": {\"font\": {\"color\": \"red\", \"family\": \"Courier New, monospace\", \"size\": 18}, \"text\": \"Price\"}}},                        {\"responsive\": true}                    ).then(function(){\n",
       "                            \n",
       "var gd = document.getElementById('4f2cdf58-5b15-4cca-9eb1-06230043bd4e');\n",
       "var x = new MutationObserver(function (mutations, observer) {{\n",
       "        var display = window.getComputedStyle(gd).display;\n",
       "        if (!display || display === 'none') {{\n",
       "            console.log([gd, 'removed!']);\n",
       "            Plotly.purge(gd);\n",
       "            observer.disconnect();\n",
       "        }}\n",
       "}});\n",
       "\n",
       "// Listen for the removal of the full notebook cells\n",
       "var notebookContainer = gd.closest('#notebook-container');\n",
       "if (notebookContainer) {{\n",
       "    x.observe(notebookContainer, {childList: true});\n",
       "}}\n",
       "\n",
       "// Listen for the clearing of the current output cell\n",
       "var outputEl = gd.closest('.output');\n",
       "if (outputEl) {{\n",
       "    x.observe(outputEl, {childList: true});\n",
       "}}\n",
       "\n",
       "                        })                };                });            </script>        </div>"
      ]
     },
     "metadata": {},
     "output_type": "display_data"
    }
   ],
   "source": [
    "iplot(plot)"
   ]
  },
  {
   "cell_type": "code",
   "execution_count": 97,
   "metadata": {},
   "outputs": [
    {
     "data": {
      "text/html": [
       "<div>\n",
       "<style scoped>\n",
       "    .dataframe tbody tr th:only-of-type {\n",
       "        vertical-align: middle;\n",
       "    }\n",
       "\n",
       "    .dataframe tbody tr th {\n",
       "        vertical-align: top;\n",
       "    }\n",
       "\n",
       "    .dataframe thead th {\n",
       "        text-align: right;\n",
       "    }\n",
       "</style>\n",
       "<table border=\"1\" class=\"dataframe\">\n",
       "  <thead>\n",
       "    <tr style=\"text-align: right;\">\n",
       "      <th></th>\n",
       "      <th>Open-Close</th>\n",
       "      <th>High-Low</th>\n",
       "    </tr>\n",
       "  </thead>\n",
       "  <tbody>\n",
       "    <tr>\n",
       "      <th>0</th>\n",
       "      <td>0.922500</td>\n",
       "      <td>1.092499</td>\n",
       "    </tr>\n",
       "    <tr>\n",
       "      <th>1</th>\n",
       "      <td>0.714996</td>\n",
       "      <td>0.952499</td>\n",
       "    </tr>\n",
       "    <tr>\n",
       "      <th>2</th>\n",
       "      <td>0.209999</td>\n",
       "      <td>0.742500</td>\n",
       "    </tr>\n",
       "    <tr>\n",
       "      <th>3</th>\n",
       "      <td>-0.014999</td>\n",
       "      <td>0.694999</td>\n",
       "    </tr>\n",
       "    <tr>\n",
       "      <th>4</th>\n",
       "      <td>0.129997</td>\n",
       "      <td>0.557495</td>\n",
       "    </tr>\n",
       "  </tbody>\n",
       "</table>\n",
       "</div>"
      ],
      "text/plain": [
       "   Open-Close  High-Low\n",
       "0    0.922500  1.092499\n",
       "1    0.714996  0.952499\n",
       "2    0.209999  0.742500\n",
       "3   -0.014999  0.694999\n",
       "4    0.129997  0.557495"
      ]
     },
     "execution_count": 97,
     "metadata": {},
     "output_type": "execute_result"
    }
   ],
   "source": [
    "df['Open-Close']= df.Close - df.Open\n",
    "df['High-Low']  = df.High - df.Low\n",
    "df = df.dropna()\n",
    "X= df[['Open-Close', 'High-Low']]\n",
    "X.head()"
   ]
  },
  {
   "cell_type": "code",
   "execution_count": 98,
   "metadata": {},
   "outputs": [],
   "source": [
    "Y= np.where(df['Close'].shift(-1)>df['Close'],1,-1)"
   ]
  },
  {
   "cell_type": "code",
   "execution_count": 99,
   "metadata": {},
   "outputs": [],
   "source": [
    "split_percentage = 0.7\n",
    "split = int(split_percentage*len(df))\n",
    "\n",
    "X_train = X[:split]\n",
    "Y_train = Y[:split]\n",
    "\n",
    "X_test = X[split:]\n",
    "Y_test = Y[split:]"
   ]
  },
  {
   "cell_type": "code",
   "execution_count": 100,
   "metadata": {},
   "outputs": [
    {
     "name": "stdout",
     "output_type": "stream",
     "text": [
      "Train_data Accuracy: 0.61\n",
      "Test_data Accuracy: 0.58\n"
     ]
    }
   ],
   "source": [
    "knn = KNeighborsClassifier(n_neighbors=15)\n",
    "\n",
    "knn.fit(X_train, Y_train)\n",
    "\n",
    "accuracy_train = accuracy_score(Y_train, knn.predict(X_train))\n",
    "accuracy_test = accuracy_score(Y_test, knn.predict(X_test))\n",
    "\n",
    "print ('Train_data Accuracy: %.2f' %accuracy_train)\n",
    "print ('Test_data Accuracy: %.2f' %accuracy_test)"
   ]
  },
  {
   "cell_type": "code",
   "execution_count": 101,
   "metadata": {},
   "outputs": [
    {
     "data": {
      "image/png": "[encoded data removed]",
      "text/plain": [
       "<Figure size 720x360 with 1 Axes>"
      ]
     },
     "metadata": {
      "needs_background": "light"
     },
     "output_type": "display_data"
    }
   ],
   "source": [
    "df['Predicted_Signal'] = knn.predict(X)\n",
    "\n",
    "df['SPY_returns'] = np.log(df['Close']/df['Close'].shift(1))\n",
    "Cumulative_SPY_returns = df[split:]['SPY_returns'].cumsum()*100\n",
    " \n",
    "df['Startegy_returns'] = df['SPY_returns']* df['Predicted_Signal'].shift(1)\n",
    "Cumulative_Strategy_returns = df[split:]['Startegy_returns'].cumsum()*100\n",
    "\n",
    "plt.figure(figsize=(10,5))\n",
    "plt.plot(Cumulative_SPY_returns, color='r',label = 'SPY Returns')\n",
    "plt.plot(Cumulative_Strategy_returns, color='g', label = 'Strategy Returns')\n",
    "plt.legend()\n",
    "plt.show()"
   ]
  },
  {
   "cell_type": "code",
   "execution_count": 102,
   "metadata": {},
   "outputs": [
    {
     "name": "stdout",
     "output_type": "stream",
     "text": [
      "Sharpe ratio: 0.94\n"
     ]
    }
   ],
   "source": [
    "Std = Cumulative_Strategy_returns.std()\n",
    "Sharpe = (Cumulative_Strategy_returns-Cumulative_SPY_returns)/Std\n",
    "Sharpe = Sharpe.mean()\n",
    "print ('Sharpe ratio: %.2f'%Sharpe )"
   ]
  },
  {
   "cell_type": "code",
   "execution_count": 103,
   "metadata": {},
   "outputs": [],
   "source": [
    "model = knn.fit(X_train, Y_train)\n",
    "model = model.fit (X_train,Y_train)"
   ]
  },
  {
   "cell_type": "code",
   "execution_count": 104,
   "metadata": {},
   "outputs": [
    {
     "name": "stdout",
     "output_type": "stream",
     "text": [
      "[[0.53333333 0.46666667]\n",
      " [0.13333333 0.86666667]\n",
      " [0.33333333 0.66666667]\n",
      " [0.46666667 0.53333333]\n",
      " [0.46666667 0.53333333]\n",
      " [0.26666667 0.73333333]\n",
      " [0.33333333 0.66666667]\n",
      " [0.46666667 0.53333333]\n",
      " [0.26666667 0.73333333]\n",
      " [0.4        0.6       ]\n",
      " [0.33333333 0.66666667]\n",
      " [0.33333333 0.66666667]\n",
      " [0.6        0.4       ]\n",
      " [0.33333333 0.66666667]\n",
      " [0.26666667 0.73333333]\n",
      " [0.53333333 0.46666667]\n",
      " [0.33333333 0.66666667]\n",
      " [0.53333333 0.46666667]\n",
      " [0.53333333 0.46666667]\n",
      " [0.33333333 0.66666667]\n",
      " [0.53333333 0.46666667]\n",
      " [0.46666667 0.53333333]\n",
      " [0.66666667 0.33333333]\n",
      " [0.26666667 0.73333333]\n",
      " [0.46666667 0.53333333]\n",
      " [0.33333333 0.66666667]\n",
      " [0.6        0.4       ]\n",
      " [0.53333333 0.46666667]\n",
      " [0.2        0.8       ]\n",
      " [0.46666667 0.53333333]\n",
      " [0.33333333 0.66666667]\n",
      " [0.6        0.4       ]\n",
      " [0.53333333 0.46666667]\n",
      " [0.33333333 0.66666667]\n",
      " [0.53333333 0.46666667]\n",
      " [0.53333333 0.46666667]\n",
      " [0.26666667 0.73333333]\n",
      " [0.33333333 0.66666667]\n",
      " [0.46666667 0.53333333]\n",
      " [0.6        0.4       ]\n",
      " [0.2        0.8       ]\n",
      " [0.4        0.6       ]\n",
      " [0.6        0.4       ]\n",
      " [0.66666667 0.33333333]\n",
      " [0.33333333 0.66666667]\n",
      " [0.53333333 0.46666667]\n",
      " [0.2        0.8       ]\n",
      " [0.46666667 0.53333333]\n",
      " [0.6        0.4       ]\n",
      " [0.6        0.4       ]\n",
      " [0.66666667 0.33333333]\n",
      " [0.6        0.4       ]\n",
      " [0.33333333 0.66666667]\n",
      " [0.53333333 0.46666667]\n",
      " [0.46666667 0.53333333]\n",
      " [0.4        0.6       ]\n",
      " [0.4        0.6       ]\n",
      " [0.73333333 0.26666667]\n",
      " [0.4        0.6       ]\n",
      " [0.2        0.8       ]\n",
      " [0.53333333 0.46666667]\n",
      " [0.2        0.8       ]\n",
      " [0.26666667 0.73333333]\n",
      " [0.46666667 0.53333333]\n",
      " [0.4        0.6       ]\n",
      " [0.46666667 0.53333333]\n",
      " [0.53333333 0.46666667]\n",
      " [0.46666667 0.53333333]\n",
      " [0.66666667 0.33333333]\n",
      " [0.13333333 0.86666667]\n",
      " [0.2        0.8       ]\n",
      " [0.66666667 0.33333333]\n",
      " [0.46666667 0.53333333]\n",
      " [0.33333333 0.66666667]\n",
      " [0.46666667 0.53333333]\n",
      " [0.6        0.4       ]]\n"
     ]
    }
   ],
   "source": [
    "probability = model.predict_proba(X_test)\n",
    "print(probability)"
   ]
  },
  {
   "cell_type": "code",
   "execution_count": 105,
   "metadata": {},
   "outputs": [],
   "source": [
    "predicted = model.predict(X_test)"
   ]
  },
  {
   "cell_type": "code",
   "execution_count": 106,
   "metadata": {},
   "outputs": [],
   "source": [
    "from sklearn import metrics"
   ]
  },
  {
   "cell_type": "code",
   "execution_count": 107,
   "metadata": {},
   "outputs": [
    {
     "name": "stdout",
     "output_type": "stream",
     "text": [
      "[[17 21]\n",
      " [11 27]]\n"
     ]
    }
   ],
   "source": [
    "print(metrics.confusion_matrix(Y_test, predicted))"
   ]
  },
  {
   "cell_type": "code",
   "execution_count": 108,
   "metadata": {},
   "outputs": [
    {
     "name": "stdout",
     "output_type": "stream",
     "text": [
      "              precision    recall  f1-score   support\n",
      "\n",
      "          -1       0.61      0.45      0.52        38\n",
      "           1       0.56      0.71      0.63        38\n",
      "\n",
      "    accuracy                           0.58        76\n",
      "   macro avg       0.58      0.58      0.57        76\n",
      "weighted avg       0.58      0.58      0.57        76\n",
      "\n"
     ]
    }
   ],
   "source": [
    "print(metrics.classification_report(Y_test, predicted))"
   ]
  },
  {
   "cell_type": "code",
   "execution_count": 109,
   "metadata": {},
   "outputs": [
    {
     "name": "stdout",
     "output_type": "stream",
     "text": [
      "0.6079545454545454\n"
     ]
    }
   ],
   "source": [
    "print(model.score(X_train,Y_train))"
   ]
  },
  {
   "cell_type": "markdown",
   "metadata": {},
   "source": [
    "ACCURACY OF TRAINING MODEL FOR AMAZON STOCK MARKET PRICE PREDICTION IS ABOUT 61%."
   ]
  },
  {
   "cell_type": "code",
   "execution_count": 110,
   "metadata": {},
   "outputs": [
    {
     "name": "stdout",
     "output_type": "stream",
     "text": [
      "Mean Absolute Error: 0.8421052631578947\n",
      "Mean Squared Error: 1.6842105263157894\n",
      "Mean Absolute Percentage Error: 84.21052631578948\n",
      "Root Mean Squared Error: 1.2977713690461004\n"
     ]
    }
   ],
   "source": [
    "print('Mean Absolute Error:', metrics.mean_absolute_error(Y_test, predicted))  \n",
    "print('Mean Squared Error:', metrics.mean_squared_error(Y_test,predicted ))  \n",
    "print('Mean Absolute Percentage Error:', np.mean(np.abs((predicted - Y_test ) / Y_test)*100)) \n",
    "print('Root Mean Squared Error:', np.sqrt(np.mean(((predicted- Y_test)**2))))"
   ]
  },
  {
   "cell_type": "markdown",
   "metadata": {},
   "source": [
    "# ВЫВОД"
   ]
  },
  {
   "cell_type": "code",
   "execution_count": 111,
   "metadata": {},
   "outputs": [
    {
     "name": "stdout",
     "output_type": "stream",
     "text": [
      "Requirement already satisfied: beautifultable in c:\\users\\user\\anaconda3\\lib\\site-packages (1.0.0)\n",
      "Requirement already satisfied: wcwidth in c:\\users\\user\\anaconda3\\lib\\site-packages (from beautifultable) (0.2.5)\n",
      "Note: you may need to restart the kernel to use updated packages.\n"
     ]
    }
   ],
   "source": [
    "pip install beautifultable"
   ]
  },
  {
   "cell_type": "code",
   "execution_count": 112,
   "metadata": {},
   "outputs": [],
   "source": [
    "from beautifultable import BeautifulTable"
   ]
  },
  {
   "cell_type": "code",
   "execution_count": 139,
   "metadata": {},
   "outputs": [
    {
     "name": "stdout",
     "output_type": "stream",
     "text": [
      "+---------+------------------+-------+-------+-------------------------+-------+\n",
      "|         | Linear Regressio | ARIMA | LSTM  | Decision Tree Classifie |  KNN  |\n",
      "|         |        n         |       |       |            r            |       |\n",
      "+---------+------------------+-------+-------+-------------------------+-------+\n",
      "| Predict |       79%        |  46%  |  65%  |          100%           |  61%  |\n",
      "+---------+------------------+-------+-------+-------------------------+-------+\n",
      "|   MAE   |       6.61       | 4.65  | 8.29  |          1.06           | 0.84  |\n",
      "+---------+------------------+-------+-------+-------------------------+-------+\n",
      "|   MSE   |      72.99       | 30.19 | 82.09 |          2.17           | 1.68  |\n",
      "+---------+------------------+-------+-------+-------------------------+-------+\n",
      "|  MAPE   |       8.37       | 0.04  | 7.14  |          5.88           | 84.21 |\n",
      "+---------+------------------+-------+-------+-------------------------+-------+\n",
      "|  RMSE   |       8.54       | 5.49  | 9.06  |          1.46           |  1.3  |\n",
      "+---------+------------------+-------+-------+-------------------------+-------+\n"
     ]
    }
   ],
   "source": [
    "table = BeautifulTable()\n",
    "\n",
    "table.column_headers =[\"\",\"Linear Regression\", \"ARIMA\", \"LSTM\", \"Decision Tree Classifier\", \"KNN\"]\n",
    "table.append_row([\"Predict\", \"79%\", \"46%\", \"65%\", \"100%\", \"61%\"])\n",
    "table.append_row([\"MAE\", \"6.61\", \"4.65\", \"8.29\", \"1.06\", \"0.84\"])\n",
    "table.append_row([\"MSE\", \"72.99\", \"30.19\", \"82.09\", \"2.17\", \"1.68\"])\n",
    "table.append_row([\"MAPE\", \"8.37\", \"0.04\", \"7.14\", \"5.88\", \"84.21\"])\n",
    "table.append_row([\"RMSE\", \"8.54\", \"5.49\", \"9.06\", \"1.46\", \"1.30\"])\n",
    "print(table)"
   ]
  },
  {
   "cell_type": "markdown",
   "metadata": {},
   "source": [
    "* MAE (Mean absolute error) представляет собой разницу между исходными и прогнозируемыми значениями, извлеченными посредством усредненной абсолютной разницы по набору данных.\n",
    "* MSE (Mean Squared Error) представляет собой разницу между исходным и прогнозируемым значениями, извлеченными путем возведения в квадрат средней разницы по набору данных.\n",
    "* MAPE (Mean absolute percentage error) представляет собой разницу между исходным и прогнозируемым значениями, который находится по формуле MAPE = (1/n) * Σ(|actual – prediction| / |actual|) * 100. Чем ниже значение MAPE, тем лучше модель может предсказать значения.\n",
    "* RMSE (Root Mean Squared Error) - это частота ошибок, вычисляемая квадратным корнем из MSE."
   ]
  },
  {
   "cell_type": "markdown",
   "metadata": {},
   "source": [
    "MAE лучше всего у KNN, хуже у LSTM\n",
    "\n",
    "MSE лучше всего у KNN, хуже у LSTM\n",
    "\n",
    "MAPE лучше всего у ARIMA, хуже у KNN\n",
    "\n",
    "RMSE лучше всего у KNN, хуже у LSTM\n",
    "\n",
    "ИТОГО: для данного датасета лучше всего подходят Decision Tree Classifier (лучшее предсказание) и KNN (по метрикам)"
   ]
  },
  {
   "cell_type": "code",
   "execution_count": null,
   "metadata": {},
   "outputs": [],
   "source": []
  }
 ],
 "metadata": {
  "kernelspec": {
   "display_name": "Python 3",
   "language": "python",
   "name": "python3"
  },
  "language_info": {
   "codemirror_mode": {
    "name": "ipython",
    "version": 3
   },
   "file_extension": ".py",
   "mimetype": "text/x-python",
   "name": "python",
   "nbconvert_exporter": "python",
   "pygments_lexer": "ipython3",
   "version": "3.8.3"
  }
 },
 "nbformat": 4,
 "nbformat_minor": 4
}
