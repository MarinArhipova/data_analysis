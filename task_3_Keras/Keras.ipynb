{
 "cells": [
  {
   "cell_type": "markdown",
   "metadata": {},
   "source": [
    "# Библиотека Keras\n",
    "\n",
    "Основные возможности:\n",
    "* Библиотека для машинного обучения (прежде всего, для обучения нейронных сетей)\n",
    "* Keras - удобный \"пользовательский интерфейс\" для более низкоуровневых библиотек (например, TensorFlow)\n",
    "\n",
    "Основные принципы:\n",
    "* Удобство использования\n",
    "* Модульность\n",
    "* Масштабируемость\n",
    "* Работа с Python\n",
    "* Инструмент с низким порогом входа, подходящий как продвинутым исследователям, так и любителям.\n",
    "\n",
    "keras - одна из самых популярных библиотек для глубинного обучения (надстройка над другими библиотеками).\n",
    "\n",
    "keras использует библиотеку tensorflow от Google, которая позволяет строить нейронные сети с высокой эффективностью и скоростью. Именно поэтому сейчас tensorflow - наиболее популярная библиотека для глубинного обучения."
   ]
  },
  {
   "cell_type": "markdown",
   "metadata": {},
   "source": [
    "Последовательность шагов:\n",
    "1. Описать архитектуру сети\n",
    "2. Описать входные значения\n",
    "3. Описать условия обучения (Compilation)\n",
    "4. Обучить (несколько раз?)\n",
    "5. Оценить качество модели\n",
    "6. Применить"
   ]
  },
  {
   "cell_type": "markdown",
   "metadata": {},
   "source": [
    "# Нейросеть, классифицирующая изображения одежды"
   ]
  },
  {
   "cell_type": "markdown",
   "metadata": {},
   "source": [
    "Процесс анализа данных:\n",
    "* Загрузим данные для обучения и тестирования\n",
    "* Предобработаем данные\n",
    "* Создадим модель для обучения\n",
    "* Обучим модель\n",
    "* Протестируем модель"
   ]
  },
  {
   "cell_type": "code",
   "execution_count": 1,
   "metadata": {},
   "outputs": [],
   "source": [
    "# Вспомогательные библиотеки\n",
    "import numpy as np\n",
    "import matplotlib.pyplot as plt"
   ]
  },
  {
   "cell_type": "code",
   "execution_count": 2,
   "metadata": {},
   "outputs": [],
   "source": [
    "# TensorFlow и tf.keras\n",
    "import tensorflow as tf\n",
    "from tensorflow import keras"
   ]
  },
  {
   "cell_type": "code",
   "execution_count": 3,
   "metadata": {},
   "outputs": [
    {
     "name": "stdout",
     "output_type": "stream",
     "text": [
      "2.3.1\n"
     ]
    }
   ],
   "source": [
    "print(tf.__version__)"
   ]
  },
  {
   "cell_type": "markdown",
   "metadata": {},
   "source": [
    "### 1. Загрузка данных"
   ]
  },
  {
   "cell_type": "code",
   "execution_count": 4,
   "metadata": {},
   "outputs": [],
   "source": [
    "# Загружаем датасет Fashion MNIST\n",
    "fashion_mnist = keras.datasets.fashion_mnist\n",
    "\n",
    "(train_images, train_labels), (test_images, test_labels) = fashion_mnist.load_data()"
   ]
  },
  {
   "cell_type": "code",
   "execution_count": 5,
   "metadata": {},
   "outputs": [],
   "source": [
    "# Массивы train_images и train_labels являются тренировочным сетом — данными, на которых модель будет обучаться.\n",
    "# Модель тестируется на проверочном сете, а именно массивах test_images и test_labels."
   ]
  },
  {
   "cell_type": "code",
   "execution_count": 6,
   "metadata": {},
   "outputs": [],
   "source": [
    "# Изображения являются 28х28 массивами NumPy, где значение пикселей варьируется от 0 до 255. \n",
    "# Метки (labels) - это массив целых чисел от 0 до 9. Они соответствуют классам одежды изображенной на картинках:\n",
    "# 0\tT-shirt/top\n",
    "# 1\tTrouser\n",
    "# 2\tPullover\n",
    "# 3\tDress\n",
    "# 4\tCoat\n",
    "# 5\tSandal\n",
    "# 6\tShirt\n",
    "# 7\tSneaker\n",
    "# 8\tBag\n",
    "# 9\tAnkle boot"
   ]
  },
  {
   "cell_type": "code",
   "execution_count": 7,
   "metadata": {},
   "outputs": [],
   "source": [
    "# Каждому изображению соответствует единственная метка. \n",
    "\n",
    "#Так как названия классов не включены в датасет, сохраним их тут для дальнейшего использования при построении изображений:\n",
    "class_names = ['T-shirt/top', 'Trouser', 'Pullover', 'Dress', 'Coat', 'Sandal', 'Shirt', 'Sneaker', 'Bag', 'Ankle boot']"
   ]
  },
  {
   "cell_type": "code",
   "execution_count": 8,
   "metadata": {},
   "outputs": [
    {
     "data": {
      "text/plain": [
       "(60000, 28, 28)"
      ]
     },
     "execution_count": 8,
     "metadata": {},
     "output_type": "execute_result"
    }
   ],
   "source": [
    "train_images.shape"
   ]
  },
  {
   "cell_type": "code",
   "execution_count": 9,
   "metadata": {},
   "outputs": [
    {
     "data": {
      "text/plain": [
       "array([[[0, 0, 0, ..., 0, 0, 0],\n",
       "        [0, 0, 0, ..., 0, 0, 0],\n",
       "        [0, 0, 0, ..., 0, 0, 0],\n",
       "        ...,\n",
       "        [0, 0, 0, ..., 0, 0, 0],\n",
       "        [0, 0, 0, ..., 0, 0, 0],\n",
       "        [0, 0, 0, ..., 0, 0, 0]],\n",
       "\n",
       "       [[0, 0, 0, ..., 0, 0, 0],\n",
       "        [0, 0, 0, ..., 0, 0, 0],\n",
       "        [0, 0, 0, ..., 0, 0, 0],\n",
       "        ...,\n",
       "        [0, 0, 0, ..., 0, 0, 0],\n",
       "        [0, 0, 0, ..., 0, 0, 0],\n",
       "        [0, 0, 0, ..., 0, 0, 0]],\n",
       "\n",
       "       [[0, 0, 0, ..., 0, 0, 0],\n",
       "        [0, 0, 0, ..., 0, 0, 0],\n",
       "        [0, 0, 0, ..., 0, 0, 0],\n",
       "        ...,\n",
       "        [0, 0, 0, ..., 0, 0, 0],\n",
       "        [0, 0, 0, ..., 0, 0, 0],\n",
       "        [0, 0, 0, ..., 0, 0, 0]],\n",
       "\n",
       "       ...,\n",
       "\n",
       "       [[0, 0, 0, ..., 0, 0, 0],\n",
       "        [0, 0, 0, ..., 0, 0, 0],\n",
       "        [0, 0, 0, ..., 0, 0, 0],\n",
       "        ...,\n",
       "        [0, 0, 0, ..., 0, 0, 0],\n",
       "        [0, 0, 0, ..., 0, 0, 0],\n",
       "        [0, 0, 0, ..., 0, 0, 0]],\n",
       "\n",
       "       [[0, 0, 0, ..., 0, 0, 0],\n",
       "        [0, 0, 0, ..., 0, 0, 0],\n",
       "        [0, 0, 0, ..., 0, 0, 0],\n",
       "        ...,\n",
       "        [0, 0, 0, ..., 0, 0, 0],\n",
       "        [0, 0, 0, ..., 0, 0, 0],\n",
       "        [0, 0, 0, ..., 0, 0, 0]],\n",
       "\n",
       "       [[0, 0, 0, ..., 0, 0, 0],\n",
       "        [0, 0, 0, ..., 0, 0, 0],\n",
       "        [0, 0, 0, ..., 0, 0, 0],\n",
       "        ...,\n",
       "        [0, 0, 0, ..., 0, 0, 0],\n",
       "        [0, 0, 0, ..., 0, 0, 0],\n",
       "        [0, 0, 0, ..., 0, 0, 0]]], dtype=uint8)"
      ]
     },
     "execution_count": 9,
     "metadata": {},
     "output_type": "execute_result"
    }
   ],
   "source": [
    "train_images"
   ]
  },
  {
   "cell_type": "code",
   "execution_count": 10,
   "metadata": {},
   "outputs": [
    {
     "data": {
      "text/plain": [
       "60000"
      ]
     },
     "execution_count": 10,
     "metadata": {},
     "output_type": "execute_result"
    }
   ],
   "source": [
    "# в тренировочном сете 60,000 меток\n",
    "len(train_labels)"
   ]
  },
  {
   "cell_type": "code",
   "execution_count": 11,
   "metadata": {},
   "outputs": [
    {
     "data": {
      "text/plain": [
       "array([9, 0, 0, ..., 3, 0, 5], dtype=uint8)"
      ]
     },
     "execution_count": 11,
     "metadata": {},
     "output_type": "execute_result"
    }
   ],
   "source": [
    "train_labels"
   ]
  },
  {
   "cell_type": "code",
   "execution_count": 12,
   "metadata": {},
   "outputs": [
    {
     "data": {
      "text/plain": [
       "9"
      ]
     },
     "execution_count": 12,
     "metadata": {},
     "output_type": "execute_result"
    }
   ],
   "source": [
    "train_labels[0]"
   ]
  },
  {
   "cell_type": "code",
   "execution_count": 13,
   "metadata": {},
   "outputs": [
    {
     "data": {
      "text/plain": [
       "(10000, 28, 28)"
      ]
     },
     "execution_count": 13,
     "metadata": {},
     "output_type": "execute_result"
    }
   ],
   "source": [
    "# Проверочный сет содержит 10,000 изображений, каждое 28 на 28 пикселей\n",
    "test_images.shape"
   ]
  },
  {
   "cell_type": "markdown",
   "metadata": {},
   "source": [
    "### 2. Подготовка данных \n",
    "**Нормализация значений на [0,1] и перевод целевой переменной в one-hot формат**"
   ]
  },
  {
   "cell_type": "markdown",
   "metadata": {},
   "source": [
    "Нейронные сети более капризны по сравнению с линейными моделями и моделями на основе решающих деревьев.\n",
    "\n",
    "Поэтому им нужна предварительная нормализация данных: чтобы значения всех входных признаков лежали в интервале от 0 до 1.\n",
    "\n",
    "При этом каждый пиксель картинки представлен в виде целого числа от 0 до 255 (для черно-белых картинок) и в виде набора из трех целых чисел от 0 до 255 для цветных.\n",
    "\n",
    "Поэтому нормализацию картинки можно произвести простым делением на 255.\n",
    "\n",
    "Еще нейронной сети нужно значение выходной переменной в one-hot формате.\n",
    "\n",
    "Напомним, что такое one-hot encoding.\n",
    "\n",
    "Сейчас наша целевая переменная - цифры от 0 до 9, то есть 10 классов. Для каждой картинки наша сеть будет предсказывать вероятность принадлежности к каждому из этих десяти классов.\n",
    "\n",
    "Соответственно, истинным значением целевой переменной будет вектор длины 10, состоящий из 0 с одной 1 на месте номера класса, к которому принадлежит картинка (то есть вероятность 1, что цифра на самом деле принадлежит к конкретному классу)."
   ]
  },
  {
   "cell_type": "code",
   "execution_count": 14,
   "metadata": {},
   "outputs": [
    {
     "data": {
      "image/png": "[encoded data removed]",
      "text/plain": [
       "<Figure size 432x288 with 2 Axes>"
      ]
     },
     "metadata": {
      "needs_background": "light"
     },
     "output_type": "display_data"
    }
   ],
   "source": [
    "# Предобработка данных\n",
    "plt.figure()\n",
    "plt.imshow(train_images[0])\n",
    "plt.colorbar()\n",
    "plt.grid(False)\n",
    "plt.show()"
   ]
  },
  {
   "cell_type": "code",
   "execution_count": 15,
   "metadata": {},
   "outputs": [],
   "source": [
    "# масштабируем эти значения к диапазону от 0 до 1\n",
    "train_images = train_images / 255.0\n",
    "test_images = test_images / 255.0"
   ]
  },
  {
   "cell_type": "code",
   "execution_count": 16,
   "metadata": {},
   "outputs": [
    {
     "data": {
      "image/png": "[encoded data removed]",
      "text/plain": [
       "<Figure size 720x720 with 25 Axes>"
      ]
     },
     "metadata": {},
     "output_type": "display_data"
    }
   ],
   "source": [
    "# проверим: выведем первые 25 элементов\n",
    "plt.figure(figsize=(10,10))\n",
    "for i in range(25):\n",
    "    plt.subplot(5,5,i+1)\n",
    "    plt.xticks([])\n",
    "    plt.yticks([])\n",
    "    plt.grid(False)\n",
    "    plt.imshow(train_images[i], cmap=plt.cm.binary)\n",
    "    plt.xlabel(class_names[train_labels[i]])\n",
    "plt.show()"
   ]
  },
  {
   "cell_type": "markdown",
   "metadata": {},
   "source": [
    "### 3. Создание модели для обучения\n",
    "\n",
    "Sequential здесь означает последовательный тип модели, в который мы добавляем слои друг за другом. Инициализируем модель:"
   ]
  },
  {
   "cell_type": "code",
   "execution_count": 17,
   "metadata": {},
   "outputs": [],
   "source": [
    "# настроим слои\n",
    "model = keras.Sequential([\n",
    "    # преобразует формат изображения из двумерного массива (28 на 28 пикселей) \n",
    "    # в одномерный (размерностью 28 * 28 = 784 пикселя). Слой извлекает строки пикселей из изображения и выстраивает их в один ряд. \n",
    "    # Этот слой не имеет параметров для обучения; он только переформатирует данные\n",
    "    keras.layers.Flatten(input_shape=(28, 28)),\n",
    "    # После разложения пикселей, нейросеть содержит два слоя tf.keras.layers.Dense. Это полносвязные нейронные слои. \n",
    "    # Первый Dense слой состоит из 128 узлов (или нейронов). Второй (и последний) 10-узловой softmax слой возвращает \n",
    "    # массив из 10 вероятностных оценок дающих в сумме 1. Каждый узел содержит оценку указывающую вероятность принадлежности \n",
    "    # изображения к одному из 10 классов.\n",
    "    keras.layers.Dense(128, activation='relu'),\n",
    "    keras.layers.Dense(10, activation='softmax')\n",
    "])\n",
    "\n",
    "# Базовым строительным блоком нейронной сети является слой. Слои извлекают образы из данных, которые в них подаются.\n",
    "# Большая часть глубокого обучения состоит из соединения в последовательность простых слоев. Большинство слоев, \n",
    "# таких как tf.keras.layers.Dense, имеют параметры, которые настраиваются во время обучения."
   ]
  },
  {
   "cell_type": "code",
   "execution_count": 18,
   "metadata": {},
   "outputs": [],
   "source": [
    "# compile модели\n",
    "# После описания архитектуры необходимо скомпилировать модель при помощи метода compile, \n",
    "# указав минимизируемую функцию потерь (параметр loss), оптимизатор (параметр optimizer, который позаботится \n",
    "# об изменении весов модели) и метрику (параметр metrics), по которой будет оцениваться точность работы на тестовой выборке \n",
    "# в процессе обучения\n",
    "model.compile(optimizer='adam',\n",
    "              loss='sparse_categorical_crossentropy',\n",
    "              metrics=['accuracy'])\n",
    "\n",
    "# Функция потерь (Loss function) — измеряет точность модели во время обучения. \n",
    "# Мы хотим минимизировать эту функцию чтоб \"направить\" модель в верном направлении.\n",
    "\n",
    "# Оптимизатор (Optimizer) — показывает каким образом обновляется модель на основе входных данных и функции потерь.\n",
    "\n",
    "# Метрики (Metrics) — используются для мониторинга тренировки и тестирования модели. \n",
    "# Наш пример использует метрику accuracy равную доле правильно классифицированных изображений."
   ]
  },
  {
   "cell_type": "markdown",
   "metadata": {},
   "source": [
    "### Обучение нейросети\n",
    "\n",
    "**Обучение** нейросети - изменение **весов** нейронов при помощи метода обратного распространения ошибки"
   ]
  },
  {
   "cell_type": "markdown",
   "metadata": {},
   "source": [
    "### 4. Обучение модели\n",
    "**Тренировка с указанием данных, числа эпох и размера подвыборки** "
   ]
  },
  {
   "cell_type": "markdown",
   "metadata": {},
   "source": [
    "Теперь задана структура модели и то, как мы будем ее обучать.\n",
    "Обучаем ее аналогично `sklearn` - с помощью метода `fit`.\n",
    "\n",
    "После запуска `fit` параметры оптимизируются градиентым спуском.\n",
    "На каждом шаге градиентного спуска мы используем функцию потерь, которая подсчитана только по части полной выборки.\n",
    "\n",
    "Два дополнительных параметра для обучения:\n",
    "* **batch_size** - размер подвыборки, которая используется для одного шага оптимизации = 40 \n",
    "* **epochs** - число эпох - сколько раз мы проходим полностью по всей выборке\n",
    "\n",
    "Количество эпох **epochs** обычно выбирают так, чтобы метрика качества на валидационной выборке не стала убывать (то есть, не произошло переобучения). \n",
    "\n",
    "В целом, подбор подобных макропараметров сети является отдельным классом задач, поскольку одна и та же архитектура нейросети может значительно улучшать/ухудшать результаты предсказаний в зависимости от выбранных значений."
   ]
  },
  {
   "cell_type": "code",
   "execution_count": 19,
   "metadata": {},
   "outputs": [
    {
     "name": "stdout",
     "output_type": "stream",
     "text": [
      "Epoch 1/10\n",
      "1875/1875 [==============================] - 2s 1ms/step - loss: 0.4971 - accuracy: 0.8255\n",
      "Epoch 2/10\n",
      "1875/1875 [==============================] - 2s 1ms/step - loss: 0.3772 - accuracy: 0.8628\n",
      "Epoch 3/10\n",
      "1875/1875 [==============================] - 2s 1ms/step - loss: 0.3367 - accuracy: 0.8772\n",
      "Epoch 4/10\n",
      "1875/1875 [==============================] - 2s 1ms/step - loss: 0.3149 - accuracy: 0.8830\n",
      "Epoch 5/10\n",
      "1875/1875 [==============================] - 2s 971us/step - loss: 0.2957 - accuracy: 0.8905\n",
      "Epoch 6/10\n",
      "1875/1875 [==============================] - 2s 922us/step - loss: 0.2793 - accuracy: 0.8956\n",
      "Epoch 7/10\n",
      "1875/1875 [==============================] - 2s 926us/step - loss: 0.2675 - accuracy: 0.9006\n",
      "Epoch 8/10\n",
      "1875/1875 [==============================] - 2s 981us/step - loss: 0.2558 - accuracy: 0.9044\n",
      "Epoch 9/10\n",
      "1875/1875 [==============================] - 2s 1ms/step - loss: 0.2452 - accuracy: 0.9098\n",
      "Epoch 10/10\n",
      "1875/1875 [==============================] - 2s 1ms/step - loss: 0.2378 - accuracy: 0.9107\n"
     ]
    },
    {
     "data": {
      "text/plain": [
       "<tensorflow.python.keras.callbacks.History at 0x21579f560a0>"
      ]
     },
     "execution_count": 19,
     "metadata": {},
     "output_type": "execute_result"
    }
   ],
   "source": [
    "# обучение модели\n",
    "model.fit(train_images, train_labels, epochs=10)\n",
    "\n",
    "# Подайте тренировочный данные в модель. В этом примере тренировочные данные это массивы train_images и train_labels.\n",
    "# Модель учится ассоциировать изображения с правильными классами.\n",
    "# Мы просим модель сделать прогнозы для проверочных данных, в этом примере массив test_images. Мы проверяем, \n",
    "# соответствуют ли предсказанные классы меткам из массива test_labels.\n",
    "\n",
    "# В процессе обучения модели отображаются метрики потери (loss) и точности (accuracy). \n",
    "# Эта модель достигает на тренировочных данных точности равной приблизительно 0.88 (88%)."
   ]
  },
  {
   "cell_type": "code",
   "execution_count": 20,
   "metadata": {},
   "outputs": [
    {
     "name": "stdout",
     "output_type": "stream",
     "text": [
      "Model: \"sequential\"\n",
      "_________________________________________________________________\n",
      "Layer (type)                 Output Shape              Param #   \n",
      "=================================================================\n",
      "flatten (Flatten)            (None, 784)               0         \n",
      "_________________________________________________________________\n",
      "dense (Dense)                (None, 128)               100480    \n",
      "_________________________________________________________________\n",
      "dense_1 (Dense)              (None, 10)                1290      \n",
      "=================================================================\n",
      "Total params: 101,770\n",
      "Trainable params: 101,770\n",
      "Non-trainable params: 0\n",
      "_________________________________________________________________\n"
     ]
    }
   ],
   "source": [
    "# Еще можно посмотреть на нашу модель в целом: сколько в ней слоев, сколько параметров у каждого слоя с помощью команды model.summary()\n",
    "model.summary()"
   ]
  },
  {
   "cell_type": "markdown",
   "metadata": {},
   "source": [
    "### 5. Валидация качества модели на тестовых данных."
   ]
  },
  {
   "cell_type": "code",
   "execution_count": 21,
   "metadata": {},
   "outputs": [
    {
     "name": "stdout",
     "output_type": "stream",
     "text": [
      "WARNING:tensorflow:Callbacks method `on_test_batch_end` is slow compared to the batch time (batch time: 0.0000s vs `on_test_batch_end` time: 0.0010s). Check your callbacks.\n",
      "313/313 - 0s - loss: 0.3401 - accuracy: 0.8807\n",
      "\n",
      "Точность на проверочных данных: 0.8806999921798706\n"
     ]
    }
   ],
   "source": [
    "# оценка точности\n",
    "test_loss, test_acc = model.evaluate(test_images,  test_labels, verbose=2)\n",
    "\n",
    "print('\\nТочность на проверочных данных:', test_acc)"
   ]
  },
  {
   "cell_type": "markdown",
   "metadata": {},
   "source": [
    "Что это означает: для нашей модели на основе нейронной сети мы получаем точность 88% - то есть, с вероятностью 88% модель определяет, какая цифра нарисована на картинке"
   ]
  },
  {
   "cell_type": "markdown",
   "metadata": {},
   "source": [
    "### 6. Дополнительно: Визуализация prediction"
   ]
  },
  {
   "cell_type": "code",
   "execution_count": 22,
   "metadata": {},
   "outputs": [],
   "source": [
    "# сделать предсказания\n",
    "predictions = model.predict(test_images)"
   ]
  },
  {
   "cell_type": "code",
   "execution_count": 23,
   "metadata": {},
   "outputs": [
    {
     "data": {
      "text/plain": [
       "array([1.1078463e-06, 6.0153509e-09, 1.6336891e-08, 4.6001222e-08,\n",
       "       2.5193023e-09, 1.4872231e-02, 6.9797693e-08, 2.5314121e-02,\n",
       "       1.8400778e-08, 9.5981240e-01], dtype=float32)"
      ]
     },
     "execution_count": 23,
     "metadata": {},
     "output_type": "execute_result"
    }
   ],
   "source": [
    "predictions[0]"
   ]
  },
  {
   "cell_type": "code",
   "execution_count": 24,
   "metadata": {},
   "outputs": [],
   "source": [
    "# Здесь полученная модель предсказала класс одежды для каждого изображения в проверочном датасете\n",
    "# Прогноз представляет из себя массив из 10 чисел. Они описывают \"уверенность\" (confidence) модели в том, \n",
    "# насколько изображение соответствует каждому из 10 разных видов одежды."
   ]
  },
  {
   "cell_type": "code",
   "execution_count": 25,
   "metadata": {},
   "outputs": [
    {
     "data": {
      "text/plain": [
       "9"
      ]
     },
     "execution_count": 25,
     "metadata": {},
     "output_type": "execute_result"
    }
   ],
   "source": [
    "# посмотрим, какой метке соответствует максимальное значение\n",
    "np.argmax(predictions[0])"
   ]
  },
  {
   "cell_type": "code",
   "execution_count": 26,
   "metadata": {},
   "outputs": [
    {
     "data": {
      "text/plain": [
       "9"
      ]
     },
     "execution_count": 26,
     "metadata": {},
     "output_type": "execute_result"
    }
   ],
   "source": [
    "# Модель полагает, что на первой картинке изображен ботинок (ankle boot), или class_names[9]. \n",
    "# Проверка показывает, что классификация верна\n",
    "test_labels[0]"
   ]
  },
  {
   "cell_type": "code",
   "execution_count": 27,
   "metadata": {},
   "outputs": [],
   "source": [
    "# построим график, чтобы взглянуть на полный набор из 10 предсказаний классов\n",
    "def plot_image(i, predictions_array, true_label, img):\n",
    "  predictions_array, true_label, img = predictions_array[i], true_label[i], img[i]\n",
    "  plt.grid(False)\n",
    "  plt.xticks([])\n",
    "  plt.yticks([])\n",
    "\n",
    "  plt.imshow(img, cmap=plt.cm.binary)\n",
    "\n",
    "  predicted_label = np.argmax(predictions_array)\n",
    "  if predicted_label == true_label:\n",
    "    color = 'blue'\n",
    "  else:\n",
    "    color = 'red'\n",
    "\n",
    "  plt.xlabel(\"{} {:2.0f}% ({})\".format(class_names[predicted_label],\n",
    "                                100*np.max(predictions_array),\n",
    "                                class_names[true_label]),\n",
    "                                color=color)\n",
    "\n",
    "def plot_value_array(i, predictions_array, true_label):\n",
    "  predictions_array, true_label = predictions_array[i], true_label[i]\n",
    "  plt.grid(False)\n",
    "  plt.xticks([])\n",
    "  plt.yticks([])\n",
    "  thisplot = plt.bar(range(10), predictions_array, color=\"#777777\")\n",
    "  plt.ylim([0, 1])\n",
    "  predicted_label = np.argmax(predictions_array)\n",
    "\n",
    "  thisplot[predicted_label].set_color('red')\n",
    "  thisplot[true_label].set_color('blue')"
   ]
  },
  {
   "cell_type": "code",
   "execution_count": 28,
   "metadata": {},
   "outputs": [
    {
     "data": {
      "image/png": "[encoded data removed]",
      "text/plain": [
       "<Figure size 432x216 with 2 Axes>"
      ]
     },
     "metadata": {},
     "output_type": "display_data"
    }
   ],
   "source": [
    "# посмотрим на нулевое изображение, предсказание и массив предсказаний \n",
    "i = 0\n",
    "plt.figure(figsize=(6,3))\n",
    "plt.subplot(1,2,1)\n",
    "plot_image(i, predictions, test_labels, test_images)\n",
    "plt.subplot(1,2,2)\n",
    "plot_value_array(i, predictions,  test_labels)\n",
    "plt.show()"
   ]
  },
  {
   "cell_type": "code",
   "execution_count": 29,
   "metadata": {},
   "outputs": [
    {
     "data": {
      "image/png": "[encoded data removed]",
      "text/plain": [
       "<Figure size 432x216 with 2 Axes>"
      ]
     },
     "metadata": {},
     "output_type": "display_data"
    }
   ],
   "source": [
    "i = 12\n",
    "plt.figure(figsize=(6,3))\n",
    "plt.subplot(1,2,1)\n",
    "plot_image(i, predictions, test_labels, test_images)\n",
    "plt.subplot(1,2,2)\n",
    "plot_value_array(i, predictions,  test_labels)\n",
    "plt.show()"
   ]
  },
  {
   "cell_type": "code",
   "execution_count": 30,
   "metadata": {},
   "outputs": [
    {
     "data": {
      "image/png": "[encoded data removed]",
      "text/plain": [
       "<Figure size 864x720 with 30 Axes>"
      ]
     },
     "metadata": {},
     "output_type": "display_data"
    }
   ],
   "source": [
    "# Отображаем первые X тестовых изображений, их предсказанную и настоящую метки.\n",
    "# Корректные предсказания окрашиваем в синий цвет, ошибочные в красный.\n",
    "num_rows = 5\n",
    "num_cols = 3\n",
    "num_images = num_rows*num_cols\n",
    "plt.figure(figsize=(2*2*num_cols, 2*num_rows))\n",
    "for i in range(num_images):\n",
    "  plt.subplot(num_rows, 2*num_cols, 2*i+1)\n",
    "  plot_image(i, predictions, test_labels, test_images)\n",
    "  plt.subplot(num_rows, 2*num_cols, 2*i+2)\n",
    "  plot_value_array(i, predictions, test_labels)\n",
    "plt.show()"
   ]
  },
  {
   "cell_type": "code",
   "execution_count": 31,
   "metadata": {},
   "outputs": [
    {
     "name": "stdout",
     "output_type": "stream",
     "text": [
      "(28, 28)\n"
     ]
    }
   ],
   "source": [
    "# Наконец, используем обученную модель для предсказания класса на одном изображении.\n",
    "\n",
    "# Берем одну картинку из проверочного сета.\n",
    "img = test_images[0]\n",
    "\n",
    "print(img.shape)"
   ]
  },
  {
   "cell_type": "code",
   "execution_count": 32,
   "metadata": {},
   "outputs": [
    {
     "name": "stdout",
     "output_type": "stream",
     "text": [
      "(1, 28, 28)\n"
     ]
    }
   ],
   "source": [
    "# Добавляем изображение в пакет данных, состоящий только из одного элемента.\n",
    "img = (np.expand_dims(img,0))\n",
    "\n",
    "print(img.shape)\n",
    "\n",
    "# Модели tf.keras оптимизированы для предсказаний на пакетах (batch) данных, или на множестве примеров сразу. \n",
    "# Таким образом, даже если мы используем всего 1 картинку, нам все равно необходимо добавить ее в список"
   ]
  },
  {
   "cell_type": "code",
   "execution_count": 33,
   "metadata": {},
   "outputs": [
    {
     "name": "stdout",
     "output_type": "stream",
     "text": [
      "[[1.1078463e-06 6.0153278e-09 1.6336861e-08 4.6001134e-08 2.5192879e-09\n",
      "  1.4872224e-02 6.9797565e-08 2.5314132e-02 1.8400778e-08 9.5981240e-01]]\n"
     ]
    }
   ],
   "source": [
    "# Сейчас предскажем правильную метку для изображения\n",
    "predictions_single = model.predict(img)\n",
    "\n",
    "print(predictions_single)"
   ]
  },
  {
   "cell_type": "code",
   "execution_count": 34,
   "metadata": {},
   "outputs": [
    {
     "data": {
      "image/png": "[encoded data removed]",
      "text/plain": [
       "<Figure size 432x288 with 1 Axes>"
      ]
     },
     "metadata": {
      "needs_background": "light"
     },
     "output_type": "display_data"
    }
   ],
   "source": [
    "plot_value_array(0, predictions_single, test_labels)\n",
    "_ = plt.xticks(range(10), class_names, rotation=45)"
   ]
  },
  {
   "cell_type": "code",
   "execution_count": 35,
   "metadata": {},
   "outputs": [
    {
     "data": {
      "text/plain": [
       "9"
      ]
     },
     "execution_count": 35,
     "metadata": {},
     "output_type": "execute_result"
    }
   ],
   "source": [
    "# Метод model.predict возвращает нам список списков, по одному для каждой картинки в пакете данных. \n",
    "# Получите прогнозы для нашего (единственного) изображения в пакете\n",
    "np.argmax(predictions_single[0])"
   ]
  },
  {
   "cell_type": "code",
   "execution_count": 36,
   "metadata": {},
   "outputs": [],
   "source": [
    "# И, как и ранее, модель предсказывает класс 9."
   ]
  }
 ],
 "metadata": {
  "kernelspec": {
   "display_name": "Python 3",
   "language": "python",
   "name": "python3"
  },
  "language_info": {
   "codemirror_mode": {
    "name": "ipython",
    "version": 3
   },
   "file_extension": ".py",
   "mimetype": "text/x-python",
   "name": "python",
   "nbconvert_exporter": "python",
   "pygments_lexer": "ipython3",
   "version": "3.8.3"
  }
 },
 "nbformat": 4,
 "nbformat_minor": 4
}
