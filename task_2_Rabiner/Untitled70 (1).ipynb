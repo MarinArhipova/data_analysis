{
 "cells": [
  {
   "cell_type": "markdown",
   "metadata": {
    "id": "kp5dvkLpNf1n"
   },
   "source": []
  },
  {
   "cell_type": "markdown",
   "metadata": {
    "id": "UNYgYJZuFnro"
   },
   "source": [
    "Этапы эксперимента:\n",
    "1. генерация подклассов матриц ТВ, ТН, БП, БЛ q=4\n",
    "2. генерация подклассов k=q^b\n",
    "3. генерация последовательностей 5 последовательностей B=5\n",
    "4. функция расчета вектора a (метод рабинера)\n",
    "5. формирование датасета b^k векторов"
   ]
  },
  {
   "cell_type": "code",
   "execution_count": null,
   "metadata": {
    "id": "W439bXXbFnrp"
   },
   "outputs": [],
   "source": [
    "import quantecon as qe\n",
    "import numpy as np\n",
    "import pandas as pd"
   ]
  },
  {
   "cell_type": "code",
   "execution_count": null,
   "metadata": {
    "id": "_3jjIZOqFnrs"
   },
   "outputs": [],
   "source": [
    "tv = np.array([[0.25, 0.25, 0.25, 0.25], \n",
    "      [1/3,   1/3,  1/3,  0], \n",
    "      [0.5,   0.5,   0,   0],\n",
    "      [0.5,   0,     0,   0.5]])\n",
    "\n",
    "tn = np.array( [[0.5,  0,     0,    0.5], \n",
    "      [0,    0,     0.5,  0.5],\n",
    "      [0,    1/3,   1/3,  1/3],\n",
    "      [0.25, 0.25, 0.25, 0.25]])\n",
    "\n",
    "bp =  np.array( [[0,      0,    0.5,   0.5],\n",
    "                [0,      0,     0.5,   0.5],\n",
    "                [0.5,    0.5,   0,    0], \n",
    "                [0.5,    0.5,   0,    0]])\n",
    "\n",
    "bl =   np.array([[0.5,    0.5, 0,    0], \n",
    "      [0.5,    0.5,  0,    0],\n",
    "      [0,      0,    0.5,   0.5],\n",
    "      [0,      0,    0.5,   0.5]])"
   ]
  },
  {
   "cell_type": "code",
   "execution_count": null,
   "metadata": {
    "id": "ZzoEkLMMFnru",
    "outputId": "d33e347e-2af0-49ca-ba06-7e2dc1393593"
   },
   "outputs": [
    {
     "data": {
      "text/plain": [
       "[(0.25, 0.3333333333333333, 0.5, 0.5),\n",
       " (0.25, 0.3333333333333333, 0.5, 0.0),\n",
       " (0.25, 0.3333333333333333, 0.0, 0.0),\n",
       " (0.25, 0.0, 0.0, 0.5)]"
      ]
     },
     "execution_count": 2299,
     "metadata": {
      "tags": []
     },
     "output_type": "execute_result"
    }
   ],
   "source": [
    "tvt=[*zip(*tv)]\n",
    "tvt"
   ]
  },
  {
   "cell_type": "code",
   "execution_count": null,
   "metadata": {
    "id": "4P_7pOITFnry",
    "outputId": "2cb885e2-bcb0-494d-c304-748e2262dd3e"
   },
   "outputs": [
    {
     "data": {
      "text/plain": [
       "array([[0.25      , 0.33333333, 0.5       , 0.5       ],\n",
       "       [0.25      , 0.33333333, 0.5       , 0.        ],\n",
       "       [0.25      , 0.33333333, 0.        , 0.        ],\n",
       "       [0.25      , 0.        , 0.        , 0.5       ]])"
      ]
     },
     "execution_count": 2300,
     "metadata": {
      "tags": []
     },
     "output_type": "execute_result"
    }
   ],
   "source": [
    "tvt=np.array(tvt)\n",
    "tvt\n"
   ]
  },
  {
   "cell_type": "code",
   "execution_count": null,
   "metadata": {
    "id": "5TJG611YFnr0",
    "outputId": "f536d619-55d6-478e-95f8-9c411623539e"
   },
   "outputs": [
    {
     "data": {
      "text/plain": [
       "[[0.25, 0.25, 0.25, 0.25]]"
      ]
     },
     "execution_count": 2301,
     "metadata": {
      "tags": []
     },
     "output_type": "execute_result"
    }
   ],
   "source": [
    "pi=[[1/4,    1/4,  1/4,    1/4]]\n",
    "pi\n"
   ]
  },
  {
   "cell_type": "code",
   "execution_count": null,
   "metadata": {
    "id": "cUS7SUSPFnr2"
   },
   "outputs": [],
   "source": [
    "from itertools import *"
   ]
  },
  {
   "cell_type": "code",
   "execution_count": null,
   "metadata": {
    "id": "ptZq503eFnr4",
    "outputId": "b3c73e84-925a-4f24-ef99-546182665d84"
   },
   "outputs": [
    {
     "name": "stdout",
     "output_type": "stream",
     "text": [
      "('tv', 'tv', 'tv', 'tv') ('tv', 'tv', 'tv', 'tn') ('tv', 'tv', 'tv', 'bp') ('tv', 'tv', 'tv', 'pl') ('tv', 'tv', 'tn', 'tn') ('tv', 'tv', 'tn', 'bp') ('tv', 'tv', 'tn', 'pl') ('tv', 'tv', 'bp', 'bp') ('tv', 'tv', 'bp', 'pl') ('tv', 'tv', 'pl', 'pl') ('tv', 'tn', 'tn', 'tn') ('tv', 'tn', 'tn', 'bp') ('tv', 'tn', 'tn', 'pl') ('tv', 'tn', 'bp', 'bp') ('tv', 'tn', 'bp', 'pl') ('tv', 'tn', 'pl', 'pl') ('tv', 'bp', 'bp', 'bp') ('tv', 'bp', 'bp', 'pl') ('tv', 'bp', 'pl', 'pl') ('tv', 'pl', 'pl', 'pl') ('tn', 'tn', 'tn', 'tn') ('tn', 'tn', 'tn', 'bp') ('tn', 'tn', 'tn', 'pl') ('tn', 'tn', 'bp', 'bp') ('tn', 'tn', 'bp', 'pl') ('tn', 'tn', 'pl', 'pl') ('tn', 'bp', 'bp', 'bp') ('tn', 'bp', 'bp', 'pl') ('tn', 'bp', 'pl', 'pl') ('tn', 'pl', 'pl', 'pl') ('bp', 'bp', 'bp', 'bp') ('bp', 'bp', 'bp', 'pl') ('bp', 'bp', 'pl', 'pl') ('bp', 'pl', 'pl', 'pl') ('pl', 'pl', 'pl', 'pl') "
     ]
    }
   ],
   "source": [
    "#комбинации классов \n",
    "for i in combinations_with_replacement(['tv','tn','bp','pl'], 4):\n",
    "    print(i, end=' ') # aa ab ac ad bb bc bd cc cd dd "
   ]
  },
  {
   "cell_type": "code",
   "execution_count": null,
   "metadata": {
    "id": "Qj7Il43eFnr8",
    "outputId": "1514b53a-f6a5-4e09-cc2d-d948152e93aa"
   },
   "outputs": [
    {
     "name": "stdout",
     "output_type": "stream",
     "text": [
      "<bound method MarkovChain.__repr__ of Markov chain with transition matrix \n",
      "P = \n",
      "[[0.25       0.25       0.25       0.25      ]\n",
      " [0.33333333 0.33333333 0.33333333 0.        ]\n",
      " [0.5        0.5        0.         0.        ]\n",
      " [0.5        0.         0.         0.5       ]]>\n"
     ]
    }
   ],
   "source": [
    "mc1 = qe.MarkovChain(tv)\n",
    "\n",
    "print(mc1)"
   ]
  },
  {
   "cell_type": "code",
   "execution_count": null,
   "metadata": {
    "id": "977HbHtjFnr_",
    "outputId": "81d2ef75-0cbd-4aaa-a099-af32cd36ba76"
   },
   "outputs": [
    {
     "data": {
      "text/plain": [
       "array([1, 0, 2, 1, 0, 0, 2, 0, 1, 0])"
      ]
     },
     "metadata": {
      "tags": []
     },
     "output_type": "display_data"
    }
   ],
   "source": [
    "#симулиция последовательности, длина 1000\n",
    "a2=mc1.simulate(10, random_state=None)\n",
    "display(a2)"
   ]
  },
  {
   "cell_type": "code",
   "execution_count": null,
   "metadata": {
    "id": "pQBqoo65FnsC"
   },
   "outputs": [],
   "source": [
    "#симулиция последовательности, длина 1000\n",
    "a1=mc1.simulate(10, random_state=None)\n",
    "a2=mc1.simulate(10, random_state=None)\n",
    "a3=mc1.simulate(10, random_state=None)\n",
    "a4=mc1.simulate(10, random_state=None)\n",
    "a5=mc1.simulate(10, random_state=None)\n",
    "a6=mc1.simulate(10, random_state=None)\n",
    "a7=mc1.simulate(10, random_state=None)\n",
    "a8=mc1.simulate(10, random_state=None)\n",
    "a9=mc1.simulate(10, random_state=None)\n",
    "a10=mc1.simulate(10, random_state=None)"
   ]
  },
  {
   "cell_type": "code",
   "execution_count": null,
   "metadata": {
    "id": "UXULruu-FnsE"
   },
   "outputs": [],
   "source": [
    "array=np.column_stack((a1, a2,a3,a4,a5,a6,a7,a8,a9,a10))"
   ]
  },
  {
   "cell_type": "code",
   "execution_count": null,
   "metadata": {
    "id": "8-DoM__aFnsG",
    "outputId": "0aa34ee0-4e4a-4160-868f-3b5e6a9a29e7"
   },
   "outputs": [
    {
     "data": {
      "text/html": [
       "<div>\n",
       "<style scoped>\n",
       "    .dataframe tbody tr th:only-of-type {\n",
       "        vertical-align: middle;\n",
       "    }\n",
       "\n",
       "    .dataframe tbody tr th {\n",
       "        vertical-align: top;\n",
       "    }\n",
       "\n",
       "    .dataframe thead th {\n",
       "        text-align: right;\n",
       "    }\n",
       "</style>\n",
       "<table border=\"1\" class=\"dataframe\">\n",
       "  <thead>\n",
       "    <tr style=\"text-align: right;\">\n",
       "      <th></th>\n",
       "      <th>0</th>\n",
       "      <th>1</th>\n",
       "      <th>2</th>\n",
       "      <th>3</th>\n",
       "      <th>4</th>\n",
       "      <th>5</th>\n",
       "      <th>6</th>\n",
       "      <th>7</th>\n",
       "      <th>8</th>\n",
       "      <th>9</th>\n",
       "    </tr>\n",
       "  </thead>\n",
       "  <tbody>\n",
       "    <tr>\n",
       "      <th>0</th>\n",
       "      <td>2</td>\n",
       "      <td>0</td>\n",
       "      <td>2</td>\n",
       "      <td>3</td>\n",
       "      <td>0</td>\n",
       "      <td>0</td>\n",
       "      <td>2</td>\n",
       "      <td>1</td>\n",
       "      <td>0</td>\n",
       "      <td>3</td>\n",
       "    </tr>\n",
       "    <tr>\n",
       "      <th>1</th>\n",
       "      <td>0</td>\n",
       "      <td>2</td>\n",
       "      <td>0</td>\n",
       "      <td>0</td>\n",
       "      <td>3</td>\n",
       "      <td>0</td>\n",
       "      <td>0</td>\n",
       "      <td>0</td>\n",
       "      <td>2</td>\n",
       "      <td>0</td>\n",
       "    </tr>\n",
       "    <tr>\n",
       "      <th>2</th>\n",
       "      <td>1</td>\n",
       "      <td>0</td>\n",
       "      <td>1</td>\n",
       "      <td>3</td>\n",
       "      <td>3</td>\n",
       "      <td>3</td>\n",
       "      <td>2</td>\n",
       "      <td>1</td>\n",
       "      <td>0</td>\n",
       "      <td>1</td>\n",
       "    </tr>\n",
       "    <tr>\n",
       "      <th>3</th>\n",
       "      <td>0</td>\n",
       "      <td>3</td>\n",
       "      <td>1</td>\n",
       "      <td>0</td>\n",
       "      <td>0</td>\n",
       "      <td>3</td>\n",
       "      <td>1</td>\n",
       "      <td>1</td>\n",
       "      <td>0</td>\n",
       "      <td>2</td>\n",
       "    </tr>\n",
       "    <tr>\n",
       "      <th>4</th>\n",
       "      <td>3</td>\n",
       "      <td>0</td>\n",
       "      <td>2</td>\n",
       "      <td>2</td>\n",
       "      <td>2</td>\n",
       "      <td>0</td>\n",
       "      <td>1</td>\n",
       "      <td>1</td>\n",
       "      <td>2</td>\n",
       "      <td>0</td>\n",
       "    </tr>\n",
       "    <tr>\n",
       "      <th>5</th>\n",
       "      <td>3</td>\n",
       "      <td>1</td>\n",
       "      <td>0</td>\n",
       "      <td>0</td>\n",
       "      <td>1</td>\n",
       "      <td>2</td>\n",
       "      <td>1</td>\n",
       "      <td>0</td>\n",
       "      <td>0</td>\n",
       "      <td>2</td>\n",
       "    </tr>\n",
       "    <tr>\n",
       "      <th>6</th>\n",
       "      <td>0</td>\n",
       "      <td>0</td>\n",
       "      <td>2</td>\n",
       "      <td>3</td>\n",
       "      <td>0</td>\n",
       "      <td>1</td>\n",
       "      <td>2</td>\n",
       "      <td>3</td>\n",
       "      <td>1</td>\n",
       "      <td>0</td>\n",
       "    </tr>\n",
       "    <tr>\n",
       "      <th>7</th>\n",
       "      <td>2</td>\n",
       "      <td>0</td>\n",
       "      <td>1</td>\n",
       "      <td>3</td>\n",
       "      <td>2</td>\n",
       "      <td>2</td>\n",
       "      <td>0</td>\n",
       "      <td>3</td>\n",
       "      <td>2</td>\n",
       "      <td>1</td>\n",
       "    </tr>\n",
       "    <tr>\n",
       "      <th>8</th>\n",
       "      <td>1</td>\n",
       "      <td>2</td>\n",
       "      <td>0</td>\n",
       "      <td>3</td>\n",
       "      <td>0</td>\n",
       "      <td>0</td>\n",
       "      <td>1</td>\n",
       "      <td>0</td>\n",
       "      <td>1</td>\n",
       "      <td>0</td>\n",
       "    </tr>\n",
       "    <tr>\n",
       "      <th>9</th>\n",
       "      <td>1</td>\n",
       "      <td>0</td>\n",
       "      <td>0</td>\n",
       "      <td>3</td>\n",
       "      <td>1</td>\n",
       "      <td>0</td>\n",
       "      <td>1</td>\n",
       "      <td>2</td>\n",
       "      <td>2</td>\n",
       "      <td>1</td>\n",
       "    </tr>\n",
       "  </tbody>\n",
       "</table>\n",
       "</div>"
      ],
      "text/plain": [
       "   0  1  2  3  4  5  6  7  8  9\n",
       "0  2  0  2  3  0  0  2  1  0  3\n",
       "1  0  2  0  0  3  0  0  0  2  0\n",
       "2  1  0  1  3  3  3  2  1  0  1\n",
       "3  0  3  1  0  0  3  1  1  0  2\n",
       "4  3  0  2  2  2  0  1  1  2  0\n",
       "5  3  1  0  0  1  2  1  0  0  2\n",
       "6  0  0  2  3  0  1  2  3  1  0\n",
       "7  2  0  1  3  2  2  0  3  2  1\n",
       "8  1  2  0  3  0  0  1  0  1  0\n",
       "9  1  0  0  3  1  0  1  2  2  1"
      ]
     },
     "metadata": {
      "tags": []
     },
     "output_type": "display_data"
    }
   ],
   "source": [
    "df = pd.DataFrame(array)\n",
    "\n",
    "df[0]=[2,0,1,0,3,3,0,2,1,1]\n",
    "display(df.head(20))"
   ]
  },
  {
   "cell_type": "markdown",
   "metadata": {
    "id": "XC0KYq5HFnsJ"
   },
   "source": [
    "Пусть ('tv', 'tn', 'tn', 'bp')"
   ]
  },
  {
   "cell_type": "code",
   "execution_count": null,
   "metadata": {
    "id": "jMeTupRPFnsJ",
    "outputId": "bb72efea-b5b8-44c6-c70c-a03bcb69f939"
   },
   "outputs": [
    {
     "data": {
      "text/plain": [
       "array([[0., 0., 0., 0.],\n",
       "       [0., 0., 0., 0.],\n",
       "       [0., 0., 0., 0.],\n",
       "       [0., 0., 0., 0.],\n",
       "       [0., 0., 0., 0.],\n",
       "       [0., 0., 0., 0.],\n",
       "       [0., 0., 0., 0.],\n",
       "       [0., 0., 0., 0.],\n",
       "       [0., 0., 0., 0.],\n",
       "       [0., 0., 0., 0.]])"
      ]
     },
     "execution_count": 2309,
     "metadata": {
      "tags": []
     },
     "output_type": "execute_result"
    }
   ],
   "source": [
    "#Расчет вектора альфа методом Рабинера\n",
    "alfa= np.zeros((10, 4))\n",
    "\n",
    "\n",
    "alfa\n"
   ]
  },
  {
   "cell_type": "code",
   "execution_count": null,
   "metadata": {
    "id": "OwmefkUOFnsL",
    "outputId": "62ebb769-8e01-4d0b-c4e7-9112877deca4"
   },
   "outputs": [
    {
     "data": {
      "text/plain": [
       "array([[0., 0., 0., 0.],\n",
       "       [0., 0., 0., 0.],\n",
       "       [0., 0., 0., 0.],\n",
       "       [0., 0., 0., 0.],\n",
       "       [0., 0., 0., 0.],\n",
       "       [0., 0., 0., 0.],\n",
       "       [0., 0., 0., 0.],\n",
       "       [0., 0., 0., 0.],\n",
       "       [0., 0., 0., 0.],\n",
       "       [0., 0., 0., 0.]])"
      ]
     },
     "execution_count": 2310,
     "metadata": {
      "tags": []
     },
     "output_type": "execute_result"
    }
   ],
   "source": [
    "\n",
    "beta=np.array([[0.0,0.0,0.0,0.0],\n",
    "            [0,0,0,0],\n",
    "            [0,0,0,0],\n",
    "            [0,0,0,0],\n",
    "            [0,0,0,0],\n",
    "            [0,0,0,0],\n",
    "            [0,0,0,0],\n",
    "            [0,0,0,0],\n",
    "            [0,0,0,0],\n",
    "            [0,0,0,0]])\n",
    "\n",
    "beta"
   ]
  },
  {
   "cell_type": "code",
   "execution_count": null,
   "metadata": {
    "id": "0FgAT_8KFnsO",
    "outputId": "373ba871-93b9-4192-c2b0-832876f39635"
   },
   "outputs": [
    {
     "data": {
      "text/plain": [
       "array([0.25, 0.25, 0.25, 0.25])"
      ]
     },
     "execution_count": 2311,
     "metadata": {
      "tags": []
     },
     "output_type": "execute_result"
    }
   ],
   "source": [
    "pi=np.array([1/4,    1/4,  1/4,    1/4])\n",
    "pi"
   ]
  },
  {
   "cell_type": "code",
   "execution_count": null,
   "metadata": {
    "id": "0ERN_aW7FnsS",
    "outputId": "1271c57f-5a9a-46d7-bf16-6d41f45ad5cf"
   },
   "outputs": [
    {
     "data": {
      "text/plain": [
       "1    0\n",
       "2    1\n",
       "3    0\n",
       "4    3\n",
       "5    3\n",
       "6    0\n",
       "7    2\n",
       "8    1\n",
       "9    1\n",
       "Name: 0, dtype: int64"
      ]
     },
     "execution_count": 2312,
     "metadata": {
      "tags": []
     },
     "output_type": "execute_result"
    }
   ],
   "source": [
    " df[0].iloc[1:]\n"
   ]
  },
  {
   "cell_type": "code",
   "execution_count": null,
   "metadata": {
    "id": "cS_mZep0FnsU",
    "outputId": "6cc6d1f9-5c07-4788-ea56-5ccbf992d810"
   },
   "outputs": [
    {
     "data": {
      "text/plain": [
       "array([[0.  , 0.  , 0.25, 0.  ],\n",
       "       [0.  , 0.  , 0.  , 0.  ],\n",
       "       [0.  , 0.  , 0.  , 0.  ],\n",
       "       [0.  , 0.  , 0.  , 0.  ],\n",
       "       [0.  , 0.  , 0.  , 0.  ],\n",
       "       [0.  , 0.  , 0.  , 0.  ],\n",
       "       [0.  , 0.  , 0.  , 0.  ],\n",
       "       [0.  , 0.  , 0.  , 0.  ],\n",
       "       [0.  , 0.  , 0.  , 0.  ],\n",
       "       [0.  , 0.  , 0.  , 0.  ]])"
      ]
     },
     "execution_count": 2313,
     "metadata": {
      "tags": []
     },
     "output_type": "execute_result"
    }
   ],
   "source": [
    "k=df.loc[0][0]    \n",
    "k\n",
    "pi[k]\n",
    "alfa[0,2]=pi[k]\n",
    "alfa"
   ]
  },
  {
   "cell_type": "code",
   "execution_count": null,
   "metadata": {
    "id": "DdRSQ90cFnsW",
    "outputId": "afe759a6-9bde-4281-ca96-240184a78a09"
   },
   "outputs": [
    {
     "data": {
      "text/plain": [
       "array([[0.25      , 0.33333333, 0.5       , 0.5       ],\n",
       "       [0.25      , 0.33333333, 0.5       , 0.        ],\n",
       "       [0.25      , 0.33333333, 0.        , 0.        ],\n",
       "       [0.25      , 0.        , 0.        , 0.5       ]])"
      ]
     },
     "execution_count": 2314,
     "metadata": {
      "tags": []
     },
     "output_type": "execute_result"
    }
   ],
   "source": [
    "tvt"
   ]
  },
  {
   "cell_type": "code",
   "execution_count": null,
   "metadata": {
    "id": "mMFcxPBLFnsY",
    "outputId": "3f96d8d4-b800-4a34-887c-ce77b5c4c07b"
   },
   "outputs": [
    {
     "data": {
      "text/plain": [
       "array([0.  , 0.  , 0.25, 0.  ])"
      ]
     },
     "execution_count": 2315,
     "metadata": {
      "tags": []
     },
     "output_type": "execute_result"
    }
   ],
   "source": [
    "alfa[0]"
   ]
  },
  {
   "cell_type": "code",
   "execution_count": null,
   "metadata": {
    "id": "NuAMREDxFnsc"
   },
   "outputs": [],
   "source": [
    "ii=[0,1,2,3,4,5,6,7,8,9]\n",
    "j=1\n",
    "v=0\n",
    "b=0\n",
    "for d in ii:\n",
    "    for b in ii:\n",
    "        k=df.loc[b][d]  \n",
    "        print(k)\n",
    "    \n",
    " \n",
    "    \n",
    "    "
   ]
  },
  {
   "cell_type": "code",
   "execution_count": null,
   "metadata": {
    "id": "Gq0bEiVzFnse",
    "outputId": "50d8db53-a3a6-47f9-d23f-5f228caf9fb5"
   },
   "outputs": [
    {
     "name": "stdout",
     "output_type": "stream",
     "text": [
      "2\n",
      "[0.   0.   0.25 0.  ]\n"
     ]
    },
    {
     "data": {
      "text/plain": [
       "array([[0.00000000e+00, 0.00000000e+00, 2.50000000e-01, 0.00000000e+00],\n",
       "       [1.25000000e-01, 0.00000000e+00, 0.00000000e+00, 0.00000000e+00],\n",
       "       [0.00000000e+00, 3.12500000e-02, 0.00000000e+00, 0.00000000e+00],\n",
       "       [1.04166667e-02, 0.00000000e+00, 0.00000000e+00, 0.00000000e+00],\n",
       "       [0.00000000e+00, 0.00000000e+00, 0.00000000e+00, 2.60416667e-03],\n",
       "       [0.00000000e+00, 0.00000000e+00, 0.00000000e+00, 1.30208333e-03],\n",
       "       [6.51041667e-04, 0.00000000e+00, 0.00000000e+00, 0.00000000e+00],\n",
       "       [0.00000000e+00, 0.00000000e+00, 1.62760417e-04, 0.00000000e+00],\n",
       "       [0.00000000e+00, 8.13802083e-05, 0.00000000e+00, 0.00000000e+00],\n",
       "       [0.00000000e+00, 2.71267361e-05, 0.00000000e+00, 0.00000000e+00]])"
      ]
     },
     "execution_count": 2317,
     "metadata": {
      "tags": []
     },
     "output_type": "execute_result"
    }
   ],
   "source": [
    "\n",
    "def vecalfa(n):\n",
    "    alfa= np.zeros((10, 4))\n",
    "    k=df.loc[0][n]    \n",
    "    print(k)\n",
    "    alfa[0,k]=pi[k]\n",
    "    print(alfa[0])\n",
    "   \n",
    "    j=1\n",
    "    for i in df[n].iloc[1:]:    \n",
    "\n",
    "        alfa[j,i]=np.dot(alfa[j-1], tvt[i])\n",
    "        j=j+1\n",
    "\n",
    "        \n",
    "    return alfa\n",
    "          \n",
    "vecalfa(0)\n",
    "\n"
   ]
  },
  {
   "cell_type": "code",
   "execution_count": null,
   "metadata": {
    "id": "QB0J2WIzFnsh",
    "outputId": "86981c81-77a5-44e0-e774-f6ab6ea7ca13"
   },
   "outputs": [
    {
     "name": "stdout",
     "output_type": "stream",
     "text": [
      "2\n",
      "[0.   0.   0.25 0.  ]\n",
      "[[2.50000000e-01 0.00000000e+00 2.50000000e-01 0.00000000e+00]\n",
      " [0.00000000e+00 0.00000000e+00 6.25000000e-02 0.00000000e+00]\n",
      " [0.00000000e+00 3.12500000e-02 0.00000000e+00 0.00000000e+00]\n",
      " [0.00000000e+00 1.04166667e-02 0.00000000e+00 0.00000000e+00]\n",
      " [0.00000000e+00 3.47222222e-03 0.00000000e+00 0.00000000e+00]\n",
      " [1.15740741e-03 0.00000000e+00 0.00000000e+00 0.00000000e+00]\n",
      " [0.00000000e+00 0.00000000e+00 0.00000000e+00 2.89351852e-04]\n",
      " [0.00000000e+00 0.00000000e+00 0.00000000e+00 1.44675926e-04]\n",
      " [7.23379630e-05 0.00000000e+00 0.00000000e+00 0.00000000e+00]\n",
      " [0.00000000e+00 0.00000000e+00 0.00000000e+00 1.80844907e-05]]\n",
      "0\n",
      "[0.25 0.   0.   0.  ]\n",
      "[[2.50000000e-01 0.00000000e+00 2.50000000e-01 0.00000000e+00]\n",
      " [0.00000000e+00 0.00000000e+00 6.25000000e-02 0.00000000e+00]\n",
      " [0.00000000e+00 3.12500000e-02 0.00000000e+00 0.00000000e+00]\n",
      " [0.00000000e+00 1.04166667e-02 0.00000000e+00 0.00000000e+00]\n",
      " [0.00000000e+00 3.47222222e-03 0.00000000e+00 0.00000000e+00]\n",
      " [1.15740741e-03 0.00000000e+00 0.00000000e+00 0.00000000e+00]\n",
      " [0.00000000e+00 0.00000000e+00 0.00000000e+00 2.89351852e-04]\n",
      " [0.00000000e+00 0.00000000e+00 0.00000000e+00 1.44675926e-04]\n",
      " [7.23379630e-05 0.00000000e+00 0.00000000e+00 0.00000000e+00]\n",
      " [0.00000000e+00 0.00000000e+00 0.00000000e+00 1.80844907e-05]]\n",
      "1\n",
      "[0.   0.25 0.   0.  ]\n",
      "[[2.50000000e-01 0.00000000e+00 2.50000000e-01 0.00000000e+00]\n",
      " [0.00000000e+00 0.00000000e+00 6.25000000e-02 0.00000000e+00]\n",
      " [0.00000000e+00 3.12500000e-02 0.00000000e+00 0.00000000e+00]\n",
      " [0.00000000e+00 1.04166667e-02 0.00000000e+00 0.00000000e+00]\n",
      " [0.00000000e+00 3.47222222e-03 0.00000000e+00 0.00000000e+00]\n",
      " [1.15740741e-03 0.00000000e+00 0.00000000e+00 0.00000000e+00]\n",
      " [0.00000000e+00 0.00000000e+00 0.00000000e+00 2.89351852e-04]\n",
      " [0.00000000e+00 0.00000000e+00 0.00000000e+00 1.44675926e-04]\n",
      " [7.23379630e-05 0.00000000e+00 0.00000000e+00 0.00000000e+00]\n",
      " [0.00000000e+00 0.00000000e+00 0.00000000e+00 1.80844907e-05]]\n",
      "0\n",
      "[0.25 0.   0.   0.  ]\n",
      "[[2.50000000e-01 0.00000000e+00 2.50000000e-01 0.00000000e+00]\n",
      " [0.00000000e+00 0.00000000e+00 6.25000000e-02 0.00000000e+00]\n",
      " [0.00000000e+00 3.12500000e-02 0.00000000e+00 0.00000000e+00]\n",
      " [0.00000000e+00 1.04166667e-02 0.00000000e+00 0.00000000e+00]\n",
      " [0.00000000e+00 3.47222222e-03 0.00000000e+00 0.00000000e+00]\n",
      " [1.15740741e-03 0.00000000e+00 0.00000000e+00 0.00000000e+00]\n",
      " [0.00000000e+00 0.00000000e+00 0.00000000e+00 2.89351852e-04]\n",
      " [0.00000000e+00 0.00000000e+00 0.00000000e+00 1.44675926e-04]\n",
      " [7.23379630e-05 0.00000000e+00 0.00000000e+00 0.00000000e+00]\n",
      " [0.00000000e+00 0.00000000e+00 0.00000000e+00 1.80844907e-05]]\n",
      "1\n",
      "[0.   0.25 0.   0.  ]\n",
      "[[2.50000000e-01 0.00000000e+00 2.50000000e-01 0.00000000e+00]\n",
      " [0.00000000e+00 0.00000000e+00 6.25000000e-02 0.00000000e+00]\n",
      " [0.00000000e+00 3.12500000e-02 0.00000000e+00 0.00000000e+00]\n",
      " [0.00000000e+00 1.04166667e-02 0.00000000e+00 0.00000000e+00]\n",
      " [0.00000000e+00 3.47222222e-03 0.00000000e+00 0.00000000e+00]\n",
      " [1.15740741e-03 0.00000000e+00 0.00000000e+00 0.00000000e+00]\n",
      " [0.00000000e+00 0.00000000e+00 0.00000000e+00 2.89351852e-04]\n",
      " [0.00000000e+00 0.00000000e+00 0.00000000e+00 1.44675926e-04]\n",
      " [7.23379630e-05 0.00000000e+00 0.00000000e+00 0.00000000e+00]\n",
      " [0.00000000e+00 0.00000000e+00 0.00000000e+00 1.80844907e-05]]\n",
      "0\n",
      "[0.25 0.   0.   0.  ]\n",
      "[[2.50000000e-01 0.00000000e+00 2.50000000e-01 0.00000000e+00]\n",
      " [0.00000000e+00 0.00000000e+00 6.25000000e-02 0.00000000e+00]\n",
      " [0.00000000e+00 3.12500000e-02 0.00000000e+00 0.00000000e+00]\n",
      " [0.00000000e+00 1.04166667e-02 0.00000000e+00 0.00000000e+00]\n",
      " [0.00000000e+00 3.47222222e-03 0.00000000e+00 0.00000000e+00]\n",
      " [1.15740741e-03 0.00000000e+00 0.00000000e+00 0.00000000e+00]\n",
      " [0.00000000e+00 0.00000000e+00 0.00000000e+00 2.89351852e-04]\n",
      " [0.00000000e+00 0.00000000e+00 0.00000000e+00 1.44675926e-04]\n",
      " [7.23379630e-05 0.00000000e+00 0.00000000e+00 0.00000000e+00]\n",
      " [0.00000000e+00 0.00000000e+00 0.00000000e+00 1.80844907e-05]]\n",
      "0\n",
      "[0.25 0.   0.   0.  ]\n",
      "[[2.50000000e-01 0.00000000e+00 2.50000000e-01 0.00000000e+00]\n",
      " [0.00000000e+00 0.00000000e+00 6.25000000e-02 0.00000000e+00]\n",
      " [0.00000000e+00 3.12500000e-02 0.00000000e+00 0.00000000e+00]\n",
      " [0.00000000e+00 1.04166667e-02 0.00000000e+00 0.00000000e+00]\n",
      " [0.00000000e+00 3.47222222e-03 0.00000000e+00 0.00000000e+00]\n",
      " [1.15740741e-03 0.00000000e+00 0.00000000e+00 0.00000000e+00]\n",
      " [0.00000000e+00 0.00000000e+00 0.00000000e+00 2.89351852e-04]\n",
      " [0.00000000e+00 0.00000000e+00 0.00000000e+00 1.44675926e-04]\n",
      " [7.23379630e-05 0.00000000e+00 0.00000000e+00 0.00000000e+00]\n",
      " [0.00000000e+00 0.00000000e+00 0.00000000e+00 1.80844907e-05]]\n",
      "0\n",
      "[0.25 0.   0.   0.  ]\n",
      "[[2.50000000e-01 0.00000000e+00 2.50000000e-01 0.00000000e+00]\n",
      " [0.00000000e+00 0.00000000e+00 6.25000000e-02 0.00000000e+00]\n",
      " [0.00000000e+00 3.12500000e-02 0.00000000e+00 0.00000000e+00]\n",
      " [0.00000000e+00 1.04166667e-02 0.00000000e+00 0.00000000e+00]\n",
      " [0.00000000e+00 3.47222222e-03 0.00000000e+00 0.00000000e+00]\n",
      " [1.15740741e-03 0.00000000e+00 0.00000000e+00 0.00000000e+00]\n",
      " [0.00000000e+00 0.00000000e+00 0.00000000e+00 2.89351852e-04]\n",
      " [0.00000000e+00 0.00000000e+00 0.00000000e+00 1.44675926e-04]\n",
      " [7.23379630e-05 0.00000000e+00 0.00000000e+00 0.00000000e+00]\n",
      " [0.00000000e+00 0.00000000e+00 0.00000000e+00 1.80844907e-05]]\n",
      "3\n",
      "[0.   0.   0.   0.25]\n",
      "[[2.50000000e-01 0.00000000e+00 2.50000000e-01 0.00000000e+00]\n",
      " [0.00000000e+00 0.00000000e+00 6.25000000e-02 0.00000000e+00]\n",
      " [0.00000000e+00 3.12500000e-02 0.00000000e+00 0.00000000e+00]\n",
      " [0.00000000e+00 1.04166667e-02 0.00000000e+00 0.00000000e+00]\n",
      " [0.00000000e+00 3.47222222e-03 0.00000000e+00 0.00000000e+00]\n",
      " [1.15740741e-03 0.00000000e+00 0.00000000e+00 0.00000000e+00]\n",
      " [0.00000000e+00 0.00000000e+00 0.00000000e+00 2.89351852e-04]\n",
      " [0.00000000e+00 0.00000000e+00 0.00000000e+00 1.44675926e-04]\n",
      " [7.23379630e-05 0.00000000e+00 0.00000000e+00 0.00000000e+00]\n",
      " [0.00000000e+00 0.00000000e+00 0.00000000e+00 1.80844907e-05]]\n",
      "2\n",
      "[0.   0.   0.25 0.  ]\n",
      "[[2.50000000e-01 0.00000000e+00 2.50000000e-01 0.00000000e+00]\n",
      " [0.00000000e+00 0.00000000e+00 6.25000000e-02 0.00000000e+00]\n",
      " [0.00000000e+00 3.12500000e-02 0.00000000e+00 0.00000000e+00]\n",
      " [0.00000000e+00 1.04166667e-02 0.00000000e+00 0.00000000e+00]\n",
      " [0.00000000e+00 3.47222222e-03 0.00000000e+00 0.00000000e+00]\n",
      " [1.15740741e-03 0.00000000e+00 0.00000000e+00 0.00000000e+00]\n",
      " [0.00000000e+00 0.00000000e+00 0.00000000e+00 2.89351852e-04]\n",
      " [0.00000000e+00 0.00000000e+00 0.00000000e+00 1.44675926e-04]\n",
      " [7.23379630e-05 0.00000000e+00 0.00000000e+00 0.00000000e+00]\n",
      " [0.00000000e+00 0.00000000e+00 0.00000000e+00 1.80844907e-05]]\n"
     ]
    }
   ],
   "source": [
    "ii=[0,1,2,3,4,5,6,7,8,9]\n",
    "\n",
    "for d in ii:\n",
    "        vecalfa(d)\n",
    "        print(alfa) \n",
    "        "
   ]
  },
  {
   "cell_type": "code",
   "execution_count": null,
   "metadata": {
    "id": "ZrF2MQ6bFnsj",
    "outputId": "816c0520-b476-47ed-f62c-8336c3e6b78b"
   },
   "outputs": [
    {
     "data": {
      "text/html": [
       "<div>\n",
       "<style scoped>\n",
       "    .dataframe tbody tr th:only-of-type {\n",
       "        vertical-align: middle;\n",
       "    }\n",
       "\n",
       "    .dataframe tbody tr th {\n",
       "        vertical-align: top;\n",
       "    }\n",
       "\n",
       "    .dataframe thead th {\n",
       "        text-align: right;\n",
       "    }\n",
       "</style>\n",
       "<table border=\"1\" class=\"dataframe\">\n",
       "  <thead>\n",
       "    <tr style=\"text-align: right;\">\n",
       "      <th></th>\n",
       "      <th>0</th>\n",
       "      <th>1</th>\n",
       "      <th>2</th>\n",
       "      <th>3</th>\n",
       "    </tr>\n",
       "  </thead>\n",
       "  <tbody>\n",
       "    <tr>\n",
       "      <th>0</th>\n",
       "      <td>0.250000</td>\n",
       "      <td>0.250000</td>\n",
       "      <td>0.250000</td>\n",
       "      <td>0.250000</td>\n",
       "    </tr>\n",
       "    <tr>\n",
       "      <th>1</th>\n",
       "      <td>0.395833</td>\n",
       "      <td>0.270833</td>\n",
       "      <td>0.000000</td>\n",
       "      <td>0.187500</td>\n",
       "    </tr>\n",
       "    <tr>\n",
       "      <th>2</th>\n",
       "      <td>0.203125</td>\n",
       "      <td>0.109375</td>\n",
       "      <td>0.189236</td>\n",
       "      <td>0.192708</td>\n",
       "    </tr>\n",
       "    <tr>\n",
       "      <th>3</th>\n",
       "      <td>0.278212</td>\n",
       "      <td>0.167969</td>\n",
       "      <td>0.000000</td>\n",
       "      <td>0.147135</td>\n",
       "    </tr>\n",
       "    <tr>\n",
       "      <th>4</th>\n",
       "      <td>0.000000</td>\n",
       "      <td>0.094510</td>\n",
       "      <td>0.103190</td>\n",
       "      <td>0.143121</td>\n",
       "    </tr>\n",
       "    <tr>\n",
       "      <th>5</th>\n",
       "      <td>0.154659</td>\n",
       "      <td>0.043584</td>\n",
       "      <td>0.000000</td>\n",
       "      <td>0.001302</td>\n",
       "    </tr>\n",
       "    <tr>\n",
       "      <th>6</th>\n",
       "      <td>0.051050</td>\n",
       "      <td>0.017964</td>\n",
       "      <td>0.053193</td>\n",
       "      <td>0.000000</td>\n",
       "    </tr>\n",
       "    <tr>\n",
       "      <th>7</th>\n",
       "      <td>0.020468</td>\n",
       "      <td>0.045347</td>\n",
       "      <td>0.006151</td>\n",
       "      <td>0.000000</td>\n",
       "    </tr>\n",
       "    <tr>\n",
       "      <th>8</th>\n",
       "      <td>0.013947</td>\n",
       "      <td>0.000081</td>\n",
       "      <td>0.020233</td>\n",
       "      <td>0.000000</td>\n",
       "    </tr>\n",
       "    <tr>\n",
       "      <th>9</th>\n",
       "      <td>0.007197</td>\n",
       "      <td>0.013630</td>\n",
       "      <td>0.000000</td>\n",
       "      <td>0.001172</td>\n",
       "    </tr>\n",
       "  </tbody>\n",
       "</table>\n",
       "</div>"
      ],
      "text/plain": [
       "          0         1         2         3\n",
       "0  0.250000  0.250000  0.250000  0.250000\n",
       "1  0.395833  0.270833  0.000000  0.187500\n",
       "2  0.203125  0.109375  0.189236  0.192708\n",
       "3  0.278212  0.167969  0.000000  0.147135\n",
       "4  0.000000  0.094510  0.103190  0.143121\n",
       "5  0.154659  0.043584  0.000000  0.001302\n",
       "6  0.051050  0.017964  0.053193  0.000000\n",
       "7  0.020468  0.045347  0.006151  0.000000\n",
       "8  0.013947  0.000081  0.020233  0.000000\n",
       "9  0.007197  0.013630  0.000000  0.001172"
      ]
     },
     "execution_count": 2107,
     "metadata": {
      "tags": []
     },
     "output_type": "execute_result"
    }
   ],
   "source": [
    "alfadf = pd.DataFrame(alfa)\n",
    "alfadf\n"
   ]
  },
  {
   "cell_type": "code",
   "execution_count": null,
   "metadata": {
    "id": "YvAUwTVMFnsk",
    "outputId": "184c8e26-bc45-45ba-94de-6efac783f68d"
   },
   "outputs": [
    {
     "data": {
      "text/html": [
       "<div>\n",
       "<style scoped>\n",
       "    .dataframe tbody tr th:only-of-type {\n",
       "        vertical-align: middle;\n",
       "    }\n",
       "\n",
       "    .dataframe tbody tr th {\n",
       "        vertical-align: top;\n",
       "    }\n",
       "\n",
       "    .dataframe thead th {\n",
       "        text-align: right;\n",
       "    }\n",
       "</style>\n",
       "<table border=\"1\" class=\"dataframe\">\n",
       "  <thead>\n",
       "    <tr style=\"text-align: right;\">\n",
       "      <th></th>\n",
       "      <th>0</th>\n",
       "      <th>1</th>\n",
       "      <th>2</th>\n",
       "      <th>3</th>\n",
       "      <th>type</th>\n",
       "    </tr>\n",
       "  </thead>\n",
       "  <tbody>\n",
       "    <tr>\n",
       "      <th>0</th>\n",
       "      <td>0.250000</td>\n",
       "      <td>0.250000</td>\n",
       "      <td>0.250000</td>\n",
       "      <td>0.250000</td>\n",
       "      <td>1</td>\n",
       "    </tr>\n",
       "    <tr>\n",
       "      <th>1</th>\n",
       "      <td>0.395833</td>\n",
       "      <td>0.270833</td>\n",
       "      <td>0.000000</td>\n",
       "      <td>0.187500</td>\n",
       "      <td>1</td>\n",
       "    </tr>\n",
       "    <tr>\n",
       "      <th>2</th>\n",
       "      <td>0.203125</td>\n",
       "      <td>0.109375</td>\n",
       "      <td>0.189236</td>\n",
       "      <td>0.192708</td>\n",
       "      <td>1</td>\n",
       "    </tr>\n",
       "    <tr>\n",
       "      <th>3</th>\n",
       "      <td>0.278212</td>\n",
       "      <td>0.167969</td>\n",
       "      <td>0.000000</td>\n",
       "      <td>0.147135</td>\n",
       "      <td>1</td>\n",
       "    </tr>\n",
       "    <tr>\n",
       "      <th>4</th>\n",
       "      <td>0.000000</td>\n",
       "      <td>0.094510</td>\n",
       "      <td>0.103190</td>\n",
       "      <td>0.143121</td>\n",
       "      <td>1</td>\n",
       "    </tr>\n",
       "    <tr>\n",
       "      <th>5</th>\n",
       "      <td>0.154659</td>\n",
       "      <td>0.043584</td>\n",
       "      <td>0.000000</td>\n",
       "      <td>0.001302</td>\n",
       "      <td>1</td>\n",
       "    </tr>\n",
       "    <tr>\n",
       "      <th>6</th>\n",
       "      <td>0.051050</td>\n",
       "      <td>0.017964</td>\n",
       "      <td>0.053193</td>\n",
       "      <td>0.000000</td>\n",
       "      <td>1</td>\n",
       "    </tr>\n",
       "    <tr>\n",
       "      <th>7</th>\n",
       "      <td>0.020468</td>\n",
       "      <td>0.045347</td>\n",
       "      <td>0.006151</td>\n",
       "      <td>0.000000</td>\n",
       "      <td>1</td>\n",
       "    </tr>\n",
       "    <tr>\n",
       "      <th>8</th>\n",
       "      <td>0.013947</td>\n",
       "      <td>0.000081</td>\n",
       "      <td>0.020233</td>\n",
       "      <td>0.000000</td>\n",
       "      <td>1</td>\n",
       "    </tr>\n",
       "    <tr>\n",
       "      <th>9</th>\n",
       "      <td>0.007197</td>\n",
       "      <td>0.013630</td>\n",
       "      <td>0.000000</td>\n",
       "      <td>0.001172</td>\n",
       "      <td>1</td>\n",
       "    </tr>\n",
       "  </tbody>\n",
       "</table>\n",
       "</div>"
      ],
      "text/plain": [
       "          0         1         2         3  type\n",
       "0  0.250000  0.250000  0.250000  0.250000     1\n",
       "1  0.395833  0.270833  0.000000  0.187500     1\n",
       "2  0.203125  0.109375  0.189236  0.192708     1\n",
       "3  0.278212  0.167969  0.000000  0.147135     1\n",
       "4  0.000000  0.094510  0.103190  0.143121     1\n",
       "5  0.154659  0.043584  0.000000  0.001302     1\n",
       "6  0.051050  0.017964  0.053193  0.000000     1\n",
       "7  0.020468  0.045347  0.006151  0.000000     1\n",
       "8  0.013947  0.000081  0.020233  0.000000     1\n",
       "9  0.007197  0.013630  0.000000  0.001172     1"
      ]
     },
     "execution_count": 2108,
     "metadata": {
      "tags": []
     },
     "output_type": "execute_result"
    }
   ],
   "source": [
    "alfadf['type'] = pd.Series([1,1,1,1,1,1,1,1,1,1])\n",
    "alfadf"
   ]
  },
  {
   "cell_type": "code",
   "execution_count": null,
   "metadata": {
    "id": "VfzhGIkJFnsm"
   },
   "outputs": [],
   "source": []
  },
  {
   "cell_type": "code",
   "execution_count": null,
   "metadata": {
    "id": "avopgBbXFnsp"
   },
   "outputs": [],
   "source": []
  },
  {
   "cell_type": "code",
   "execution_count": null,
   "metadata": {
    "id": "cmrRs5NMFnsr"
   },
   "outputs": [],
   "source": []
  },
  {
   "cell_type": "code",
   "execution_count": null,
   "metadata": {
    "id": "i0BKspa4Fnst"
   },
   "outputs": [],
   "source": []
  },
  {
   "cell_type": "code",
   "execution_count": null,
   "metadata": {
    "id": "7q63eevmFnsv"
   },
   "outputs": [],
   "source": []
  },
  {
   "cell_type": "code",
   "execution_count": null,
   "metadata": {
    "id": "lrDvtOlqFns1"
   },
   "outputs": [],
   "source": []
  },
  {
   "cell_type": "code",
   "execution_count": null,
   "metadata": {
    "id": "bxMnppx8Fns3"
   },
   "outputs": [],
   "source": []
  },
  {
   "cell_type": "code",
   "execution_count": null,
   "metadata": {
    "id": "63_FPwVZFns5"
   },
   "outputs": [],
   "source": []
  },
  {
   "cell_type": "code",
   "execution_count": null,
   "metadata": {
    "id": "VoaPs0OzFns8"
   },
   "outputs": [],
   "source": []
  },
  {
   "cell_type": "code",
   "execution_count": null,
   "metadata": {
    "id": "r47pgZC1Fns9"
   },
   "outputs": [],
   "source": [
    "ii=[0,1,2,3,4,5,6,7,8,9]\n",
    "j=1\n",
    "for d in ii:\n",
    "   \n",
    "    for i in df[d].iloc[1:]:    \n",
    "\n",
    "        alfa[j,i]=np.dot(alfa[j-1], tvt[i])\n",
    "        j=j+1\n",
    "    d=d+1   \n",
    "alfa   \n"
   ]
  },
  {
   "cell_type": "code",
   "execution_count": null,
   "metadata": {
    "id": "rEvKU5buFns_"
   },
   "outputs": [],
   "source": [
    "import numpy as np\n",
    " \n",
    "class MarkovChain(object):\n",
    "    def __init__(self, transition_prob):\n",
    "        \"\"\"\n",
    "        Initialize the MarkovChain instance.\n",
    " \n",
    "        Parameters\n",
    "        ----------\n",
    "        transition_prob: dict\n",
    "            A dict object representing the transition \n",
    "            probabilities in Markov Chain. \n",
    "            Should be of the form: \n",
    "                {'state1': {'state1': 0.1, 'state2': 0.4}, \n",
    "                 'state2': {...}}\n",
    "        \"\"\"\n",
    "        self.transition_prob = transition_prob\n",
    "        self.states = list(transition_prob.keys())\n",
    " \n",
    "    def next_state(self, current_state):\n",
    "        \"\"\"\n",
    "        Returns the state of the random variable at the next time \n",
    "        instance.\n",
    " \n",
    "        Parameters\n",
    "        ----------\n",
    "        current_state: str\n",
    "            The current state of the system.\n",
    "        \"\"\"\n",
    "        next_ = np.random.choice(self.states, p = [\n",
    "              self.transition_prob[current_state][next_state] \n",
    "               for next_state in self.states]\n",
    "        )\n",
    "        return next_\n",
    " \n",
    "    def generate_states(self, current_state, no=10):\n",
    "        \"\"\"\n",
    "        Generates the next states of the system.\n",
    " \n",
    "        Parameters\n",
    "        ----------\n",
    "        current_state: str\n",
    "            The state of the current random variable.\n",
    " \n",
    "        no: int\n",
    "            The number of future states to generate.\n",
    "        \"\"\"\n",
    "        future_states = []\n",
    "        for i in range(no):\n",
    "            next_state = self.next_state(current_state)\n",
    "            future_states.append(next_state)\n",
    "            current_state = next_state\n",
    "\n",
    "        return ''.join(future_states)"
   ]
  },
  {
   "cell_type": "code",
   "execution_count": null,
   "metadata": {
    "id": "Qsvk9eL8FntC"
   },
   "outputs": [],
   "source": [
    "def MarkovMatrix(n = 26):\n",
    "  '''\n",
    "  Generates a Markov matrix for transition among n symbols\n",
    "  \n",
    "  Parameters\n",
    "  ----------\n",
    "  n: int\n",
    "      number of symbols\n",
    "  '''\n",
    "\n",
    "  np.random.seed(0) # for replicability\n",
    "  symbols = [chr(i+65) for i in range(n)] # list of available symbols\n",
    "\n",
    "  markov_matrix = {}\n",
    "  for i, s in enumerate(symbols):\n",
    "    dim = len(symbols)\n",
    "\n",
    "    # Probabilities of change of state (symbol)\n",
    "    # Random with a decreasing probability to jump to the farthest states\n",
    "    # It could be replaced by a negative logarithmic function  to make it more \n",
    "    # likely to land in the same state and change the complexity of the sequence\n",
    "    probs = np.random.random(dim*3) \n",
    "    probs.sort()\n",
    "    probs = np.append(probs[dim%2::2], probs[::-2])\n",
    "    offset = -int(dim*1.5)\n",
    "    # to keep the highest value in the current state\n",
    "    probs = np.roll(probs, offset+i)[:dim] \n",
    "    probs /= probs.sum()\n",
    "    \n",
    "    markov_matrix[s] = {s: p for s, p in zip(symbols, probs)}\n",
    "\n",
    "  return markov_matrix"
   ]
  },
  {
   "cell_type": "code",
   "execution_count": null,
   "metadata": {
    "id": "4kIkSpDgFntE"
   },
   "outputs": [],
   "source": []
  },
  {
   "cell_type": "code",
   "execution_count": null,
   "metadata": {
    "id": "7rKD3cDeFntG"
   },
   "outputs": [],
   "source": []
  }
 ],
 "metadata": {
  "colab": {
   "collapsed_sections": [],
   "name": "Untitled70.ipynb",
   "provenance": []
  },
  "kernelspec": {
   "display_name": "Python 3",
   "language": "python",
   "name": "python3"
  },
  "language_info": {
   "codemirror_mode": {
    "name": "ipython",
    "version": 3
   },
   "file_extension": ".py",
   "mimetype": "text/x-python",
   "name": "python",
   "nbconvert_exporter": "python",
   "pygments_lexer": "ipython3",
   "version": "3.8.3"
  }
 },
 "nbformat": 4,
 "nbformat_minor": 1
}
